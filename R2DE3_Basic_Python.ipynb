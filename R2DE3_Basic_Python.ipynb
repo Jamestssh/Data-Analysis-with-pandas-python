{
  "nbformat": 4,
  "nbformat_minor": 0,
  "metadata": {
    "colab": {
      "provenance": [],
      "toc_visible": true,
      "include_colab_link": true
    },
    "kernelspec": {
      "name": "python3",
      "display_name": "Python 3"
    }
  },
  "cells": [
    {
      "cell_type": "markdown",
      "metadata": {
        "id": "view-in-github",
        "colab_type": "text"
      },
      "source": [
        "<a href=\"https://colab.research.google.com/github/Jamestssh/Data-Analysis-with-pandas-python/blob/main/R2DE3_Basic_Python.ipynb\" target=\"_parent\"><img src=\"https://colab.research.google.com/assets/colab-badge.svg\" alt=\"Open In Colab\"/></a>"
      ]
    },
    {
      "cell_type": "markdown",
      "metadata": {
        "id": "9j0Yc4KWjEMw"
      },
      "source": [
        "# R2DE 3.0 - Basic Python\n",
        "\n",
        "[bit.ly/r2de3-basic-python](https://bit.ly/r2de3-basic-python)\n"
      ]
    },
    {
      "cell_type": "markdown",
      "metadata": {
        "id": "i2tK_V_HgjTb"
      },
      "source": [
        "## Hello World in Python in Colab"
      ]
    },
    {
      "cell_type": "markdown",
      "source": [
        "Colab เป็นเว็บที่ทำให้เรารันไฟล์ Python Notebook (หรือที่เราเรียกกันว่า Jupyter Notebook) ได้อย่างง่าย"
      ],
      "metadata": {
        "id": "YE7UtGiJ8Tif"
      }
    },
    {
      "cell_type": "code",
      "metadata": {
        "id": "GluP3Mj2w7US",
        "colab": {
          "base_uri": "https://localhost:8080/"
        },
        "outputId": "ced58ae4-0540-4580-c279-f6045c4ca03b"
      },
      "source": [
        "print(\"Hello World!\")"
      ],
      "execution_count": null,
      "outputs": [
        {
          "output_type": "stream",
          "name": "stdout",
          "text": [
            "Hello World!\n"
          ]
        }
      ]
    },
    {
      "cell_type": "markdown",
      "source": [
        "# Python Basic"
      ],
      "metadata": {
        "id": "9Xmbq3gwA94F"
      }
    },
    {
      "cell_type": "markdown",
      "metadata": {
        "id": "k8dnSvbvIb_y"
      },
      "source": [
        "## 1) Print: การแสดงผล\n",
        "คำสั่ง print() ใช้สำหรับแสดงผลข้อความ หรือตัวแปรออกมาในตอนรัน\n",
        "\n",
        "\n",
        "ถ้าเป็น string จะต้องอยู่ในเครื่องหมาย “” หรือ ‘’ เสมอ สามารถต่อหลาย string ได้ด้วยเครื่องหมาย +"
      ]
    },
    {
      "cell_type": "code",
      "metadata": {
        "id": "RSBmkHaK_Ttq",
        "colab": {
          "base_uri": "https://localhost:8080/"
        },
        "outputId": "79d1dc76-d10d-4825-abe6-22dd80f9118b"
      },
      "source": [
        "print(\"hello\" + \"world\")\n",
        "print(\"hello\" + \" \" + \"world\")\n",
        "print(\"hello\", \"world\", \"!\", \"R2DE\")"
      ],
      "execution_count": null,
      "outputs": [
        {
          "output_type": "stream",
          "name": "stdout",
          "text": [
            "helloworld\n",
            "hello world\n",
            "hello world ! R2DE\n"
          ]
        }
      ]
    },
    {
      "cell_type": "code",
      "source": [
        "print(\"hello\", \"world!\")"
      ],
      "metadata": {
        "colab": {
          "base_uri": "https://localhost:8080/"
        },
        "id": "5bowLSN14dN9",
        "outputId": "8ff57de3-183d-4382-da45-a0f9e6f497cf"
      },
      "execution_count": null,
      "outputs": [
        {
          "output_type": "stream",
          "name": "stdout",
          "text": [
            "hello world!\n"
          ]
        }
      ]
    },
    {
      "cell_type": "markdown",
      "source": [
        "ใช้กับ single quote ได้ด้วย แต่นิยมใช้ double quote มากกว่า"
      ],
      "metadata": {
        "id": "YzqSxiFABERP"
      }
    },
    {
      "cell_type": "code",
      "metadata": {
        "colab": {
          "base_uri": "https://localhost:8080/"
        },
        "id": "6T0QNWCpi7wk",
        "outputId": "9e77bfd4-99c3-499c-e3b8-1dcedcd8ae5c"
      },
      "source": [
        "print('single quote')"
      ],
      "execution_count": null,
      "outputs": [
        {
          "output_type": "stream",
          "name": "stdout",
          "text": [
            "single quote\n"
          ]
        }
      ]
    },
    {
      "cell_type": "markdown",
      "metadata": {
        "id": "MbohcypV8t6D"
      },
      "source": [
        "**Note:** สำหรับการใช้งาน Jupyter Notebook หรือ Colab มีความสามารถในการ แสดงผลตัวแปรในแต่ละช่องออกมาได้เลย ช่วยให้เห็นค่าได้ทันที\n",
        "\n",
        "(ทำใน Python ไฟล์ .py ปกติไม่ได้)"
      ]
    },
    {
      "cell_type": "code",
      "metadata": {
        "id": "Yiv3C5ZVggGc",
        "colab": {
          "base_uri": "https://localhost:8080/",
          "height": 35
        },
        "outputId": "64dc50a2-6c5a-4c9b-d1e8-42ca66915eb2"
      },
      "source": [
        "\"It's easy\""
      ],
      "execution_count": null,
      "outputs": [
        {
          "output_type": "execute_result",
          "data": {
            "text/plain": [
              "\"It's easy\""
            ],
            "application/vnd.google.colaboratory.intrinsic+json": {
              "type": "string"
            }
          },
          "metadata": {},
          "execution_count": 7
        }
      ]
    },
    {
      "cell_type": "code",
      "source": [
        "5555"
      ],
      "metadata": {
        "colab": {
          "base_uri": "https://localhost:8080/"
        },
        "id": "0wFdBcN11o_D",
        "outputId": "3573b419-f9e5-4543-fab1-d652c50ba197"
      },
      "execution_count": null,
      "outputs": [
        {
          "output_type": "execute_result",
          "data": {
            "text/plain": [
              "5555"
            ]
          },
          "metadata": {},
          "execution_count": 8
        }
      ]
    },
    {
      "cell_type": "markdown",
      "metadata": {
        "id": "GFXXoNlpz16a"
      },
      "source": [
        "## 2) Python Variables: ตัวแปร\n"
      ]
    },
    {
      "cell_type": "markdown",
      "metadata": {
        "id": "5aBEPChj9xc_"
      },
      "source": [
        "การประกาศตัวแปร คือ การตั้งชื่ออ้างอิงถึงข้อมูลที่เก็บอยู่ชั่วคราวใน RAM (มีผลเฉพาะการรันในแต่ละครั้ง)\n",
        "\n",
        "ตัวแปรในภาษา python สามารถจัดเก็บข้อมูลได้หลายประเภทโดยที่ไม่ต้องประกาศประเภทของตัวแปรก่อน ( เรียกว่า dynamic type)\n",
        "\n",
        "การประกาศตัวแปรทำได้โดย\n",
        "\n",
        "> ชื่อตัวแปร  = “ค่าที่ต้องการจัดเก็บ”"
      ]
    },
    {
      "cell_type": "markdown",
      "metadata": {
        "id": "82d2Ejqz-Caw"
      },
      "source": [
        "int (Integer) เป็นข้อมูลประเภทจำนวนเต็ม"
      ]
    },
    {
      "cell_type": "code",
      "metadata": {
        "id": "tMD8rjsHWON5",
        "colab": {
          "base_uri": "https://localhost:8080/"
        },
        "outputId": "3dc5f33b-e535-4536-b7d0-8d703965b228"
      },
      "source": [
        "# Int\n",
        "a = 1\n",
        "a"
      ],
      "execution_count": null,
      "outputs": [
        {
          "output_type": "execute_result",
          "data": {
            "text/plain": [
              "1"
            ]
          },
          "metadata": {},
          "execution_count": 12
        }
      ]
    },
    {
      "cell_type": "markdown",
      "source": [
        "str (String) คือข้อมูลประเภทข้อความ"
      ],
      "metadata": {
        "id": "cBqwUzdY4WRE"
      }
    },
    {
      "cell_type": "code",
      "source": [
        "b = \"This ia a String.\""
      ],
      "metadata": {
        "id": "cySj74Jl4Vpv"
      },
      "execution_count": null,
      "outputs": []
    },
    {
      "cell_type": "markdown",
      "source": [
        "bool (Boolean) คือ ค่าความจริง True /False -- สังเกตว่าใน Python ใช้ T และ F ตัวพิมพ์ใหญ่"
      ],
      "metadata": {
        "id": "bC_NCP5d4vdB"
      }
    },
    {
      "cell_type": "code",
      "source": [
        "c = True"
      ],
      "metadata": {
        "id": "HmG2h_wB477S"
      },
      "execution_count": null,
      "outputs": []
    },
    {
      "cell_type": "markdown",
      "source": [
        "float (Floating Point) คือ จำนวนที่มีทศนิยม"
      ],
      "metadata": {
        "id": "LreyXCdI4-N6"
      }
    },
    {
      "cell_type": "code",
      "source": [
        "d = 3.14159"
      ],
      "metadata": {
        "id": "xUsBYld85GVu"
      },
      "execution_count": null,
      "outputs": []
    },
    {
      "cell_type": "markdown",
      "metadata": {
        "id": "mBr27fLn-fCR"
      },
      "source": [
        "การใช้ comment ในโค้ด คือ โค้ดส่วนที่ python จะไม่สนใจ เอาไว้ เขียนอธิบายในโค้ด"
      ]
    },
    {
      "cell_type": "code",
      "metadata": {
        "id": "4bovsaOLw5Gr"
      },
      "source": [
        "# This is comment\n",
        "# print(\"hello\")\n",
        "# สิ่งที่อยู่หลังเครื่องหมาย # เรียกว่า comment\n",
        "# คือ Python จะไม่สนใจ comment ใน code"
      ],
      "execution_count": null,
      "outputs": []
    },
    {
      "cell_type": "markdown",
      "source": [
        "## 3) Type ดูประเภทของตัวแปร"
      ],
      "metadata": {
        "id": "PzIMlmvw3EWE"
      }
    },
    {
      "cell_type": "markdown",
      "metadata": {
        "id": "YmNRrwojwSHu"
      },
      "source": [
        "**คำสั่ง** type()เป็นคำสั่งที่ไว้ใช้ตรวจสอบประเภทตัวแปร ว่าเป็นประเภทอะไร"
      ]
    },
    {
      "cell_type": "code",
      "metadata": {
        "id": "gUCKSUJmZeNS",
        "colab": {
          "base_uri": "https://localhost:8080/"
        },
        "outputId": "e57133a0-33f3-4d7b-d5a0-b9af35379e11"
      },
      "source": [
        "type(a)"
      ],
      "execution_count": null,
      "outputs": [
        {
          "output_type": "execute_result",
          "data": {
            "text/plain": [
              "int"
            ]
          },
          "metadata": {},
          "execution_count": 17
        }
      ]
    },
    {
      "cell_type": "code",
      "source": [
        "type(\"Python is easy :)\")"
      ],
      "metadata": {
        "colab": {
          "base_uri": "https://localhost:8080/"
        },
        "id": "LxChedza5TNy",
        "outputId": "f6d38739-f1f5-4921-a8cc-0e9c588abf4c"
      },
      "execution_count": null,
      "outputs": [
        {
          "output_type": "execute_result",
          "data": {
            "text/plain": [
              "str"
            ]
          },
          "metadata": {},
          "execution_count": 18
        }
      ]
    },
    {
      "cell_type": "code",
      "source": [
        "type(3.0)"
      ],
      "metadata": {
        "colab": {
          "base_uri": "https://localhost:8080/"
        },
        "id": "3oRnFsyW5kIK",
        "outputId": "fbbd0bcc-b81e-4f19-84cf-26f1129dd4df"
      },
      "execution_count": null,
      "outputs": [
        {
          "output_type": "execute_result",
          "data": {
            "text/plain": [
              "float"
            ]
          },
          "metadata": {},
          "execution_count": 19
        }
      ]
    },
    {
      "cell_type": "markdown",
      "source": [
        "**None** คือ ค่า null ในภาษา Python แทนการไม่มีค่า (ค่าว่างเปล่า)"
      ],
      "metadata": {
        "id": "V5dVh5Qt5Zi9"
      }
    },
    {
      "cell_type": "code",
      "source": [
        "type(None)"
      ],
      "metadata": {
        "colab": {
          "base_uri": "https://localhost:8080/"
        },
        "id": "z0Knb0a35Xk7",
        "outputId": "b5db5a2f-e8ff-4b0d-cf81-fe20182bed77"
      },
      "execution_count": null,
      "outputs": [
        {
          "output_type": "execute_result",
          "data": {
            "text/plain": [
              "NoneType"
            ]
          },
          "metadata": {},
          "execution_count": 20
        }
      ]
    },
    {
      "cell_type": "markdown",
      "source": [
        "## 4) การแปลงประเภทตัวแปร (Type casting)"
      ],
      "metadata": {
        "id": "8NLOzLMk5olM"
      }
    },
    {
      "cell_type": "markdown",
      "metadata": {
        "id": "eHuUIdCqe4r3"
      },
      "source": [
        "เราสามารถแปลง ข้อมูลจาก int ที่เป็นตัวเลขจำนวนเต็ม เป็นประเภทอื่นได้ เช่น float หรือ จำนวนจริงได้ ด้วยคำสั่ง `float(ตัวแปร)`"
      ]
    },
    {
      "cell_type": "markdown",
      "metadata": {
        "id": "KknXSAjg-hju"
      },
      "source": [
        "float (Float) เป็นข้อมูลประเภทจำนวนจริง ที่มีจุดทศนิยม\n"
      ]
    },
    {
      "cell_type": "code",
      "metadata": {
        "id": "91G6iFPEWnc5",
        "colab": {
          "base_uri": "https://localhost:8080/"
        },
        "outputId": "2c0344fb-ee42-4124-be5a-86bb4a7657be"
      },
      "source": [
        "# Float\n",
        "float(a)"
      ],
      "execution_count": null,
      "outputs": [
        {
          "output_type": "execute_result",
          "data": {
            "text/plain": [
              "1.0"
            ]
          },
          "metadata": {},
          "execution_count": 21
        }
      ]
    },
    {
      "cell_type": "markdown",
      "source": [
        "แต่ในทางกลับกัน ถ้าแปลงจากทศนิยม กลับเป็น int (จำนวนเต็ม) ทศนิยมจะหายไป โดยไม่มีการปัดเศษ"
      ],
      "metadata": {
        "id": "MrX8L9O36YdT"
      }
    },
    {
      "cell_type": "code",
      "source": [
        "# Int\n",
        "int(3.9)"
      ],
      "metadata": {
        "colab": {
          "base_uri": "https://localhost:8080/"
        },
        "id": "UUhWmked6Xmn",
        "outputId": "f776abdd-9ec7-4991-ac3d-d3b11578efd7"
      },
      "execution_count": null,
      "outputs": [
        {
          "output_type": "execute_result",
          "data": {
            "text/plain": [
              "3"
            ]
          },
          "metadata": {},
          "execution_count": 22
        }
      ]
    },
    {
      "cell_type": "markdown",
      "metadata": {
        "id": "FT2V45Y0-0A1"
      },
      "source": [
        "str (String) เป็นข้อมูลประเภท\"ข้อความ\"\n",
        "\n",
        "สามารถแปลง ตัวเลขให้เป็นข้อความได้ด้วย str(ตัวแปร)"
      ]
    },
    {
      "cell_type": "code",
      "metadata": {
        "id": "reCYBrjSW-WZ",
        "colab": {
          "base_uri": "https://localhost:8080/",
          "height": 35
        },
        "outputId": "9134868a-c32e-477d-c2cc-3ca6e94dc35e"
      },
      "source": [
        "# String\n",
        "str(a)"
      ],
      "execution_count": null,
      "outputs": [
        {
          "output_type": "execute_result",
          "data": {
            "text/plain": [
              "'1'"
            ],
            "application/vnd.google.colaboratory.intrinsic+json": {
              "type": "string"
            }
          },
          "metadata": {},
          "execution_count": 23
        }
      ]
    },
    {
      "cell_type": "markdown",
      "metadata": {
        "id": "u0AyBAI3slvp"
      },
      "source": [
        "การบวก string คือการ นำ string สองอันมาต่อกัน (append)"
      ]
    },
    {
      "cell_type": "code",
      "metadata": {
        "id": "TopGFHnV_oqA",
        "colab": {
          "base_uri": "https://localhost:8080/",
          "height": 35
        },
        "outputId": "2f7cdc98-6838-43f1-9074-a0fa6d38e0a1"
      },
      "source": [
        "str(a) + \"1\""
      ],
      "execution_count": null,
      "outputs": [
        {
          "output_type": "execute_result",
          "data": {
            "text/plain": [
              "'11'"
            ],
            "application/vnd.google.colaboratory.intrinsic+json": {
              "type": "string"
            }
          },
          "metadata": {},
          "execution_count": 24
        }
      ]
    },
    {
      "cell_type": "code",
      "metadata": {
        "colab": {
          "base_uri": "https://localhost:8080/"
        },
        "id": "cCxYJOydkqKB",
        "outputId": "8a1104e9-712d-4f4b-ccd7-d7900780c13f"
      },
      "source": [
        "print(1 + 2 + 3)"
      ],
      "execution_count": null,
      "outputs": [
        {
          "output_type": "stream",
          "name": "stdout",
          "text": [
            "6\n"
          ]
        }
      ]
    },
    {
      "cell_type": "markdown",
      "metadata": {
        "id": "b5Ru_4uwEBvR"
      },
      "source": [
        "bool (Boolean) เป็นข้อมูลประเภทค่าความจริง True / False\n",
        "\n",
        "ข้อความระวัง"
      ]
    },
    {
      "cell_type": "code",
      "metadata": {
        "colab": {
          "base_uri": "https://localhost:8080/"
        },
        "id": "XgwHKQLSk0XH",
        "outputId": "3f7148f3-8230-40b1-b5a2-2c51c5a977a9"
      },
      "source": [
        "a"
      ],
      "execution_count": null,
      "outputs": [
        {
          "output_type": "execute_result",
          "data": {
            "text/plain": [
              "1"
            ]
          },
          "metadata": {},
          "execution_count": 27
        }
      ]
    },
    {
      "cell_type": "code",
      "metadata": {
        "id": "w8Zv3DPAZUt3",
        "colab": {
          "base_uri": "https://localhost:8080/"
        },
        "outputId": "0259609b-a35d-4df4-8b7f-6d7a5135658e"
      },
      "source": [
        "bool(a)"
      ],
      "execution_count": null,
      "outputs": [
        {
          "output_type": "execute_result",
          "data": {
            "text/plain": [
              "True"
            ]
          },
          "metadata": {},
          "execution_count": 28
        }
      ]
    },
    {
      "cell_type": "code",
      "source": [
        "bool(\"False\")"
      ],
      "metadata": {
        "colab": {
          "base_uri": "https://localhost:8080/"
        },
        "id": "6J-38r6C275Z",
        "outputId": "c4b67f24-0200-409a-c86d-1d690d923546"
      },
      "execution_count": null,
      "outputs": [
        {
          "output_type": "execute_result",
          "data": {
            "text/plain": [
              "True"
            ]
          },
          "metadata": {},
          "execution_count": 29
        }
      ]
    },
    {
      "cell_type": "code",
      "metadata": {
        "colab": {
          "base_uri": "https://localhost:8080/"
        },
        "id": "TIbL-TpQk5Wz",
        "outputId": "42d5bdf9-d51e-4317-bf1b-368b597518b2"
      },
      "source": [
        "bool(0)"
      ],
      "execution_count": null,
      "outputs": [
        {
          "output_type": "execute_result",
          "data": {
            "text/plain": [
              "False"
            ]
          },
          "metadata": {
            "tags": []
          },
          "execution_count": 46
        }
      ]
    },
    {
      "cell_type": "markdown",
      "metadata": {
        "id": "9ghby_upuhhu"
      },
      "source": [
        "ถ้าตัวแปรไม่มีค่า (มีค่าเป็น None) จะได้ False"
      ]
    },
    {
      "cell_type": "code",
      "metadata": {
        "id": "Zn5_2PblJ7DJ",
        "colab": {
          "base_uri": "https://localhost:8080/"
        },
        "outputId": "380c5940-da2e-45fa-b4a0-7753c72bfca0"
      },
      "source": [
        "bool(None)"
      ],
      "execution_count": null,
      "outputs": [
        {
          "output_type": "execute_result",
          "data": {
            "text/plain": [
              "False"
            ]
          },
          "metadata": {},
          "execution_count": 30
        }
      ]
    },
    {
      "cell_type": "code",
      "metadata": {
        "id": "myq5TcAWe7ZP",
        "colab": {
          "base_uri": "https://localhost:8080/",
          "height": 35
        },
        "outputId": "e1e280a0-e856-4d8d-bcf9-9addd16fa1d4"
      },
      "source": [
        "b = \"Python!\"\n",
        "b"
      ],
      "execution_count": null,
      "outputs": [
        {
          "output_type": "execute_result",
          "data": {
            "text/plain": [
              "'Python!'"
            ],
            "application/vnd.google.colaboratory.intrinsic+json": {
              "type": "string"
            }
          },
          "metadata": {},
          "execution_count": 31
        }
      ]
    },
    {
      "cell_type": "markdown",
      "metadata": {
        "id": "iBai-CmGtvya"
      },
      "source": [
        "ถ้าไม่สามารถแปลงประเภทตัวแปรได้ จะขึ้นว่า ValueError\n",
        "\n",
        "เช่น ไม่สามารถแปลง string ที่มีข้อความ ตัวอักษร เป็น int หรือ float ได้"
      ]
    },
    {
      "cell_type": "code",
      "metadata": {
        "id": "aa26KYnnuDUU",
        "colab": {
          "base_uri": "https://localhost:8080/",
          "height": 143
        },
        "outputId": "ec8ef44c-bbd9-420e-aa3e-3880e97f4af9"
      },
      "source": [
        "int(b)"
      ],
      "execution_count": null,
      "outputs": [
        {
          "output_type": "error",
          "ename": "ValueError",
          "evalue": "invalid literal for int() with base 10: 'Python!'",
          "traceback": [
            "\u001b[0;31m---------------------------------------------------------------------------\u001b[0m",
            "\u001b[0;31mValueError\u001b[0m                                Traceback (most recent call last)",
            "\u001b[0;32m<ipython-input-32-07ae29993d50>\u001b[0m in \u001b[0;36m<cell line: 1>\u001b[0;34m()\u001b[0m\n\u001b[0;32m----> 1\u001b[0;31m \u001b[0mint\u001b[0m\u001b[0;34m(\u001b[0m\u001b[0mb\u001b[0m\u001b[0;34m)\u001b[0m\u001b[0;34m\u001b[0m\u001b[0;34m\u001b[0m\u001b[0m\n\u001b[0m",
            "\u001b[0;31mValueError\u001b[0m: invalid literal for int() with base 10: 'Python!'"
          ]
        }
      ]
    },
    {
      "cell_type": "markdown",
      "source": [
        "ลองเอามาใช้ร่วมกัน"
      ],
      "metadata": {
        "id": "M5OZ3bfOBzKu"
      }
    },
    {
      "cell_type": "code",
      "metadata": {
        "id": "mrq4hpE8wm_3",
        "colab": {
          "base_uri": "https://localhost:8080/"
        },
        "outputId": "d2417a15-36ca-4243-bac3-1d2340e95986"
      },
      "source": [
        "# ทบทวนตัวแปร\n",
        "print(a, type(a))\n",
        "print(b, type(b))\n",
        "print(c, type(c))\n",
        "print(int(d), type(int(d)))"
      ],
      "execution_count": null,
      "outputs": [
        {
          "output_type": "stream",
          "name": "stdout",
          "text": [
            "1 <class 'int'>\n",
            "Python! <class 'str'>\n",
            "True <class 'bool'>\n",
            "3 <class 'int'>\n"
          ]
        }
      ]
    },
    {
      "cell_type": "markdown",
      "metadata": {
        "id": "_jGLwZ_5a5GA"
      },
      "source": [
        "# Python Data Structures\n",
        "## โครงสร้างข้อมูลที่ควรรู้จัก"
      ]
    },
    {
      "cell_type": "markdown",
      "metadata": {
        "id": "4SeTYcMBqLjD"
      },
      "source": [
        "## 5) List\n",
        "\n",
        "List เป็น data structure ที่ไว้เก็บข้อมูลเป็นลำดับ เหมือน array คือ จะเก็บข้อมูลไว้เป็นช่อง  โดยจะมี index (หมายเลขประจำช่อง) เริ่มต้นที่ 0 และสามารถเพิ่มเติม (append) หรือแก้ไขข้อมูลใน list ได้ (mutable) ใช้สัญลักษณ์ [ ] แทน list\n"
      ]
    },
    {
      "cell_type": "markdown",
      "metadata": {
        "id": "YxU_qpkox3Rq"
      },
      "source": [
        "การสร้าง list สร้างโดยใช้เครื่องหมาย [ ]"
      ]
    },
    {
      "cell_type": "code",
      "metadata": {
        "id": "g2XoSEAf14sx",
        "colab": {
          "base_uri": "https://localhost:8080/"
        },
        "outputId": "278710b4-b1e5-4141-bb59-23ae6d97c2ba"
      },
      "source": [
        "empty_list = []\n",
        "print(empty_list)"
      ],
      "execution_count": null,
      "outputs": [
        {
          "output_type": "stream",
          "name": "stdout",
          "text": [
            "[]\n"
          ]
        }
      ]
    },
    {
      "cell_type": "markdown",
      "metadata": {
        "id": "3diJ3IPRfeRY"
      },
      "source": [
        "การสร้าง list จากตัวแปรที่สร้างขึ้น"
      ]
    },
    {
      "cell_type": "code",
      "metadata": {
        "id": "4YcpeyeUbGca",
        "colab": {
          "base_uri": "https://localhost:8080/"
        },
        "outputId": "6a6234a8-f1dc-45bc-d24b-e015800a8578"
      },
      "source": [
        "l = [b, a, a + 1, a + 2]\n",
        "l"
      ],
      "execution_count": null,
      "outputs": [
        {
          "output_type": "execute_result",
          "data": {
            "text/plain": [
              "['Python!', 1, 2, 3]"
            ]
          },
          "metadata": {},
          "execution_count": 35
        }
      ]
    },
    {
      "cell_type": "markdown",
      "metadata": {
        "id": "vTth0lSj2eON"
      },
      "source": [
        "การดูจำนวนสมาชิก (length) ของ list"
      ]
    },
    {
      "cell_type": "code",
      "metadata": {
        "id": "h5tpLduMfpIY",
        "colab": {
          "base_uri": "https://localhost:8080/"
        },
        "outputId": "b948c009-dc16-40f0-bd26-39f0325b0e96"
      },
      "source": [
        "len(l)"
      ],
      "execution_count": null,
      "outputs": [
        {
          "output_type": "execute_result",
          "data": {
            "text/plain": [
              "4"
            ]
          },
          "metadata": {},
          "execution_count": 36
        }
      ]
    },
    {
      "cell_type": "markdown",
      "metadata": {
        "id": "n0u5LnKs3F2U"
      },
      "source": [
        "การเรียกดูค่า list ในเฉพาะบางช่อง\n",
        "![image.png](data:image/png;base64,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)\n",
        "\n"
      ]
    },
    {
      "cell_type": "code",
      "metadata": {
        "id": "ki36k_QU3FQj",
        "colab": {
          "base_uri": "https://localhost:8080/"
        },
        "outputId": "026d2c64-641b-4385-dce4-4690a9202d12"
      },
      "source": [
        "l[3]"
      ],
      "execution_count": null,
      "outputs": [
        {
          "output_type": "execute_result",
          "data": {
            "text/plain": [
              "3"
            ]
          },
          "metadata": {},
          "execution_count": 37
        }
      ]
    },
    {
      "cell_type": "code",
      "source": [
        "l[0]"
      ],
      "metadata": {
        "colab": {
          "base_uri": "https://localhost:8080/",
          "height": 35
        },
        "id": "AnhV_wNa3uzr",
        "outputId": "8922d71d-c27a-43a7-cfa4-30086a1f70f1"
      },
      "execution_count": null,
      "outputs": [
        {
          "output_type": "execute_result",
          "data": {
            "text/plain": [
              "'Python!'"
            ],
            "application/vnd.google.colaboratory.intrinsic+json": {
              "type": "string"
            }
          },
          "metadata": {},
          "execution_count": 38
        }
      ]
    },
    {
      "cell_type": "markdown",
      "metadata": {
        "id": "j84vmrqg1nvz"
      },
      "source": [
        "การเปลี่ยนแปลง (assign) ค่า ในสมาชิกของ list\n",
        "\n"
      ]
    },
    {
      "cell_type": "code",
      "metadata": {
        "id": "P_7Esctef3G5",
        "colab": {
          "base_uri": "https://localhost:8080/"
        },
        "outputId": "5f7b0474-3921-4f87-9277-78c30fd11225"
      },
      "source": [
        "l[3] = 5\n",
        "l"
      ],
      "execution_count": null,
      "outputs": [
        {
          "output_type": "execute_result",
          "data": {
            "text/plain": [
              "['Python!', 1, 2, 5]"
            ]
          },
          "metadata": {},
          "execution_count": 39
        }
      ]
    },
    {
      "cell_type": "markdown",
      "metadata": {
        "id": "7KUCkSdv2kWS"
      },
      "source": [
        "ถ้าพยามจะเปลี่ยนแปลงข้อมูล โดยที่ index (เลขที่ใช้อ้างอิงลำดับ: เริ่มจาก 0 เสมอ) มีค่ามากกว่า"
      ]
    },
    {
      "cell_type": "code",
      "metadata": {
        "id": "VyVzFzgLCmGr",
        "colab": {
          "base_uri": "https://localhost:8080/",
          "height": 161
        },
        "outputId": "444fad76-4f75-4b9a-dbe6-38c87154d528"
      },
      "source": [
        "# IndexError\n",
        "l[4] = \":)\""
      ],
      "execution_count": null,
      "outputs": [
        {
          "output_type": "error",
          "ename": "IndexError",
          "evalue": "list assignment index out of range",
          "traceback": [
            "\u001b[0;31m---------------------------------------------------------------------------\u001b[0m",
            "\u001b[0;31mIndexError\u001b[0m                                Traceback (most recent call last)",
            "\u001b[0;32m<ipython-input-40-a39cd7cb05d4>\u001b[0m in \u001b[0;36m<cell line: 2>\u001b[0;34m()\u001b[0m\n\u001b[1;32m      1\u001b[0m \u001b[0;31m# IndexError\u001b[0m\u001b[0;34m\u001b[0m\u001b[0;34m\u001b[0m\u001b[0m\n\u001b[0;32m----> 2\u001b[0;31m \u001b[0ml\u001b[0m\u001b[0;34m[\u001b[0m\u001b[0;36m4\u001b[0m\u001b[0;34m]\u001b[0m \u001b[0;34m=\u001b[0m \u001b[0;34m\":)\"\u001b[0m\u001b[0;34m\u001b[0m\u001b[0;34m\u001b[0m\u001b[0m\n\u001b[0m",
            "\u001b[0;31mIndexError\u001b[0m: list assignment index out of range"
          ]
        }
      ]
    },
    {
      "cell_type": "markdown",
      "metadata": {
        "id": "tR1QjCnWRKGl"
      },
      "source": [
        "ลองดูการเปลี่ยนแปลงของ list"
      ]
    },
    {
      "cell_type": "code",
      "metadata": {
        "id": "jreK8tLJCvj5",
        "colab": {
          "base_uri": "https://localhost:8080/"
        },
        "outputId": "93798dae-2448-44d8-e341-a0ac40042575"
      },
      "source": [
        "l"
      ],
      "execution_count": null,
      "outputs": [
        {
          "output_type": "execute_result",
          "data": {
            "text/plain": [
              "['Python!', 1, 2, 5]"
            ]
          },
          "metadata": {},
          "execution_count": 41
        }
      ]
    },
    {
      "cell_type": "markdown",
      "metadata": {
        "id": "YoYdnansRVqQ"
      },
      "source": [
        "การเพิ่มสมาชิกของ list ต่อท้าย ใช้คำสั่ง append"
      ]
    },
    {
      "cell_type": "code",
      "metadata": {
        "id": "omSAISZ5CweV",
        "colab": {
          "base_uri": "https://localhost:8080/"
        },
        "outputId": "4c5714f4-d5e0-42a3-ddd4-a80ca2d64986"
      },
      "source": [
        "l.append(\":)\")\n",
        "l"
      ],
      "execution_count": null,
      "outputs": [
        {
          "output_type": "execute_result",
          "data": {
            "text/plain": [
              "['Python!', 1, 2, 5, ':)']"
            ]
          },
          "metadata": {},
          "execution_count": 42
        }
      ]
    },
    {
      "cell_type": "code",
      "metadata": {
        "id": "SzfHN-iiC6Ag",
        "colab": {
          "base_uri": "https://localhost:8080/"
        },
        "outputId": "e23cd34f-a04e-4566-afea-18a07da2723f"
      },
      "source": [
        "len(l)"
      ],
      "execution_count": null,
      "outputs": [
        {
          "output_type": "execute_result",
          "data": {
            "text/plain": [
              "5"
            ]
          },
          "metadata": {},
          "execution_count": 43
        }
      ]
    },
    {
      "cell_type": "markdown",
      "metadata": {
        "id": "OO3b5LzyReUC"
      },
      "source": [
        "คำสั่ง pop() คือการ remove สมาขิกตัวสุดท้ายของ list"
      ]
    },
    {
      "cell_type": "code",
      "metadata": {
        "id": "MIQd0KpXC8DE",
        "colab": {
          "base_uri": "https://localhost:8080/"
        },
        "outputId": "f58e4766-8e81-4ef8-ca06-aa5927254482"
      },
      "source": [
        "l.pop()\n",
        "l"
      ],
      "execution_count": null,
      "outputs": [
        {
          "output_type": "execute_result",
          "data": {
            "text/plain": [
              "['Python!', 1, 2, 5]"
            ]
          },
          "metadata": {},
          "execution_count": 44
        }
      ]
    },
    {
      "cell_type": "markdown",
      "metadata": {
        "id": "DtYagBS_qQFy"
      },
      "source": [
        "## 6) Tuple\n",
        "Tuple เป็น data structure ที่ไว้เก็บข้อมูลเป็นลำดับ (คล้ายกับ list) โดยจะมี index เริ่มต้นที่ 0 เช่นกัน แต่ **ไม่สามารถแก้ไข เปลี่ยนแปลงข้อมูลได้ (immutable)  **  ใช้สัญลักษณ์ ( )​ แทน tuple ในการสร้าง\n"
      ]
    },
    {
      "cell_type": "code",
      "metadata": {
        "id": "ueDnLunycWaY"
      },
      "source": [
        "t = (0, 1, 2, 3, 4)"
      ],
      "execution_count": null,
      "outputs": []
    },
    {
      "cell_type": "code",
      "metadata": {
        "id": "au0wM8XCgn_B",
        "colab": {
          "base_uri": "https://localhost:8080/"
        },
        "outputId": "98fb7288-157e-430c-87dd-1e69037b8713"
      },
      "source": [
        "len(t)"
      ],
      "execution_count": null,
      "outputs": [
        {
          "output_type": "execute_result",
          "data": {
            "text/plain": [
              "5"
            ]
          },
          "metadata": {},
          "execution_count": 47
        }
      ]
    },
    {
      "cell_type": "code",
      "metadata": {
        "id": "_rkBkHYUguGs",
        "colab": {
          "base_uri": "https://localhost:8080/"
        },
        "outputId": "d0c8ad32-b08a-4f16-8eb8-ebbea039e556"
      },
      "source": [
        "t[0:3]"
      ],
      "execution_count": null,
      "outputs": [
        {
          "output_type": "execute_result",
          "data": {
            "text/plain": [
              "(0, 1, 2)"
            ]
          },
          "metadata": {},
          "execution_count": 48
        }
      ]
    },
    {
      "cell_type": "markdown",
      "metadata": {
        "id": "958oUJ1xX32j"
      },
      "source": [
        "## 7) การใช้เลข index (สำหรับ list, tuple และ string)\n",
        "ใน  list, tuple, string สามารถใช้เลข index เพื่อเข้าถึงสมาชิกได้ โดย index จะเริ่มจาก 0 และถึง len() - 1 สามารถอ้างอิงเป็นช่วง ได้ด้วยเครื่องหมาย : (colon) โดยช่วงจะเริ่มจาก index ตัวแรก ถึง index ตัวสุดท้ายในช่วง - 1 (ถ้าเว้นไว้คือถึงตัวสุดท้าย) และสามารถใช้เลข index ติดลบแทนการนับจากด้านหลังได้\n",
        "![image.png](data:image/png;base64,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)"
      ]
    },
    {
      "cell_type": "markdown",
      "metadata": {
        "id": "YBATHps9doaT"
      },
      "source": [
        "การเข้าถึง ข้อมูลตัวสุดท้ายของ tuple"
      ]
    },
    {
      "cell_type": "code",
      "metadata": {
        "id": "n3myc9P4hCBD",
        "colab": {
          "base_uri": "https://localhost:8080/"
        },
        "outputId": "c1ef536e-fd15-493f-e95d-713712f8b52d"
      },
      "source": [
        "t[-1]"
      ],
      "execution_count": null,
      "outputs": [
        {
          "output_type": "execute_result",
          "data": {
            "text/plain": [
              "4"
            ]
          },
          "metadata": {},
          "execution_count": 49
        }
      ]
    },
    {
      "cell_type": "markdown",
      "metadata": {
        "id": "x6N2XO6kdnBw"
      },
      "source": [
        "การเข้าถึงข้อมูล ตัวที่สาม จากท้ายสุด จนถึงตัวสุดท้าย"
      ]
    },
    {
      "cell_type": "code",
      "source": [
        "t[2:]"
      ],
      "metadata": {
        "colab": {
          "base_uri": "https://localhost:8080/"
        },
        "id": "aWbL5dd64s1l",
        "outputId": "081d1b26-de2a-490b-ed84-ebfbb11065e6"
      },
      "execution_count": null,
      "outputs": [
        {
          "output_type": "execute_result",
          "data": {
            "text/plain": [
              "(2, 3, 4)"
            ]
          },
          "metadata": {},
          "execution_count": 51
        }
      ]
    },
    {
      "cell_type": "code",
      "metadata": {
        "id": "S0LgakJNhKZE",
        "colab": {
          "base_uri": "https://localhost:8080/"
        },
        "outputId": "2e6dba12-7ef9-4a62-bc61-e37517f54023"
      },
      "source": [
        "t[-3:]"
      ],
      "execution_count": null,
      "outputs": [
        {
          "output_type": "execute_result",
          "data": {
            "text/plain": [
              "(2, 3, 4)"
            ]
          },
          "metadata": {},
          "execution_count": 50
        }
      ]
    },
    {
      "cell_type": "markdown",
      "metadata": {
        "id": "2OyXFB0YdztD"
      },
      "source": [
        "Tuple เป็น data structure แบบ immutable คือ ไม่สามารถเปลี่ยนแปลงค่าได้ ถ้าพยายามเปลี่ยนค่าของ tuple จะได้ TypeError"
      ]
    },
    {
      "cell_type": "code",
      "metadata": {
        "id": "vj_zrSjyhZBo",
        "colab": {
          "base_uri": "https://localhost:8080/",
          "height": 161
        },
        "outputId": "a7b4d9e5-f631-4f69-d284-4ec8a8ab4588"
      },
      "source": [
        "# TypeError ไม่สามารถแก้ไข tuple ได้\n",
        "t[4] = 5"
      ],
      "execution_count": null,
      "outputs": [
        {
          "output_type": "error",
          "ename": "TypeError",
          "evalue": "'tuple' object does not support item assignment",
          "traceback": [
            "\u001b[0;31m---------------------------------------------------------------------------\u001b[0m",
            "\u001b[0;31mTypeError\u001b[0m                                 Traceback (most recent call last)",
            "\u001b[0;32m<ipython-input-52-02e20aa8d645>\u001b[0m in \u001b[0;36m<cell line: 2>\u001b[0;34m()\u001b[0m\n\u001b[1;32m      1\u001b[0m \u001b[0;31m# TypeError ไม่สามารถแก้ไข tuple ได้\u001b[0m\u001b[0;34m\u001b[0m\u001b[0;34m\u001b[0m\u001b[0m\n\u001b[0;32m----> 2\u001b[0;31m \u001b[0mt\u001b[0m\u001b[0;34m[\u001b[0m\u001b[0;36m4\u001b[0m\u001b[0;34m]\u001b[0m \u001b[0;34m=\u001b[0m \u001b[0;36m5\u001b[0m\u001b[0;34m\u001b[0m\u001b[0;34m\u001b[0m\u001b[0m\n\u001b[0m",
            "\u001b[0;31mTypeError\u001b[0m: 'tuple' object does not support item assignment"
          ]
        }
      ]
    },
    {
      "cell_type": "markdown",
      "metadata": {
        "id": "5ReonijCBhrj"
      },
      "source": [
        "## 8) Dictionary\n",
        "\n",
        "Dictionary เป็น data structure ที่เก็บในลักษณะ key - value  ใช้สัญลักษณ์ { } แทน dictionary ในการสร้าง\n",
        "\n",
        "เช่น\n",
        "dict = {“key” : “value”}  หรือ\n",
        "\n",
        "หรือ\n",
        "dict = {} เพื่อสร้าง dict เปล่า\n"
      ]
    },
    {
      "cell_type": "markdown",
      "metadata": {
        "id": "629PnoqseInd"
      },
      "source": [
        "การสร้าง grade dictionary สำหรับการตัดเกรด"
      ]
    },
    {
      "cell_type": "code",
      "metadata": {
        "id": "QvXx0QchiTts",
        "colab": {
          "base_uri": "https://localhost:8080/"
        },
        "outputId": "b2d54d1d-a0bb-4fec-e5bc-a44c20c47527"
      },
      "source": [
        "grade = {\n",
        "    \"A\" : 80,\n",
        "    \"B\" : 70,\n",
        "    \"C\" : 60,\n",
        "    \"D\" : 50\n",
        "}\n",
        "grade"
      ],
      "execution_count": null,
      "outputs": [
        {
          "output_type": "execute_result",
          "data": {
            "text/plain": [
              "{'A': 80, 'B': 70, 'C': 60, 'D': 50}"
            ]
          },
          "metadata": {},
          "execution_count": 53
        }
      ]
    },
    {
      "cell_type": "code",
      "metadata": {
        "id": "kK1D_Izjq8Kj",
        "colab": {
          "base_uri": "https://localhost:8080/"
        },
        "outputId": "e1d18644-b508-46b9-8074-f28c83a13589"
      },
      "source": [
        "grade[\"A\"]"
      ],
      "execution_count": null,
      "outputs": [
        {
          "output_type": "execute_result",
          "data": {
            "text/plain": [
              "80"
            ]
          },
          "metadata": {},
          "execution_count": 54
        }
      ]
    },
    {
      "cell_type": "code",
      "metadata": {
        "id": "4hSmxQg8rAOa",
        "colab": {
          "base_uri": "https://localhost:8080/"
        },
        "outputId": "ee5a7ca6-5100-4796-d024-f6141b4b943b"
      },
      "source": [
        "grade[\"B+\"] = 75\n",
        "grade"
      ],
      "execution_count": null,
      "outputs": [
        {
          "output_type": "execute_result",
          "data": {
            "text/plain": [
              "{'A': 80, 'B': 70, 'C': 60, 'D': 50, 'B+': 75}"
            ]
          },
          "metadata": {},
          "execution_count": 55
        }
      ]
    },
    {
      "cell_type": "markdown",
      "metadata": {
        "id": "u401wDiseNCY"
      },
      "source": [
        "การสร้าง dictionary ว่าง และเพิ่มหรืออัปเดตค่า key-value"
      ]
    },
    {
      "cell_type": "code",
      "metadata": {
        "id": "TAXxt9Z2hgwz"
      },
      "source": [
        "d = {}\n",
        "d[\"s001\"] = \"Perth\"\n",
        "d[\"s002\"] = \"Fon\""
      ],
      "execution_count": null,
      "outputs": []
    },
    {
      "cell_type": "code",
      "metadata": {
        "id": "pJdFriSPBuDy",
        "colab": {
          "base_uri": "https://localhost:8080/",
          "height": 35
        },
        "outputId": "bf852849-328e-40c5-ee3a-79b415a30865"
      },
      "source": [
        "d[\"s001\"]"
      ],
      "execution_count": null,
      "outputs": [
        {
          "output_type": "execute_result",
          "data": {
            "text/plain": [
              "'Perth'"
            ],
            "application/vnd.google.colaboratory.intrinsic+json": {
              "type": "string"
            }
          },
          "metadata": {},
          "execution_count": 57
        }
      ]
    },
    {
      "cell_type": "markdown",
      "metadata": {
        "id": "3ZyIaJomrYPJ"
      },
      "source": [
        "## 9) Python String\n",
        "(String ไม่ใช่ Data Structure นะ แต่มีบางอย่างที่คล้ายคลึงกัน เช่น การใช้ index)\n",
        "\n",
        "\n",
        "String สำหรับเก็บตัวแปรประเภทข้อความ  สามารถเข้าถึงด้วย index ได้เหมือนกับ list\n",
        " สามารถต่อเชื่อม string หลาย ๆ string\n",
        "ด้วย เครื่องหมาย + หรือ join() ในกรณีที่เป็น list และมีฟังก์ชันอื่น ๆ ที่เกี่ยวกับ string อีกมากมาย\n",
        "เช่น\n",
        "* split() การแยก string ด้วย symbol ผลลัพธ์ของการรันจะออกมาเป็น list\n",
        "* strip()  การลบช่องว่างที่อยู่หน้าหรือหลังสุด\n"
      ]
    },
    {
      "cell_type": "code",
      "metadata": {
        "id": "PwkD2_FxrXjm"
      },
      "source": [
        "sentence = \" Hello Python. I am ready. \""
      ],
      "execution_count": null,
      "outputs": []
    },
    {
      "cell_type": "markdown",
      "metadata": {
        "id": "Hr4tLremW1vG"
      },
      "source": [
        "String จะคล้ายคลึงกับ list ตรงที่สามารถ ดูค่าตาม index ที่ระบุตำแหน่งนั้นได้"
      ]
    },
    {
      "cell_type": "code",
      "metadata": {
        "id": "OfSs6-_Xr7Nn",
        "colab": {
          "base_uri": "https://localhost:8080/",
          "height": 35
        },
        "outputId": "f4c32c69-7c07-4d91-a6b2-42dacda6074b"
      },
      "source": [
        "sentence[1]"
      ],
      "execution_count": null,
      "outputs": [
        {
          "output_type": "execute_result",
          "data": {
            "text/plain": [
              "'H'"
            ],
            "application/vnd.google.colaboratory.intrinsic+json": {
              "type": "string"
            }
          },
          "metadata": {},
          "execution_count": 60
        }
      ]
    },
    {
      "cell_type": "markdown",
      "metadata": {
        "id": "z9kfD3D3XJEs"
      },
      "source": [
        "การตัดบางช่วงของ string โดยใช้ ใช้เครื่องหมาย : ควบคู่กับ index ดังนี้ `เริ่มต้น:ตัวสุดท้าย+1`"
      ]
    },
    {
      "cell_type": "code",
      "metadata": {
        "id": "9-o4xocQ5she",
        "colab": {
          "base_uri": "https://localhost:8080/",
          "height": 35
        },
        "outputId": "65326ea7-ca5e-42e1-a227-76eae6ea93de"
      },
      "source": [
        "sentence[1:13]"
      ],
      "execution_count": null,
      "outputs": [
        {
          "output_type": "execute_result",
          "data": {
            "text/plain": [
              "'Hello Python'"
            ],
            "application/vnd.google.colaboratory.intrinsic+json": {
              "type": "string"
            }
          },
          "metadata": {},
          "execution_count": 61
        }
      ]
    },
    {
      "cell_type": "markdown",
      "metadata": {
        "id": "CUCHAm62XdPE"
      },
      "source": [
        "strip คือการลบช่องว่าง หัวท้าย"
      ]
    },
    {
      "cell_type": "code",
      "metadata": {
        "id": "nxSxmQcyrmQQ",
        "colab": {
          "base_uri": "https://localhost:8080/",
          "height": 35
        },
        "outputId": "df281d30-beb6-4c55-b6ee-c7f5dc7ed9f8"
      },
      "source": [
        "sentence.strip()"
      ],
      "execution_count": null,
      "outputs": [
        {
          "output_type": "execute_result",
          "data": {
            "text/plain": [
              "'Hello Python. I am ready.'"
            ],
            "application/vnd.google.colaboratory.intrinsic+json": {
              "type": "string"
            }
          },
          "metadata": {},
          "execution_count": 62
        }
      ]
    },
    {
      "cell_type": "code",
      "metadata": {
        "id": "r1I9hlv6r4FB"
      },
      "source": [
        "list_of_words = sentence.strip().split(' ')"
      ],
      "execution_count": null,
      "outputs": []
    },
    {
      "cell_type": "code",
      "source": [
        "list_of_words"
      ],
      "metadata": {
        "colab": {
          "base_uri": "https://localhost:8080/"
        },
        "id": "vzAtgGmM57pG",
        "outputId": "0cb53335-57cf-4bc8-9da7-161d0fce9172"
      },
      "execution_count": null,
      "outputs": [
        {
          "output_type": "execute_result",
          "data": {
            "text/plain": [
              "['Hello', 'Python.', 'I', 'am', 'ready.']"
            ]
          },
          "metadata": {},
          "execution_count": 64
        }
      ]
    },
    {
      "cell_type": "code",
      "metadata": {
        "id": "BdxmLMEuqv2j",
        "colab": {
          "base_uri": "https://localhost:8080/",
          "height": 35
        },
        "outputId": "840ae3d2-76de-4f67-fff8-edac08d5ab2e"
      },
      "source": [
        "joined = ' '.join(list_of_words)\n",
        "joined"
      ],
      "execution_count": null,
      "outputs": [
        {
          "output_type": "execute_result",
          "data": {
            "text/plain": [
              "'Hello Python. I am ready.'"
            ],
            "application/vnd.google.colaboratory.intrinsic+json": {
              "type": "string"
            }
          },
          "metadata": {},
          "execution_count": 65
        }
      ]
    },
    {
      "cell_type": "markdown",
      "source": [
        "# Loop and Condition"
      ],
      "metadata": {
        "id": "n_WnmPyOG2aZ"
      }
    },
    {
      "cell_type": "markdown",
      "metadata": {
        "id": "6Ktf3sJeqq6x"
      },
      "source": [
        "\n",
        "\n",
        "## 10) For loop\n",
        "ในภาษา Python สามารถวน for loop ตามสมาชิกแต่ละตัวใน object ที่มีลักษณะเป็น list ได้  โดยการวน loop มีการใช้งานดังนี้\n",
        "\n",
        "```\n",
        "for temp_var in list_or_range:\n",
        "    do_something1()\n",
        "    do_something2()\n",
        "```\n",
        "\n",
        "สังเกตว่าบรรทัดหลังจาก for จะมีการ tab (เว้น 4 วรรค) อยู่ด้านหน้า เพื่อเป็นการจัด scope ของ for loop นั้น\n"
      ]
    },
    {
      "cell_type": "code",
      "metadata": {
        "id": "N4TOwdrCMlaY",
        "colab": {
          "base_uri": "https://localhost:8080/"
        },
        "outputId": "a69f69cb-1d28-4a1d-e3c0-88baefefdafc"
      },
      "source": [
        "# ทบทวนตัวแปร l ตัวเดิม\n",
        "l"
      ],
      "execution_count": null,
      "outputs": [
        {
          "output_type": "execute_result",
          "data": {
            "text/plain": [
              "['Python!', 1, 2, 5]"
            ]
          },
          "metadata": {},
          "execution_count": 66
        }
      ]
    },
    {
      "cell_type": "code",
      "metadata": {
        "id": "Iguikec5vq7K",
        "colab": {
          "base_uri": "https://localhost:8080/"
        },
        "outputId": "3d7b8141-2a8c-4e0a-ec77-77d7d843ea3a"
      },
      "source": [
        "for item in l:\n",
        "  print(item)"
      ],
      "execution_count": null,
      "outputs": [
        {
          "output_type": "stream",
          "name": "stdout",
          "text": [
            "Python!\n",
            "1\n",
            "2\n",
            "5\n"
          ]
        }
      ]
    },
    {
      "cell_type": "code",
      "metadata": {
        "id": "UPMugiFPMyLz",
        "colab": {
          "base_uri": "https://localhost:8080/"
        },
        "outputId": "7cb3cb14-993c-4e1b-9bf3-a55b59ef3dc2"
      },
      "source": [
        "for i in range(15):\n",
        "  print(i)"
      ],
      "execution_count": null,
      "outputs": [
        {
          "output_type": "stream",
          "name": "stdout",
          "text": [
            "0\n",
            "1\n",
            "2\n",
            "3\n",
            "4\n",
            "5\n",
            "6\n",
            "7\n",
            "8\n",
            "9\n",
            "10\n",
            "11\n",
            "12\n",
            "13\n",
            "14\n"
          ]
        }
      ]
    },
    {
      "cell_type": "code",
      "metadata": {
        "colab": {
          "base_uri": "https://localhost:8080/"
        },
        "id": "mfcLt8soqV0k",
        "outputId": "f474cf24-feab-4ce0-c1f3-96bf92b4a1dd"
      },
      "source": [
        "for item in t:\n",
        "  print(item)"
      ],
      "execution_count": null,
      "outputs": [
        {
          "output_type": "stream",
          "name": "stdout",
          "text": [
            "0\n",
            "1\n",
            "2\n",
            "3\n",
            "4\n"
          ]
        }
      ]
    },
    {
      "cell_type": "code",
      "source": [
        "t"
      ],
      "metadata": {
        "colab": {
          "base_uri": "https://localhost:8080/"
        },
        "id": "IXAvPVHy66XF",
        "outputId": "029948fc-c7a0-4efb-ac58-0de189aab3e5"
      },
      "execution_count": null,
      "outputs": [
        {
          "output_type": "execute_result",
          "data": {
            "text/plain": [
              "(0, 1, 2, 3, 4)"
            ]
          },
          "metadata": {},
          "execution_count": 72
        }
      ]
    },
    {
      "cell_type": "markdown",
      "metadata": {
        "id": "v9Jkey67WhBg"
      },
      "source": [
        "## 11) List Comprehension\n",
        "\n",
        "การวน for loop เพื่อที่จะได้ output ออกมาเป็น list สามารถวนลูปไปในสมาชิกแต่ละตัว ได้ภายใน 1 บรรทัด (แบบย่อ) เทคนิคนี้เรียกว่า list comprehension"
      ]
    },
    {
      "cell_type": "code",
      "metadata": {
        "id": "lOBC3OJpvzGK"
      },
      "source": [
        "# List Comprehension\n",
        "list_t = [i for i in t]"
      ],
      "execution_count": null,
      "outputs": []
    },
    {
      "cell_type": "code",
      "source": [
        "list_t"
      ],
      "metadata": {
        "colab": {
          "base_uri": "https://localhost:8080/"
        },
        "id": "2Ab5Wkz87B8u",
        "outputId": "2caa41b4-c34b-4636-8662-d5d1672ce3c0"
      },
      "execution_count": null,
      "outputs": [
        {
          "output_type": "execute_result",
          "data": {
            "text/plain": [
              "[0, 1, 2, 3, 4]"
            ]
          },
          "metadata": {},
          "execution_count": 74
        }
      ]
    },
    {
      "cell_type": "code",
      "source": [
        "[i ** 2 for i in t]"
      ],
      "metadata": {
        "colab": {
          "base_uri": "https://localhost:8080/"
        },
        "id": "32ntmXoj7EKb",
        "outputId": "a66abd36-bbaa-45a4-857b-06d7740be639"
      },
      "execution_count": null,
      "outputs": [
        {
          "output_type": "execute_result",
          "data": {
            "text/plain": [
              "[0, 1, 4, 9, 16]"
            ]
          },
          "metadata": {},
          "execution_count": 77
        }
      ]
    },
    {
      "cell_type": "markdown",
      "metadata": {
        "id": "63UKKJ1Eb8Et"
      },
      "source": []
    },
    {
      "cell_type": "code",
      "metadata": {
        "id": "jqnhTZOYM9gq",
        "colab": {
          "base_uri": "https://localhost:8080/"
        },
        "outputId": "3a547b8f-6ec5-4979-92c6-7b7a95059bc9"
      },
      "source": [
        "[i + 1 for i in range(100)]"
      ],
      "execution_count": null,
      "outputs": [
        {
          "output_type": "execute_result",
          "data": {
            "text/plain": [
              "[1,\n",
              " 2,\n",
              " 3,\n",
              " 4,\n",
              " 5,\n",
              " 6,\n",
              " 7,\n",
              " 8,\n",
              " 9,\n",
              " 10,\n",
              " 11,\n",
              " 12,\n",
              " 13,\n",
              " 14,\n",
              " 15,\n",
              " 16,\n",
              " 17,\n",
              " 18,\n",
              " 19,\n",
              " 20,\n",
              " 21,\n",
              " 22,\n",
              " 23,\n",
              " 24,\n",
              " 25,\n",
              " 26,\n",
              " 27,\n",
              " 28,\n",
              " 29,\n",
              " 30,\n",
              " 31,\n",
              " 32,\n",
              " 33,\n",
              " 34,\n",
              " 35,\n",
              " 36,\n",
              " 37,\n",
              " 38,\n",
              " 39,\n",
              " 40,\n",
              " 41,\n",
              " 42,\n",
              " 43,\n",
              " 44,\n",
              " 45,\n",
              " 46,\n",
              " 47,\n",
              " 48,\n",
              " 49,\n",
              " 50,\n",
              " 51,\n",
              " 52,\n",
              " 53,\n",
              " 54,\n",
              " 55,\n",
              " 56,\n",
              " 57,\n",
              " 58,\n",
              " 59,\n",
              " 60,\n",
              " 61,\n",
              " 62,\n",
              " 63,\n",
              " 64,\n",
              " 65,\n",
              " 66,\n",
              " 67,\n",
              " 68,\n",
              " 69,\n",
              " 70,\n",
              " 71,\n",
              " 72,\n",
              " 73,\n",
              " 74,\n",
              " 75,\n",
              " 76,\n",
              " 77,\n",
              " 78,\n",
              " 79,\n",
              " 80,\n",
              " 81,\n",
              " 82,\n",
              " 83,\n",
              " 84,\n",
              " 85,\n",
              " 86,\n",
              " 87,\n",
              " 88,\n",
              " 89,\n",
              " 90,\n",
              " 91,\n",
              " 92,\n",
              " 93,\n",
              " 94,\n",
              " 95,\n",
              " 96,\n",
              " 97,\n",
              " 98,\n",
              " 99,\n",
              " 100]"
            ]
          },
          "metadata": {},
          "execution_count": 78
        }
      ]
    },
    {
      "cell_type": "markdown",
      "metadata": {
        "id": "pI897Mvy4yls"
      },
      "source": [
        "## 12) If condition"
      ]
    },
    {
      "cell_type": "markdown",
      "metadata": {
        "id": "rGDnM-nFVyzr"
      },
      "source": [
        "if condition จะทำตามเงื่อนไขต่อเมื่อเป็นจริงเท่านั้น\n",
        "\n",
        "elif (else if)  คือ เงื่อนไขรอง หาก if แรกไม่เป็นจริง มีกี่อันก็ได้\n",
        "\n",
        "ถ้าไม่ตรงกรณีไหนเลยจะทำ else (else if และ else สามารถไม่มีก็ได้)"
      ]
    },
    {
      "cell_type": "code",
      "source": [
        "a == 9"
      ],
      "metadata": {
        "colab": {
          "base_uri": "https://localhost:8080/"
        },
        "id": "T4P02dT97hGk",
        "outputId": "31733e68-09a2-4090-a49f-ffcefc15aa72"
      },
      "execution_count": null,
      "outputs": [
        {
          "output_type": "execute_result",
          "data": {
            "text/plain": [
              "False"
            ]
          },
          "metadata": {},
          "execution_count": 81
        }
      ]
    },
    {
      "cell_type": "code",
      "source": [
        "len(t)"
      ],
      "metadata": {
        "colab": {
          "base_uri": "https://localhost:8080/"
        },
        "id": "xR4bXHY97pQD",
        "outputId": "ade4fc42-4025-4981-a90d-81acaa5694fd"
      },
      "execution_count": null,
      "outputs": [
        {
          "output_type": "execute_result",
          "data": {
            "text/plain": [
              "5"
            ]
          },
          "metadata": {},
          "execution_count": 82
        }
      ]
    },
    {
      "cell_type": "code",
      "metadata": {
        "id": "o2ASqKBy40vF",
        "colab": {
          "base_uri": "https://localhost:8080/"
        },
        "outputId": "33bbe06a-3ad9-4b00-b3e2-3cd09dd8f484"
      },
      "source": [
        "if len(t) == 5:\n",
        "  print('length is 5')\n",
        "else:\n",
        "  print('length not equals 5')"
      ],
      "execution_count": null,
      "outputs": [
        {
          "output_type": "stream",
          "name": "stdout",
          "text": [
            "length is 5\n"
          ]
        }
      ]
    },
    {
      "cell_type": "markdown",
      "metadata": {
        "id": "dJHcm_xmV7H2"
      },
      "source": [
        "ตัวอย่างโค้ดการตัดเกรด จากตัวแปร score"
      ]
    },
    {
      "cell_type": "code",
      "metadata": {
        "id": "O-nsyOWPWBMw",
        "colab": {
          "base_uri": "https://localhost:8080/"
        },
        "outputId": "0233bf12-48fd-4474-f741-ded8be6d8e74"
      },
      "source": [
        "# ทบทวนตัวแปร grade ตัวเดิม\n",
        "grade"
      ],
      "execution_count": null,
      "outputs": [
        {
          "output_type": "execute_result",
          "data": {
            "text/plain": [
              "{'A': 80, 'B': 70, 'C': 60, 'D': 50, 'B+': 75}"
            ]
          },
          "metadata": {},
          "execution_count": 84
        }
      ]
    },
    {
      "cell_type": "code",
      "source": [
        "grade[\"A\"]"
      ],
      "metadata": {
        "colab": {
          "base_uri": "https://localhost:8080/"
        },
        "id": "zZrQ9feG7-86",
        "outputId": "521f2203-24b2-4591-dcc6-f79536d2add6"
      },
      "execution_count": null,
      "outputs": [
        {
          "output_type": "execute_result",
          "data": {
            "text/plain": [
              "80"
            ]
          },
          "metadata": {},
          "execution_count": 85
        }
      ]
    },
    {
      "cell_type": "code",
      "metadata": {
        "id": "C7bVD-2V75P-",
        "colab": {
          "base_uri": "https://localhost:8080/"
        },
        "outputId": "4d67cfec-7587-4795-b43b-4cdf5873fedb"
      },
      "source": [
        "score = 90_000_000\n",
        "if score >= grade[\"A\"]:\n",
        "  print(\"A\")\n",
        "  print(\"Good Job!\")\n",
        "elif score >= grade[\"B+\"]:\n",
        "  print(\"B+\")\n",
        "elif score >= grade[\"B\"]:\n",
        "  print(\"B\")\n",
        "elif score >= grade[\"C\"]:\n",
        "  print(\"C\")\n",
        "elif score >= grade[\"D\"]:\n",
        "  print(\"D\")\n",
        "else:\n",
        "  print(\"F\")"
      ],
      "execution_count": null,
      "outputs": [
        {
          "output_type": "stream",
          "name": "stdout",
          "text": [
            "A\n",
            "Good Job!\n"
          ]
        }
      ]
    },
    {
      "cell_type": "markdown",
      "metadata": {
        "id": "Ftu2euHycYAA"
      },
      "source": [
        "# Python Packages\n",
        "\n",
        "Python Packages คือ การรวบรวม function อื่น ๆ เพิ่มเติมให้สามารถเรียกใช้ได้ มีสองประเภท ได้แก่\n",
        "1. Built-in package คือ package ที่มาจาก Python สามารถเรียกใช้ได้เลยโดยไม่ต้อง install เพิ่มเติม\n",
        "2. 3rd party package คือ package อื่น ๆ ที่ถูกพัฒนาเพื่อให้ใช้และติดตั้งได้ฟรี สามารถ install ได้ผ่าน pip ซึ่งเป็น ตัวจัดการ package ของ python คำสั่งในการ install คือ `pip install [ชื่อ package]`\n",
        "\n",
        "บางครั้ง package ก็เรียกว่าเป็น library ได้เหมือนกัน"
      ]
    },
    {
      "cell_type": "markdown",
      "metadata": {
        "id": "6_O3wldFOs7X"
      },
      "source": [
        "มาลอง Hello World! กันด้วยการ import กัน"
      ]
    },
    {
      "cell_type": "code",
      "metadata": {
        "id": "efDIf2UvcjT8",
        "colab": {
          "base_uri": "https://localhost:8080/"
        },
        "outputId": "05313545-c42d-468b-ac1b-a5190069dc18"
      },
      "source": [
        "import __hello__"
      ],
      "execution_count": null,
      "outputs": [
        {
          "output_type": "stream",
          "name": "stdout",
          "text": [
            "Hello world!\n"
          ]
        }
      ]
    },
    {
      "cell_type": "markdown",
      "source": [
        "## 13) Package สำคัญ ๆ ที่มีมาให้อยู่แล้ว\n",
        "หรือที่เรียกว่า Built-in Package"
      ],
      "metadata": {
        "id": "BX6TyHjZKFkB"
      }
    },
    {
      "cell_type": "markdown",
      "metadata": {
        "id": "oq5wnw8ECMRB"
      },
      "source": [
        "### Math\n",
        "\n",
        "Package สำหรับคำนวณตัวเลข เช่น Log, Exponential และเรียกใช้ค่าสำคัญทางคณิตศาสตร์ เช่น Pi"
      ]
    },
    {
      "cell_type": "code",
      "metadata": {
        "id": "7_LUlsGTcxDT",
        "colab": {
          "base_uri": "https://localhost:8080/"
        },
        "outputId": "60c5b5c6-d5bf-4e24-bea3-14a047b399fe"
      },
      "source": [
        "import math\n",
        "\n",
        "math.pi"
      ],
      "execution_count": null,
      "outputs": [
        {
          "output_type": "execute_result",
          "data": {
            "text/plain": [
              "3.141592653589793"
            ]
          },
          "metadata": {},
          "execution_count": 96
        }
      ]
    },
    {
      "cell_type": "code",
      "source": [
        "help(math.exp)"
      ],
      "metadata": {
        "colab": {
          "base_uri": "https://localhost:8080/"
        },
        "id": "aMt9CRwr9m2J",
        "outputId": "101b3d01-c77f-4782-d46e-f442cda45be5"
      },
      "execution_count": null,
      "outputs": [
        {
          "output_type": "stream",
          "name": "stdout",
          "text": [
            "Help on built-in function exp in module math:\n",
            "\n",
            "exp(x, /)\n",
            "    Return e raised to the power of x.\n",
            "\n"
          ]
        }
      ]
    },
    {
      "cell_type": "code",
      "source": [
        "math.sqrt(4)"
      ],
      "metadata": {
        "colab": {
          "base_uri": "https://localhost:8080/"
        },
        "id": "_Zmy25e-9SP1",
        "outputId": "02ba52d8-c160-4132-ce78-a90ab4ee5b35"
      },
      "execution_count": null,
      "outputs": [
        {
          "output_type": "execute_result",
          "data": {
            "text/plain": [
              "2.0"
            ]
          },
          "metadata": {},
          "execution_count": 100
        }
      ]
    },
    {
      "cell_type": "markdown",
      "metadata": {
        "id": "USn2zGrvdYOy"
      },
      "source": [
        "นอกจากการ import แบบตรง สามารถ import เฉพาะตัวแปร หรือ fuction ได้เช่นกัน โดยใช้ `from [ชื่อ package] import [ชื่อ function หรือ ตัวแปรที่ต้องการ import]`"
      ]
    },
    {
      "cell_type": "code",
      "metadata": {
        "id": "YVigxwRvdFcL",
        "colab": {
          "base_uri": "https://localhost:8080/"
        },
        "outputId": "d97b8443-4b58-4c41-b147-4e634b25df22"
      },
      "source": [
        "from math import pi\n",
        "\n",
        "pi"
      ],
      "execution_count": null,
      "outputs": [
        {
          "output_type": "execute_result",
          "data": {
            "text/plain": [
              "3.141592653589793"
            ]
          },
          "metadata": {},
          "execution_count": 103
        }
      ]
    },
    {
      "cell_type": "markdown",
      "metadata": {
        "id": "dEyyUh5P70iV"
      },
      "source": [
        "### Datetime\n",
        "Datetime เป็น Package สำหรับจัดการข้อมูลวันเวลา เช่น เวลาในแต่ละ Timezone, ดึงวันเวลาในวันนี้\n",
        "\n",
        "\n",
        "โดยทั่วไป เวลามักจะเป็นเวลา UTC (Universal Time Coordinated) คือเป็นเวลาตามเวลามาตรฐานโลก ไม่อิงตาม timezone\n",
        "\n",
        "เวลาประเทศไทย จะเป็นเวลาที่เรียกว่า Indochina Time (ICT) คือ เป็นเวลา UTC + 7 ชั่วโมง"
      ]
    },
    {
      "cell_type": "code",
      "metadata": {
        "id": "ax5KF8c3sKpI",
        "colab": {
          "base_uri": "https://localhost:8080/",
          "height": 143
        },
        "outputId": "8704c764-6254-4ab8-fae6-2ca080c5dd60"
      },
      "source": [
        "datetime"
      ],
      "execution_count": null,
      "outputs": [
        {
          "output_type": "error",
          "ename": "NameError",
          "evalue": "name 'datetime' is not defined",
          "traceback": [
            "\u001b[0;31m---------------------------------------------------------------------------\u001b[0m",
            "\u001b[0;31mNameError\u001b[0m                                 Traceback (most recent call last)",
            "\u001b[0;32m<ipython-input-105-2b93382a42f4>\u001b[0m in \u001b[0;36m<cell line: 1>\u001b[0;34m()\u001b[0m\n\u001b[0;32m----> 1\u001b[0;31m \u001b[0mdatetime\u001b[0m\u001b[0;34m\u001b[0m\u001b[0;34m\u001b[0m\u001b[0m\n\u001b[0m",
            "\u001b[0;31mNameError\u001b[0m: name 'datetime' is not defined"
          ]
        }
      ]
    },
    {
      "cell_type": "code",
      "metadata": {
        "id": "qFB9ARmS5Ay_",
        "colab": {
          "base_uri": "https://localhost:8080/"
        },
        "outputId": "e6c4779f-ce24-464c-f63f-4bf92bdf529f"
      },
      "source": [
        "import datetime\n",
        "\n",
        "now = datetime.datetime.now()\n",
        "now"
      ],
      "execution_count": null,
      "outputs": [
        {
          "output_type": "execute_result",
          "data": {
            "text/plain": [
              "datetime.datetime(2024, 5, 18, 9, 10, 48, 12067)"
            ]
          },
          "metadata": {},
          "execution_count": 106
        }
      ]
    },
    {
      "cell_type": "markdown",
      "metadata": {
        "id": "h8R1AWnNBTv9"
      },
      "source": [
        "isoformat คือ format มาตรฐานที่นิยมใช้ใน timestamp ที่เก็บไว้บน database / data warehouse"
      ]
    },
    {
      "cell_type": "code",
      "metadata": {
        "id": "Hjf2A4WAO4Sh",
        "colab": {
          "base_uri": "https://localhost:8080/",
          "height": 35
        },
        "outputId": "b7bcb8e1-9249-46a9-a12e-0e8c86bed4d6"
      },
      "source": [
        "now.isoformat()"
      ],
      "execution_count": null,
      "outputs": [
        {
          "output_type": "execute_result",
          "data": {
            "text/plain": [
              "'2024-05-18T09:10:48.012067'"
            ],
            "application/vnd.google.colaboratory.intrinsic+json": {
              "type": "string"
            }
          },
          "metadata": {},
          "execution_count": 107
        }
      ]
    },
    {
      "cell_type": "markdown",
      "metadata": {
        "id": "-HwGVggcQZjK"
      },
      "source": [
        "การเรียกดูวันที่วันปัจจุบัน"
      ]
    },
    {
      "cell_type": "code",
      "metadata": {
        "id": "mP7YZxDR5X6l",
        "colab": {
          "base_uri": "https://localhost:8080/"
        },
        "outputId": "0031d98d-a0ee-4fd1-b0e3-fce597d8d7e3"
      },
      "source": [
        "today = datetime.date.today()\n",
        "today"
      ],
      "execution_count": null,
      "outputs": [
        {
          "output_type": "execute_result",
          "data": {
            "text/plain": [
              "datetime.date(2024, 5, 18)"
            ]
          },
          "metadata": {},
          "execution_count": 108
        }
      ]
    },
    {
      "cell_type": "markdown",
      "metadata": {
        "id": "HqUkTGGGQKFH"
      },
      "source": [
        "รูปแบบมาตรฐานของ date คือ YYYY-mm-dd"
      ]
    },
    {
      "cell_type": "code",
      "metadata": {
        "id": "yaWMiGH0O-sI",
        "colab": {
          "base_uri": "https://localhost:8080/",
          "height": 35
        },
        "outputId": "1c90d782-1ff8-4a1c-ab9c-60d516dd23a4"
      },
      "source": [
        "today.isoformat()"
      ],
      "execution_count": null,
      "outputs": [
        {
          "output_type": "execute_result",
          "data": {
            "text/plain": [
              "'2024-05-18'"
            ],
            "application/vnd.google.colaboratory.intrinsic+json": {
              "type": "string"
            }
          },
          "metadata": {},
          "execution_count": 109
        }
      ]
    },
    {
      "cell_type": "markdown",
      "metadata": {
        "id": "pjRhF6m9w0WZ"
      },
      "source": [
        "# Simple functions\n",
        "\n",
        "Function คือ การกำหนดการคำนวณที่ใช้ซ้ำบ่อย ๆ เพื่อให้เรียกใช้ได้สะดวก\n",
        "ในการเรียกใช้ Function ผู้ใช้ส่งตัวแปรเข้ามากี่ตัวก็ได้ (เรียกว่า argument หรือ parameter) เช่น height และ width\n",
        "และสามารถกำหนดค่าในกรณีที่ผู้ใช้ใส่ตัวแปรใน parameter มาไม่ครบ เรียกว่า default parameter (ในตัวอย่างเช่น rate ตัวแปรค่าเงินที่สามารถกำหนดค่า default ได้)\n",
        "การ return คือการ คืนค่าออกไปเพื่อเป็นผลลัพธ์ชอง function\n",
        "\n",
        "parameter ของ function คือ ตัวแปรรับเข้าที่เปลี่ยนค่าได้"
      ]
    },
    {
      "cell_type": "markdown",
      "source": [
        "## 14) การสร้าง function"
      ],
      "metadata": {
        "id": "cdAVsN6tKdtV"
      }
    },
    {
      "cell_type": "code",
      "metadata": {
        "id": "4Qruy5d21l76",
        "colab": {
          "base_uri": "https://localhost:8080/"
        },
        "outputId": "d4ce40cf-e0c3-4a55-866a-5253d44a0d0f"
      },
      "source": [
        "def circle_area(radius = 1):\n",
        "  return pi * radius * radius\n",
        "\n",
        "circle_area(2)"
      ],
      "execution_count": null,
      "outputs": [
        {
          "output_type": "execute_result",
          "data": {
            "text/plain": [
              "12.566370614359172"
            ]
          },
          "metadata": {},
          "execution_count": 113
        }
      ]
    },
    {
      "cell_type": "code",
      "source": [
        "circle_area()"
      ],
      "metadata": {
        "colab": {
          "base_uri": "https://localhost:8080/"
        },
        "id": "zaz21qMw-_zp",
        "outputId": "dc6cef40-3be7-4a17-fd0b-63f9d2dc2caa"
      },
      "execution_count": null,
      "outputs": [
        {
          "output_type": "execute_result",
          "data": {
            "text/plain": [
              "3.141592653589793"
            ]
          },
          "metadata": {},
          "execution_count": 114
        }
      ]
    },
    {
      "cell_type": "code",
      "source": [
        "circle_area(4)"
      ],
      "metadata": {
        "colab": {
          "base_uri": "https://localhost:8080/"
        },
        "id": "_K5EJTG1-sFx",
        "outputId": "f776731a-a9c1-4f88-ba40-0646b57f0cbf"
      },
      "execution_count": null,
      "outputs": [
        {
          "output_type": "execute_result",
          "data": {
            "text/plain": [
              "50.26548245743669"
            ]
          },
          "metadata": {},
          "execution_count": 111
        }
      ]
    },
    {
      "cell_type": "code",
      "metadata": {
        "id": "-rtsx6QW12aM",
        "colab": {
          "base_uri": "https://localhost:8080/"
        },
        "outputId": "f61ffbc5-9afe-40e0-d838-6c305546da05"
      },
      "source": [
        "def rectangle_area(height, width):\n",
        "  return height * width\n",
        "\n",
        "rectangle_area(4, 5)"
      ],
      "execution_count": null,
      "outputs": [
        {
          "output_type": "execute_result",
          "data": {
            "text/plain": [
              "20"
            ]
          },
          "metadata": {
            "tags": []
          },
          "execution_count": 115
        }
      ]
    },
    {
      "cell_type": "markdown",
      "metadata": {
        "id": "79Z-syzgVcO-"
      },
      "source": [
        "สร้างฟังก์ชันเพื่อแปลงค่าเงิน โดย rate จะมี default parameter อยู่ที่ 31.33"
      ]
    },
    {
      "cell_type": "code",
      "metadata": {
        "id": "lswe1z6S3rtX",
        "colab": {
          "base_uri": "https://localhost:8080/"
        },
        "outputId": "ae2c6d76-3d10-4671-fd23-b59d6db56a6c"
      },
      "source": [
        "def conversion(amount, rate=36.33):\n",
        "  return amount * rate\n",
        "\n",
        "\n",
        "conversion(30)"
      ],
      "execution_count": null,
      "outputs": [
        {
          "output_type": "execute_result",
          "data": {
            "text/plain": [
              "1089.8999999999999"
            ]
          },
          "metadata": {},
          "execution_count": 115
        }
      ]
    },
    {
      "cell_type": "code",
      "source": [
        "a = conversion(30)"
      ],
      "metadata": {
        "id": "Kx86JSJ8AAo3"
      },
      "execution_count": null,
      "outputs": []
    },
    {
      "cell_type": "code",
      "source": [
        "a"
      ],
      "metadata": {
        "colab": {
          "base_uri": "https://localhost:8080/"
        },
        "id": "OkIK5gUjACvb",
        "outputId": "786bdc11-a8f2-41ad-b1c1-d3f0197b23aa"
      },
      "execution_count": null,
      "outputs": [
        {
          "output_type": "execute_result",
          "data": {
            "text/plain": [
              "1089.8999999999999"
            ]
          },
          "metadata": {},
          "execution_count": 126
        }
      ]
    },
    {
      "cell_type": "markdown",
      "metadata": {
        "id": "AGxbFCgJVk1V"
      },
      "source": [
        "แต่สามารถปรับเปลี่ยนค่า rate ได้เหมือนฟังก์ชั่นปกติ ถ้าเกิดมีการใส่ rate มา"
      ]
    },
    {
      "cell_type": "code",
      "metadata": {
        "id": "uWD-VVlP4jFx",
        "colab": {
          "base_uri": "https://localhost:8080/"
        },
        "outputId": "3b5c0d89-1919-4338-d7fb-3908f7e498f4"
      },
      "source": [
        "conversion(30, 33.3333)"
      ],
      "execution_count": null,
      "outputs": [
        {
          "output_type": "execute_result",
          "data": {
            "text/plain": [
              "999.999"
            ]
          },
          "metadata": {},
          "execution_count": 117
        }
      ]
    },
    {
      "cell_type": "code",
      "source": [
        "def greeting(name):\n",
        "  a = 44 * 444\n",
        "  print(\"hello\", name)\n",
        "  print(f\"hi {name}\")\n",
        "  return a\n"
      ],
      "metadata": {
        "id": "lniUe4Wr_gPi"
      },
      "execution_count": null,
      "outputs": []
    },
    {
      "cell_type": "code",
      "source": [
        "greeting(\"Fon\")"
      ],
      "metadata": {
        "colab": {
          "base_uri": "https://localhost:8080/"
        },
        "id": "jkxmPq91_y0H",
        "outputId": "d6280c2e-7b5a-463e-e277-08c8c7ff588a"
      },
      "execution_count": null,
      "outputs": [
        {
          "output_type": "stream",
          "name": "stdout",
          "text": [
            "hello Fon\n",
            "hi Fon\n"
          ]
        }
      ]
    },
    {
      "cell_type": "code",
      "source": [
        "a = greeting(\"Fon\")"
      ],
      "metadata": {
        "colab": {
          "base_uri": "https://localhost:8080/"
        },
        "id": "df2lzpsA_5GB",
        "outputId": "50c5bb8d-59a5-463e-8b79-59e1c7a3d5df"
      },
      "execution_count": null,
      "outputs": [
        {
          "output_type": "stream",
          "name": "stdout",
          "text": [
            "hello Fon\n",
            "hi Fon\n"
          ]
        }
      ]
    },
    {
      "cell_type": "code",
      "source": [
        "a"
      ],
      "metadata": {
        "colab": {
          "base_uri": "https://localhost:8080/"
        },
        "id": "ZcC9lVX9ASMA",
        "outputId": "b1befc19-e38b-4e4e-ae1e-5463204b5968"
      },
      "execution_count": null,
      "outputs": [
        {
          "output_type": "execute_result",
          "data": {
            "text/plain": [
              "19536"
            ]
          },
          "metadata": {},
          "execution_count": 131
        }
      ]
    },
    {
      "cell_type": "code",
      "source": [
        "type(a)"
      ],
      "metadata": {
        "colab": {
          "base_uri": "https://localhost:8080/"
        },
        "id": "_mDY1BW7_7U_",
        "outputId": "4339df40-727e-43f3-85ea-fd0ebe33d80d"
      },
      "execution_count": null,
      "outputs": [
        {
          "output_type": "execute_result",
          "data": {
            "text/plain": [
              "int"
            ]
          },
          "metadata": {},
          "execution_count": 132
        }
      ]
    },
    {
      "cell_type": "markdown",
      "metadata": {
        "id": "OaxEeWQTwA1V"
      },
      "source": [
        "# Working with files การทำงานร่วมกับไฟล์"
      ]
    },
    {
      "cell_type": "markdown",
      "metadata": {
        "id": "Z5184gI48YK-"
      },
      "source": [
        "## Write file การเขียนไฟล์\n",
        "\n",
        "การเขียนไฟล์ จะใช้คำสั่ง open เพื่อเปิดไฟล์ และเขียนไฟล์ลงไป\n",
        "\n",
        "\"w\" ข้างหลัง (write) คือ โหมดของการเปิดไฟล์แบบเขียน ซึ่งจะสร้างไฟล์ใหม่ขึ้นมาเพื่อเขียน"
      ]
    },
    {
      "cell_type": "code",
      "metadata": {
        "id": "SjXJ5yiP4wfu"
      },
      "source": [
        "file = open(\"output.csv\", \"w\")\n",
        "file.write(\"date,item,price\\n\")\n",
        "file.write(\"2020-02-07,Milk,26.5\\n\")\n",
        "file.write(\"2020-02-08,Water,7\\n\")\n",
        "file.close()"
      ],
      "execution_count": null,
      "outputs": []
    },
    {
      "cell_type": "markdown",
      "metadata": {
        "id": "l9smesTSUUU9"
      },
      "source": [
        "การวนลูปเขียนไฟล์ จาก list ของ tuple"
      ]
    },
    {
      "cell_type": "code",
      "source": [
        "\",\".join((\"date\", \"item\", \"price\"))"
      ],
      "metadata": {
        "colab": {
          "base_uri": "https://localhost:8080/",
          "height": 35
        },
        "id": "ad-XqxP_A7lw",
        "outputId": "e866ebd2-2678-4b77-f457-c8806392dc7c"
      },
      "execution_count": null,
      "outputs": [
        {
          "output_type": "execute_result",
          "data": {
            "text/plain": [
              "'date,item,price'"
            ],
            "application/vnd.google.colaboratory.intrinsic+json": {
              "type": "string"
            }
          },
          "metadata": {},
          "execution_count": 135
        }
      ]
    },
    {
      "cell_type": "code",
      "metadata": {
        "colab": {
          "base_uri": "https://localhost:8080/",
          "height": 35
        },
        "id": "vDpzVwSOt4F9",
        "outputId": "ad809547-d7fe-46d7-de2d-0709c0325767"
      },
      "source": [
        "header = (\"date\", \"item\", \"price\")\n",
        "\",\".join(header) + \"\\n\""
      ],
      "execution_count": null,
      "outputs": [
        {
          "output_type": "execute_result",
          "data": {
            "text/plain": [
              "'date,item,price\\n'"
            ],
            "application/vnd.google.colaboratory.intrinsic+json": {
              "type": "string"
            }
          },
          "metadata": {},
          "execution_count": 136
        }
      ]
    },
    {
      "cell_type": "code",
      "metadata": {
        "id": "W5C4Uoei93_9"
      },
      "source": [
        "header = (\"date\", \"item\", \"price\")\n",
        "content = [\n",
        "    (\"2020-02-07\", \"Milk\", \"26.5\"),\n",
        "    (\"2020-02-08\", \"Water\", \"7\"),\n",
        "    (\"2020-02-08\", \"Mask\", \"20\"),\n",
        "    (\"2020-02-08\", \"Lays\", \"10\"),\n",
        "    (\"2020-02-08\", \"Rice\", \"6\")\n",
        "]\n",
        "\n",
        "file = open('products.csv', 'w')\n",
        "file.write(\",\".join(header) + \"\\n\")\n",
        "\n",
        "for row in content:\n",
        "  file.write(\",\".join(row) + \"\\n\")\n",
        "\n",
        "file.close()"
      ],
      "execution_count": null,
      "outputs": []
    },
    {
      "cell_type": "markdown",
      "metadata": {
        "id": "PFMeyDyGAnxk"
      },
      "source": [
        "## Read file การอ่านไฟล์"
      ]
    },
    {
      "cell_type": "markdown",
      "metadata": {
        "id": "5QZHzeniUZ1O"
      },
      "source": [
        "การอ่านไฟล์ จะคล้ายคลึงกับ การเขียนไฟล์ตรงที่ต้อง open file เช่นกัน แตกต่างกันที่ mode จะ"
      ]
    },
    {
      "cell_type": "code",
      "metadata": {
        "id": "BKbZ1KQ9Am-3",
        "colab": {
          "base_uri": "https://localhost:8080/"
        },
        "outputId": "ab1a2f08-f6c8-4894-9b02-9841fab6985d"
      },
      "source": [
        "with open(\"products.csv\", \"r\") as f:\n",
        "  product = f.readlines()\n",
        "\n",
        "product"
      ],
      "execution_count": null,
      "outputs": [
        {
          "output_type": "execute_result",
          "data": {
            "text/plain": [
              "['date,item,price\\n',\n",
              " '2020-02-07,Milk,26.5\\n',\n",
              " '2020-02-08,Water,7\\n',\n",
              " '2020-02-08,Mask,20\\n',\n",
              " '2020-02-08,Lays,10\\n',\n",
              " '2020-02-08,Rice,6\\n']"
            ]
          },
          "metadata": {},
          "execution_count": 138
        }
      ]
    },
    {
      "cell_type": "code",
      "metadata": {
        "colab": {
          "base_uri": "https://localhost:8080/"
        },
        "id": "lnCPJNWIu1AU",
        "outputId": "8778d17d-378c-428e-a4a2-905e276d7d0f"
      },
      "source": [
        "len(product)"
      ],
      "execution_count": null,
      "outputs": [
        {
          "output_type": "execute_result",
          "data": {
            "text/plain": [
              "6"
            ]
          },
          "metadata": {
            "tags": []
          },
          "execution_count": 125
        }
      ]
    },
    {
      "cell_type": "markdown",
      "source": [
        "## 15) การใช้ Python Package สำหรับงาน Data"
      ],
      "metadata": {
        "id": "f-faeXEDKxYp"
      }
    },
    {
      "cell_type": "markdown",
      "metadata": {
        "id": "nu2d7t-dAisB"
      },
      "source": [
        "### Use Pandas to Read/Write file"
      ]
    },
    {
      "cell_type": "markdown",
      "metadata": {
        "id": "2u_LKLTOCD7r"
      },
      "source": [
        "การอ่านไฟล์ CSV ด้วย Pandas (3rd party package) สำหรับการอ่านและประมวลผลไฟล์ ในลักษณะของตาราง DataFrame\n",
        "\n",
        "Pandas เป็นที่นิยมใช้ในสาย data มาก เพราะสามารถช่วยให้วิเคราะห์และใช้งาน data ที่เป็น table ใน Python ได้ง่ายขึ้น\n",
        "\n",
        "เนื่องจากเป็น package ที่ python ไม่มี จึงต่อ import ก่อนด้วย\n",
        "> import pandas as pd\n",
        "\n",
        "(Google Colab ได้ install pandas ไว้อัตโนมัติอยู่แล้ว เพราะเป็น package ยอดนิยม)"
      ]
    },
    {
      "cell_type": "code",
      "source": [],
      "metadata": {
        "id": "DmeI7Fj6Byn8"
      },
      "execution_count": null,
      "outputs": []
    },
    {
      "cell_type": "code",
      "metadata": {
        "id": "gaXfQ73DAh6v",
        "colab": {
          "base_uri": "https://localhost:8080/",
          "height": 444
        },
        "outputId": "78a130ae-812b-4478-f274-3952fb0aef18"
      },
      "source": [
        "import pandas as pd\n",
        "\n",
        "df = pd.read_csv(\"sample_data/california_housing_test.csv\")\n",
        "df"
      ],
      "execution_count": null,
      "outputs": [
        {
          "output_type": "execute_result",
          "data": {
            "text/plain": [
              "      longitude  latitude  housing_median_age  total_rooms  total_bedrooms  \\\n",
              "0       -122.05     37.37                27.0       3885.0           661.0   \n",
              "1       -118.30     34.26                43.0       1510.0           310.0   \n",
              "2       -117.81     33.78                27.0       3589.0           507.0   \n",
              "3       -118.36     33.82                28.0         67.0            15.0   \n",
              "4       -119.67     36.33                19.0       1241.0           244.0   \n",
              "...         ...       ...                 ...          ...             ...   \n",
              "2995    -119.86     34.42                23.0       1450.0           642.0   \n",
              "2996    -118.14     34.06                27.0       5257.0          1082.0   \n",
              "2997    -119.70     36.30                10.0        956.0           201.0   \n",
              "2998    -117.12     34.10                40.0         96.0            14.0   \n",
              "2999    -119.63     34.42                42.0       1765.0           263.0   \n",
              "\n",
              "      population  households  median_income  median_house_value  \n",
              "0         1537.0       606.0         6.6085            344700.0  \n",
              "1          809.0       277.0         3.5990            176500.0  \n",
              "2         1484.0       495.0         5.7934            270500.0  \n",
              "3           49.0        11.0         6.1359            330000.0  \n",
              "4          850.0       237.0         2.9375             81700.0  \n",
              "...          ...         ...            ...                 ...  \n",
              "2995      1258.0       607.0         1.1790            225000.0  \n",
              "2996      3496.0      1036.0         3.3906            237200.0  \n",
              "2997       693.0       220.0         2.2895             62000.0  \n",
              "2998        46.0        14.0         3.2708            162500.0  \n",
              "2999       753.0       260.0         8.5608            500001.0  \n",
              "\n",
              "[3000 rows x 9 columns]"
            ],
            "text/html": [
              "\n",
              "  <div id=\"df-44fd3d80-87a5-4d12-9f30-a1971e896c67\" class=\"colab-df-container\">\n",
              "    <div>\n",
              "<style scoped>\n",
              "    .dataframe tbody tr th:only-of-type {\n",
              "        vertical-align: middle;\n",
              "    }\n",
              "\n",
              "    .dataframe tbody tr th {\n",
              "        vertical-align: top;\n",
              "    }\n",
              "\n",
              "    .dataframe thead th {\n",
              "        text-align: right;\n",
              "    }\n",
              "</style>\n",
              "<table border=\"1\" class=\"dataframe\">\n",
              "  <thead>\n",
              "    <tr style=\"text-align: right;\">\n",
              "      <th></th>\n",
              "      <th>longitude</th>\n",
              "      <th>latitude</th>\n",
              "      <th>housing_median_age</th>\n",
              "      <th>total_rooms</th>\n",
              "      <th>total_bedrooms</th>\n",
              "      <th>population</th>\n",
              "      <th>households</th>\n",
              "      <th>median_income</th>\n",
              "      <th>median_house_value</th>\n",
              "    </tr>\n",
              "  </thead>\n",
              "  <tbody>\n",
              "    <tr>\n",
              "      <th>0</th>\n",
              "      <td>-122.05</td>\n",
              "      <td>37.37</td>\n",
              "      <td>27.0</td>\n",
              "      <td>3885.0</td>\n",
              "      <td>661.0</td>\n",
              "      <td>1537.0</td>\n",
              "      <td>606.0</td>\n",
              "      <td>6.6085</td>\n",
              "      <td>344700.0</td>\n",
              "    </tr>\n",
              "    <tr>\n",
              "      <th>1</th>\n",
              "      <td>-118.30</td>\n",
              "      <td>34.26</td>\n",
              "      <td>43.0</td>\n",
              "      <td>1510.0</td>\n",
              "      <td>310.0</td>\n",
              "      <td>809.0</td>\n",
              "      <td>277.0</td>\n",
              "      <td>3.5990</td>\n",
              "      <td>176500.0</td>\n",
              "    </tr>\n",
              "    <tr>\n",
              "      <th>2</th>\n",
              "      <td>-117.81</td>\n",
              "      <td>33.78</td>\n",
              "      <td>27.0</td>\n",
              "      <td>3589.0</td>\n",
              "      <td>507.0</td>\n",
              "      <td>1484.0</td>\n",
              "      <td>495.0</td>\n",
              "      <td>5.7934</td>\n",
              "      <td>270500.0</td>\n",
              "    </tr>\n",
              "    <tr>\n",
              "      <th>3</th>\n",
              "      <td>-118.36</td>\n",
              "      <td>33.82</td>\n",
              "      <td>28.0</td>\n",
              "      <td>67.0</td>\n",
              "      <td>15.0</td>\n",
              "      <td>49.0</td>\n",
              "      <td>11.0</td>\n",
              "      <td>6.1359</td>\n",
              "      <td>330000.0</td>\n",
              "    </tr>\n",
              "    <tr>\n",
              "      <th>4</th>\n",
              "      <td>-119.67</td>\n",
              "      <td>36.33</td>\n",
              "      <td>19.0</td>\n",
              "      <td>1241.0</td>\n",
              "      <td>244.0</td>\n",
              "      <td>850.0</td>\n",
              "      <td>237.0</td>\n",
              "      <td>2.9375</td>\n",
              "      <td>81700.0</td>\n",
              "    </tr>\n",
              "    <tr>\n",
              "      <th>...</th>\n",
              "      <td>...</td>\n",
              "      <td>...</td>\n",
              "      <td>...</td>\n",
              "      <td>...</td>\n",
              "      <td>...</td>\n",
              "      <td>...</td>\n",
              "      <td>...</td>\n",
              "      <td>...</td>\n",
              "      <td>...</td>\n",
              "    </tr>\n",
              "    <tr>\n",
              "      <th>2995</th>\n",
              "      <td>-119.86</td>\n",
              "      <td>34.42</td>\n",
              "      <td>23.0</td>\n",
              "      <td>1450.0</td>\n",
              "      <td>642.0</td>\n",
              "      <td>1258.0</td>\n",
              "      <td>607.0</td>\n",
              "      <td>1.1790</td>\n",
              "      <td>225000.0</td>\n",
              "    </tr>\n",
              "    <tr>\n",
              "      <th>2996</th>\n",
              "      <td>-118.14</td>\n",
              "      <td>34.06</td>\n",
              "      <td>27.0</td>\n",
              "      <td>5257.0</td>\n",
              "      <td>1082.0</td>\n",
              "      <td>3496.0</td>\n",
              "      <td>1036.0</td>\n",
              "      <td>3.3906</td>\n",
              "      <td>237200.0</td>\n",
              "    </tr>\n",
              "    <tr>\n",
              "      <th>2997</th>\n",
              "      <td>-119.70</td>\n",
              "      <td>36.30</td>\n",
              "      <td>10.0</td>\n",
              "      <td>956.0</td>\n",
              "      <td>201.0</td>\n",
              "      <td>693.0</td>\n",
              "      <td>220.0</td>\n",
              "      <td>2.2895</td>\n",
              "      <td>62000.0</td>\n",
              "    </tr>\n",
              "    <tr>\n",
              "      <th>2998</th>\n",
              "      <td>-117.12</td>\n",
              "      <td>34.10</td>\n",
              "      <td>40.0</td>\n",
              "      <td>96.0</td>\n",
              "      <td>14.0</td>\n",
              "      <td>46.0</td>\n",
              "      <td>14.0</td>\n",
              "      <td>3.2708</td>\n",
              "      <td>162500.0</td>\n",
              "    </tr>\n",
              "    <tr>\n",
              "      <th>2999</th>\n",
              "      <td>-119.63</td>\n",
              "      <td>34.42</td>\n",
              "      <td>42.0</td>\n",
              "      <td>1765.0</td>\n",
              "      <td>263.0</td>\n",
              "      <td>753.0</td>\n",
              "      <td>260.0</td>\n",
              "      <td>8.5608</td>\n",
              "      <td>500001.0</td>\n",
              "    </tr>\n",
              "  </tbody>\n",
              "</table>\n",
              "<p>3000 rows × 9 columns</p>\n",
              "</div>\n",
              "    <div class=\"colab-df-buttons\">\n",
              "\n",
              "  <div class=\"colab-df-container\">\n",
              "    <button class=\"colab-df-convert\" onclick=\"convertToInteractive('df-44fd3d80-87a5-4d12-9f30-a1971e896c67')\"\n",
              "            title=\"Convert this dataframe to an interactive table.\"\n",
              "            style=\"display:none;\">\n",
              "\n",
              "  <svg xmlns=\"http://www.w3.org/2000/svg\" height=\"24px\" viewBox=\"0 -960 960 960\">\n",
              "    <path d=\"M120-120v-720h720v720H120Zm60-500h600v-160H180v160Zm220 220h160v-160H400v160Zm0 220h160v-160H400v160ZM180-400h160v-160H180v160Zm440 0h160v-160H620v160ZM180-180h160v-160H180v160Zm440 0h160v-160H620v160Z\"/>\n",
              "  </svg>\n",
              "    </button>\n",
              "\n",
              "  <style>\n",
              "    .colab-df-container {\n",
              "      display:flex;\n",
              "      gap: 12px;\n",
              "    }\n",
              "\n",
              "    .colab-df-convert {\n",
              "      background-color: #E8F0FE;\n",
              "      border: none;\n",
              "      border-radius: 50%;\n",
              "      cursor: pointer;\n",
              "      display: none;\n",
              "      fill: #1967D2;\n",
              "      height: 32px;\n",
              "      padding: 0 0 0 0;\n",
              "      width: 32px;\n",
              "    }\n",
              "\n",
              "    .colab-df-convert:hover {\n",
              "      background-color: #E2EBFA;\n",
              "      box-shadow: 0px 1px 2px rgba(60, 64, 67, 0.3), 0px 1px 3px 1px rgba(60, 64, 67, 0.15);\n",
              "      fill: #174EA6;\n",
              "    }\n",
              "\n",
              "    .colab-df-buttons div {\n",
              "      margin-bottom: 4px;\n",
              "    }\n",
              "\n",
              "    [theme=dark] .colab-df-convert {\n",
              "      background-color: #3B4455;\n",
              "      fill: #D2E3FC;\n",
              "    }\n",
              "\n",
              "    [theme=dark] .colab-df-convert:hover {\n",
              "      background-color: #434B5C;\n",
              "      box-shadow: 0px 1px 3px 1px rgba(0, 0, 0, 0.15);\n",
              "      filter: drop-shadow(0px 1px 2px rgba(0, 0, 0, 0.3));\n",
              "      fill: #FFFFFF;\n",
              "    }\n",
              "  </style>\n",
              "\n",
              "    <script>\n",
              "      const buttonEl =\n",
              "        document.querySelector('#df-44fd3d80-87a5-4d12-9f30-a1971e896c67 button.colab-df-convert');\n",
              "      buttonEl.style.display =\n",
              "        google.colab.kernel.accessAllowed ? 'block' : 'none';\n",
              "\n",
              "      async function convertToInteractive(key) {\n",
              "        const element = document.querySelector('#df-44fd3d80-87a5-4d12-9f30-a1971e896c67');\n",
              "        const dataTable =\n",
              "          await google.colab.kernel.invokeFunction('convertToInteractive',\n",
              "                                                    [key], {});\n",
              "        if (!dataTable) return;\n",
              "\n",
              "        const docLinkHtml = 'Like what you see? Visit the ' +\n",
              "          '<a target=\"_blank\" href=https://colab.research.google.com/notebooks/data_table.ipynb>data table notebook</a>'\n",
              "          + ' to learn more about interactive tables.';\n",
              "        element.innerHTML = '';\n",
              "        dataTable['output_type'] = 'display_data';\n",
              "        await google.colab.output.renderOutput(dataTable, element);\n",
              "        const docLink = document.createElement('div');\n",
              "        docLink.innerHTML = docLinkHtml;\n",
              "        element.appendChild(docLink);\n",
              "      }\n",
              "    </script>\n",
              "  </div>\n",
              "\n",
              "\n",
              "<div id=\"df-67570cbd-1fcb-4501-a0d4-c1470adeb1f2\">\n",
              "  <button class=\"colab-df-quickchart\" onclick=\"quickchart('df-67570cbd-1fcb-4501-a0d4-c1470adeb1f2')\"\n",
              "            title=\"Suggest charts\"\n",
              "            style=\"display:none;\">\n",
              "\n",
              "<svg xmlns=\"http://www.w3.org/2000/svg\" height=\"24px\"viewBox=\"0 0 24 24\"\n",
              "     width=\"24px\">\n",
              "    <g>\n",
              "        <path d=\"M19 3H5c-1.1 0-2 .9-2 2v14c0 1.1.9 2 2 2h14c1.1 0 2-.9 2-2V5c0-1.1-.9-2-2-2zM9 17H7v-7h2v7zm4 0h-2V7h2v10zm4 0h-2v-4h2v4z\"/>\n",
              "    </g>\n",
              "</svg>\n",
              "  </button>\n",
              "\n",
              "<style>\n",
              "  .colab-df-quickchart {\n",
              "      --bg-color: #E8F0FE;\n",
              "      --fill-color: #1967D2;\n",
              "      --hover-bg-color: #E2EBFA;\n",
              "      --hover-fill-color: #174EA6;\n",
              "      --disabled-fill-color: #AAA;\n",
              "      --disabled-bg-color: #DDD;\n",
              "  }\n",
              "\n",
              "  [theme=dark] .colab-df-quickchart {\n",
              "      --bg-color: #3B4455;\n",
              "      --fill-color: #D2E3FC;\n",
              "      --hover-bg-color: #434B5C;\n",
              "      --hover-fill-color: #FFFFFF;\n",
              "      --disabled-bg-color: #3B4455;\n",
              "      --disabled-fill-color: #666;\n",
              "  }\n",
              "\n",
              "  .colab-df-quickchart {\n",
              "    background-color: var(--bg-color);\n",
              "    border: none;\n",
              "    border-radius: 50%;\n",
              "    cursor: pointer;\n",
              "    display: none;\n",
              "    fill: var(--fill-color);\n",
              "    height: 32px;\n",
              "    padding: 0;\n",
              "    width: 32px;\n",
              "  }\n",
              "\n",
              "  .colab-df-quickchart:hover {\n",
              "    background-color: var(--hover-bg-color);\n",
              "    box-shadow: 0 1px 2px rgba(60, 64, 67, 0.3), 0 1px 3px 1px rgba(60, 64, 67, 0.15);\n",
              "    fill: var(--button-hover-fill-color);\n",
              "  }\n",
              "\n",
              "  .colab-df-quickchart-complete:disabled,\n",
              "  .colab-df-quickchart-complete:disabled:hover {\n",
              "    background-color: var(--disabled-bg-color);\n",
              "    fill: var(--disabled-fill-color);\n",
              "    box-shadow: none;\n",
              "  }\n",
              "\n",
              "  .colab-df-spinner {\n",
              "    border: 2px solid var(--fill-color);\n",
              "    border-color: transparent;\n",
              "    border-bottom-color: var(--fill-color);\n",
              "    animation:\n",
              "      spin 1s steps(1) infinite;\n",
              "  }\n",
              "\n",
              "  @keyframes spin {\n",
              "    0% {\n",
              "      border-color: transparent;\n",
              "      border-bottom-color: var(--fill-color);\n",
              "      border-left-color: var(--fill-color);\n",
              "    }\n",
              "    20% {\n",
              "      border-color: transparent;\n",
              "      border-left-color: var(--fill-color);\n",
              "      border-top-color: var(--fill-color);\n",
              "    }\n",
              "    30% {\n",
              "      border-color: transparent;\n",
              "      border-left-color: var(--fill-color);\n",
              "      border-top-color: var(--fill-color);\n",
              "      border-right-color: var(--fill-color);\n",
              "    }\n",
              "    40% {\n",
              "      border-color: transparent;\n",
              "      border-right-color: var(--fill-color);\n",
              "      border-top-color: var(--fill-color);\n",
              "    }\n",
              "    60% {\n",
              "      border-color: transparent;\n",
              "      border-right-color: var(--fill-color);\n",
              "    }\n",
              "    80% {\n",
              "      border-color: transparent;\n",
              "      border-right-color: var(--fill-color);\n",
              "      border-bottom-color: var(--fill-color);\n",
              "    }\n",
              "    90% {\n",
              "      border-color: transparent;\n",
              "      border-bottom-color: var(--fill-color);\n",
              "    }\n",
              "  }\n",
              "</style>\n",
              "\n",
              "  <script>\n",
              "    async function quickchart(key) {\n",
              "      const quickchartButtonEl =\n",
              "        document.querySelector('#' + key + ' button');\n",
              "      quickchartButtonEl.disabled = true;  // To prevent multiple clicks.\n",
              "      quickchartButtonEl.classList.add('colab-df-spinner');\n",
              "      try {\n",
              "        const charts = await google.colab.kernel.invokeFunction(\n",
              "            'suggestCharts', [key], {});\n",
              "      } catch (error) {\n",
              "        console.error('Error during call to suggestCharts:', error);\n",
              "      }\n",
              "      quickchartButtonEl.classList.remove('colab-df-spinner');\n",
              "      quickchartButtonEl.classList.add('colab-df-quickchart-complete');\n",
              "    }\n",
              "    (() => {\n",
              "      let quickchartButtonEl =\n",
              "        document.querySelector('#df-67570cbd-1fcb-4501-a0d4-c1470adeb1f2 button');\n",
              "      quickchartButtonEl.style.display =\n",
              "        google.colab.kernel.accessAllowed ? 'block' : 'none';\n",
              "    })();\n",
              "  </script>\n",
              "</div>\n",
              "    </div>\n",
              "  </div>\n"
            ],
            "application/vnd.google.colaboratory.intrinsic+json": {
              "type": "dataframe",
              "variable_name": "df",
              "summary": "{\n  \"name\": \"df\",\n  \"rows\": 3000,\n  \"fields\": [\n    {\n      \"column\": \"longitude\",\n      \"properties\": {\n        \"dtype\": \"number\",\n        \"std\": 1.9949362939550175,\n        \"min\": -124.18,\n        \"max\": -114.49,\n        \"num_unique_values\": 607,\n        \"samples\": [\n          -121.15,\n          -121.46,\n          -121.02\n        ],\n        \"semantic_type\": \"\",\n        \"description\": \"\"\n      }\n    },\n    {\n      \"column\": \"latitude\",\n      \"properties\": {\n        \"dtype\": \"number\",\n        \"std\": 2.129669523343834,\n        \"min\": 32.56,\n        \"max\": 41.92,\n        \"num_unique_values\": 587,\n        \"samples\": [\n          40.17,\n          33.69,\n          39.61\n        ],\n        \"semantic_type\": \"\",\n        \"description\": \"\"\n      }\n    },\n    {\n      \"column\": \"housing_median_age\",\n      \"properties\": {\n        \"dtype\": \"number\",\n        \"std\": 12.555395554955753,\n        \"min\": 1.0,\n        \"max\": 52.0,\n        \"num_unique_values\": 52,\n        \"samples\": [\n          14.0,\n          49.0,\n          7.0\n        ],\n        \"semantic_type\": \"\",\n        \"description\": \"\"\n      }\n    },\n    {\n      \"column\": \"total_rooms\",\n      \"properties\": {\n        \"dtype\": \"number\",\n        \"std\": 2155.593331625581,\n        \"min\": 6.0,\n        \"max\": 30450.0,\n        \"num_unique_values\": 2215,\n        \"samples\": [\n          1961.0,\n          1807.0,\n          680.0\n        ],\n        \"semantic_type\": \"\",\n        \"description\": \"\"\n      }\n    },\n    {\n      \"column\": \"total_bedrooms\",\n      \"properties\": {\n        \"dtype\": \"number\",\n        \"std\": 415.6543681363229,\n        \"min\": 2.0,\n        \"max\": 5419.0,\n        \"num_unique_values\": 1055,\n        \"samples\": [\n          532.0,\n          764.0,\n          2162.0\n        ],\n        \"semantic_type\": \"\",\n        \"description\": \"\"\n      }\n    },\n    {\n      \"column\": \"population\",\n      \"properties\": {\n        \"dtype\": \"number\",\n        \"std\": 1030.5430124122424,\n        \"min\": 5.0,\n        \"max\": 11935.0,\n        \"num_unique_values\": 1802,\n        \"samples\": [\n          947.0,\n          1140.0,\n          2019.0\n        ],\n        \"semantic_type\": \"\",\n        \"description\": \"\"\n      }\n    },\n    {\n      \"column\": \"households\",\n      \"properties\": {\n        \"dtype\": \"number\",\n        \"std\": 365.42270980552627,\n        \"min\": 2.0,\n        \"max\": 4930.0,\n        \"num_unique_values\": 1026,\n        \"samples\": [\n          646.0,\n          629.0,\n          504.0\n        ],\n        \"semantic_type\": \"\",\n        \"description\": \"\"\n      }\n    },\n    {\n      \"column\": \"median_income\",\n      \"properties\": {\n        \"dtype\": \"number\",\n        \"std\": 1.854511729691479,\n        \"min\": 0.4999,\n        \"max\": 15.0001,\n        \"num_unique_values\": 2578,\n        \"samples\": [\n          1.725,\n          0.7403,\n          2.6964\n        ],\n        \"semantic_type\": \"\",\n        \"description\": \"\"\n      }\n    },\n    {\n      \"column\": \"median_house_value\",\n      \"properties\": {\n        \"dtype\": \"number\",\n        \"std\": 113119.68746964628,\n        \"min\": 22500.0,\n        \"max\": 500001.0,\n        \"num_unique_values\": 1784,\n        \"samples\": [\n          71900.0,\n          63000.0,\n          115800.0\n        ],\n        \"semantic_type\": \"\",\n        \"description\": \"\"\n      }\n    }\n  ]\n}"
            }
          },
          "metadata": {},
          "execution_count": 139
        }
      ]
    },
    {
      "cell_type": "code",
      "metadata": {
        "id": "dmyfjfirRCqn",
        "colab": {
          "base_uri": "https://localhost:8080/",
          "height": 204
        },
        "outputId": "a1c9603d-4a53-4fe1-df4c-da646de4e5de"
      },
      "source": [
        "type(df)"
      ],
      "execution_count": null,
      "outputs": [
        {
          "output_type": "execute_result",
          "data": {
            "text/plain": [
              "pandas.core.frame.DataFrame"
            ],
            "text/html": [
              "<div style=\"max-width:800px; border: 1px solid var(--colab-border-color);\"><style>\n",
              "      pre.function-repr-contents {\n",
              "        overflow-x: auto;\n",
              "        padding: 8px 12px;\n",
              "        max-height: 500px;\n",
              "      }\n",
              "\n",
              "      pre.function-repr-contents.function-repr-contents-collapsed {\n",
              "        cursor: pointer;\n",
              "        max-height: 100px;\n",
              "      }\n",
              "    </style>\n",
              "    <pre style=\"white-space: initial; background:\n",
              "         var(--colab-secondary-surface-color); padding: 8px 12px;\n",
              "         border-bottom: 1px solid var(--colab-border-color);\"><b>pandas.core.frame.DataFrame</b><br/>def __init__(data=None, index: Axes | None=None, columns: Axes | None=None, dtype: Dtype | None=None, copy: bool | None=None) -&gt; None</pre><pre class=\"function-repr-contents function-repr-contents-collapsed\" style=\"\"><a class=\"filepath\" style=\"display:none\" href=\"#\">/usr/local/lib/python3.10/dist-packages/pandas/core/frame.py</a>Two-dimensional, size-mutable, potentially heterogeneous tabular data.\n",
              "\n",
              "Data structure also contains labeled axes (rows and columns).\n",
              "Arithmetic operations align on both row and column labels. Can be\n",
              "thought of as a dict-like container for Series objects. The primary\n",
              "pandas data structure.\n",
              "\n",
              "Parameters\n",
              "----------\n",
              "data : ndarray (structured or homogeneous), Iterable, dict, or DataFrame\n",
              "    Dict can contain Series, arrays, constants, dataclass or list-like objects. If\n",
              "    data is a dict, column order follows insertion-order. If a dict contains Series\n",
              "    which have an index defined, it is aligned by its index. This alignment also\n",
              "    occurs if data is a Series or a DataFrame itself. Alignment is done on\n",
              "    Series/DataFrame inputs.\n",
              "\n",
              "    If data is a list of dicts, column order follows insertion-order.\n",
              "\n",
              "index : Index or array-like\n",
              "    Index to use for resulting frame. Will default to RangeIndex if\n",
              "    no indexing information part of input data and no index provided.\n",
              "columns : Index or array-like\n",
              "    Column labels to use for resulting frame when data does not have them,\n",
              "    defaulting to RangeIndex(0, 1, 2, ..., n). If data contains column labels,\n",
              "    will perform column selection instead.\n",
              "dtype : dtype, default None\n",
              "    Data type to force. Only a single dtype is allowed. If None, infer.\n",
              "copy : bool or None, default None\n",
              "    Copy data from inputs.\n",
              "    For dict data, the default of None behaves like ``copy=True``.  For DataFrame\n",
              "    or 2d ndarray input, the default of None behaves like ``copy=False``.\n",
              "    If data is a dict containing one or more Series (possibly of different dtypes),\n",
              "    ``copy=False`` will ensure that these inputs are not copied.\n",
              "\n",
              "    .. versionchanged:: 1.3.0\n",
              "\n",
              "See Also\n",
              "--------\n",
              "DataFrame.from_records : Constructor from tuples, also record arrays.\n",
              "DataFrame.from_dict : From dicts of Series, arrays, or dicts.\n",
              "read_csv : Read a comma-separated values (csv) file into DataFrame.\n",
              "read_table : Read general delimited file into DataFrame.\n",
              "read_clipboard : Read text from clipboard into DataFrame.\n",
              "\n",
              "Notes\n",
              "-----\n",
              "Please reference the :ref:`User Guide &lt;basics.dataframe&gt;` for more information.\n",
              "\n",
              "Examples\n",
              "--------\n",
              "Constructing DataFrame from a dictionary.\n",
              "\n",
              "&gt;&gt;&gt; d = {&#x27;col1&#x27;: [1, 2], &#x27;col2&#x27;: [3, 4]}\n",
              "&gt;&gt;&gt; df = pd.DataFrame(data=d)\n",
              "&gt;&gt;&gt; df\n",
              "   col1  col2\n",
              "0     1     3\n",
              "1     2     4\n",
              "\n",
              "Notice that the inferred dtype is int64.\n",
              "\n",
              "&gt;&gt;&gt; df.dtypes\n",
              "col1    int64\n",
              "col2    int64\n",
              "dtype: object\n",
              "\n",
              "To enforce a single dtype:\n",
              "\n",
              "&gt;&gt;&gt; df = pd.DataFrame(data=d, dtype=np.int8)\n",
              "&gt;&gt;&gt; df.dtypes\n",
              "col1    int8\n",
              "col2    int8\n",
              "dtype: object\n",
              "\n",
              "Constructing DataFrame from a dictionary including Series:\n",
              "\n",
              "&gt;&gt;&gt; d = {&#x27;col1&#x27;: [0, 1, 2, 3], &#x27;col2&#x27;: pd.Series([2, 3], index=[2, 3])}\n",
              "&gt;&gt;&gt; pd.DataFrame(data=d, index=[0, 1, 2, 3])\n",
              "   col1  col2\n",
              "0     0   NaN\n",
              "1     1   NaN\n",
              "2     2   2.0\n",
              "3     3   3.0\n",
              "\n",
              "Constructing DataFrame from numpy ndarray:\n",
              "\n",
              "&gt;&gt;&gt; df2 = pd.DataFrame(np.array([[1, 2, 3], [4, 5, 6], [7, 8, 9]]),\n",
              "...                    columns=[&#x27;a&#x27;, &#x27;b&#x27;, &#x27;c&#x27;])\n",
              "&gt;&gt;&gt; df2\n",
              "   a  b  c\n",
              "0  1  2  3\n",
              "1  4  5  6\n",
              "2  7  8  9\n",
              "\n",
              "Constructing DataFrame from a numpy ndarray that has labeled columns:\n",
              "\n",
              "&gt;&gt;&gt; data = np.array([(1, 2, 3), (4, 5, 6), (7, 8, 9)],\n",
              "...                 dtype=[(&quot;a&quot;, &quot;i4&quot;), (&quot;b&quot;, &quot;i4&quot;), (&quot;c&quot;, &quot;i4&quot;)])\n",
              "&gt;&gt;&gt; df3 = pd.DataFrame(data, columns=[&#x27;c&#x27;, &#x27;a&#x27;])\n",
              "...\n",
              "&gt;&gt;&gt; df3\n",
              "   c  a\n",
              "0  3  1\n",
              "1  6  4\n",
              "2  9  7\n",
              "\n",
              "Constructing DataFrame from dataclass:\n",
              "\n",
              "&gt;&gt;&gt; from dataclasses import make_dataclass\n",
              "&gt;&gt;&gt; Point = make_dataclass(&quot;Point&quot;, [(&quot;x&quot;, int), (&quot;y&quot;, int)])\n",
              "&gt;&gt;&gt; pd.DataFrame([Point(0, 0), Point(0, 3), Point(2, 3)])\n",
              "   x  y\n",
              "0  0  0\n",
              "1  0  3\n",
              "2  2  3\n",
              "\n",
              "Constructing DataFrame from Series/DataFrame:\n",
              "\n",
              "&gt;&gt;&gt; ser = pd.Series([1, 2, 3], index=[&quot;a&quot;, &quot;b&quot;, &quot;c&quot;])\n",
              "&gt;&gt;&gt; df = pd.DataFrame(data=ser, index=[&quot;a&quot;, &quot;c&quot;])\n",
              "&gt;&gt;&gt; df\n",
              "   0\n",
              "a  1\n",
              "c  3\n",
              "\n",
              "&gt;&gt;&gt; df1 = pd.DataFrame([1, 2, 3], index=[&quot;a&quot;, &quot;b&quot;, &quot;c&quot;], columns=[&quot;x&quot;])\n",
              "&gt;&gt;&gt; df2 = pd.DataFrame(data=df1, index=[&quot;a&quot;, &quot;c&quot;])\n",
              "&gt;&gt;&gt; df2\n",
              "   x\n",
              "a  1\n",
              "c  3</pre>\n",
              "      <script>\n",
              "      if (google.colab.kernel.accessAllowed && google.colab.files && google.colab.files.view) {\n",
              "        for (const element of document.querySelectorAll('.filepath')) {\n",
              "          element.style.display = 'block'\n",
              "          element.onclick = (event) => {\n",
              "            event.preventDefault();\n",
              "            event.stopPropagation();\n",
              "            google.colab.files.view(element.textContent, 490);\n",
              "          };\n",
              "        }\n",
              "      }\n",
              "      for (const element of document.querySelectorAll('.function-repr-contents')) {\n",
              "        element.onclick = (event) => {\n",
              "          event.preventDefault();\n",
              "          event.stopPropagation();\n",
              "          element.classList.toggle('function-repr-contents-collapsed');\n",
              "        };\n",
              "      }\n",
              "      </script>\n",
              "      </div>"
            ]
          },
          "metadata": {},
          "execution_count": 140
        }
      ]
    },
    {
      "cell_type": "markdown",
      "metadata": {
        "id": "RscjixvpCZ7A"
      },
      "source": [
        "เซฟไฟล์ CSV จาก DataFrame"
      ]
    },
    {
      "cell_type": "code",
      "metadata": {
        "id": "YGdfLXeHCHng"
      },
      "source": [
        "df.to_csv(\"new_data.csv\")\n"
      ],
      "execution_count": null,
      "outputs": []
    },
    {
      "cell_type": "code",
      "source": [
        "df2 = pd.read_csv(\"products.csv\")\n",
        "df2"
      ],
      "metadata": {
        "colab": {
          "base_uri": "https://localhost:8080/",
          "height": 206
        },
        "id": "BE_q6gI2CFxh",
        "outputId": "d8da6170-9edf-473b-8bf9-31f964d01d58"
      },
      "execution_count": null,
      "outputs": [
        {
          "output_type": "execute_result",
          "data": {
            "text/plain": [
              "         date   item  price\n",
              "0  2020-02-07   Milk   26.5\n",
              "1  2020-02-08  Water    7.0\n",
              "2  2020-02-08   Mask   20.0\n",
              "3  2020-02-08   Lays   10.0\n",
              "4  2020-02-08   Rice    6.0"
            ],
            "text/html": [
              "\n",
              "  <div id=\"df-1c5ba86e-c6f8-4291-b3d2-e09061682d0c\" class=\"colab-df-container\">\n",
              "    <div>\n",
              "<style scoped>\n",
              "    .dataframe tbody tr th:only-of-type {\n",
              "        vertical-align: middle;\n",
              "    }\n",
              "\n",
              "    .dataframe tbody tr th {\n",
              "        vertical-align: top;\n",
              "    }\n",
              "\n",
              "    .dataframe thead th {\n",
              "        text-align: right;\n",
              "    }\n",
              "</style>\n",
              "<table border=\"1\" class=\"dataframe\">\n",
              "  <thead>\n",
              "    <tr style=\"text-align: right;\">\n",
              "      <th></th>\n",
              "      <th>date</th>\n",
              "      <th>item</th>\n",
              "      <th>price</th>\n",
              "    </tr>\n",
              "  </thead>\n",
              "  <tbody>\n",
              "    <tr>\n",
              "      <th>0</th>\n",
              "      <td>2020-02-07</td>\n",
              "      <td>Milk</td>\n",
              "      <td>26.5</td>\n",
              "    </tr>\n",
              "    <tr>\n",
              "      <th>1</th>\n",
              "      <td>2020-02-08</td>\n",
              "      <td>Water</td>\n",
              "      <td>7.0</td>\n",
              "    </tr>\n",
              "    <tr>\n",
              "      <th>2</th>\n",
              "      <td>2020-02-08</td>\n",
              "      <td>Mask</td>\n",
              "      <td>20.0</td>\n",
              "    </tr>\n",
              "    <tr>\n",
              "      <th>3</th>\n",
              "      <td>2020-02-08</td>\n",
              "      <td>Lays</td>\n",
              "      <td>10.0</td>\n",
              "    </tr>\n",
              "    <tr>\n",
              "      <th>4</th>\n",
              "      <td>2020-02-08</td>\n",
              "      <td>Rice</td>\n",
              "      <td>6.0</td>\n",
              "    </tr>\n",
              "  </tbody>\n",
              "</table>\n",
              "</div>\n",
              "    <div class=\"colab-df-buttons\">\n",
              "\n",
              "  <div class=\"colab-df-container\">\n",
              "    <button class=\"colab-df-convert\" onclick=\"convertToInteractive('df-1c5ba86e-c6f8-4291-b3d2-e09061682d0c')\"\n",
              "            title=\"Convert this dataframe to an interactive table.\"\n",
              "            style=\"display:none;\">\n",
              "\n",
              "  <svg xmlns=\"http://www.w3.org/2000/svg\" height=\"24px\" viewBox=\"0 -960 960 960\">\n",
              "    <path d=\"M120-120v-720h720v720H120Zm60-500h600v-160H180v160Zm220 220h160v-160H400v160Zm0 220h160v-160H400v160ZM180-400h160v-160H180v160Zm440 0h160v-160H620v160ZM180-180h160v-160H180v160Zm440 0h160v-160H620v160Z\"/>\n",
              "  </svg>\n",
              "    </button>\n",
              "\n",
              "  <style>\n",
              "    .colab-df-container {\n",
              "      display:flex;\n",
              "      gap: 12px;\n",
              "    }\n",
              "\n",
              "    .colab-df-convert {\n",
              "      background-color: #E8F0FE;\n",
              "      border: none;\n",
              "      border-radius: 50%;\n",
              "      cursor: pointer;\n",
              "      display: none;\n",
              "      fill: #1967D2;\n",
              "      height: 32px;\n",
              "      padding: 0 0 0 0;\n",
              "      width: 32px;\n",
              "    }\n",
              "\n",
              "    .colab-df-convert:hover {\n",
              "      background-color: #E2EBFA;\n",
              "      box-shadow: 0px 1px 2px rgba(60, 64, 67, 0.3), 0px 1px 3px 1px rgba(60, 64, 67, 0.15);\n",
              "      fill: #174EA6;\n",
              "    }\n",
              "\n",
              "    .colab-df-buttons div {\n",
              "      margin-bottom: 4px;\n",
              "    }\n",
              "\n",
              "    [theme=dark] .colab-df-convert {\n",
              "      background-color: #3B4455;\n",
              "      fill: #D2E3FC;\n",
              "    }\n",
              "\n",
              "    [theme=dark] .colab-df-convert:hover {\n",
              "      background-color: #434B5C;\n",
              "      box-shadow: 0px 1px 3px 1px rgba(0, 0, 0, 0.15);\n",
              "      filter: drop-shadow(0px 1px 2px rgba(0, 0, 0, 0.3));\n",
              "      fill: #FFFFFF;\n",
              "    }\n",
              "  </style>\n",
              "\n",
              "    <script>\n",
              "      const buttonEl =\n",
              "        document.querySelector('#df-1c5ba86e-c6f8-4291-b3d2-e09061682d0c button.colab-df-convert');\n",
              "      buttonEl.style.display =\n",
              "        google.colab.kernel.accessAllowed ? 'block' : 'none';\n",
              "\n",
              "      async function convertToInteractive(key) {\n",
              "        const element = document.querySelector('#df-1c5ba86e-c6f8-4291-b3d2-e09061682d0c');\n",
              "        const dataTable =\n",
              "          await google.colab.kernel.invokeFunction('convertToInteractive',\n",
              "                                                    [key], {});\n",
              "        if (!dataTable) return;\n",
              "\n",
              "        const docLinkHtml = 'Like what you see? Visit the ' +\n",
              "          '<a target=\"_blank\" href=https://colab.research.google.com/notebooks/data_table.ipynb>data table notebook</a>'\n",
              "          + ' to learn more about interactive tables.';\n",
              "        element.innerHTML = '';\n",
              "        dataTable['output_type'] = 'display_data';\n",
              "        await google.colab.output.renderOutput(dataTable, element);\n",
              "        const docLink = document.createElement('div');\n",
              "        docLink.innerHTML = docLinkHtml;\n",
              "        element.appendChild(docLink);\n",
              "      }\n",
              "    </script>\n",
              "  </div>\n",
              "\n",
              "\n",
              "<div id=\"df-deffde26-3ce8-41aa-8863-2f37bffa670b\">\n",
              "  <button class=\"colab-df-quickchart\" onclick=\"quickchart('df-deffde26-3ce8-41aa-8863-2f37bffa670b')\"\n",
              "            title=\"Suggest charts\"\n",
              "            style=\"display:none;\">\n",
              "\n",
              "<svg xmlns=\"http://www.w3.org/2000/svg\" height=\"24px\"viewBox=\"0 0 24 24\"\n",
              "     width=\"24px\">\n",
              "    <g>\n",
              "        <path d=\"M19 3H5c-1.1 0-2 .9-2 2v14c0 1.1.9 2 2 2h14c1.1 0 2-.9 2-2V5c0-1.1-.9-2-2-2zM9 17H7v-7h2v7zm4 0h-2V7h2v10zm4 0h-2v-4h2v4z\"/>\n",
              "    </g>\n",
              "</svg>\n",
              "  </button>\n",
              "\n",
              "<style>\n",
              "  .colab-df-quickchart {\n",
              "      --bg-color: #E8F0FE;\n",
              "      --fill-color: #1967D2;\n",
              "      --hover-bg-color: #E2EBFA;\n",
              "      --hover-fill-color: #174EA6;\n",
              "      --disabled-fill-color: #AAA;\n",
              "      --disabled-bg-color: #DDD;\n",
              "  }\n",
              "\n",
              "  [theme=dark] .colab-df-quickchart {\n",
              "      --bg-color: #3B4455;\n",
              "      --fill-color: #D2E3FC;\n",
              "      --hover-bg-color: #434B5C;\n",
              "      --hover-fill-color: #FFFFFF;\n",
              "      --disabled-bg-color: #3B4455;\n",
              "      --disabled-fill-color: #666;\n",
              "  }\n",
              "\n",
              "  .colab-df-quickchart {\n",
              "    background-color: var(--bg-color);\n",
              "    border: none;\n",
              "    border-radius: 50%;\n",
              "    cursor: pointer;\n",
              "    display: none;\n",
              "    fill: var(--fill-color);\n",
              "    height: 32px;\n",
              "    padding: 0;\n",
              "    width: 32px;\n",
              "  }\n",
              "\n",
              "  .colab-df-quickchart:hover {\n",
              "    background-color: var(--hover-bg-color);\n",
              "    box-shadow: 0 1px 2px rgba(60, 64, 67, 0.3), 0 1px 3px 1px rgba(60, 64, 67, 0.15);\n",
              "    fill: var(--button-hover-fill-color);\n",
              "  }\n",
              "\n",
              "  .colab-df-quickchart-complete:disabled,\n",
              "  .colab-df-quickchart-complete:disabled:hover {\n",
              "    background-color: var(--disabled-bg-color);\n",
              "    fill: var(--disabled-fill-color);\n",
              "    box-shadow: none;\n",
              "  }\n",
              "\n",
              "  .colab-df-spinner {\n",
              "    border: 2px solid var(--fill-color);\n",
              "    border-color: transparent;\n",
              "    border-bottom-color: var(--fill-color);\n",
              "    animation:\n",
              "      spin 1s steps(1) infinite;\n",
              "  }\n",
              "\n",
              "  @keyframes spin {\n",
              "    0% {\n",
              "      border-color: transparent;\n",
              "      border-bottom-color: var(--fill-color);\n",
              "      border-left-color: var(--fill-color);\n",
              "    }\n",
              "    20% {\n",
              "      border-color: transparent;\n",
              "      border-left-color: var(--fill-color);\n",
              "      border-top-color: var(--fill-color);\n",
              "    }\n",
              "    30% {\n",
              "      border-color: transparent;\n",
              "      border-left-color: var(--fill-color);\n",
              "      border-top-color: var(--fill-color);\n",
              "      border-right-color: var(--fill-color);\n",
              "    }\n",
              "    40% {\n",
              "      border-color: transparent;\n",
              "      border-right-color: var(--fill-color);\n",
              "      border-top-color: var(--fill-color);\n",
              "    }\n",
              "    60% {\n",
              "      border-color: transparent;\n",
              "      border-right-color: var(--fill-color);\n",
              "    }\n",
              "    80% {\n",
              "      border-color: transparent;\n",
              "      border-right-color: var(--fill-color);\n",
              "      border-bottom-color: var(--fill-color);\n",
              "    }\n",
              "    90% {\n",
              "      border-color: transparent;\n",
              "      border-bottom-color: var(--fill-color);\n",
              "    }\n",
              "  }\n",
              "</style>\n",
              "\n",
              "  <script>\n",
              "    async function quickchart(key) {\n",
              "      const quickchartButtonEl =\n",
              "        document.querySelector('#' + key + ' button');\n",
              "      quickchartButtonEl.disabled = true;  // To prevent multiple clicks.\n",
              "      quickchartButtonEl.classList.add('colab-df-spinner');\n",
              "      try {\n",
              "        const charts = await google.colab.kernel.invokeFunction(\n",
              "            'suggestCharts', [key], {});\n",
              "      } catch (error) {\n",
              "        console.error('Error during call to suggestCharts:', error);\n",
              "      }\n",
              "      quickchartButtonEl.classList.remove('colab-df-spinner');\n",
              "      quickchartButtonEl.classList.add('colab-df-quickchart-complete');\n",
              "    }\n",
              "    (() => {\n",
              "      let quickchartButtonEl =\n",
              "        document.querySelector('#df-deffde26-3ce8-41aa-8863-2f37bffa670b button');\n",
              "      quickchartButtonEl.style.display =\n",
              "        google.colab.kernel.accessAllowed ? 'block' : 'none';\n",
              "    })();\n",
              "  </script>\n",
              "</div>\n",
              "    </div>\n",
              "  </div>\n"
            ],
            "application/vnd.google.colaboratory.intrinsic+json": {
              "type": "dataframe",
              "variable_name": "df2",
              "summary": "{\n  \"name\": \"df2\",\n  \"rows\": 5,\n  \"fields\": [\n    {\n      \"column\": \"date\",\n      \"properties\": {\n        \"dtype\": \"object\",\n        \"num_unique_values\": 2,\n        \"samples\": [\n          \"2020-02-08\",\n          \"2020-02-07\"\n        ],\n        \"semantic_type\": \"\",\n        \"description\": \"\"\n      }\n    },\n    {\n      \"column\": \"item\",\n      \"properties\": {\n        \"dtype\": \"string\",\n        \"num_unique_values\": 5,\n        \"samples\": [\n          \"Water\",\n          \"Rice\"\n        ],\n        \"semantic_type\": \"\",\n        \"description\": \"\"\n      }\n    },\n    {\n      \"column\": \"price\",\n      \"properties\": {\n        \"dtype\": \"number\",\n        \"std\": 8.96102672688794,\n        \"min\": 6.0,\n        \"max\": 26.5,\n        \"num_unique_values\": 5,\n        \"samples\": [\n          7.0,\n          6.0\n        ],\n        \"semantic_type\": \"\",\n        \"description\": \"\"\n      }\n    }\n  ]\n}"
            }
          },
          "metadata": {},
          "execution_count": 142
        }
      ]
    },
    {
      "cell_type": "code",
      "source": [
        "df2.to_csv(\"products_copy.csv\")"
      ],
      "metadata": {
        "id": "NqDM62dFCOST"
      },
      "execution_count": null,
      "outputs": []
    },
    {
      "cell_type": "markdown",
      "metadata": {
        "id": "QO-awEUvwEEo"
      },
      "source": [
        "### JSON"
      ]
    },
    {
      "cell_type": "markdown",
      "metadata": {
        "id": "zLJProKfGJXj"
      },
      "source": [
        "JSON dump = export JSON"
      ]
    },
    {
      "cell_type": "code",
      "metadata": {
        "id": "fj5To2YCRStw",
        "colab": {
          "base_uri": "https://localhost:8080/"
        },
        "outputId": "ffea530a-3ca8-4f20-d20d-aab908045381"
      },
      "source": [
        "grade"
      ],
      "execution_count": null,
      "outputs": [
        {
          "output_type": "execute_result",
          "data": {
            "text/plain": [
              "{'A': 80, 'B': 70, 'C': 60, 'D': 50, 'B+': 75}"
            ]
          },
          "metadata": {},
          "execution_count": 144
        }
      ]
    },
    {
      "cell_type": "code",
      "source": [
        "type(grade)"
      ],
      "metadata": {
        "colab": {
          "base_uri": "https://localhost:8080/"
        },
        "id": "eNuH99tYCZzE",
        "outputId": "060fcede-2aae-4d8e-993e-1ff61affb0d1"
      },
      "execution_count": null,
      "outputs": [
        {
          "output_type": "execute_result",
          "data": {
            "text/plain": [
              "dict"
            ]
          },
          "metadata": {},
          "execution_count": 145
        }
      ]
    },
    {
      "cell_type": "code",
      "metadata": {
        "id": "1qwDmHNuv_lR",
        "colab": {
          "base_uri": "https://localhost:8080/",
          "height": 35
        },
        "outputId": "e0411ff3-ffb4-4976-93f3-60440129537e"
      },
      "source": [
        "import json\n",
        "json.dumps(grade)"
      ],
      "execution_count": null,
      "outputs": [
        {
          "output_type": "execute_result",
          "data": {
            "text/plain": [
              "'{\"A\": 80, \"B\": 70, \"C\": 60, \"D\": 50, \"B+\": 75}'"
            ],
            "application/vnd.google.colaboratory.intrinsic+json": {
              "type": "string"
            }
          },
          "metadata": {},
          "execution_count": 146
        }
      ]
    },
    {
      "cell_type": "code",
      "metadata": {
        "id": "b_HFy_oJRbee",
        "colab": {
          "base_uri": "https://localhost:8080/"
        },
        "outputId": "cc2d45d4-f121-49bc-94ff-359e48a4dca8"
      },
      "source": [
        "type(json.dumps(grade))"
      ],
      "execution_count": null,
      "outputs": [
        {
          "output_type": "execute_result",
          "data": {
            "text/plain": [
              "str"
            ]
          },
          "metadata": {},
          "execution_count": 147
        }
      ]
    },
    {
      "cell_type": "code",
      "metadata": {
        "id": "3VcEg89FwOdA"
      },
      "source": [
        "# Save to output file grade.json\n",
        "json.dump(grade, open(\"grade.json\", \"w\"))"
      ],
      "execution_count": null,
      "outputs": []
    },
    {
      "cell_type": "markdown",
      "metadata": {
        "id": "fcZ-ERRKGMwo"
      },
      "source": [
        "JSON load = import JSON"
      ]
    },
    {
      "cell_type": "code",
      "metadata": {
        "id": "DNe3gRwj6sKR",
        "colab": {
          "base_uri": "https://localhost:8080/"
        },
        "outputId": "0f45e6bb-3211-4043-adc8-3a468d4e8ed2"
      },
      "source": [
        "students = json.loads('{\"student1\": \"Perth\", \"student2\": \"Fon\"}')\n",
        "students"
      ],
      "execution_count": null,
      "outputs": [
        {
          "output_type": "execute_result",
          "data": {
            "text/plain": [
              "{'student1': 'Perth', 'student2': 'Fon'}"
            ]
          },
          "metadata": {},
          "execution_count": 149
        }
      ]
    },
    {
      "cell_type": "code",
      "metadata": {
        "id": "TaOV6cgQ7HWw",
        "colab": {
          "base_uri": "https://localhost:8080/"
        },
        "outputId": "82379dc3-6100-4e33-92ed-082c1b3152b8"
      },
      "source": [
        "type(students)"
      ],
      "execution_count": null,
      "outputs": [
        {
          "output_type": "execute_result",
          "data": {
            "text/plain": [
              "dict"
            ]
          },
          "metadata": {},
          "execution_count": 150
        }
      ]
    },
    {
      "cell_type": "code",
      "source": [
        "grade1 = json.load(open(\"grade.json\", \"r\"))"
      ],
      "metadata": {
        "id": "8zlMmA51CzDm"
      },
      "execution_count": null,
      "outputs": []
    },
    {
      "cell_type": "code",
      "source": [
        "grade1"
      ],
      "metadata": {
        "colab": {
          "base_uri": "https://localhost:8080/"
        },
        "id": "CDwr0dl1C7GZ",
        "outputId": "9a9571ba-7cbe-4546-9fb2-0d2e4fe709fd"
      },
      "execution_count": null,
      "outputs": [
        {
          "output_type": "execute_result",
          "data": {
            "text/plain": [
              "{'A': 80, 'B': 70, 'C': 60, 'D': 50, 'B+': 75}"
            ]
          },
          "metadata": {},
          "execution_count": 152
        }
      ]
    },
    {
      "cell_type": "code",
      "source": [
        "type(grade1)"
      ],
      "metadata": {
        "colab": {
          "base_uri": "https://localhost:8080/"
        },
        "id": "x2PnW5h_DE8S",
        "outputId": "f42dbfa3-0e3d-4957-85e9-2843f0d5fad9"
      },
      "execution_count": null,
      "outputs": [
        {
          "output_type": "execute_result",
          "data": {
            "text/plain": [
              "dict"
            ]
          },
          "metadata": {},
          "execution_count": 153
        }
      ]
    },
    {
      "cell_type": "markdown",
      "metadata": {
        "id": "AT131s4MZ-0X"
      },
      "source": [
        "# Tips"
      ]
    },
    {
      "cell_type": "markdown",
      "metadata": {
        "id": "oqPb-n-pLRqm"
      },
      "source": [
        "ข้อควรระหว่างสำหรับการแปลงค่าความจริง ด้วย bool()\n",
        "เพราะ bool จะแปลงค่าตัวแปรทุกตัวที่มีค่า เป็น True ทั้งหมด\n",
        "\n",
        "string \"False\" จริงมีค่าเป็น True เพราะ ไม่ใช่ String ว่าง"
      ]
    },
    {
      "cell_type": "code",
      "metadata": {
        "id": "v7JsDop7ZuIZ",
        "colab": {
          "base_uri": "https://localhost:8080/"
        },
        "outputId": "499cf6df-4c74-4bac-ce94-81c0b2182d55"
      },
      "source": [
        "bool(\"False\")"
      ],
      "execution_count": null,
      "outputs": [
        {
          "output_type": "execute_result",
          "data": {
            "text/plain": [
              "True"
            ]
          },
          "metadata": {},
          "execution_count": 154
        }
      ]
    },
    {
      "cell_type": "markdown",
      "metadata": {
        "id": "UFezcRb4Lr_K"
      },
      "source": [
        "การแปลงค่า Boolean ที่ถูกต้อง จึงแนะนำ built-in function `literal_eval` ใน package `ast` เพื่อแปลงค่าที่ถูกต้อง"
      ]
    },
    {
      "cell_type": "code",
      "metadata": {
        "id": "HeRzcQUZaBbz",
        "colab": {
          "base_uri": "https://localhost:8080/"
        },
        "outputId": "734bc2f4-b6a1-4c24-9ca0-5235c8147a6b"
      },
      "source": [
        "import ast\n",
        "ast.literal_eval(\"False\")"
      ],
      "execution_count": null,
      "outputs": [
        {
          "output_type": "execute_result",
          "data": {
            "text/plain": [
              "False"
            ]
          },
          "metadata": {},
          "execution_count": 155
        }
      ]
    },
    {
      "cell_type": "code",
      "source": [
        "ast.literal_eval(\"True\")"
      ],
      "metadata": {
        "colab": {
          "base_uri": "https://localhost:8080/"
        },
        "id": "NFOXdUEeDSb9",
        "outputId": "33c3f45a-1d02-4e38-c480-0c51065909c8"
      },
      "execution_count": null,
      "outputs": [
        {
          "output_type": "execute_result",
          "data": {
            "text/plain": [
              "True"
            ]
          },
          "metadata": {},
          "execution_count": 156
        }
      ]
    },
    {
      "cell_type": "code",
      "source": [
        "ast.literal_eval(\"None\")"
      ],
      "metadata": {
        "id": "gAkto4VfDT2M"
      },
      "execution_count": null,
      "outputs": []
    },
    {
      "cell_type": "code",
      "source": [
        "ast.literal_eval(\"333\")"
      ],
      "metadata": {
        "colab": {
          "base_uri": "https://localhost:8080/"
        },
        "id": "ccxRa7B6DVXd",
        "outputId": "c4496819-2749-4fa9-d530-7861623e294f"
      },
      "execution_count": null,
      "outputs": [
        {
          "output_type": "execute_result",
          "data": {
            "text/plain": [
              "333"
            ]
          },
          "metadata": {},
          "execution_count": 158
        }
      ]
    },
    {
      "cell_type": "markdown",
      "metadata": {
        "id": "Xhbfd7h2MEdh"
      },
      "source": [
        "Bonus: แนวคิดการออกแบบ ภาษา Python สามารถดูได้โดยการ `import this`"
      ]
    },
    {
      "cell_type": "code",
      "metadata": {
        "id": "HIUfvGnyblch",
        "colab": {
          "base_uri": "https://localhost:8080/"
        },
        "outputId": "15d50eec-ae61-4239-8230-43eff757b982"
      },
      "source": [
        "import this"
      ],
      "execution_count": null,
      "outputs": [
        {
          "output_type": "stream",
          "name": "stdout",
          "text": [
            "The Zen of Python, by Tim Peters\n",
            "\n",
            "Beautiful is better than ugly.\n",
            "Explicit is better than implicit.\n",
            "Simple is better than complex.\n",
            "Complex is better than complicated.\n",
            "Flat is better than nested.\n",
            "Sparse is better than dense.\n",
            "Readability counts.\n",
            "Special cases aren't special enough to break the rules.\n",
            "Although practicality beats purity.\n",
            "Errors should never pass silently.\n",
            "Unless explicitly silenced.\n",
            "In the face of ambiguity, refuse the temptation to guess.\n",
            "There should be one-- and preferably only one --obvious way to do it.\n",
            "Although that way may not be obvious at first unless you're Dutch.\n",
            "Now is better than never.\n",
            "Although never is often better than *right* now.\n",
            "If the implementation is hard to explain, it's a bad idea.\n",
            "If the implementation is easy to explain, it may be a good idea.\n",
            "Namespaces are one honking great idea -- let's do more of those!\n"
          ]
        }
      ]
    },
    {
      "cell_type": "markdown",
      "metadata": {
        "id": "325icnU0U-zj"
      },
      "source": [
        "# Connect to MySQL using PyMysql"
      ]
    },
    {
      "cell_type": "code",
      "source": [
        "import sqlalchemy"
      ],
      "metadata": {
        "id": "3NquYFmjDwrU"
      },
      "execution_count": null,
      "outputs": []
    },
    {
      "cell_type": "code",
      "metadata": {
        "id": "XI69DrmIUvV2",
        "colab": {
          "base_uri": "https://localhost:8080/"
        },
        "outputId": "2c4347af-2900-43b2-ee4b-90fa72e765c1"
      },
      "source": [
        "!pip install pymysql"
      ],
      "execution_count": null,
      "outputs": [
        {
          "output_type": "stream",
          "name": "stdout",
          "text": [
            "Collecting pymysql\n",
            "  Downloading PyMySQL-1.1.0-py3-none-any.whl (44 kB)\n",
            "\u001b[?25l     \u001b[90m━━━━━━━━━━━━━━━━━━━━━━━━━━━━━━━━━━━━━━━━\u001b[0m \u001b[32m0.0/44.8 kB\u001b[0m \u001b[31m?\u001b[0m eta \u001b[36m-:--:--\u001b[0m\r\u001b[2K     \u001b[90m━━━━━━━━━━━━━━━━━━━━━━━━━━━━━━━━━━━━━━━━\u001b[0m \u001b[32m44.8/44.8 kB\u001b[0m \u001b[31m2.1 MB/s\u001b[0m eta \u001b[36m0:00:00\u001b[0m\n",
            "\u001b[?25hInstalling collected packages: pymysql\n",
            "Successfully installed pymysql-1.1.0\n"
          ]
        }
      ]
    },
    {
      "cell_type": "markdown",
      "metadata": {
        "id": "U4Su6uewVv9w"
      },
      "source": [
        "Connect to Sample DB"
      ]
    },
    {
      "cell_type": "code",
      "metadata": {
        "id": "BpLkYzh_WFsr"
      },
      "source": [
        "class Config:\n",
        "  MYSQL_HOST = 'db4free.net'\n",
        "  MYSQL_PORT = 3306  # default port ของ MySQL คือ 3306\n",
        "  MYSQL_USER = 'datath'\n",
        "  MYSQL_PASSWORD = 'DataScience-chillchill'\n",
        "  MYSQL_DB = 'detraining'\n",
        "  MYSQL_CHARSET = 'utf8mb4'"
      ],
      "execution_count": null,
      "outputs": []
    },
    {
      "cell_type": "code",
      "metadata": {
        "id": "cgi4HP8dVypG"
      },
      "source": [
        "import pymysql.cursors\n",
        "import pandas as pd\n",
        "\n",
        "# Connect to the database\n",
        "connection = pymysql.connect(host=Config.MYSQL_HOST,\n",
        "                             port=Config.MYSQL_PORT,\n",
        "                             user=Config.MYSQL_USER,\n",
        "                             password=Config.MYSQL_PASSWORD,\n",
        "                             db=Config.MYSQL_DB,\n",
        "                             cursorclass=pymysql.cursors.DictCursor)"
      ],
      "execution_count": null,
      "outputs": []
    },
    {
      "cell_type": "code",
      "metadata": {
        "id": "6SjWev01Wg-_",
        "colab": {
          "base_uri": "https://localhost:8080/"
        },
        "outputId": "f318866a-f7e7-49a7-81eb-3cad9fa916de"
      },
      "source": [
        "# list all tables\n",
        "cursor = connection.cursor()\n",
        "cursor.execute(\"show tables;\")\n",
        "tables = cursor.fetchall()\n",
        "cursor.close()\n",
        "print(tables)"
      ],
      "execution_count": null,
      "outputs": [
        {
          "output_type": "stream",
          "name": "stdout",
          "text": [
            "[{'Tables_in_detraining': 'current_dept_emp'}, {'Tables_in_detraining': 'departments'}, {'Tables_in_detraining': 'dept_emp'}, {'Tables_in_detraining': 'dept_emp_latest_date'}, {'Tables_in_detraining': 'dept_manager'}, {'Tables_in_detraining': 'employees'}, {'Tables_in_detraining': 'online_retail'}, {'Tables_in_detraining': 'salaries'}, {'Tables_in_detraining': 'titles'}]\n"
          ]
        }
      ]
    },
    {
      "cell_type": "code",
      "metadata": {
        "id": "RBLRyhe_WOw-",
        "colab": {
          "base_uri": "https://localhost:8080/"
        },
        "outputId": "16adf89d-c995-4d4a-b9e1-2c860f3bfe9f"
      },
      "source": [
        "# Use with statement instead of cursor.close()\n",
        "with connection.cursor() as cursor:\n",
        "  # Read a single record\n",
        "  sql = \"SELECT * FROM online_retail limit 500;\"\n",
        "  cursor.execute(sql)\n",
        "  result = cursor.fetchall()\n",
        "\n",
        "print(result)"
      ],
      "execution_count": null,
      "outputs": [
        {
          "output_type": "stream",
          "name": "stdout",
          "text": [
            "[{'InvoiceNo': 536365, 'StockCode': '85123A', 'Description': 'WHITE HANGING HEART T-LIGHT HOLDER', 'Quantity': 6, 'InvoiceDate': '1/12/2018 08:26', 'UnitPrice': 2.55, 'CustomerID': 17850, 'Country': 'United Kingdom'}, {'InvoiceNo': 536365, 'StockCode': '71053', 'Description': 'WHITE METAL LANTERN', 'Quantity': 6, 'InvoiceDate': '1/12/2018 08:26', 'UnitPrice': 3.39, 'CustomerID': 17850, 'Country': 'United Kingdom'}, {'InvoiceNo': 536365, 'StockCode': '84406B', 'Description': 'CREAM CUPID HEARTS COAT HANGER', 'Quantity': 8, 'InvoiceDate': '1/12/2018 08:26', 'UnitPrice': 2.75, 'CustomerID': 17850, 'Country': 'United Kingdom'}, {'InvoiceNo': 536365, 'StockCode': '84029G', 'Description': 'KNITTED UNION FLAG HOT WATER BOTTLE', 'Quantity': 6, 'InvoiceDate': '1/12/2018 08:26', 'UnitPrice': 3.39, 'CustomerID': 17850, 'Country': 'United Kingdom'}, {'InvoiceNo': 536365, 'StockCode': '84029E', 'Description': 'RED WOOLLY HOTTIE WHITE HEART.', 'Quantity': 6, 'InvoiceDate': '1/12/2018 08:26', 'UnitPrice': 3.39, 'CustomerID': 17850, 'Country': 'United Kingdom'}, {'InvoiceNo': 536365, 'StockCode': '22752', 'Description': 'SET 7 BABUSHKA NESTING BOXES', 'Quantity': 2, 'InvoiceDate': '1/12/2018 08:26', 'UnitPrice': 7.65, 'CustomerID': 17850, 'Country': 'United Kingdom'}, {'InvoiceNo': 536365, 'StockCode': '21730', 'Description': 'GLASS STAR FROSTED T-LIGHT HOLDER', 'Quantity': 6, 'InvoiceDate': '1/12/2018 08:26', 'UnitPrice': 4.25, 'CustomerID': 17850, 'Country': 'United Kingdom'}, {'InvoiceNo': 536366, 'StockCode': '22633', 'Description': 'HAND WARMER UNION JACK', 'Quantity': 6, 'InvoiceDate': '1/12/2018 08:28', 'UnitPrice': 1.85, 'CustomerID': 17850, 'Country': 'United Kingdom'}, {'InvoiceNo': 536366, 'StockCode': '22632', 'Description': 'HAND WARMER RED POLKA DOT', 'Quantity': 6, 'InvoiceDate': '1/12/2018 08:28', 'UnitPrice': 1.85, 'CustomerID': 17850, 'Country': 'United Kingdom'}, {'InvoiceNo': 536367, 'StockCode': '84879', 'Description': 'ASSORTED COLOUR BIRD ORNAMENT', 'Quantity': 32, 'InvoiceDate': '1/12/2018 08:34', 'UnitPrice': 1.69, 'CustomerID': 13047, 'Country': 'United Kingdom'}, {'InvoiceNo': 536367, 'StockCode': '22745', 'Description': \"POPPY'S PLAYHOUSE BEDROOM \", 'Quantity': 6, 'InvoiceDate': '1/12/2018 08:34', 'UnitPrice': 2.1, 'CustomerID': 13047, 'Country': 'United Kingdom'}, {'InvoiceNo': 536367, 'StockCode': '22748', 'Description': \"POPPY'S PLAYHOUSE KITCHEN\", 'Quantity': 6, 'InvoiceDate': '1/12/2018 08:34', 'UnitPrice': 2.1, 'CustomerID': 13047, 'Country': 'United Kingdom'}, {'InvoiceNo': 536367, 'StockCode': '22749', 'Description': 'FELTCRAFT PRINCESS CHARLOTTE DOLL', 'Quantity': 8, 'InvoiceDate': '1/12/2018 08:34', 'UnitPrice': 3.75, 'CustomerID': 13047, 'Country': 'United Kingdom'}, {'InvoiceNo': 536367, 'StockCode': '22310', 'Description': 'IVORY KNITTED MUG COSY ', 'Quantity': 6, 'InvoiceDate': '1/12/2018 08:34', 'UnitPrice': 1.65, 'CustomerID': 13047, 'Country': 'United Kingdom'}, {'InvoiceNo': 536367, 'StockCode': '84969', 'Description': 'BOX OF 6 ASSORTED COLOUR TEASPOONS', 'Quantity': 6, 'InvoiceDate': '1/12/2018 08:34', 'UnitPrice': 4.25, 'CustomerID': 13047, 'Country': 'United Kingdom'}, {'InvoiceNo': 536367, 'StockCode': '22623', 'Description': 'BOX OF VINTAGE JIGSAW BLOCKS ', 'Quantity': 3, 'InvoiceDate': '1/12/2018 08:34', 'UnitPrice': 4.95, 'CustomerID': 13047, 'Country': 'United Kingdom'}, {'InvoiceNo': 536367, 'StockCode': '22622', 'Description': 'BOX OF VINTAGE ALPHABET BLOCKS', 'Quantity': 2, 'InvoiceDate': '1/12/2018 08:34', 'UnitPrice': 9.95, 'CustomerID': 13047, 'Country': 'United Kingdom'}, {'InvoiceNo': 536367, 'StockCode': '21754', 'Description': 'HOME BUILDING BLOCK WORD', 'Quantity': 3, 'InvoiceDate': '1/12/2018 08:34', 'UnitPrice': 5.95, 'CustomerID': 13047, 'Country': 'United Kingdom'}, {'InvoiceNo': 536367, 'StockCode': '21755', 'Description': 'LOVE BUILDING BLOCK WORD', 'Quantity': 3, 'InvoiceDate': '1/12/2018 08:34', 'UnitPrice': 5.95, 'CustomerID': 13047, 'Country': 'United Kingdom'}, {'InvoiceNo': 536367, 'StockCode': '21777', 'Description': 'RECIPE BOX WITH METAL HEART', 'Quantity': 4, 'InvoiceDate': '1/12/2018 08:34', 'UnitPrice': 7.95, 'CustomerID': 13047, 'Country': 'United Kingdom'}, {'InvoiceNo': 536367, 'StockCode': '48187', 'Description': 'DOORMAT NEW ENGLAND', 'Quantity': 4, 'InvoiceDate': '1/12/2018 08:34', 'UnitPrice': 7.95, 'CustomerID': 13047, 'Country': 'United Kingdom'}, {'InvoiceNo': 536368, 'StockCode': '22960', 'Description': 'JAM MAKING SET WITH JARS', 'Quantity': 6, 'InvoiceDate': '1/12/2018 08:34', 'UnitPrice': 4.25, 'CustomerID': 13047, 'Country': 'United Kingdom'}, {'InvoiceNo': 536368, 'StockCode': '22913', 'Description': 'RED COAT RACK PARIS FASHION', 'Quantity': 3, 'InvoiceDate': '1/12/2018 08:34', 'UnitPrice': 4.95, 'CustomerID': 13047, 'Country': 'United Kingdom'}, {'InvoiceNo': 536368, 'StockCode': '22912', 'Description': 'YELLOW COAT RACK PARIS FASHION', 'Quantity': 3, 'InvoiceDate': '1/12/2018 08:34', 'UnitPrice': 4.95, 'CustomerID': 13047, 'Country': 'United Kingdom'}, {'InvoiceNo': 536368, 'StockCode': '22914', 'Description': 'BLUE COAT RACK PARIS FASHION', 'Quantity': 3, 'InvoiceDate': '1/12/2018 08:34', 'UnitPrice': 4.95, 'CustomerID': 13047, 'Country': 'United Kingdom'}, {'InvoiceNo': 536369, 'StockCode': '21756', 'Description': 'BATH BUILDING BLOCK WORD', 'Quantity': 3, 'InvoiceDate': '1/12/2018 08:35', 'UnitPrice': 5.95, 'CustomerID': 13047, 'Country': 'United Kingdom'}, {'InvoiceNo': 536370, 'StockCode': '22728', 'Description': 'ALARM CLOCK BAKELIKE PINK', 'Quantity': 24, 'InvoiceDate': '1/12/2018 08:45', 'UnitPrice': 3.75, 'CustomerID': 12583, 'Country': 'France'}, {'InvoiceNo': 536370, 'StockCode': '22727', 'Description': 'ALARM CLOCK BAKELIKE RED ', 'Quantity': 24, 'InvoiceDate': '1/12/2018 08:45', 'UnitPrice': 3.75, 'CustomerID': 12583, 'Country': 'France'}, {'InvoiceNo': 536370, 'StockCode': '22726', 'Description': 'ALARM CLOCK BAKELIKE GREEN', 'Quantity': 12, 'InvoiceDate': '1/12/2018 08:45', 'UnitPrice': 3.75, 'CustomerID': 12583, 'Country': 'France'}, {'InvoiceNo': 536370, 'StockCode': '21724', 'Description': 'PANDA AND BUNNIES STICKER SHEET', 'Quantity': 12, 'InvoiceDate': '1/12/2018 08:45', 'UnitPrice': 0.85, 'CustomerID': 12583, 'Country': 'France'}, {'InvoiceNo': 536370, 'StockCode': '21883', 'Description': 'STARS GIFT TAPE ', 'Quantity': 24, 'InvoiceDate': '1/12/2018 08:45', 'UnitPrice': 0.65, 'CustomerID': 12583, 'Country': 'France'}, {'InvoiceNo': 536370, 'StockCode': '10002', 'Description': 'INFLATABLE POLITICAL GLOBE ', 'Quantity': 48, 'InvoiceDate': '1/12/2018 08:45', 'UnitPrice': 0.85, 'CustomerID': 12583, 'Country': 'France'}, {'InvoiceNo': 536370, 'StockCode': '21791', 'Description': 'VINTAGE HEADS AND TAILS CARD GAME ', 'Quantity': 24, 'InvoiceDate': '1/12/2018 08:45', 'UnitPrice': 1.25, 'CustomerID': 12583, 'Country': 'France'}, {'InvoiceNo': 536370, 'StockCode': '21035', 'Description': 'SET/2 RED RETROSPOT TEA TOWELS ', 'Quantity': 18, 'InvoiceDate': '1/12/2018 08:45', 'UnitPrice': 2.95, 'CustomerID': 12583, 'Country': 'France'}, {'InvoiceNo': 536370, 'StockCode': '22326', 'Description': 'ROUND SNACK BOXES SET OF4 WOODLAND ', 'Quantity': 24, 'InvoiceDate': '1/12/2018 08:45', 'UnitPrice': 2.95, 'CustomerID': 12583, 'Country': 'France'}, {'InvoiceNo': 536370, 'StockCode': '22629', 'Description': 'SPACEBOY LUNCH BOX ', 'Quantity': 24, 'InvoiceDate': '1/12/2018 08:45', 'UnitPrice': 1.95, 'CustomerID': 12583, 'Country': 'France'}, {'InvoiceNo': 536370, 'StockCode': '22659', 'Description': 'LUNCH BOX I LOVE LONDON', 'Quantity': 24, 'InvoiceDate': '1/12/2018 08:45', 'UnitPrice': 1.95, 'CustomerID': 12583, 'Country': 'France'}, {'InvoiceNo': 536370, 'StockCode': '22631', 'Description': 'CIRCUS PARADE LUNCH BOX ', 'Quantity': 24, 'InvoiceDate': '1/12/2018 08:45', 'UnitPrice': 1.95, 'CustomerID': 12583, 'Country': 'France'}, {'InvoiceNo': 536370, 'StockCode': '22661', 'Description': 'CHARLOTTE BAG DOLLY GIRL DESIGN', 'Quantity': 20, 'InvoiceDate': '1/12/2018 08:45', 'UnitPrice': 0.85, 'CustomerID': 12583, 'Country': 'France'}, {'InvoiceNo': 536370, 'StockCode': '21731', 'Description': 'RED TOADSTOOL LED NIGHT LIGHT', 'Quantity': 24, 'InvoiceDate': '1/12/2018 08:45', 'UnitPrice': 1.65, 'CustomerID': 12583, 'Country': 'France'}, {'InvoiceNo': 536370, 'StockCode': '22900', 'Description': ' SET 2 TEA TOWELS I LOVE LONDON ', 'Quantity': 24, 'InvoiceDate': '1/12/2018 08:45', 'UnitPrice': 2.95, 'CustomerID': 12583, 'Country': 'France'}, {'InvoiceNo': 536370, 'StockCode': '21913', 'Description': 'VINTAGE SEASIDE JIGSAW PUZZLES', 'Quantity': 12, 'InvoiceDate': '1/12/2018 08:45', 'UnitPrice': 3.75, 'CustomerID': 12583, 'Country': 'France'}, {'InvoiceNo': 536370, 'StockCode': '22540', 'Description': 'MINI JIGSAW CIRCUS PARADE ', 'Quantity': 24, 'InvoiceDate': '1/12/2018 08:45', 'UnitPrice': 0.42, 'CustomerID': 12583, 'Country': 'France'}, {'InvoiceNo': 536370, 'StockCode': '22544', 'Description': 'MINI JIGSAW SPACEBOY', 'Quantity': 24, 'InvoiceDate': '1/12/2018 08:45', 'UnitPrice': 0.42, 'CustomerID': 12583, 'Country': 'France'}, {'InvoiceNo': 536370, 'StockCode': '22492', 'Description': 'MINI PAINT SET VINTAGE ', 'Quantity': 36, 'InvoiceDate': '1/12/2018 08:45', 'UnitPrice': 0.65, 'CustomerID': 12583, 'Country': 'France'}, {'InvoiceNo': 536370, 'StockCode': 'POST', 'Description': 'POSTAGE', 'Quantity': 3, 'InvoiceDate': '1/12/2018 08:45', 'UnitPrice': 18.0, 'CustomerID': 12583, 'Country': 'France'}, {'InvoiceNo': 536371, 'StockCode': '22086', 'Description': \"PAPER CHAIN KIT 50'S CHRISTMAS \", 'Quantity': 80, 'InvoiceDate': '1/12/2018 09:00', 'UnitPrice': 2.55, 'CustomerID': 13748, 'Country': 'United Kingdom'}, {'InvoiceNo': 536372, 'StockCode': '22632', 'Description': 'HAND WARMER RED POLKA DOT', 'Quantity': 6, 'InvoiceDate': '1/12/2018 09:01', 'UnitPrice': 1.85, 'CustomerID': 17850, 'Country': 'United Kingdom'}, {'InvoiceNo': 536372, 'StockCode': '22633', 'Description': 'HAND WARMER UNION JACK', 'Quantity': 6, 'InvoiceDate': '1/12/2018 09:01', 'UnitPrice': 1.85, 'CustomerID': 17850, 'Country': 'United Kingdom'}, {'InvoiceNo': 536373, 'StockCode': '85123A', 'Description': 'WHITE HANGING HEART T-LIGHT HOLDER', 'Quantity': 6, 'InvoiceDate': '1/12/2018 09:02', 'UnitPrice': 2.55, 'CustomerID': 17850, 'Country': 'United Kingdom'}, {'InvoiceNo': 536373, 'StockCode': '71053', 'Description': 'WHITE METAL LANTERN', 'Quantity': 6, 'InvoiceDate': '1/12/2018 09:02', 'UnitPrice': 3.39, 'CustomerID': 17850, 'Country': 'United Kingdom'}, {'InvoiceNo': 536373, 'StockCode': '84406B', 'Description': 'CREAM CUPID HEARTS COAT HANGER', 'Quantity': 8, 'InvoiceDate': '1/12/2018 09:02', 'UnitPrice': 2.75, 'CustomerID': 17850, 'Country': 'United Kingdom'}, {'InvoiceNo': 536373, 'StockCode': '20679', 'Description': 'EDWARDIAN PARASOL RED', 'Quantity': 6, 'InvoiceDate': '1/12/2018 09:02', 'UnitPrice': 4.95, 'CustomerID': 17850, 'Country': 'United Kingdom'}, {'InvoiceNo': 536373, 'StockCode': '37370', 'Description': 'RETRO COFFEE MUGS ASSORTED', 'Quantity': 6, 'InvoiceDate': '1/12/2018 09:02', 'UnitPrice': 1.06, 'CustomerID': 17850, 'Country': 'United Kingdom'}, {'InvoiceNo': 536373, 'StockCode': '21871', 'Description': 'SAVE THE PLANET MUG', 'Quantity': 6, 'InvoiceDate': '1/12/2018 09:02', 'UnitPrice': 1.06, 'CustomerID': 17850, 'Country': 'United Kingdom'}, {'InvoiceNo': 536373, 'StockCode': '21071', 'Description': 'VINTAGE BILLBOARD DRINK ME MUG', 'Quantity': 6, 'InvoiceDate': '1/12/2018 09:02', 'UnitPrice': 1.06, 'CustomerID': 17850, 'Country': 'United Kingdom'}, {'InvoiceNo': 536373, 'StockCode': '21068', 'Description': 'VINTAGE BILLBOARD LOVE/HATE MUG', 'Quantity': 6, 'InvoiceDate': '1/12/2018 09:02', 'UnitPrice': 1.06, 'CustomerID': 17850, 'Country': 'United Kingdom'}, {'InvoiceNo': 536373, 'StockCode': '82483', 'Description': 'WOOD 2 DRAWER CABINET WHITE FINISH', 'Quantity': 2, 'InvoiceDate': '1/12/2018 09:02', 'UnitPrice': 4.95, 'CustomerID': 17850, 'Country': 'United Kingdom'}, {'InvoiceNo': 536373, 'StockCode': '82486', 'Description': 'WOOD S/3 CABINET ANT WHITE FINISH', 'Quantity': 4, 'InvoiceDate': '1/12/2018 09:02', 'UnitPrice': 6.95, 'CustomerID': 17850, 'Country': 'United Kingdom'}, {'InvoiceNo': 536373, 'StockCode': '82482', 'Description': 'WOODEN PICTURE FRAME WHITE FINISH', 'Quantity': 6, 'InvoiceDate': '1/12/2018 09:02', 'UnitPrice': 2.1, 'CustomerID': 17850, 'Country': 'United Kingdom'}, {'InvoiceNo': 536373, 'StockCode': '82494L', 'Description': 'WOODEN FRAME ANTIQUE WHITE ', 'Quantity': 6, 'InvoiceDate': '1/12/2018 09:02', 'UnitPrice': 2.55, 'CustomerID': 17850, 'Country': 'United Kingdom'}, {'InvoiceNo': 536373, 'StockCode': '84029G', 'Description': 'KNITTED UNION FLAG HOT WATER BOTTLE', 'Quantity': 6, 'InvoiceDate': '1/12/2018 09:02', 'UnitPrice': 3.39, 'CustomerID': 17850, 'Country': 'United Kingdom'}, {'InvoiceNo': 536373, 'StockCode': '84029E', 'Description': 'RED WOOLLY HOTTIE WHITE HEART.', 'Quantity': 6, 'InvoiceDate': '1/12/2018 09:02', 'UnitPrice': 3.39, 'CustomerID': 17850, 'Country': 'United Kingdom'}, {'InvoiceNo': 536373, 'StockCode': '22752', 'Description': 'SET 7 BABUSHKA NESTING BOXES', 'Quantity': 2, 'InvoiceDate': '1/12/2018 09:02', 'UnitPrice': 7.65, 'CustomerID': 17850, 'Country': 'United Kingdom'}, {'InvoiceNo': 536373, 'StockCode': '21730', 'Description': 'GLASS STAR FROSTED T-LIGHT HOLDER', 'Quantity': 6, 'InvoiceDate': '1/12/2018 09:02', 'UnitPrice': 4.25, 'CustomerID': 17850, 'Country': 'United Kingdom'}, {'InvoiceNo': 536374, 'StockCode': '21258', 'Description': 'VICTORIAN SEWING BOX LARGE', 'Quantity': 32, 'InvoiceDate': '1/12/2018 09:09', 'UnitPrice': 10.95, 'CustomerID': 15100, 'Country': 'United Kingdom'}, {'InvoiceNo': 536375, 'StockCode': '85123A', 'Description': 'WHITE HANGING HEART T-LIGHT HOLDER', 'Quantity': 6, 'InvoiceDate': '1/12/2018 09:32', 'UnitPrice': 2.55, 'CustomerID': 17850, 'Country': 'United Kingdom'}, {'InvoiceNo': 536375, 'StockCode': '71053', 'Description': 'WHITE METAL LANTERN', 'Quantity': 6, 'InvoiceDate': '1/12/2018 09:32', 'UnitPrice': 3.39, 'CustomerID': 17850, 'Country': 'United Kingdom'}, {'InvoiceNo': 536375, 'StockCode': '84406B', 'Description': 'CREAM CUPID HEARTS COAT HANGER', 'Quantity': 8, 'InvoiceDate': '1/12/2018 09:32', 'UnitPrice': 2.75, 'CustomerID': 17850, 'Country': 'United Kingdom'}, {'InvoiceNo': 536375, 'StockCode': '20679', 'Description': 'EDWARDIAN PARASOL RED', 'Quantity': 6, 'InvoiceDate': '1/12/2018 09:32', 'UnitPrice': 4.95, 'CustomerID': 17850, 'Country': 'United Kingdom'}, {'InvoiceNo': 536375, 'StockCode': '37370', 'Description': 'RETRO COFFEE MUGS ASSORTED', 'Quantity': 6, 'InvoiceDate': '1/12/2018 09:32', 'UnitPrice': 1.06, 'CustomerID': 17850, 'Country': 'United Kingdom'}, {'InvoiceNo': 536375, 'StockCode': '21871', 'Description': 'SAVE THE PLANET MUG', 'Quantity': 6, 'InvoiceDate': '1/12/2018 09:32', 'UnitPrice': 1.06, 'CustomerID': 17850, 'Country': 'United Kingdom'}, {'InvoiceNo': 536375, 'StockCode': '21071', 'Description': 'VINTAGE BILLBOARD DRINK ME MUG', 'Quantity': 6, 'InvoiceDate': '1/12/2018 09:32', 'UnitPrice': 1.06, 'CustomerID': 17850, 'Country': 'United Kingdom'}, {'InvoiceNo': 536375, 'StockCode': '21068', 'Description': 'VINTAGE BILLBOARD LOVE/HATE MUG', 'Quantity': 6, 'InvoiceDate': '1/12/2018 09:32', 'UnitPrice': 1.06, 'CustomerID': 17850, 'Country': 'United Kingdom'}, {'InvoiceNo': 536375, 'StockCode': '82483', 'Description': 'WOOD 2 DRAWER CABINET WHITE FINISH', 'Quantity': 2, 'InvoiceDate': '1/12/2018 09:32', 'UnitPrice': 4.95, 'CustomerID': 17850, 'Country': 'United Kingdom'}, {'InvoiceNo': 536375, 'StockCode': '82486', 'Description': 'WOOD S/3 CABINET ANT WHITE FINISH', 'Quantity': 4, 'InvoiceDate': '1/12/2018 09:32', 'UnitPrice': 6.95, 'CustomerID': 17850, 'Country': 'United Kingdom'}, {'InvoiceNo': 536375, 'StockCode': '82482', 'Description': 'WOODEN PICTURE FRAME WHITE FINISH', 'Quantity': 6, 'InvoiceDate': '1/12/2018 09:32', 'UnitPrice': 2.1, 'CustomerID': 17850, 'Country': 'United Kingdom'}, {'InvoiceNo': 536375, 'StockCode': '82494L', 'Description': 'WOODEN FRAME ANTIQUE WHITE ', 'Quantity': 6, 'InvoiceDate': '1/12/2018 09:32', 'UnitPrice': 2.55, 'CustomerID': 17850, 'Country': 'United Kingdom'}, {'InvoiceNo': 536375, 'StockCode': '84029G', 'Description': 'KNITTED UNION FLAG HOT WATER BOTTLE', 'Quantity': 6, 'InvoiceDate': '1/12/2018 09:32', 'UnitPrice': 3.39, 'CustomerID': 17850, 'Country': 'United Kingdom'}, {'InvoiceNo': 536375, 'StockCode': '84029E', 'Description': 'RED WOOLLY HOTTIE WHITE HEART.', 'Quantity': 6, 'InvoiceDate': '1/12/2018 09:32', 'UnitPrice': 3.39, 'CustomerID': 17850, 'Country': 'United Kingdom'}, {'InvoiceNo': 536375, 'StockCode': '22752', 'Description': 'SET 7 BABUSHKA NESTING BOXES', 'Quantity': 2, 'InvoiceDate': '1/12/2018 09:32', 'UnitPrice': 7.65, 'CustomerID': 17850, 'Country': 'United Kingdom'}, {'InvoiceNo': 536375, 'StockCode': '21730', 'Description': 'GLASS STAR FROSTED T-LIGHT HOLDER', 'Quantity': 6, 'InvoiceDate': '1/12/2018 09:32', 'UnitPrice': 4.25, 'CustomerID': 17850, 'Country': 'United Kingdom'}, {'InvoiceNo': 536376, 'StockCode': '22114', 'Description': 'HOT WATER BOTTLE TEA AND SYMPATHY', 'Quantity': 48, 'InvoiceDate': '1/12/2018 09:32', 'UnitPrice': 3.45, 'CustomerID': 15291, 'Country': 'United Kingdom'}, {'InvoiceNo': 536376, 'StockCode': '21733', 'Description': 'RED HANGING HEART T-LIGHT HOLDER', 'Quantity': 64, 'InvoiceDate': '1/12/2018 09:32', 'UnitPrice': 2.55, 'CustomerID': 15291, 'Country': 'United Kingdom'}, {'InvoiceNo': 536377, 'StockCode': '22632', 'Description': 'HAND WARMER RED POLKA DOT', 'Quantity': 6, 'InvoiceDate': '1/12/2018 09:34', 'UnitPrice': 1.85, 'CustomerID': 17850, 'Country': 'United Kingdom'}, {'InvoiceNo': 536377, 'StockCode': '22633', 'Description': 'HAND WARMER UNION JACK', 'Quantity': 6, 'InvoiceDate': '1/12/2018 09:34', 'UnitPrice': 1.85, 'CustomerID': 17850, 'Country': 'United Kingdom'}, {'InvoiceNo': 536378, 'StockCode': '22386', 'Description': 'JUMBO BAG PINK POLKADOT', 'Quantity': 10, 'InvoiceDate': '1/12/2018 09:37', 'UnitPrice': 1.95, 'CustomerID': 14688, 'Country': 'United Kingdom'}, {'InvoiceNo': 536378, 'StockCode': '85099C', 'Description': 'JUMBO  BAG BAROQUE BLACK WHITE', 'Quantity': 10, 'InvoiceDate': '1/12/2018 09:37', 'UnitPrice': 1.95, 'CustomerID': 14688, 'Country': 'United Kingdom'}, {'InvoiceNo': 536378, 'StockCode': '21033', 'Description': 'JUMBO BAG CHARLIE AND LOLA TOYS', 'Quantity': 10, 'InvoiceDate': '1/12/2018 09:37', 'UnitPrice': 2.95, 'CustomerID': 14688, 'Country': 'United Kingdom'}, {'InvoiceNo': 536378, 'StockCode': '20723', 'Description': 'STRAWBERRY CHARLOTTE BAG', 'Quantity': 10, 'InvoiceDate': '1/12/2018 09:37', 'UnitPrice': 0.85, 'CustomerID': 14688, 'Country': 'United Kingdom'}, {'InvoiceNo': 536378, 'StockCode': '84997B', 'Description': 'RED 3 PIECE RETROSPOT CUTLERY SET', 'Quantity': 12, 'InvoiceDate': '1/12/2018 09:37', 'UnitPrice': 3.75, 'CustomerID': 14688, 'Country': 'United Kingdom'}, {'InvoiceNo': 536378, 'StockCode': '84997C', 'Description': 'BLUE 3 PIECE POLKADOT CUTLERY SET', 'Quantity': 6, 'InvoiceDate': '1/12/2018 09:37', 'UnitPrice': 3.75, 'CustomerID': 14688, 'Country': 'United Kingdom'}, {'InvoiceNo': 536378, 'StockCode': '21094', 'Description': 'SET/6 RED SPOTTY PAPER PLATES', 'Quantity': 12, 'InvoiceDate': '1/12/2018 09:37', 'UnitPrice': 0.85, 'CustomerID': 14688, 'Country': 'United Kingdom'}, {'InvoiceNo': 536378, 'StockCode': '20725', 'Description': 'LUNCH BAG RED RETROSPOT', 'Quantity': 10, 'InvoiceDate': '1/12/2018 09:37', 'UnitPrice': 1.65, 'CustomerID': 14688, 'Country': 'United Kingdom'}, {'InvoiceNo': 536378, 'StockCode': '21559', 'Description': 'STRAWBERRY LUNCH BOX WITH CUTLERY', 'Quantity': 6, 'InvoiceDate': '1/12/2018 09:37', 'UnitPrice': 2.55, 'CustomerID': 14688, 'Country': 'United Kingdom'}, {'InvoiceNo': 536378, 'StockCode': '22352', 'Description': 'LUNCH BOX WITH CUTLERY RETROSPOT ', 'Quantity': 6, 'InvoiceDate': '1/12/2018 09:37', 'UnitPrice': 2.55, 'CustomerID': 14688, 'Country': 'United Kingdom'}, {'InvoiceNo': 536378, 'StockCode': '21212', 'Description': 'PACK OF 72 RETROSPOT CAKE CASES', 'Quantity': 120, 'InvoiceDate': '1/12/2018 09:37', 'UnitPrice': 0.42, 'CustomerID': 14688, 'Country': 'United Kingdom'}, {'InvoiceNo': 536378, 'StockCode': '21975', 'Description': 'PACK OF 60 DINOSAUR CAKE CASES', 'Quantity': 24, 'InvoiceDate': '1/12/2018 09:37', 'UnitPrice': 0.55, 'CustomerID': 14688, 'Country': 'United Kingdom'}, {'InvoiceNo': 536378, 'StockCode': '21977', 'Description': 'PACK OF 60 PINK PAISLEY CAKE CASES', 'Quantity': 24, 'InvoiceDate': '1/12/2018 09:37', 'UnitPrice': 0.55, 'CustomerID': 14688, 'Country': 'United Kingdom'}, {'InvoiceNo': 536378, 'StockCode': '84991', 'Description': '60 TEATIME FAIRY CAKE CASES', 'Quantity': 24, 'InvoiceDate': '1/12/2018 09:37', 'UnitPrice': 0.55, 'CustomerID': 14688, 'Country': 'United Kingdom'}, {'InvoiceNo': 536378, 'StockCode': '84519A', 'Description': 'TOMATO CHARLIE+LOLA COASTER SET', 'Quantity': 6, 'InvoiceDate': '1/12/2018 09:37', 'UnitPrice': 2.95, 'CustomerID': 14688, 'Country': 'United Kingdom'}, {'InvoiceNo': 536378, 'StockCode': '85183B', 'Description': 'CHARLIE & LOLA WASTEPAPER BIN FLORA', 'Quantity': 48, 'InvoiceDate': '1/12/2018 09:37', 'UnitPrice': 1.25, 'CustomerID': 14688, 'Country': 'United Kingdom'}, {'InvoiceNo': 536378, 'StockCode': '85071B', 'Description': 'RED CHARLIE+LOLA PERSONAL DOORSIGN', 'Quantity': 96, 'InvoiceDate': '1/12/2018 09:37', 'UnitPrice': 0.38, 'CustomerID': 14688, 'Country': 'United Kingdom'}, {'InvoiceNo': 536378, 'StockCode': '21931', 'Description': 'JUMBO STORAGE BAG SUKI', 'Quantity': 10, 'InvoiceDate': '1/12/2018 09:37', 'UnitPrice': 1.95, 'CustomerID': 14688, 'Country': 'United Kingdom'}, {'InvoiceNo': 536378, 'StockCode': '21929', 'Description': 'JUMBO BAG PINK VINTAGE PAISLEY', 'Quantity': 10, 'InvoiceDate': '1/12/2018 09:37', 'UnitPrice': 1.95, 'CustomerID': 14688, 'Country': 'United Kingdom'}, {'InvoiceNo': 536380, 'StockCode': '22961', 'Description': 'JAM MAKING SET PRINTED', 'Quantity': 24, 'InvoiceDate': '1/12/2018 09:41', 'UnitPrice': 1.45, 'CustomerID': 17809, 'Country': 'United Kingdom'}, {'InvoiceNo': 536381, 'StockCode': '22139', 'Description': 'RETROSPOT TEA SET CERAMIC 11 PC ', 'Quantity': 23, 'InvoiceDate': '1/12/2018 09:41', 'UnitPrice': 4.25, 'CustomerID': 15311, 'Country': 'United Kingdom'}, {'InvoiceNo': 536381, 'StockCode': '84854', 'Description': 'GIRLY PINK TOOL SET', 'Quantity': 5, 'InvoiceDate': '1/12/2018 09:41', 'UnitPrice': 4.95, 'CustomerID': 15311, 'Country': 'United Kingdom'}, {'InvoiceNo': 536381, 'StockCode': '22411', 'Description': 'JUMBO SHOPPER VINTAGE RED PAISLEY', 'Quantity': 10, 'InvoiceDate': '1/12/2018 09:41', 'UnitPrice': 1.95, 'CustomerID': 15311, 'Country': 'United Kingdom'}, {'InvoiceNo': 536381, 'StockCode': '82567', 'Description': 'AIRLINE LOUNGE,METAL SIGN', 'Quantity': 2, 'InvoiceDate': '1/12/2018 09:41', 'UnitPrice': 2.1, 'CustomerID': 15311, 'Country': 'United Kingdom'}, {'InvoiceNo': 536381, 'StockCode': '21672', 'Description': 'WHITE SPOT RED CERAMIC DRAWER KNOB', 'Quantity': 6, 'InvoiceDate': '1/12/2018 09:41', 'UnitPrice': 1.25, 'CustomerID': 15311, 'Country': 'United Kingdom'}, {'InvoiceNo': 536381, 'StockCode': '22774', 'Description': 'RED DRAWER KNOB ACRYLIC EDWARDIAN', 'Quantity': 24, 'InvoiceDate': '1/12/2018 09:41', 'UnitPrice': 1.25, 'CustomerID': 15311, 'Country': 'United Kingdom'}, {'InvoiceNo': 536381, 'StockCode': '22771', 'Description': 'CLEAR DRAWER KNOB ACRYLIC EDWARDIAN', 'Quantity': 24, 'InvoiceDate': '1/12/2018 09:41', 'UnitPrice': 1.25, 'CustomerID': 15311, 'Country': 'United Kingdom'}, {'InvoiceNo': 536381, 'StockCode': '71270', 'Description': 'PHOTO CLIP LINE', 'Quantity': 1, 'InvoiceDate': '1/12/2018 09:41', 'UnitPrice': 1.25, 'CustomerID': 15311, 'Country': 'United Kingdom'}, {'InvoiceNo': 536381, 'StockCode': '22262', 'Description': 'FELT EGG COSY CHICKEN', 'Quantity': 1, 'InvoiceDate': '1/12/2018 09:41', 'UnitPrice': 0.85, 'CustomerID': 15311, 'Country': 'United Kingdom'}, {'InvoiceNo': 536381, 'StockCode': '22637', 'Description': 'PIGGY BANK RETROSPOT ', 'Quantity': 1, 'InvoiceDate': '1/12/2018 09:41', 'UnitPrice': 2.55, 'CustomerID': 15311, 'Country': 'United Kingdom'}, {'InvoiceNo': 536381, 'StockCode': '21934', 'Description': 'SKULL SHOULDER BAG', 'Quantity': 10, 'InvoiceDate': '1/12/2018 09:41', 'UnitPrice': 1.65, 'CustomerID': 15311, 'Country': 'United Kingdom'}, {'InvoiceNo': 536381, 'StockCode': '21169', 'Description': \"YOU'RE CONFUSING ME METAL SIGN \", 'Quantity': 3, 'InvoiceDate': '1/12/2018 09:41', 'UnitPrice': 1.69, 'CustomerID': 15311, 'Country': 'United Kingdom'}, {'InvoiceNo': 536381, 'StockCode': '21166', 'Description': 'COOK WITH WINE METAL SIGN ', 'Quantity': 1, 'InvoiceDate': '1/12/2018 09:41', 'UnitPrice': 1.95, 'CustomerID': 15311, 'Country': 'United Kingdom'}, {'InvoiceNo': 536381, 'StockCode': '21175', 'Description': 'GIN + TONIC DIET METAL SIGN', 'Quantity': 2, 'InvoiceDate': '1/12/2018 09:41', 'UnitPrice': 2.1, 'CustomerID': 15311, 'Country': 'United Kingdom'}, {'InvoiceNo': 536381, 'StockCode': '37444A', 'Description': 'YELLOW BREAKFAST CUP AND SAUCER', 'Quantity': 1, 'InvoiceDate': '1/12/2018 09:41', 'UnitPrice': 2.95, 'CustomerID': 15311, 'Country': 'United Kingdom'}, {'InvoiceNo': 536381, 'StockCode': '37444C', 'Description': 'PINK BREAKFAST CUP AND SAUCER ', 'Quantity': 1, 'InvoiceDate': '1/12/2018 09:41', 'UnitPrice': 2.95, 'CustomerID': 15311, 'Country': 'United Kingdom'}, {'InvoiceNo': 536381, 'StockCode': '22086', 'Description': \"PAPER CHAIN KIT 50'S CHRISTMAS \", 'Quantity': 4, 'InvoiceDate': '1/12/2018 09:41', 'UnitPrice': 2.95, 'CustomerID': 15311, 'Country': 'United Kingdom'}, {'InvoiceNo': 536381, 'StockCode': '22083', 'Description': 'PAPER CHAIN KIT RETROSPOT', 'Quantity': 1, 'InvoiceDate': '1/12/2018 09:41', 'UnitPrice': 2.95, 'CustomerID': 15311, 'Country': 'United Kingdom'}, {'InvoiceNo': 536381, 'StockCode': '84971S', 'Description': 'SMALL HEART FLOWERS HOOK ', 'Quantity': 6, 'InvoiceDate': '1/12/2018 09:41', 'UnitPrice': 0.85, 'CustomerID': 15311, 'Country': 'United Kingdom'}, {'InvoiceNo': 536381, 'StockCode': '71270', 'Description': 'PHOTO CLIP LINE', 'Quantity': 3, 'InvoiceDate': '1/12/2018 09:41', 'UnitPrice': 1.25, 'CustomerID': 15311, 'Country': 'United Kingdom'}, {'InvoiceNo': 536381, 'StockCode': '47580', 'Description': 'TEA TIME DES TEA COSY', 'Quantity': 2, 'InvoiceDate': '1/12/2018 09:41', 'UnitPrice': 2.55, 'CustomerID': 15311, 'Country': 'United Kingdom'}, {'InvoiceNo': 536381, 'StockCode': '22261', 'Description': 'FELT EGG COSY WHITE RABBIT ', 'Quantity': 1, 'InvoiceDate': '1/12/2018 09:41', 'UnitPrice': 0.85, 'CustomerID': 15311, 'Country': 'United Kingdom'}, {'InvoiceNo': 536381, 'StockCode': '84832', 'Description': 'ZINC WILLIE WINKIE  CANDLE STICK', 'Quantity': 1, 'InvoiceDate': '1/12/2018 09:41', 'UnitPrice': 0.85, 'CustomerID': 15311, 'Country': 'United Kingdom'}, {'InvoiceNo': 536381, 'StockCode': '22644', 'Description': 'CERAMIC CHERRY CAKE MONEY BANK', 'Quantity': 1, 'InvoiceDate': '1/12/2018 09:41', 'UnitPrice': 1.45, 'CustomerID': 15311, 'Country': 'United Kingdom'}, {'InvoiceNo': 536381, 'StockCode': '21533', 'Description': 'RETROSPOT LARGE MILK JUG', 'Quantity': 1, 'InvoiceDate': '1/12/2018 09:41', 'UnitPrice': 4.95, 'CustomerID': 15311, 'Country': 'United Kingdom'}, {'InvoiceNo': 536381, 'StockCode': '21557', 'Description': 'SET OF 6 FUNKY BEAKERS', 'Quantity': 2, 'InvoiceDate': '1/12/2018 09:41', 'UnitPrice': 2.95, 'CustomerID': 15311, 'Country': 'United Kingdom'}, {'InvoiceNo': 536381, 'StockCode': '15056BL', 'Description': 'EDWARDIAN PARASOL BLACK', 'Quantity': 2, 'InvoiceDate': '1/12/2018 09:41', 'UnitPrice': 5.95, 'CustomerID': 15311, 'Country': 'United Kingdom'}, {'InvoiceNo': 536381, 'StockCode': '15056N', 'Description': 'EDWARDIAN PARASOL NATURAL', 'Quantity': 2, 'InvoiceDate': '1/12/2018 09:41', 'UnitPrice': 5.95, 'CustomerID': 15311, 'Country': 'United Kingdom'}, {'InvoiceNo': 536381, 'StockCode': '22646', 'Description': 'CERAMIC STRAWBERRY CAKE MONEY BANK', 'Quantity': 4, 'InvoiceDate': '1/12/2018 09:41', 'UnitPrice': 1.45, 'CustomerID': 15311, 'Country': 'United Kingdom'}, {'InvoiceNo': 536381, 'StockCode': '22176', 'Description': 'BLUE OWL SOFT TOY', 'Quantity': 1, 'InvoiceDate': '1/12/2018 09:41', 'UnitPrice': 2.95, 'CustomerID': 15311, 'Country': 'United Kingdom'}, {'InvoiceNo': 536381, 'StockCode': '22438', 'Description': 'BALLOON ART MAKE YOUR OWN FLOWERS', 'Quantity': 1, 'InvoiceDate': '1/12/2018 09:41', 'UnitPrice': 1.95, 'CustomerID': 15311, 'Country': 'United Kingdom'}, {'InvoiceNo': 536381, 'StockCode': '21731', 'Description': 'RED TOADSTOOL LED NIGHT LIGHT', 'Quantity': 2, 'InvoiceDate': '1/12/2018 09:41', 'UnitPrice': 1.65, 'CustomerID': 15311, 'Country': 'United Kingdom'}, {'InvoiceNo': 536381, 'StockCode': '22778', 'Description': 'GLASS CLOCHE SMALL', 'Quantity': 3, 'InvoiceDate': '1/12/2018 09:41', 'UnitPrice': 3.95, 'CustomerID': 15311, 'Country': 'United Kingdom'}, {'InvoiceNo': 536381, 'StockCode': '22719', 'Description': 'GUMBALL MONOCHROME COAT RACK', 'Quantity': 36, 'InvoiceDate': '1/12/2018 09:41', 'UnitPrice': 1.06, 'CustomerID': 15311, 'Country': 'United Kingdom'}, {'InvoiceNo': 536381, 'StockCode': '21523', 'Description': 'DOORMAT FANCY FONT HOME SWEET HOME', 'Quantity': 10, 'InvoiceDate': '1/12/2018 09:41', 'UnitPrice': 6.75, 'CustomerID': 15311, 'Country': 'United Kingdom'}, {'InvoiceNo': 536382, 'StockCode': '10002', 'Description': 'INFLATABLE POLITICAL GLOBE ', 'Quantity': 12, 'InvoiceDate': '1/12/2018 09:45', 'UnitPrice': 0.85, 'CustomerID': 16098, 'Country': 'United Kingdom'}, {'InvoiceNo': 536382, 'StockCode': '21912', 'Description': 'VINTAGE SNAKES & LADDERS', 'Quantity': 8, 'InvoiceDate': '1/12/2018 09:45', 'UnitPrice': 3.75, 'CustomerID': 16098, 'Country': 'United Kingdom'}, {'InvoiceNo': 536382, 'StockCode': '21832', 'Description': 'CHOCOLATE CALCULATOR', 'Quantity': 12, 'InvoiceDate': '1/12/2018 09:45', 'UnitPrice': 1.65, 'CustomerID': 16098, 'Country': 'United Kingdom'}, {'InvoiceNo': 536382, 'StockCode': '22411', 'Description': 'JUMBO SHOPPER VINTAGE RED PAISLEY', 'Quantity': 10, 'InvoiceDate': '1/12/2018 09:45', 'UnitPrice': 1.95, 'CustomerID': 16098, 'Country': 'United Kingdom'}, {'InvoiceNo': 536382, 'StockCode': '22379', 'Description': 'RECYCLING BAG RETROSPOT ', 'Quantity': 10, 'InvoiceDate': '1/12/2018 09:45', 'UnitPrice': 2.1, 'CustomerID': 16098, 'Country': 'United Kingdom'}, {'InvoiceNo': 536382, 'StockCode': '22381', 'Description': 'TOY TIDY PINK POLKADOT', 'Quantity': 50, 'InvoiceDate': '1/12/2018 09:45', 'UnitPrice': 1.85, 'CustomerID': 16098, 'Country': 'United Kingdom'}, {'InvoiceNo': 536382, 'StockCode': '22798', 'Description': 'ANTIQUE GLASS DRESSING TABLE POT', 'Quantity': 8, 'InvoiceDate': '1/12/2018 09:45', 'UnitPrice': 2.95, 'CustomerID': 16098, 'Country': 'United Kingdom'}, {'InvoiceNo': 536382, 'StockCode': '22726', 'Description': 'ALARM CLOCK BAKELIKE GREEN', 'Quantity': 4, 'InvoiceDate': '1/12/2018 09:45', 'UnitPrice': 3.75, 'CustomerID': 16098, 'Country': 'United Kingdom'}, {'InvoiceNo': 536382, 'StockCode': '22926', 'Description': 'IVORY GIANT GARDEN THERMOMETER', 'Quantity': 12, 'InvoiceDate': '1/12/2018 09:45', 'UnitPrice': 5.95, 'CustomerID': 16098, 'Country': 'United Kingdom'}, {'InvoiceNo': 536382, 'StockCode': '22839', 'Description': '3 TIER CAKE TIN GREEN AND CREAM', 'Quantity': 2, 'InvoiceDate': '1/12/2018 09:45', 'UnitPrice': 14.95, 'CustomerID': 16098, 'Country': 'United Kingdom'}, {'InvoiceNo': 536382, 'StockCode': '22838', 'Description': '3 TIER CAKE TIN RED AND CREAM', 'Quantity': 2, 'InvoiceDate': '1/12/2018 09:45', 'UnitPrice': 14.95, 'CustomerID': 16098, 'Country': 'United Kingdom'}, {'InvoiceNo': 536382, 'StockCode': '22783', 'Description': 'SET 3 WICKER OVAL BASKETS W LIDS', 'Quantity': 4, 'InvoiceDate': '1/12/2018 09:45', 'UnitPrice': 16.95, 'CustomerID': 16098, 'Country': 'United Kingdom'}, {'InvoiceNo': 536384, 'StockCode': '82484', 'Description': 'WOOD BLACK BOARD ANT WHITE FINISH', 'Quantity': 3, 'InvoiceDate': '1/12/2018 09:53', 'UnitPrice': 6.45, 'CustomerID': 18074, 'Country': 'United Kingdom'}, {'InvoiceNo': 536384, 'StockCode': '84755', 'Description': 'COLOUR GLASS T-LIGHT HOLDER HANGING', 'Quantity': 48, 'InvoiceDate': '1/12/2018 09:53', 'UnitPrice': 0.65, 'CustomerID': 18074, 'Country': 'United Kingdom'}, {'InvoiceNo': 536384, 'StockCode': '22464', 'Description': 'HANGING METAL HEART LANTERN', 'Quantity': 12, 'InvoiceDate': '1/12/2018 09:53', 'UnitPrice': 1.65, 'CustomerID': 18074, 'Country': 'United Kingdom'}, {'InvoiceNo': 536384, 'StockCode': '21324', 'Description': 'HANGING MEDINA LANTERN SMALL', 'Quantity': 6, 'InvoiceDate': '1/12/2018 09:53', 'UnitPrice': 2.95, 'CustomerID': 18074, 'Country': 'United Kingdom'}, {'InvoiceNo': 536384, 'StockCode': '22457', 'Description': 'NATURAL SLATE HEART CHALKBOARD ', 'Quantity': 12, 'InvoiceDate': '1/12/2018 09:53', 'UnitPrice': 2.95, 'CustomerID': 18074, 'Country': 'United Kingdom'}, {'InvoiceNo': 536384, 'StockCode': '22469', 'Description': 'HEART OF WICKER SMALL', 'Quantity': 40, 'InvoiceDate': '1/12/2018 09:53', 'UnitPrice': 1.45, 'CustomerID': 18074, 'Country': 'United Kingdom'}, {'InvoiceNo': 536384, 'StockCode': '22470', 'Description': 'HEART OF WICKER LARGE', 'Quantity': 40, 'InvoiceDate': '1/12/2018 09:53', 'UnitPrice': 2.55, 'CustomerID': 18074, 'Country': 'United Kingdom'}, {'InvoiceNo': 536384, 'StockCode': '22224', 'Description': 'WHITE LOVEBIRD LANTERN', 'Quantity': 6, 'InvoiceDate': '1/12/2018 09:53', 'UnitPrice': 2.95, 'CustomerID': 18074, 'Country': 'United Kingdom'}, {'InvoiceNo': 536384, 'StockCode': '21340', 'Description': 'CLASSIC METAL BIRDCAGE PLANT HOLDER', 'Quantity': 2, 'InvoiceDate': '1/12/2018 09:53', 'UnitPrice': 12.75, 'CustomerID': 18074, 'Country': 'United Kingdom'}, {'InvoiceNo': 536384, 'StockCode': '22189', 'Description': 'CREAM HEART CARD HOLDER', 'Quantity': 4, 'InvoiceDate': '1/12/2018 09:53', 'UnitPrice': 3.95, 'CustomerID': 18074, 'Country': 'United Kingdom'}, {'InvoiceNo': 536384, 'StockCode': '22427', 'Description': 'ENAMEL FLOWER JUG CREAM', 'Quantity': 3, 'InvoiceDate': '1/12/2018 09:53', 'UnitPrice': 5.95, 'CustomerID': 18074, 'Country': 'United Kingdom'}, {'InvoiceNo': 536384, 'StockCode': '22428', 'Description': 'ENAMEL FIRE BUCKET CREAM', 'Quantity': 6, 'InvoiceDate': '1/12/2018 09:53', 'UnitPrice': 6.95, 'CustomerID': 18074, 'Country': 'United Kingdom'}, {'InvoiceNo': 536384, 'StockCode': '22424', 'Description': 'ENAMEL BREAD BIN CREAM', 'Quantity': 8, 'InvoiceDate': '1/12/2018 09:53', 'UnitPrice': 10.95, 'CustomerID': 18074, 'Country': 'United Kingdom'}, {'InvoiceNo': 536385, 'StockCode': '22783', 'Description': 'SET 3 WICKER OVAL BASKETS W LIDS', 'Quantity': 1, 'InvoiceDate': '1/12/2018 09:56', 'UnitPrice': 19.95, 'CustomerID': 17420, 'Country': 'United Kingdom'}, {'InvoiceNo': 536385, 'StockCode': '22961', 'Description': 'JAM MAKING SET PRINTED', 'Quantity': 12, 'InvoiceDate': '1/12/2018 09:56', 'UnitPrice': 1.45, 'CustomerID': 17420, 'Country': 'United Kingdom'}, {'InvoiceNo': 536385, 'StockCode': '22960', 'Description': 'JAM MAKING SET WITH JARS', 'Quantity': 6, 'InvoiceDate': '1/12/2018 09:56', 'UnitPrice': 4.25, 'CustomerID': 17420, 'Country': 'United Kingdom'}, {'InvoiceNo': 536385, 'StockCode': '22663', 'Description': 'JUMBO BAG DOLLY GIRL DESIGN', 'Quantity': 10, 'InvoiceDate': '1/12/2018 09:56', 'UnitPrice': 1.95, 'CustomerID': 17420, 'Country': 'United Kingdom'}, {'InvoiceNo': 536385, 'StockCode': '85049A', 'Description': 'TRADITIONAL CHRISTMAS RIBBONS', 'Quantity': 12, 'InvoiceDate': '1/12/2018 09:56', 'UnitPrice': 1.25, 'CustomerID': 17420, 'Country': 'United Kingdom'}, {'InvoiceNo': 536385, 'StockCode': '22168', 'Description': 'ORGANISER WOOD ANTIQUE WHITE ', 'Quantity': 2, 'InvoiceDate': '1/12/2018 09:56', 'UnitPrice': 8.5, 'CustomerID': 17420, 'Country': 'United Kingdom'}, {'InvoiceNo': 536385, 'StockCode': '22662', 'Description': 'LUNCH BAG DOLLY GIRL DESIGN', 'Quantity': 10, 'InvoiceDate': '1/12/2018 09:56', 'UnitPrice': 1.65, 'CustomerID': 17420, 'Country': 'United Kingdom'}, {'InvoiceNo': 536386, 'StockCode': '84880', 'Description': 'WHITE WIRE EGG HOLDER', 'Quantity': 36, 'InvoiceDate': '1/12/2018 09:57', 'UnitPrice': 4.95, 'CustomerID': 16029, 'Country': 'United Kingdom'}, {'InvoiceNo': 536386, 'StockCode': '85099C', 'Description': 'JUMBO  BAG BAROQUE BLACK WHITE', 'Quantity': 100, 'InvoiceDate': '1/12/2018 09:57', 'UnitPrice': 1.65, 'CustomerID': 16029, 'Country': 'United Kingdom'}, {'InvoiceNo': 536386, 'StockCode': '85099B', 'Description': 'JUMBO BAG RED RETROSPOT', 'Quantity': 100, 'InvoiceDate': '1/12/2018 09:57', 'UnitPrice': 1.65, 'CustomerID': 16029, 'Country': 'United Kingdom'}, {'InvoiceNo': 536387, 'StockCode': '79321', 'Description': 'CHILLI LIGHTS', 'Quantity': 192, 'InvoiceDate': '1/12/2018 09:58', 'UnitPrice': 3.82, 'CustomerID': 16029, 'Country': 'United Kingdom'}, {'InvoiceNo': 536387, 'StockCode': '22780', 'Description': 'LIGHT GARLAND BUTTERFILES PINK', 'Quantity': 192, 'InvoiceDate': '1/12/2018 09:58', 'UnitPrice': 3.37, 'CustomerID': 16029, 'Country': 'United Kingdom'}, {'InvoiceNo': 536387, 'StockCode': '22779', 'Description': 'WOODEN OWLS LIGHT GARLAND ', 'Quantity': 192, 'InvoiceDate': '1/12/2018 09:58', 'UnitPrice': 3.37, 'CustomerID': 16029, 'Country': 'United Kingdom'}, {'InvoiceNo': 536387, 'StockCode': '22466', 'Description': 'FAIRY TALE COTTAGE NIGHTLIGHT', 'Quantity': 432, 'InvoiceDate': '1/12/2018 09:58', 'UnitPrice': 1.45, 'CustomerID': 16029, 'Country': 'United Kingdom'}, {'InvoiceNo': 536387, 'StockCode': '21731', 'Description': 'RED TOADSTOOL LED NIGHT LIGHT', 'Quantity': 432, 'InvoiceDate': '1/12/2018 09:58', 'UnitPrice': 1.25, 'CustomerID': 16029, 'Country': 'United Kingdom'}, {'InvoiceNo': 536388, 'StockCode': '21754', 'Description': 'HOME BUILDING BLOCK WORD', 'Quantity': 3, 'InvoiceDate': '1/12/2018 09:59', 'UnitPrice': 5.95, 'CustomerID': 16250, 'Country': 'United Kingdom'}, {'InvoiceNo': 536388, 'StockCode': '21755', 'Description': 'LOVE BUILDING BLOCK WORD', 'Quantity': 3, 'InvoiceDate': '1/12/2018 09:59', 'UnitPrice': 5.95, 'CustomerID': 16250, 'Country': 'United Kingdom'}, {'InvoiceNo': 536388, 'StockCode': '21523', 'Description': 'DOORMAT FANCY FONT HOME SWEET HOME', 'Quantity': 2, 'InvoiceDate': '1/12/2018 09:59', 'UnitPrice': 7.95, 'CustomerID': 16250, 'Country': 'United Kingdom'}, {'InvoiceNo': 536388, 'StockCode': '21363', 'Description': 'HOME SMALL WOOD LETTERS', 'Quantity': 3, 'InvoiceDate': '1/12/2018 09:59', 'UnitPrice': 4.95, 'CustomerID': 16250, 'Country': 'United Kingdom'}, {'InvoiceNo': 536388, 'StockCode': '21411', 'Description': 'GINGHAM HEART  DOORSTOP RED', 'Quantity': 3, 'InvoiceDate': '1/12/2018 09:59', 'UnitPrice': 4.25, 'CustomerID': 16250, 'Country': 'United Kingdom'}, {'InvoiceNo': 536388, 'StockCode': '22318', 'Description': 'FIVE HEART HANGING DECORATION', 'Quantity': 6, 'InvoiceDate': '1/12/2018 09:59', 'UnitPrice': 2.95, 'CustomerID': 16250, 'Country': 'United Kingdom'}, {'InvoiceNo': 536388, 'StockCode': '22464', 'Description': 'HANGING METAL HEART LANTERN', 'Quantity': 12, 'InvoiceDate': '1/12/2018 09:59', 'UnitPrice': 1.65, 'CustomerID': 16250, 'Country': 'United Kingdom'}, {'InvoiceNo': 536388, 'StockCode': '22915', 'Description': 'ASSORTED BOTTLE TOP  MAGNETS ', 'Quantity': 12, 'InvoiceDate': '1/12/2018 09:59', 'UnitPrice': 0.42, 'CustomerID': 16250, 'Country': 'United Kingdom'}, {'InvoiceNo': 536388, 'StockCode': '22922', 'Description': 'FRIDGE MAGNETS US DINER ASSORTED', 'Quantity': 12, 'InvoiceDate': '1/12/2018 09:59', 'UnitPrice': 0.85, 'CustomerID': 16250, 'Country': 'United Kingdom'}, {'InvoiceNo': 536388, 'StockCode': '22969', 'Description': 'HOMEMADE JAM SCENTED CANDLES', 'Quantity': 12, 'InvoiceDate': '1/12/2018 09:59', 'UnitPrice': 1.45, 'CustomerID': 16250, 'Country': 'United Kingdom'}, {'InvoiceNo': 536388, 'StockCode': '22923', 'Description': 'FRIDGE MAGNETS LES ENFANTS ASSORTED', 'Quantity': 12, 'InvoiceDate': '1/12/2018 09:59', 'UnitPrice': 0.85, 'CustomerID': 16250, 'Country': 'United Kingdom'}, {'InvoiceNo': 536388, 'StockCode': '21115', 'Description': 'ROSE CARAVAN DOORSTOP', 'Quantity': 4, 'InvoiceDate': '1/12/2018 09:59', 'UnitPrice': 6.75, 'CustomerID': 16250, 'Country': 'United Kingdom'}, {'InvoiceNo': 536388, 'StockCode': '22469', 'Description': 'HEART OF WICKER SMALL', 'Quantity': 12, 'InvoiceDate': '1/12/2018 09:59', 'UnitPrice': 1.65, 'CustomerID': 16250, 'Country': 'United Kingdom'}, {'InvoiceNo': 536388, 'StockCode': '22242', 'Description': '5 HOOK HANGER MAGIC TOADSTOOL', 'Quantity': 12, 'InvoiceDate': '1/12/2018 09:59', 'UnitPrice': 1.65, 'CustomerID': 16250, 'Country': 'United Kingdom'}, {'InvoiceNo': 536389, 'StockCode': '22941', 'Description': 'CHRISTMAS LIGHTS 10 REINDEER', 'Quantity': 6, 'InvoiceDate': '1/12/2018 10:03', 'UnitPrice': 8.5, 'CustomerID': 12431, 'Country': 'Australia'}, {'InvoiceNo': 536389, 'StockCode': '21622', 'Description': 'VINTAGE UNION JACK CUSHION COVER', 'Quantity': 8, 'InvoiceDate': '1/12/2018 10:03', 'UnitPrice': 4.95, 'CustomerID': 12431, 'Country': 'Australia'}, {'InvoiceNo': 536389, 'StockCode': '21791', 'Description': 'VINTAGE HEADS AND TAILS CARD GAME ', 'Quantity': 12, 'InvoiceDate': '1/12/2018 10:03', 'UnitPrice': 1.25, 'CustomerID': 12431, 'Country': 'Australia'}, {'InvoiceNo': 536389, 'StockCode': '35004C', 'Description': 'SET OF 3 COLOURED  FLYING DUCKS', 'Quantity': 6, 'InvoiceDate': '1/12/2018 10:03', 'UnitPrice': 5.45, 'CustomerID': 12431, 'Country': 'Australia'}, {'InvoiceNo': 536389, 'StockCode': '35004G', 'Description': 'SET OF 3 GOLD FLYING DUCKS', 'Quantity': 4, 'InvoiceDate': '1/12/2018 10:03', 'UnitPrice': 6.35, 'CustomerID': 12431, 'Country': 'Australia'}, {'InvoiceNo': 536389, 'StockCode': '85014B', 'Description': 'RED RETROSPOT UMBRELLA', 'Quantity': 6, 'InvoiceDate': '1/12/2018 10:03', 'UnitPrice': 5.95, 'CustomerID': 12431, 'Country': 'Australia'}, {'InvoiceNo': 536389, 'StockCode': '85014A', 'Description': 'BLACK/BLUE POLKADOT UMBRELLA', 'Quantity': 3, 'InvoiceDate': '1/12/2018 10:03', 'UnitPrice': 5.95, 'CustomerID': 12431, 'Country': 'Australia'}, {'InvoiceNo': 536389, 'StockCode': '22193', 'Description': 'RED DINER WALL CLOCK', 'Quantity': 2, 'InvoiceDate': '1/12/2018 10:03', 'UnitPrice': 8.5, 'CustomerID': 12431, 'Country': 'Australia'}, {'InvoiceNo': 536389, 'StockCode': '22726', 'Description': 'ALARM CLOCK BAKELIKE GREEN', 'Quantity': 4, 'InvoiceDate': '1/12/2018 10:03', 'UnitPrice': 3.75, 'CustomerID': 12431, 'Country': 'Australia'}, {'InvoiceNo': 536389, 'StockCode': '22727', 'Description': 'ALARM CLOCK BAKELIKE RED ', 'Quantity': 4, 'InvoiceDate': '1/12/2018 10:03', 'UnitPrice': 3.75, 'CustomerID': 12431, 'Country': 'Australia'}, {'InvoiceNo': 536389, 'StockCode': '22192', 'Description': 'BLUE DINER WALL CLOCK', 'Quantity': 2, 'InvoiceDate': '1/12/2018 10:03', 'UnitPrice': 8.5, 'CustomerID': 12431, 'Country': 'Australia'}, {'InvoiceNo': 536389, 'StockCode': '22191', 'Description': 'IVORY DINER WALL CLOCK', 'Quantity': 2, 'InvoiceDate': '1/12/2018 10:03', 'UnitPrice': 8.5, 'CustomerID': 12431, 'Country': 'Australia'}, {'InvoiceNo': 536389, 'StockCode': '22195', 'Description': 'LARGE HEART MEASURING SPOONS', 'Quantity': 24, 'InvoiceDate': '1/12/2018 10:03', 'UnitPrice': 1.65, 'CustomerID': 12431, 'Country': 'Australia'}, {'InvoiceNo': 536389, 'StockCode': '22196', 'Description': 'SMALL HEART MEASURING SPOONS', 'Quantity': 24, 'InvoiceDate': '1/12/2018 10:03', 'UnitPrice': 0.85, 'CustomerID': 12431, 'Country': 'Australia'}, {'InvoiceNo': 536390, 'StockCode': '22941', 'Description': 'CHRISTMAS LIGHTS 10 REINDEER', 'Quantity': 2, 'InvoiceDate': '1/12/2018 10:19', 'UnitPrice': 8.5, 'CustomerID': 17511, 'Country': 'United Kingdom'}, {'InvoiceNo': 536390, 'StockCode': '22960', 'Description': 'JAM MAKING SET WITH JARS', 'Quantity': 12, 'InvoiceDate': '1/12/2018 10:19', 'UnitPrice': 3.75, 'CustomerID': 17511, 'Country': 'United Kingdom'}, {'InvoiceNo': 536390, 'StockCode': '22961', 'Description': 'JAM MAKING SET PRINTED', 'Quantity': 12, 'InvoiceDate': '1/12/2018 10:19', 'UnitPrice': 1.45, 'CustomerID': 17511, 'Country': 'United Kingdom'}, {'InvoiceNo': 536390, 'StockCode': '22962', 'Description': 'JAM JAR WITH PINK LID', 'Quantity': 48, 'InvoiceDate': '1/12/2018 10:19', 'UnitPrice': 0.72, 'CustomerID': 17511, 'Country': 'United Kingdom'}, {'InvoiceNo': 536390, 'StockCode': '22963', 'Description': 'JAM JAR WITH GREEN LID', 'Quantity': 48, 'InvoiceDate': '1/12/2018 10:19', 'UnitPrice': 0.72, 'CustomerID': 17511, 'Country': 'United Kingdom'}, {'InvoiceNo': 536390, 'StockCode': '22968', 'Description': 'ROSE COTTAGE KEEPSAKE BOX ', 'Quantity': 8, 'InvoiceDate': '1/12/2018 10:19', 'UnitPrice': 8.5, 'CustomerID': 17511, 'Country': 'United Kingdom'}, {'InvoiceNo': 536390, 'StockCode': '84970S', 'Description': 'HANGING HEART ZINC T-LIGHT HOLDER', 'Quantity': 144, 'InvoiceDate': '1/12/2018 10:19', 'UnitPrice': 0.64, 'CustomerID': 17511, 'Country': 'United Kingdom'}, {'InvoiceNo': 536390, 'StockCode': '22910', 'Description': 'PAPER CHAIN KIT VINTAGE CHRISTMAS', 'Quantity': 40, 'InvoiceDate': '1/12/2018 10:19', 'UnitPrice': 2.55, 'CustomerID': 17511, 'Country': 'United Kingdom'}, {'InvoiceNo': 536390, 'StockCode': '20668', 'Description': 'DISCO BALL CHRISTMAS DECORATION', 'Quantity': 288, 'InvoiceDate': '1/12/2018 10:19', 'UnitPrice': 0.1, 'CustomerID': 17511, 'Country': 'United Kingdom'}, {'InvoiceNo': 536390, 'StockCode': '85123A', 'Description': 'WHITE HANGING HEART T-LIGHT HOLDER', 'Quantity': 64, 'InvoiceDate': '1/12/2018 10:19', 'UnitPrice': 2.55, 'CustomerID': 17511, 'Country': 'United Kingdom'}, {'InvoiceNo': 536390, 'StockCode': '22197', 'Description': 'SMALL POPCORN HOLDER', 'Quantity': 100, 'InvoiceDate': '1/12/2018 10:19', 'UnitPrice': 0.72, 'CustomerID': 17511, 'Country': 'United Kingdom'}, {'InvoiceNo': 536390, 'StockCode': '22198', 'Description': 'LARGE POPCORN HOLDER ', 'Quantity': 50, 'InvoiceDate': '1/12/2018 10:19', 'UnitPrice': 1.45, 'CustomerID': 17511, 'Country': 'United Kingdom'}, {'InvoiceNo': 536390, 'StockCode': '21533', 'Description': 'RETROSPOT LARGE MILK JUG', 'Quantity': 12, 'InvoiceDate': '1/12/2018 10:19', 'UnitPrice': 4.25, 'CustomerID': 17511, 'Country': 'United Kingdom'}, {'InvoiceNo': 536390, 'StockCode': '21080', 'Description': 'SET/20 RED RETROSPOT PAPER NAPKINS ', 'Quantity': 96, 'InvoiceDate': '1/12/2018 10:19', 'UnitPrice': 0.64, 'CustomerID': 17511, 'Country': 'United Kingdom'}, {'InvoiceNo': 536390, 'StockCode': '21094', 'Description': 'SET/6 RED SPOTTY PAPER PLATES', 'Quantity': 96, 'InvoiceDate': '1/12/2018 10:19', 'UnitPrice': 0.64, 'CustomerID': 17511, 'Country': 'United Kingdom'}, {'InvoiceNo': 536390, 'StockCode': '21086', 'Description': 'SET/6 RED SPOTTY PAPER CUPS', 'Quantity': 48, 'InvoiceDate': '1/12/2018 10:19', 'UnitPrice': 0.65, 'CustomerID': 17511, 'Country': 'United Kingdom'}, {'InvoiceNo': 536390, 'StockCode': '21786', 'Description': 'POLKADOT RAIN HAT ', 'Quantity': 144, 'InvoiceDate': '1/12/2018 10:19', 'UnitPrice': 0.32, 'CustomerID': 17511, 'Country': 'United Kingdom'}, {'InvoiceNo': 536390, 'StockCode': '22654', 'Description': 'DELUXE SEWING KIT ', 'Quantity': 40, 'InvoiceDate': '1/12/2018 10:19', 'UnitPrice': 4.95, 'CustomerID': 17511, 'Country': 'United Kingdom'}, {'InvoiceNo': 536390, 'StockCode': '21485', 'Description': 'RETROSPOT HEART HOT WATER BOTTLE', 'Quantity': 24, 'InvoiceDate': '1/12/2018 10:19', 'UnitPrice': 4.25, 'CustomerID': 17511, 'Country': 'United Kingdom'}, {'InvoiceNo': 536390, 'StockCode': '84029G', 'Description': 'KNITTED UNION FLAG HOT WATER BOTTLE', 'Quantity': 24, 'InvoiceDate': '1/12/2018 10:19', 'UnitPrice': 3.39, 'CustomerID': 17511, 'Country': 'United Kingdom'}, {'InvoiceNo': 536390, 'StockCode': '84030E', 'Description': 'ENGLISH ROSE HOT WATER BOTTLE', 'Quantity': 24, 'InvoiceDate': '1/12/2018 10:19', 'UnitPrice': 3.75, 'CustomerID': 17511, 'Country': 'United Kingdom'}, {'InvoiceNo': 536390, 'StockCode': '22174', 'Description': 'PHOTO CUBE', 'Quantity': 48, 'InvoiceDate': '1/12/2018 10:19', 'UnitPrice': 1.48, 'CustomerID': 17511, 'Country': 'United Kingdom'}, {'InvoiceNo': 536390, 'StockCode': '22969', 'Description': 'HOMEMADE JAM SCENTED CANDLES', 'Quantity': 96, 'InvoiceDate': '1/12/2018 10:19', 'UnitPrice': 1.25, 'CustomerID': 17511, 'Country': 'United Kingdom'}, {'InvoiceNo': 536390, 'StockCode': '85099B', 'Description': 'JUMBO BAG RED RETROSPOT', 'Quantity': 100, 'InvoiceDate': '1/12/2018 10:19', 'UnitPrice': 1.65, 'CustomerID': 17511, 'Country': 'United Kingdom'}, {'InvoiceNo': 536392, 'StockCode': '22150', 'Description': '3 STRIPEY MICE FELTCRAFT', 'Quantity': 6, 'InvoiceDate': '1/12/2018 10:29', 'UnitPrice': 1.95, 'CustomerID': 13705, 'Country': 'United Kingdom'}, {'InvoiceNo': 536392, 'StockCode': '22619', 'Description': 'SET OF 6 SOLDIER SKITTLES', 'Quantity': 4, 'InvoiceDate': '1/12/2018 10:29', 'UnitPrice': 3.75, 'CustomerID': 13705, 'Country': 'United Kingdom'}, {'InvoiceNo': 536392, 'StockCode': '21891', 'Description': 'TRADITIONAL WOODEN SKIPPING ROPE', 'Quantity': 12, 'InvoiceDate': '1/12/2018 10:29', 'UnitPrice': 1.25, 'CustomerID': 13705, 'Country': 'United Kingdom'}, {'InvoiceNo': 536392, 'StockCode': '21889', 'Description': 'WOODEN BOX OF DOMINOES', 'Quantity': 12, 'InvoiceDate': '1/12/2018 10:29', 'UnitPrice': 1.25, 'CustomerID': 13705, 'Country': 'United Kingdom'}, {'InvoiceNo': 536392, 'StockCode': '22827', 'Description': 'RUSTIC  SEVENTEEN DRAWER SIDEBOARD', 'Quantity': 1, 'InvoiceDate': '1/12/2018 10:29', 'UnitPrice': 165.0, 'CustomerID': 13705, 'Country': 'United Kingdom'}, {'InvoiceNo': 536392, 'StockCode': '22127', 'Description': 'PARTY CONES CARNIVAL ASSORTED', 'Quantity': 12, 'InvoiceDate': '1/12/2018 10:29', 'UnitPrice': 1.25, 'CustomerID': 13705, 'Country': 'United Kingdom'}, {'InvoiceNo': 536392, 'StockCode': '22128', 'Description': 'PARTY CONES CANDY ASSORTED', 'Quantity': 12, 'InvoiceDate': '1/12/2018 10:29', 'UnitPrice': 1.25, 'CustomerID': 13705, 'Country': 'United Kingdom'}, {'InvoiceNo': 536392, 'StockCode': '22502', 'Description': 'PICNIC BASKET WICKER SMALL', 'Quantity': 4, 'InvoiceDate': '1/12/2018 10:29', 'UnitPrice': 5.95, 'CustomerID': 13705, 'Country': 'United Kingdom'}, {'InvoiceNo': 536392, 'StockCode': '84879', 'Description': 'ASSORTED COLOUR BIRD ORNAMENT', 'Quantity': 16, 'InvoiceDate': '1/12/2018 10:29', 'UnitPrice': 1.69, 'CustomerID': 13705, 'Country': 'United Kingdom'}, {'InvoiceNo': 536392, 'StockCode': '22338', 'Description': 'STAR DECORATION PAINTED ZINC ', 'Quantity': 24, 'InvoiceDate': '1/12/2018 10:29', 'UnitPrice': 0.65, 'CustomerID': 13705, 'Country': 'United Kingdom'}, {'InvoiceNo': 536393, 'StockCode': '22180', 'Description': 'RETROSPOT LAMP', 'Quantity': 8, 'InvoiceDate': '1/12/2018 10:37', 'UnitPrice': 9.95, 'CustomerID': 13747, 'Country': 'United Kingdom'}, {'InvoiceNo': 536394, 'StockCode': '21506', 'Description': 'FANCY FONT BIRTHDAY CARD, ', 'Quantity': 24, 'InvoiceDate': '1/12/2018 10:39', 'UnitPrice': 0.42, 'CustomerID': 13408, 'Country': 'United Kingdom'}, {'InvoiceNo': 536394, 'StockCode': '22633', 'Description': 'HAND WARMER UNION JACK', 'Quantity': 96, 'InvoiceDate': '1/12/2018 10:39', 'UnitPrice': 1.85, 'CustomerID': 13408, 'Country': 'United Kingdom'}, {'InvoiceNo': 536394, 'StockCode': '22866', 'Description': 'HAND WARMER SCOTTY DOG DESIGN', 'Quantity': 96, 'InvoiceDate': '1/12/2018 10:39', 'UnitPrice': 1.85, 'CustomerID': 13408, 'Country': 'United Kingdom'}, {'InvoiceNo': 536394, 'StockCode': '22865', 'Description': 'HAND WARMER OWL DESIGN', 'Quantity': 96, 'InvoiceDate': '1/12/2018 10:39', 'UnitPrice': 1.85, 'CustomerID': 13408, 'Country': 'United Kingdom'}, {'InvoiceNo': 536394, 'StockCode': '22632', 'Description': 'HAND WARMER RED RETROSPOT', 'Quantity': 96, 'InvoiceDate': '1/12/2018 10:39', 'UnitPrice': 1.85, 'CustomerID': 13408, 'Country': 'United Kingdom'}, {'InvoiceNo': 536394, 'StockCode': '21485', 'Description': 'RETROSPOT HEART HOT WATER BOTTLE', 'Quantity': 12, 'InvoiceDate': '1/12/2018 10:39', 'UnitPrice': 4.95, 'CustomerID': 13408, 'Country': 'United Kingdom'}, {'InvoiceNo': 536394, 'StockCode': '22349', 'Description': 'DOG BOWL CHASING BALL DESIGN', 'Quantity': 12, 'InvoiceDate': '1/12/2018 10:39', 'UnitPrice': 3.75, 'CustomerID': 13408, 'Country': 'United Kingdom'}, {'InvoiceNo': 536394, 'StockCode': '22558', 'Description': 'CLOTHES PEGS RETROSPOT PACK 24 ', 'Quantity': 48, 'InvoiceDate': '1/12/2018 10:39', 'UnitPrice': 1.25, 'CustomerID': 13408, 'Country': 'United Kingdom'}, {'InvoiceNo': 536394, 'StockCode': '85152', 'Description': 'HAND OVER THE CHOCOLATE   SIGN ', 'Quantity': 12, 'InvoiceDate': '1/12/2018 10:39', 'UnitPrice': 2.1, 'CustomerID': 13408, 'Country': 'United Kingdom'}, {'InvoiceNo': 536394, 'StockCode': '85123A', 'Description': 'WHITE HANGING HEART T-LIGHT HOLDER', 'Quantity': 32, 'InvoiceDate': '1/12/2018 10:39', 'UnitPrice': 2.55, 'CustomerID': 13408, 'Country': 'United Kingdom'}, {'InvoiceNo': 536394, 'StockCode': '22652', 'Description': 'TRAVEL SEWING KIT', 'Quantity': 20, 'InvoiceDate': '1/12/2018 10:39', 'UnitPrice': 1.65, 'CustomerID': 13408, 'Country': 'United Kingdom'}, {'InvoiceNo': 536395, 'StockCode': '22188', 'Description': 'BLACK HEART CARD HOLDER', 'Quantity': 8, 'InvoiceDate': '1/12/2018 10:47', 'UnitPrice': 3.95, 'CustomerID': 13767, 'Country': 'United Kingdom'}, {'InvoiceNo': 536395, 'StockCode': '84879', 'Description': 'ASSORTED COLOUR BIRD ORNAMENT', 'Quantity': 32, 'InvoiceDate': '1/12/2018 10:47', 'UnitPrice': 1.69, 'CustomerID': 13767, 'Country': 'United Kingdom'}, {'InvoiceNo': 536395, 'StockCode': '21977', 'Description': 'PACK OF 60 PINK PAISLEY CAKE CASES', 'Quantity': 24, 'InvoiceDate': '1/12/2018 10:47', 'UnitPrice': 0.55, 'CustomerID': 13767, 'Country': 'United Kingdom'}, {'InvoiceNo': 536395, 'StockCode': '84991', 'Description': '60 TEATIME FAIRY CAKE CASES', 'Quantity': 24, 'InvoiceDate': '1/12/2018 10:47', 'UnitPrice': 0.55, 'CustomerID': 13767, 'Country': 'United Kingdom'}, {'InvoiceNo': 536395, 'StockCode': '21212', 'Description': 'PACK OF 72 RETROSPOT CAKE CASES', 'Quantity': 24, 'InvoiceDate': '1/12/2018 10:47', 'UnitPrice': 0.55, 'CustomerID': 13767, 'Country': 'United Kingdom'}, {'InvoiceNo': 536395, 'StockCode': '21484', 'Description': 'CHICK GREY HOT WATER BOTTLE', 'Quantity': 8, 'InvoiceDate': '1/12/2018 10:47', 'UnitPrice': 3.45, 'CustomerID': 13767, 'Country': 'United Kingdom'}, {'InvoiceNo': 536395, 'StockCode': '21314', 'Description': 'SMALL GLASS HEART TRINKET POT', 'Quantity': 8, 'InvoiceDate': '1/12/2018 10:47', 'UnitPrice': 2.1, 'CustomerID': 13767, 'Country': 'United Kingdom'}, {'InvoiceNo': 536395, 'StockCode': '22730', 'Description': 'ALARM CLOCK BAKELIKE IVORY', 'Quantity': 4, 'InvoiceDate': '1/12/2018 10:47', 'UnitPrice': 3.75, 'CustomerID': 13767, 'Country': 'United Kingdom'}, {'InvoiceNo': 536395, 'StockCode': '22727', 'Description': 'ALARM CLOCK BAKELIKE RED ', 'Quantity': 8, 'InvoiceDate': '1/12/2018 10:47', 'UnitPrice': 3.75, 'CustomerID': 13767, 'Country': 'United Kingdom'}, {'InvoiceNo': 536395, 'StockCode': '22729', 'Description': 'ALARM CLOCK BAKELIKE ORANGE', 'Quantity': 8, 'InvoiceDate': '1/12/2018 10:47', 'UnitPrice': 3.75, 'CustomerID': 13767, 'Country': 'United Kingdom'}, {'InvoiceNo': 536395, 'StockCode': '22726', 'Description': 'ALARM CLOCK BAKELIKE GREEN', 'Quantity': 8, 'InvoiceDate': '1/12/2018 10:47', 'UnitPrice': 3.75, 'CustomerID': 13767, 'Country': 'United Kingdom'}, {'InvoiceNo': 536395, 'StockCode': '22114', 'Description': 'HOT WATER BOTTLE TEA AND SYMPATHY', 'Quantity': 8, 'InvoiceDate': '1/12/2018 10:47', 'UnitPrice': 3.95, 'CustomerID': 13767, 'Country': 'United Kingdom'}, {'InvoiceNo': 536395, 'StockCode': '22867', 'Description': 'HAND WARMER BIRD DESIGN', 'Quantity': 48, 'InvoiceDate': '1/12/2018 10:47', 'UnitPrice': 2.1, 'CustomerID': 13767, 'Country': 'United Kingdom'}, {'InvoiceNo': 536395, 'StockCode': '22866', 'Description': 'HAND WARMER SCOTTY DOG DESIGN', 'Quantity': 48, 'InvoiceDate': '1/12/2018 10:47', 'UnitPrice': 2.1, 'CustomerID': 13767, 'Country': 'United Kingdom'}, {'InvoiceNo': 536396, 'StockCode': '85123A', 'Description': 'WHITE HANGING HEART T-LIGHT HOLDER', 'Quantity': 6, 'InvoiceDate': '1/12/2018 10:51', 'UnitPrice': 2.55, 'CustomerID': 17850, 'Country': 'United Kingdom'}, {'InvoiceNo': 536396, 'StockCode': '71053', 'Description': 'WHITE METAL LANTERN', 'Quantity': 6, 'InvoiceDate': '1/12/2018 10:51', 'UnitPrice': 3.39, 'CustomerID': 17850, 'Country': 'United Kingdom'}, {'InvoiceNo': 536396, 'StockCode': '84406B', 'Description': 'CREAM CUPID HEARTS COAT HANGER', 'Quantity': 8, 'InvoiceDate': '1/12/2018 10:51', 'UnitPrice': 2.75, 'CustomerID': 17850, 'Country': 'United Kingdom'}, {'InvoiceNo': 536396, 'StockCode': '15056BL', 'Description': 'EDWARDIAN PARASOL BLACK', 'Quantity': 6, 'InvoiceDate': '1/12/2018 10:51', 'UnitPrice': 4.95, 'CustomerID': 17850, 'Country': 'United Kingdom'}, {'InvoiceNo': 536396, 'StockCode': '20679', 'Description': 'EDWARDIAN PARASOL RED', 'Quantity': 6, 'InvoiceDate': '1/12/2018 10:51', 'UnitPrice': 4.95, 'CustomerID': 17850, 'Country': 'United Kingdom'}, {'InvoiceNo': 536396, 'StockCode': '37370', 'Description': 'RETRO COFFEE MUGS ASSORTED', 'Quantity': 6, 'InvoiceDate': '1/12/2018 10:51', 'UnitPrice': 1.06, 'CustomerID': 17850, 'Country': 'United Kingdom'}, {'InvoiceNo': 536396, 'StockCode': '21871', 'Description': 'SAVE THE PLANET MUG', 'Quantity': 6, 'InvoiceDate': '1/12/2018 10:51', 'UnitPrice': 1.06, 'CustomerID': 17850, 'Country': 'United Kingdom'}, {'InvoiceNo': 536396, 'StockCode': '21071', 'Description': 'VINTAGE BILLBOARD DRINK ME MUG', 'Quantity': 6, 'InvoiceDate': '1/12/2018 10:51', 'UnitPrice': 1.06, 'CustomerID': 17850, 'Country': 'United Kingdom'}, {'InvoiceNo': 536396, 'StockCode': '21068', 'Description': 'VINTAGE BILLBOARD LOVE/HATE MUG', 'Quantity': 6, 'InvoiceDate': '1/12/2018 10:51', 'UnitPrice': 1.06, 'CustomerID': 17850, 'Country': 'United Kingdom'}, {'InvoiceNo': 536396, 'StockCode': '82483', 'Description': 'WOOD 2 DRAWER CABINET WHITE FINISH', 'Quantity': 2, 'InvoiceDate': '1/12/2018 10:51', 'UnitPrice': 4.95, 'CustomerID': 17850, 'Country': 'United Kingdom'}, {'InvoiceNo': 536396, 'StockCode': '82486', 'Description': 'WOOD S/3 CABINET ANT WHITE FINISH', 'Quantity': 4, 'InvoiceDate': '1/12/2018 10:51', 'UnitPrice': 6.95, 'CustomerID': 17850, 'Country': 'United Kingdom'}, {'InvoiceNo': 536396, 'StockCode': '82482', 'Description': 'WOODEN PICTURE FRAME WHITE FINISH', 'Quantity': 6, 'InvoiceDate': '1/12/2018 10:51', 'UnitPrice': 2.1, 'CustomerID': 17850, 'Country': 'United Kingdom'}, {'InvoiceNo': 536396, 'StockCode': '82494L', 'Description': 'WOODEN FRAME ANTIQUE WHITE ', 'Quantity': 12, 'InvoiceDate': '1/12/2018 10:51', 'UnitPrice': 2.55, 'CustomerID': 17850, 'Country': 'United Kingdom'}, {'InvoiceNo': 536396, 'StockCode': '84029G', 'Description': 'KNITTED UNION FLAG HOT WATER BOTTLE', 'Quantity': 6, 'InvoiceDate': '1/12/2018 10:51', 'UnitPrice': 3.39, 'CustomerID': 17850, 'Country': 'United Kingdom'}, {'InvoiceNo': 536396, 'StockCode': '84029E', 'Description': 'RED WOOLLY HOTTIE WHITE HEART.', 'Quantity': 6, 'InvoiceDate': '1/12/2018 10:51', 'UnitPrice': 3.39, 'CustomerID': 17850, 'Country': 'United Kingdom'}, {'InvoiceNo': 536396, 'StockCode': '22752', 'Description': 'SET 7 BABUSHKA NESTING BOXES', 'Quantity': 2, 'InvoiceDate': '1/12/2018 10:51', 'UnitPrice': 7.65, 'CustomerID': 17850, 'Country': 'United Kingdom'}, {'InvoiceNo': 536396, 'StockCode': '22803', 'Description': 'IVORY EMBROIDERED QUILT ', 'Quantity': 2, 'InvoiceDate': '1/12/2018 10:51', 'UnitPrice': 35.75, 'CustomerID': 17850, 'Country': 'United Kingdom'}, {'InvoiceNo': 536396, 'StockCode': '21730', 'Description': 'GLASS STAR FROSTED T-LIGHT HOLDER', 'Quantity': 6, 'InvoiceDate': '1/12/2018 10:51', 'UnitPrice': 4.25, 'CustomerID': 17850, 'Country': 'United Kingdom'}, {'InvoiceNo': 536397, 'StockCode': '35004B', 'Description': 'SET OF 3 BLACK FLYING DUCKS', 'Quantity': 12, 'InvoiceDate': '1/12/2018 10:51', 'UnitPrice': 4.65, 'CustomerID': 17924, 'Country': 'United Kingdom'}, {'InvoiceNo': 536397, 'StockCode': '35004C', 'Description': 'SET OF 3 COLOURED  FLYING DUCKS', 'Quantity': 48, 'InvoiceDate': '1/12/2018 10:51', 'UnitPrice': 4.65, 'CustomerID': 17924, 'Country': 'United Kingdom'}, {'InvoiceNo': 536398, 'StockCode': '21980', 'Description': 'PACK OF 12 RED RETROSPOT TISSUES ', 'Quantity': 24, 'InvoiceDate': '1/12/2018 10:52', 'UnitPrice': 0.29, 'CustomerID': 13448, 'Country': 'United Kingdom'}, {'InvoiceNo': 536398, 'StockCode': '21844', 'Description': 'RED RETROSPOT MUG', 'Quantity': 6, 'InvoiceDate': '1/12/2018 10:52', 'UnitPrice': 2.95, 'CustomerID': 13448, 'Country': 'United Kingdom'}, {'InvoiceNo': 536398, 'StockCode': '22468', 'Description': 'BABUSHKA LIGHTS STRING OF 10', 'Quantity': 4, 'InvoiceDate': '1/12/2018 10:52', 'UnitPrice': 6.75, 'CustomerID': 13448, 'Country': 'United Kingdom'}, {'InvoiceNo': 536398, 'StockCode': '22637', 'Description': 'PIGGY BANK RETROSPOT ', 'Quantity': 8, 'InvoiceDate': '1/12/2018 10:52', 'UnitPrice': 2.55, 'CustomerID': 13448, 'Country': 'United Kingdom'}, {'InvoiceNo': 536398, 'StockCode': '22752', 'Description': 'SET 7 BABUSHKA NESTING BOXES', 'Quantity': 6, 'InvoiceDate': '1/12/2018 10:52', 'UnitPrice': 8.5, 'CustomerID': 13448, 'Country': 'United Kingdom'}, {'InvoiceNo': 536398, 'StockCode': '48185', 'Description': 'DOORMAT FAIRY CAKE', 'Quantity': 2, 'InvoiceDate': '1/12/2018 10:52', 'UnitPrice': 7.95, 'CustomerID': 13448, 'Country': 'United Kingdom'}, {'InvoiceNo': 536398, 'StockCode': '22632', 'Description': 'HAND WARMER RED RETROSPOT', 'Quantity': 12, 'InvoiceDate': '1/12/2018 10:52', 'UnitPrice': 2.1, 'CustomerID': 13448, 'Country': 'United Kingdom'}, {'InvoiceNo': 536398, 'StockCode': '22866', 'Description': 'HAND WARMER SCOTTY DOG DESIGN', 'Quantity': 12, 'InvoiceDate': '1/12/2018 10:52', 'UnitPrice': 2.1, 'CustomerID': 13448, 'Country': 'United Kingdom'}, {'InvoiceNo': 536398, 'StockCode': '22865', 'Description': 'HAND WARMER OWL DESIGN', 'Quantity': 12, 'InvoiceDate': '1/12/2018 10:52', 'UnitPrice': 2.1, 'CustomerID': 13448, 'Country': 'United Kingdom'}, {'InvoiceNo': 536398, 'StockCode': '21232', 'Description': 'STRAWBERRY CERAMIC TRINKET BOX', 'Quantity': 12, 'InvoiceDate': '1/12/2018 10:52', 'UnitPrice': 1.25, 'CustomerID': 13448, 'Country': 'United Kingdom'}, {'InvoiceNo': 536398, 'StockCode': '22064', 'Description': 'PINK DOUGHNUT TRINKET POT ', 'Quantity': 12, 'InvoiceDate': '1/12/2018 10:52', 'UnitPrice': 1.65, 'CustomerID': 13448, 'Country': 'United Kingdom'}, {'InvoiceNo': 536398, 'StockCode': '22449', 'Description': 'SILK PURSE BABUSHKA PINK', 'Quantity': 6, 'InvoiceDate': '1/12/2018 10:52', 'UnitPrice': 3.35, 'CustomerID': 13448, 'Country': 'United Kingdom'}, {'InvoiceNo': 536398, 'StockCode': '22114', 'Description': 'HOT WATER BOTTLE TEA AND SYMPATHY', 'Quantity': 4, 'InvoiceDate': '1/12/2018 10:52', 'UnitPrice': 3.95, 'CustomerID': 13448, 'Country': 'United Kingdom'}, {'InvoiceNo': 536398, 'StockCode': '22835', 'Description': 'HOT WATER BOTTLE I AM SO POORLY', 'Quantity': 8, 'InvoiceDate': '1/12/2018 10:52', 'UnitPrice': 4.65, 'CustomerID': 13448, 'Country': 'United Kingdom'}, {'InvoiceNo': 536398, 'StockCode': '22112', 'Description': 'CHOCOLATE HOT WATER BOTTLE', 'Quantity': 9, 'InvoiceDate': '1/12/2018 10:52', 'UnitPrice': 4.95, 'CustomerID': 13448, 'Country': 'United Kingdom'}, {'InvoiceNo': 536398, 'StockCode': '21479', 'Description': 'WHITE SKULL HOT WATER BOTTLE ', 'Quantity': 4, 'InvoiceDate': '1/12/2018 10:52', 'UnitPrice': 3.75, 'CustomerID': 13448, 'Country': 'United Kingdom'}, {'InvoiceNo': 536398, 'StockCode': '22111', 'Description': 'SCOTTIE DOG HOT WATER BOTTLE', 'Quantity': 9, 'InvoiceDate': '1/12/2018 10:52', 'UnitPrice': 4.95, 'CustomerID': 13448, 'Country': 'United Kingdom'}, {'InvoiceNo': 536399, 'StockCode': '22632', 'Description': 'HAND WARMER RED POLKA DOT', 'Quantity': 6, 'InvoiceDate': '1/12/2018 10:52', 'UnitPrice': 1.85, 'CustomerID': 17850, 'Country': 'United Kingdom'}, {'InvoiceNo': 536399, 'StockCode': '22633', 'Description': 'HAND WARMER UNION JACK', 'Quantity': 6, 'InvoiceDate': '1/12/2018 10:52', 'UnitPrice': 1.85, 'CustomerID': 17850, 'Country': 'United Kingdom'}, {'InvoiceNo': 536400, 'StockCode': '22969', 'Description': 'HOMEMADE JAM SCENTED CANDLES', 'Quantity': 12, 'InvoiceDate': '1/12/2018 10:53', 'UnitPrice': 1.45, 'CustomerID': 13448, 'Country': 'United Kingdom'}, {'InvoiceNo': 536401, 'StockCode': '22110', 'Description': 'BIRD HOUSE HOT WATER BOTTLE', 'Quantity': 1, 'InvoiceDate': '1/12/2018 11:21', 'UnitPrice': 2.55, 'CustomerID': 15862, 'Country': 'United Kingdom'}, {'InvoiceNo': 536401, 'StockCode': '22098', 'Description': 'BOUDOIR SQUARE TISSUE BOX', 'Quantity': 1, 'InvoiceDate': '1/12/2018 11:21', 'UnitPrice': 1.25, 'CustomerID': 15862, 'Country': 'United Kingdom'}, {'InvoiceNo': 536401, 'StockCode': '22100', 'Description': 'SKULLS SQUARE TISSUE BOX', 'Quantity': 2, 'InvoiceDate': '1/12/2018 11:21', 'UnitPrice': 1.25, 'CustomerID': 15862, 'Country': 'United Kingdom'}, {'InvoiceNo': 536401, 'StockCode': '22766', 'Description': 'PHOTO FRAME CORNICE', 'Quantity': 1, 'InvoiceDate': '1/12/2018 11:21', 'UnitPrice': 2.95, 'CustomerID': 15862, 'Country': 'United Kingdom'}, {'InvoiceNo': 536401, 'StockCode': '22451', 'Description': 'SILK PURSE BABUSHKA RED', 'Quantity': 1, 'InvoiceDate': '1/12/2018 11:21', 'UnitPrice': 3.35, 'CustomerID': 15862, 'Country': 'United Kingdom'}, {'InvoiceNo': 536401, 'StockCode': '22549', 'Description': 'PICTURE DOMINOES', 'Quantity': 1, 'InvoiceDate': '1/12/2018 11:21', 'UnitPrice': 1.45, 'CustomerID': 15862, 'Country': 'United Kingdom'}, {'InvoiceNo': 536401, 'StockCode': '84744', 'Description': 'S/6 SEW ON CROCHET FLOWERS', 'Quantity': 1, 'InvoiceDate': '1/12/2018 11:21', 'UnitPrice': 1.25, 'CustomerID': 15862, 'Country': 'United Kingdom'}, {'InvoiceNo': 536401, 'StockCode': '85049E', 'Description': 'SCANDINAVIAN REDS RIBBONS', 'Quantity': 2, 'InvoiceDate': '1/12/2018 11:21', 'UnitPrice': 1.25, 'CustomerID': 15862, 'Country': 'United Kingdom'}, {'InvoiceNo': 536401, 'StockCode': '21328', 'Description': 'BALLOONS  WRITING SET ', 'Quantity': 1, 'InvoiceDate': '1/12/2018 11:21', 'UnitPrice': 1.65, 'CustomerID': 15862, 'Country': 'United Kingdom'}, {'InvoiceNo': 536401, 'StockCode': '22961', 'Description': 'JAM MAKING SET PRINTED', 'Quantity': 4, 'InvoiceDate': '1/12/2018 11:21', 'UnitPrice': 1.45, 'CustomerID': 15862, 'Country': 'United Kingdom'}, {'InvoiceNo': 536401, 'StockCode': '17091A', 'Description': 'LAVENDER INCENSE IN TIN', 'Quantity': 1, 'InvoiceDate': '1/12/2018 11:21', 'UnitPrice': 1.25, 'CustomerID': 15862, 'Country': 'United Kingdom'}, {'InvoiceNo': 536401, 'StockCode': '22473', 'Description': 'TV DINNER TRAY VINTAGE PAISLEY', 'Quantity': 1, 'InvoiceDate': '1/12/2018 11:21', 'UnitPrice': 4.95, 'CustomerID': 15862, 'Country': 'United Kingdom'}, {'InvoiceNo': 536401, 'StockCode': '84509A', 'Description': 'SET OF 4 ENGLISH ROSE PLACEMATS', 'Quantity': 2, 'InvoiceDate': '1/12/2018 11:21', 'UnitPrice': 3.75, 'CustomerID': 15862, 'Country': 'United Kingdom'}, {'InvoiceNo': 536401, 'StockCode': '84510A', 'Description': 'SET OF 4 ENGLISH ROSE COASTERS', 'Quantity': 2, 'InvoiceDate': '1/12/2018 11:21', 'UnitPrice': 1.25, 'CustomerID': 15862, 'Country': 'United Kingdom'}, {'InvoiceNo': 536401, 'StockCode': '22767', 'Description': 'TRIPLE PHOTO FRAME CORNICE ', 'Quantity': 2, 'InvoiceDate': '1/12/2018 11:21', 'UnitPrice': 9.95, 'CustomerID': 15862, 'Country': 'United Kingdom'}, {'InvoiceNo': 536401, 'StockCode': '22768', 'Description': 'FAMILY PHOTO FRAME CORNICE', 'Quantity': 1, 'InvoiceDate': '1/12/2018 11:21', 'UnitPrice': 9.95, 'CustomerID': 15862, 'Country': 'United Kingdom'}, {'InvoiceNo': 536401, 'StockCode': '21463', 'Description': 'MIRRORED DISCO BALL ', 'Quantity': 1, 'InvoiceDate': '1/12/2018 11:21', 'UnitPrice': 5.95, 'CustomerID': 15862, 'Country': 'United Kingdom'}, {'InvoiceNo': 536401, 'StockCode': '21464', 'Description': 'DISCO BALL ROTATOR BATTERY OPERATED', 'Quantity': 1, 'InvoiceDate': '1/12/2018 11:21', 'UnitPrice': 4.25, 'CustomerID': 15862, 'Country': 'United Kingdom'}, {'InvoiceNo': 536401, 'StockCode': '20820', 'Description': 'SILVER LOOKING MIRROR', 'Quantity': 3, 'InvoiceDate': '1/12/2018 11:21', 'UnitPrice': 4.95, 'CustomerID': 15862, 'Country': 'United Kingdom'}, {'InvoiceNo': 536401, 'StockCode': '85150', 'Description': 'LADIES & GENTLEMEN METAL SIGN', 'Quantity': 1, 'InvoiceDate': '1/12/2018 11:21', 'UnitPrice': 2.55, 'CustomerID': 15862, 'Country': 'United Kingdom'}, {'InvoiceNo': 536401, 'StockCode': '22117', 'Description': 'METAL SIGN HER DINNER IS SERVED ', 'Quantity': 1, 'InvoiceDate': '1/12/2018 11:21', 'UnitPrice': 2.95, 'CustomerID': 15862, 'Country': 'United Kingdom'}, {'InvoiceNo': 536401, 'StockCode': '21169', 'Description': \"YOU'RE CONFUSING ME METAL SIGN \", 'Quantity': 2, 'InvoiceDate': '1/12/2018 11:21', 'UnitPrice': 1.69, 'CustomerID': 15862, 'Country': 'United Kingdom'}, {'InvoiceNo': 536401, 'StockCode': '48129', 'Description': 'DOORMAT TOPIARY', 'Quantity': 1, 'InvoiceDate': '1/12/2018 11:21', 'UnitPrice': 7.95, 'CustomerID': 15862, 'Country': 'United Kingdom'}, {'InvoiceNo': 536401, 'StockCode': '82580', 'Description': 'BATHROOM METAL SIGN', 'Quantity': 1, 'InvoiceDate': '1/12/2018 11:21', 'UnitPrice': 0.55, 'CustomerID': 15862, 'Country': 'United Kingdom'}, {'InvoiceNo': 536401, 'StockCode': '82578', 'Description': 'KITCHEN METAL SIGN', 'Quantity': 1, 'InvoiceDate': '1/12/2018 11:21', 'UnitPrice': 0.55, 'CustomerID': 15862, 'Country': 'United Kingdom'}, {'InvoiceNo': 536401, 'StockCode': '82581', 'Description': 'TOILET METAL SIGN', 'Quantity': 2, 'InvoiceDate': '1/12/2018 11:21', 'UnitPrice': 0.55, 'CustomerID': 15862, 'Country': 'United Kingdom'}, {'InvoiceNo': 536401, 'StockCode': '22413', 'Description': 'METAL SIGN TAKE IT OR LEAVE IT ', 'Quantity': 4, 'InvoiceDate': '1/12/2018 11:21', 'UnitPrice': 2.95, 'CustomerID': 15862, 'Country': 'United Kingdom'}, {'InvoiceNo': 536401, 'StockCode': '21907', 'Description': \"I'M ON HOLIDAY METAL SIGN\", 'Quantity': 2, 'InvoiceDate': '1/12/2018 11:21', 'UnitPrice': 2.1, 'CustomerID': 15862, 'Country': 'United Kingdom'}, {'InvoiceNo': 536401, 'StockCode': '22441', 'Description': 'GROW YOUR OWN BASIL IN ENAMEL MUG', 'Quantity': 1, 'InvoiceDate': '1/12/2018 11:21', 'UnitPrice': 2.1, 'CustomerID': 15862, 'Country': 'United Kingdom'}, {'InvoiceNo': 536401, 'StockCode': '21122', 'Description': 'SET/10 PINK POLKADOT PARTY CANDLES', 'Quantity': 1, 'InvoiceDate': '1/12/2018 11:21', 'UnitPrice': 1.25, 'CustomerID': 15862, 'Country': 'United Kingdom'}, {'InvoiceNo': 536401, 'StockCode': '22851', 'Description': 'SET 20 NAPKINS FAIRY CAKES DESIGN ', 'Quantity': 1, 'InvoiceDate': '1/12/2018 11:21', 'UnitPrice': 0.85, 'CustomerID': 15862, 'Country': 'United Kingdom'}, {'InvoiceNo': 536401, 'StockCode': '84991', 'Description': '60 TEATIME FAIRY CAKE CASES', 'Quantity': 3, 'InvoiceDate': '1/12/2018 11:21', 'UnitPrice': 0.55, 'CustomerID': 15862, 'Country': 'United Kingdom'}, {'InvoiceNo': 536401, 'StockCode': '22810', 'Description': 'SET OF 6 T-LIGHTS SNOWMEN', 'Quantity': 1, 'InvoiceDate': '1/12/2018 11:21', 'UnitPrice': 2.95, 'CustomerID': 15862, 'Country': 'United Kingdom'}, {'InvoiceNo': 536401, 'StockCode': '22809', 'Description': 'SET OF 6 T-LIGHTS SANTA', 'Quantity': 1, 'InvoiceDate': '1/12/2018 11:21', 'UnitPrice': 2.95, 'CustomerID': 15862, 'Country': 'United Kingdom'}, {'InvoiceNo': 536401, 'StockCode': '22435', 'Description': 'SET OF 9 HEART SHAPED BALLOONS', 'Quantity': 2, 'InvoiceDate': '1/12/2018 11:21', 'UnitPrice': 1.25, 'CustomerID': 15862, 'Country': 'United Kingdom'}, {'InvoiceNo': 536401, 'StockCode': '20966', 'Description': 'SANDWICH BATH SPONGE', 'Quantity': 3, 'InvoiceDate': '1/12/2018 11:21', 'UnitPrice': 1.25, 'CustomerID': 15862, 'Country': 'United Kingdom'}, {'InvoiceNo': 536401, 'StockCode': '20963', 'Description': 'APPLE BATH SPONGE', 'Quantity': 1, 'InvoiceDate': '1/12/2018 11:21', 'UnitPrice': 1.25, 'CustomerID': 15862, 'Country': 'United Kingdom'}, {'InvoiceNo': 536401, 'StockCode': '20961', 'Description': 'STRAWBERRY BATH SPONGE ', 'Quantity': 1, 'InvoiceDate': '1/12/2018 11:21', 'UnitPrice': 1.25, 'CustomerID': 15862, 'Country': 'United Kingdom'}, {'InvoiceNo': 536401, 'StockCode': '22068', 'Description': 'BLACK PIRATE TREASURE CHEST', 'Quantity': 2, 'InvoiceDate': '1/12/2018 11:21', 'UnitPrice': 1.65, 'CustomerID': 15862, 'Country': 'United Kingdom'}, {'InvoiceNo': 536401, 'StockCode': '21743', 'Description': 'STAR PORTABLE TABLE LIGHT ', 'Quantity': 2, 'InvoiceDate': '1/12/2018 11:21', 'UnitPrice': 2.95, 'CustomerID': 15862, 'Country': 'United Kingdom'}, {'InvoiceNo': 536401, 'StockCode': '21744', 'Description': 'SNOWFLAKE PORTABLE TABLE LIGHT ', 'Quantity': 2, 'InvoiceDate': '1/12/2018 11:21', 'UnitPrice': 2.95, 'CustomerID': 15862, 'Country': 'United Kingdom'}, {'InvoiceNo': 536401, 'StockCode': '84709B', 'Description': 'PINK OVAL JEWELLED MIRROR', 'Quantity': 1, 'InvoiceDate': '1/12/2018 11:21', 'UnitPrice': 5.95, 'CustomerID': 15862, 'Country': 'United Kingdom'}, {'InvoiceNo': 536401, 'StockCode': '21592', 'Description': 'RETROSPOT CIGAR BOX MATCHES ', 'Quantity': 1, 'InvoiceDate': '1/12/2018 11:21', 'UnitPrice': 1.25, 'CustomerID': 15862, 'Country': 'United Kingdom'}, {'InvoiceNo': 536401, 'StockCode': '21587', 'Description': 'COSY HOUR GIANT TUBE MATCHES', 'Quantity': 2, 'InvoiceDate': '1/12/2018 11:21', 'UnitPrice': 2.55, 'CustomerID': 15862, 'Country': 'United Kingdom'}, {'InvoiceNo': 536401, 'StockCode': '20992', 'Description': 'JAZZ HEARTS PURSE NOTEBOOK', 'Quantity': 9, 'InvoiceDate': '1/12/2018 11:21', 'UnitPrice': 0.85, 'CustomerID': 15862, 'Country': 'United Kingdom'}, {'InvoiceNo': 536401, 'StockCode': '22662', 'Description': 'LUNCH BAG DOLLY GIRL DESIGN', 'Quantity': 1, 'InvoiceDate': '1/12/2018 11:21', 'UnitPrice': 1.65, 'CustomerID': 15862, 'Country': 'United Kingdom'}, {'InvoiceNo': 536401, 'StockCode': '85123A', 'Description': 'WHITE HANGING HEART T-LIGHT HOLDER', 'Quantity': 4, 'InvoiceDate': '1/12/2018 11:21', 'UnitPrice': 2.95, 'CustomerID': 15862, 'Country': 'United Kingdom'}, {'InvoiceNo': 536401, 'StockCode': '22804', 'Description': 'CANDLEHOLDER PINK HANGING HEART', 'Quantity': 3, 'InvoiceDate': '1/12/2018 11:21', 'UnitPrice': 2.95, 'CustomerID': 15862, 'Country': 'United Kingdom'}, {'InvoiceNo': 536401, 'StockCode': '82483', 'Description': 'WOOD 2 DRAWER CABINET WHITE FINISH', 'Quantity': 1, 'InvoiceDate': '1/12/2018 11:21', 'UnitPrice': 5.95, 'CustomerID': 15862, 'Country': 'United Kingdom'}, {'InvoiceNo': 536401, 'StockCode': '20749', 'Description': 'ASSORTED COLOUR MINI CASES', 'Quantity': 1, 'InvoiceDate': '1/12/2018 11:21', 'UnitPrice': 7.95, 'CustomerID': 15862, 'Country': 'United Kingdom'}, {'InvoiceNo': 536401, 'StockCode': '20725', 'Description': 'LUNCH BAG RED RETROSPOT', 'Quantity': 1, 'InvoiceDate': '1/12/2018 11:21', 'UnitPrice': 1.65, 'CustomerID': 15862, 'Country': 'United Kingdom'}, {'InvoiceNo': 536401, 'StockCode': '22382', 'Description': 'LUNCH BAG SPACEBOY DESIGN ', 'Quantity': 2, 'InvoiceDate': '1/12/2018 11:21', 'UnitPrice': 1.65, 'CustomerID': 15862, 'Country': 'United Kingdom'}, {'InvoiceNo': 536401, 'StockCode': '20726', 'Description': 'LUNCH BAG WOODLAND', 'Quantity': 1, 'InvoiceDate': '1/12/2018 11:21', 'UnitPrice': 1.65, 'CustomerID': 15862, 'Country': 'United Kingdom'}, {'InvoiceNo': 536401, 'StockCode': '22384', 'Description': 'LUNCH BAG PINK POLKADOT', 'Quantity': 1, 'InvoiceDate': '1/12/2018 11:21', 'UnitPrice': 1.65, 'CustomerID': 15862, 'Country': 'United Kingdom'}, {'InvoiceNo': 536401, 'StockCode': '22467', 'Description': 'GUMBALL COAT RACK', 'Quantity': 5, 'InvoiceDate': '1/12/2018 11:21', 'UnitPrice': 2.55, 'CustomerID': 15862, 'Country': 'United Kingdom'}, {'InvoiceNo': 536401, 'StockCode': '84625C', 'Description': 'BLUE NEW BAROQUE CANDLESTICK CANDLE', 'Quantity': 3, 'InvoiceDate': '1/12/2018 11:21', 'UnitPrice': 2.95, 'CustomerID': 15862, 'Country': 'United Kingdom'}, {'InvoiceNo': 536401, 'StockCode': '84625A', 'Description': 'PINK NEW BAROQUECANDLESTICK CANDLE', 'Quantity': 3, 'InvoiceDate': '1/12/2018 11:21', 'UnitPrice': 2.95, 'CustomerID': 15862, 'Country': 'United Kingdom'}, {'InvoiceNo': 536401, 'StockCode': '21108', 'Description': 'FAIRY CAKE FLANNEL ASSORTED COLOUR', 'Quantity': 9, 'InvoiceDate': '1/12/2018 11:21', 'UnitPrice': 2.55, 'CustomerID': 15862, 'Country': 'United Kingdom'}, {'InvoiceNo': 536401, 'StockCode': '22848', 'Description': 'BREAD BIN DINER STYLE PINK', 'Quantity': 1, 'InvoiceDate': '1/12/2018 11:21', 'UnitPrice': 16.95, 'CustomerID': 15862, 'Country': 'United Kingdom'}, {'InvoiceNo': 536401, 'StockCode': '21033', 'Description': 'JUMBO BAG CHARLIE AND LOLA TOYS', 'Quantity': 4, 'InvoiceDate': '1/12/2018 11:21', 'UnitPrice': 2.95, 'CustomerID': 15862, 'Country': 'United Kingdom'}, {'InvoiceNo': 536401, 'StockCode': '47570B', 'Description': 'TEA TIME TABLE CLOTH', 'Quantity': 1, 'InvoiceDate': '1/12/2018 11:21', 'UnitPrice': 10.65, 'CustomerID': 15862, 'Country': 'United Kingdom'}, {'InvoiceNo': 536401, 'StockCode': '84030E', 'Description': 'ENGLISH ROSE HOT WATER BOTTLE', 'Quantity': 1, 'InvoiceDate': '1/12/2018 11:21', 'UnitPrice': 4.25, 'CustomerID': 15862, 'Country': 'United Kingdom'}, {'InvoiceNo': 536401, 'StockCode': '22428', 'Description': 'ENAMEL FIRE BUCKET CREAM', 'Quantity': 2, 'InvoiceDate': '1/12/2018 11:21', 'UnitPrice': 6.95, 'CustomerID': 15862, 'Country': 'United Kingdom'}, {'InvoiceNo': 536401, 'StockCode': '22502', 'Description': 'PICNIC BASKET WICKER SMALL', 'Quantity': 2, 'InvoiceDate': '1/12/2018 11:21', 'UnitPrice': 5.95, 'CustomerID': 15862, 'Country': 'United Kingdom'}, {'InvoiceNo': 536402, 'StockCode': '22086', 'Description': \"PAPER CHAIN KIT 50'S CHRISTMAS \", 'Quantity': 40, 'InvoiceDate': '1/12/2018 11:22', 'UnitPrice': 2.55, 'CustomerID': 15513, 'Country': 'United Kingdom'}, {'InvoiceNo': 536402, 'StockCode': '22910', 'Description': 'PAPER CHAIN KIT VINTAGE CHRISTMAS', 'Quantity': 40, 'InvoiceDate': '1/12/2018 11:22', 'UnitPrice': 2.55, 'CustomerID': 15513, 'Country': 'United Kingdom'}, {'InvoiceNo': 536402, 'StockCode': '22837', 'Description': 'HOT WATER BOTTLE BABUSHKA ', 'Quantity': 36, 'InvoiceDate': '1/12/2018 11:22', 'UnitPrice': 4.25, 'CustomerID': 15513, 'Country': 'United Kingdom'}, {'InvoiceNo': 536403, 'StockCode': '22867', 'Description': 'HAND WARMER BIRD DESIGN', 'Quantity': 96, 'InvoiceDate': '1/12/2018 11:27', 'UnitPrice': 1.85, 'CustomerID': 12791, 'Country': 'Netherlands'}, {'InvoiceNo': 536403, 'StockCode': 'POST', 'Description': 'POSTAGE', 'Quantity': 1, 'InvoiceDate': '1/12/2018 11:27', 'UnitPrice': 15.0, 'CustomerID': 12791, 'Country': 'Netherlands'}, {'InvoiceNo': 536404, 'StockCode': '22297', 'Description': 'HEART IVORY TRELLIS SMALL', 'Quantity': 24, 'InvoiceDate': '1/12/2018 11:29', 'UnitPrice': 1.25, 'CustomerID': 16218, 'Country': 'United Kingdom'}, {'InvoiceNo': 536404, 'StockCode': '22771', 'Description': 'CLEAR DRAWER KNOB ACRYLIC EDWARDIAN', 'Quantity': 12, 'InvoiceDate': '1/12/2018 11:29', 'UnitPrice': 1.25, 'CustomerID': 16218, 'Country': 'United Kingdom'}, {'InvoiceNo': 536404, 'StockCode': '22772', 'Description': 'PINK DRAWER KNOB ACRYLIC EDWARDIAN', 'Quantity': 12, 'InvoiceDate': '1/12/2018 11:29', 'UnitPrice': 1.25, 'CustomerID': 16218, 'Country': 'United Kingdom'}, {'InvoiceNo': 536404, 'StockCode': '22773', 'Description': 'GREEN DRAWER KNOB ACRYLIC EDWARDIAN', 'Quantity': 12, 'InvoiceDate': '1/12/2018 11:29', 'UnitPrice': 1.25, 'CustomerID': 16218, 'Country': 'United Kingdom'}, {'InvoiceNo': 536404, 'StockCode': '22805', 'Description': 'BLUE DRAWER KNOB ACRYLIC EDWARDIAN', 'Quantity': 12, 'InvoiceDate': '1/12/2018 11:29', 'UnitPrice': 1.25, 'CustomerID': 16218, 'Country': 'United Kingdom'}, {'InvoiceNo': 536404, 'StockCode': '22469', 'Description': 'HEART OF WICKER SMALL', 'Quantity': 12, 'InvoiceDate': '1/12/2018 11:29', 'UnitPrice': 1.65, 'CustomerID': 16218, 'Country': 'United Kingdom'}, {'InvoiceNo': 536404, 'StockCode': '22197', 'Description': 'SMALL POPCORN HOLDER', 'Quantity': 36, 'InvoiceDate': '1/12/2018 11:29', 'UnitPrice': 0.85, 'CustomerID': 16218, 'Country': 'United Kingdom'}, {'InvoiceNo': 536404, 'StockCode': '21125', 'Description': 'SET 6 FOOTBALL CELEBRATION CANDLES', 'Quantity': 12, 'InvoiceDate': '1/12/2018 11:29', 'UnitPrice': 1.25, 'CustomerID': 16218, 'Country': 'United Kingdom'}, {'InvoiceNo': 536404, 'StockCode': '21126', 'Description': 'SET OF 6 GIRLS CELEBRATION CANDLES', 'Quantity': 12, 'InvoiceDate': '1/12/2018 11:29', 'UnitPrice': 1.25, 'CustomerID': 16218, 'Country': 'United Kingdom'}, {'InvoiceNo': 536404, 'StockCode': '85049C', 'Description': 'ROMANTIC PINKS RIBBONS ', 'Quantity': 12, 'InvoiceDate': '1/12/2018 11:29', 'UnitPrice': 1.25, 'CustomerID': 16218, 'Country': 'United Kingdom'}, {'InvoiceNo': 536404, 'StockCode': '85049D', 'Description': 'BRIGHT BLUES RIBBONS ', 'Quantity': 12, 'InvoiceDate': '1/12/2018 11:29', 'UnitPrice': 1.25, 'CustomerID': 16218, 'Country': 'United Kingdom'}, {'InvoiceNo': 536404, 'StockCode': '85049E', 'Description': 'SCANDINAVIAN REDS RIBBONS', 'Quantity': 12, 'InvoiceDate': '1/12/2018 11:29', 'UnitPrice': 1.25, 'CustomerID': 16218, 'Country': 'United Kingdom'}, {'InvoiceNo': 536404, 'StockCode': '85049G', 'Description': 'CHOCOLATE BOX RIBBONS ', 'Quantity': 12, 'InvoiceDate': '1/12/2018 11:29', 'UnitPrice': 1.25, 'CustomerID': 16218, 'Country': 'United Kingdom'}, {'InvoiceNo': 536404, 'StockCode': '21061', 'Description': 'PARTY INVITES FOOTBALL', 'Quantity': 12, 'InvoiceDate': '1/12/2018 11:29', 'UnitPrice': 0.85, 'CustomerID': 16218, 'Country': 'United Kingdom'}, {'InvoiceNo': 536404, 'StockCode': '21063', 'Description': 'PARTY INVITES JAZZ HEARTS', 'Quantity': 12, 'InvoiceDate': '1/12/2018 11:29', 'UnitPrice': 0.85, 'CustomerID': 16218, 'Country': 'United Kingdom'}, {'InvoiceNo': 536404, 'StockCode': '21062', 'Description': 'PARTY INVITES SPACEMAN', 'Quantity': 12, 'InvoiceDate': '1/12/2018 11:29', 'UnitPrice': 0.85, 'CustomerID': 16218, 'Country': 'United Kingdom'}, {'InvoiceNo': 536404, 'StockCode': '84380', 'Description': 'SET OF 3 BUTTERFLY COOKIE CUTTERS', 'Quantity': 12, 'InvoiceDate': '1/12/2018 11:29', 'UnitPrice': 1.25, 'CustomerID': 16218, 'Country': 'United Kingdom'}, {'InvoiceNo': 536404, 'StockCode': '84378', 'Description': 'SET OF 3 HEART COOKIE CUTTERS', 'Quantity': 12, 'InvoiceDate': '1/12/2018 11:29', 'UnitPrice': 1.25, 'CustomerID': 16218, 'Country': 'United Kingdom'}, {'InvoiceNo': 536404, 'StockCode': '22964', 'Description': '3 PIECE SPACEBOY COOKIE CUTTER SET', 'Quantity': 12, 'InvoiceDate': '1/12/2018 11:29', 'UnitPrice': 2.1, 'CustomerID': 16218, 'Country': 'United Kingdom'}, {'InvoiceNo': 536404, 'StockCode': '21213', 'Description': 'PACK OF 72 SKULL CAKE CASES', 'Quantity': 24, 'InvoiceDate': '1/12/2018 11:29', 'UnitPrice': 0.55, 'CustomerID': 16218, 'Country': 'United Kingdom'}, {'InvoiceNo': 536404, 'StockCode': '22417', 'Description': 'PACK OF 60 SPACEBOY CAKE CASES', 'Quantity': 24, 'InvoiceDate': '1/12/2018 11:29', 'UnitPrice': 0.55, 'CustomerID': 16218, 'Country': 'United Kingdom'}, {'InvoiceNo': 536404, 'StockCode': '21212', 'Description': 'PACK OF 72 RETROSPOT CAKE CASES', 'Quantity': 24, 'InvoiceDate': '1/12/2018 11:29', 'UnitPrice': 0.55, 'CustomerID': 16218, 'Country': 'United Kingdom'}, {'InvoiceNo': 536404, 'StockCode': '84992', 'Description': '72 SWEETHEART FAIRY CAKE CASES', 'Quantity': 24, 'InvoiceDate': '1/12/2018 11:29', 'UnitPrice': 0.55, 'CustomerID': 16218, 'Country': 'United Kingdom'}, {'InvoiceNo': 536404, 'StockCode': '21975', 'Description': 'PACK OF 60 DINOSAUR CAKE CASES', 'Quantity': 24, 'InvoiceDate': '1/12/2018 11:29', 'UnitPrice': 0.55, 'CustomerID': 16218, 'Country': 'United Kingdom'}, {'InvoiceNo': 536404, 'StockCode': '22383', 'Description': 'LUNCH BAG SUKI  DESIGN ', 'Quantity': 10, 'InvoiceDate': '1/12/2018 11:29', 'UnitPrice': 1.65, 'CustomerID': 16218, 'Country': 'United Kingdom'}, {'InvoiceNo': 536404, 'StockCode': '20728', 'Description': 'LUNCH BAG CARS BLUE', 'Quantity': 10, 'InvoiceDate': '1/12/2018 11:29', 'UnitPrice': 1.65, 'CustomerID': 16218, 'Country': 'United Kingdom'}, {'InvoiceNo': 536404, 'StockCode': '20727', 'Description': 'LUNCH BAG  BLACK SKULL.', 'Quantity': 10, 'InvoiceDate': '1/12/2018 11:29', 'UnitPrice': 1.65, 'CustomerID': 16218, 'Country': 'United Kingdom'}, {'InvoiceNo': 536404, 'StockCode': '22296', 'Description': 'HEART IVORY TRELLIS LARGE', 'Quantity': 24, 'InvoiceDate': '1/12/2018 11:29', 'UnitPrice': 1.65, 'CustomerID': 16218, 'Country': 'United Kingdom'}, {'InvoiceNo': 536405, 'StockCode': '20914', 'Description': 'SET/5 RED RETROSPOT LID GLASS BOWLS', 'Quantity': 128, 'InvoiceDate': '1/12/2018 11:32', 'UnitPrice': 2.55, 'CustomerID': 14045, 'Country': 'United Kingdom'}, {'InvoiceNo': 536406, 'StockCode': '85123A', 'Description': 'WHITE HANGING HEART T-LIGHT HOLDER', 'Quantity': 8, 'InvoiceDate': '1/12/2018 11:33', 'UnitPrice': 2.55, 'CustomerID': 17850, 'Country': 'United Kingdom'}, {'InvoiceNo': 536406, 'StockCode': '71053', 'Description': 'WHITE METAL LANTERN', 'Quantity': 8, 'InvoiceDate': '1/12/2018 11:33', 'UnitPrice': 3.39, 'CustomerID': 17850, 'Country': 'United Kingdom'}, {'InvoiceNo': 536406, 'StockCode': '84406B', 'Description': 'CREAM CUPID HEARTS COAT HANGER', 'Quantity': 8, 'InvoiceDate': '1/12/2018 11:33', 'UnitPrice': 2.75, 'CustomerID': 17850, 'Country': 'United Kingdom'}, {'InvoiceNo': 536406, 'StockCode': '20679', 'Description': 'EDWARDIAN PARASOL RED', 'Quantity': 6, 'InvoiceDate': '1/12/2018 11:33', 'UnitPrice': 4.95, 'CustomerID': 17850, 'Country': 'United Kingdom'}, {'InvoiceNo': 536406, 'StockCode': '37370', 'Description': 'RETRO COFFEE MUGS ASSORTED', 'Quantity': 6, 'InvoiceDate': '1/12/2018 11:33', 'UnitPrice': 1.06, 'CustomerID': 17850, 'Country': 'United Kingdom'}, {'InvoiceNo': 536406, 'StockCode': '21871', 'Description': 'SAVE THE PLANET MUG', 'Quantity': 6, 'InvoiceDate': '1/12/2018 11:33', 'UnitPrice': 1.06, 'CustomerID': 17850, 'Country': 'United Kingdom'}, {'InvoiceNo': 536406, 'StockCode': '21071', 'Description': 'VINTAGE BILLBOARD DRINK ME MUG', 'Quantity': 6, 'InvoiceDate': '1/12/2018 11:33', 'UnitPrice': 1.06, 'CustomerID': 17850, 'Country': 'United Kingdom'}, {'InvoiceNo': 536406, 'StockCode': '21068', 'Description': 'VINTAGE BILLBOARD LOVE/HATE MUG', 'Quantity': 6, 'InvoiceDate': '1/12/2018 11:33', 'UnitPrice': 1.06, 'CustomerID': 17850, 'Country': 'United Kingdom'}, {'InvoiceNo': 536406, 'StockCode': '82483', 'Description': 'WOOD 2 DRAWER CABINET WHITE FINISH', 'Quantity': 4, 'InvoiceDate': '1/12/2018 11:33', 'UnitPrice': 4.95, 'CustomerID': 17850, 'Country': 'United Kingdom'}, {'InvoiceNo': 536406, 'StockCode': '82486', 'Description': 'WOOD S/3 CABINET ANT WHITE FINISH', 'Quantity': 4, 'InvoiceDate': '1/12/2018 11:33', 'UnitPrice': 6.95, 'CustomerID': 17850, 'Country': 'United Kingdom'}, {'InvoiceNo': 536406, 'StockCode': '82482', 'Description': 'WOODEN PICTURE FRAME WHITE FINISH', 'Quantity': 6, 'InvoiceDate': '1/12/2018 11:33', 'UnitPrice': 2.1, 'CustomerID': 17850, 'Country': 'United Kingdom'}, {'InvoiceNo': 536406, 'StockCode': '82494L', 'Description': 'WOODEN FRAME ANTIQUE WHITE ', 'Quantity': 6, 'InvoiceDate': '1/12/2018 11:33', 'UnitPrice': 2.55, 'CustomerID': 17850, 'Country': 'United Kingdom'}, {'InvoiceNo': 536406, 'StockCode': '84029G', 'Description': 'KNITTED UNION FLAG HOT WATER BOTTLE', 'Quantity': 6, 'InvoiceDate': '1/12/2018 11:33', 'UnitPrice': 3.39, 'CustomerID': 17850, 'Country': 'United Kingdom'}, {'InvoiceNo': 536406, 'StockCode': '84029E', 'Description': 'RED WOOLLY HOTTIE WHITE HEART.', 'Quantity': 6, 'InvoiceDate': '1/12/2018 11:33', 'UnitPrice': 3.39, 'CustomerID': 17850, 'Country': 'United Kingdom'}, {'InvoiceNo': 536406, 'StockCode': '22752', 'Description': 'SET 7 BABUSHKA NESTING BOXES', 'Quantity': 2, 'InvoiceDate': '1/12/2018 11:33', 'UnitPrice': 7.65, 'CustomerID': 17850, 'Country': 'United Kingdom'}, {'InvoiceNo': 536406, 'StockCode': '22803', 'Description': 'IVORY EMBROIDERED QUILT ', 'Quantity': 2, 'InvoiceDate': '1/12/2018 11:33', 'UnitPrice': 35.75, 'CustomerID': 17850, 'Country': 'United Kingdom'}, {'InvoiceNo': 536406, 'StockCode': '21730', 'Description': 'GLASS STAR FROSTED T-LIGHT HOLDER', 'Quantity': 6, 'InvoiceDate': '1/12/2018 11:33', 'UnitPrice': 4.25, 'CustomerID': 17850, 'Country': 'United Kingdom'}, {'InvoiceNo': 536407, 'StockCode': '22632', 'Description': 'HAND WARMER RED POLKA DOT', 'Quantity': 6, 'InvoiceDate': '1/12/2018 11:34', 'UnitPrice': 1.85, 'CustomerID': 17850, 'Country': 'United Kingdom'}, {'InvoiceNo': 536407, 'StockCode': '22633', 'Description': 'HAND WARMER UNION JACK', 'Quantity': 6, 'InvoiceDate': '1/12/2018 11:34', 'UnitPrice': 1.85, 'CustomerID': 17850, 'Country': 'United Kingdom'}, {'InvoiceNo': 536408, 'StockCode': '22537', 'Description': 'MAGIC DRAWING SLATE DINOSAUR', 'Quantity': 24, 'InvoiceDate': '1/12/2018 11:41', 'UnitPrice': 0.42, 'CustomerID': 14307, 'Country': 'United Kingdom'}, {'InvoiceNo': 536408, 'StockCode': '22533', 'Description': 'MAGIC DRAWING SLATE BAKE A CAKE ', 'Quantity': 24, 'InvoiceDate': '1/12/2018 11:41', 'UnitPrice': 0.42, 'CustomerID': 14307, 'Country': 'United Kingdom'}, {'InvoiceNo': 536408, 'StockCode': '20982', 'Description': '12 PENCILS TALL TUBE SKULLS', 'Quantity': 12, 'InvoiceDate': '1/12/2018 11:41', 'UnitPrice': 0.85, 'CustomerID': 14307, 'Country': 'United Kingdom'}, {'InvoiceNo': 536408, 'StockCode': '21832', 'Description': 'CHOCOLATE CALCULATOR', 'Quantity': 12, 'InvoiceDate': '1/12/2018 11:41', 'UnitPrice': 1.65, 'CustomerID': 14307, 'Country': 'United Kingdom'}, {'InvoiceNo': 536408, 'StockCode': '21915', 'Description': 'RED  HARMONICA IN BOX ', 'Quantity': 12, 'InvoiceDate': '1/12/2018 11:41', 'UnitPrice': 1.25, 'CustomerID': 14307, 'Country': 'United Kingdom'}, {'InvoiceNo': 536408, 'StockCode': '21914', 'Description': 'BLUE HARMONICA IN BOX ', 'Quantity': 12, 'InvoiceDate': '1/12/2018 11:41', 'UnitPrice': 1.25, 'CustomerID': 14307, 'Country': 'United Kingdom'}, {'InvoiceNo': 536408, 'StockCode': '21544', 'Description': 'SKULLS  WATER TRANSFER TATTOOS ', 'Quantity': 12, 'InvoiceDate': '1/12/2018 11:41', 'UnitPrice': 0.85, 'CustomerID': 14307, 'Country': 'United Kingdom'}, {'InvoiceNo': 536408, 'StockCode': '22813', 'Description': 'PACK 3 BOXES BIRD PANNETONE ', 'Quantity': 12, 'InvoiceDate': '1/12/2018 11:41', 'UnitPrice': 1.95, 'CustomerID': 14307, 'Country': 'United Kingdom'}, {'InvoiceNo': 536408, 'StockCode': '22114', 'Description': 'HOT WATER BOTTLE TEA AND SYMPATHY', 'Quantity': 4, 'InvoiceDate': '1/12/2018 11:41', 'UnitPrice': 3.95, 'CustomerID': 14307, 'Country': 'United Kingdom'}, {'InvoiceNo': 536408, 'StockCode': '84029E', 'Description': 'RED WOOLLY HOTTIE WHITE HEART.', 'Quantity': 4, 'InvoiceDate': '1/12/2018 11:41', 'UnitPrice': 3.75, 'CustomerID': 14307, 'Country': 'United Kingdom'}, {'InvoiceNo': 536408, 'StockCode': '21479', 'Description': 'WHITE SKULL HOT WATER BOTTLE ', 'Quantity': 4, 'InvoiceDate': '1/12/2018 11:41', 'UnitPrice': 3.75, 'CustomerID': 14307, 'Country': 'United Kingdom'}, {'InvoiceNo': 536408, 'StockCode': '22964', 'Description': '3 PIECE SPACEBOY COOKIE CUTTER SET', 'Quantity': 6, 'InvoiceDate': '1/12/2018 11:41', 'UnitPrice': 2.1, 'CustomerID': 14307, 'Country': 'United Kingdom'}, {'InvoiceNo': 536408, 'StockCode': '84375', 'Description': 'SET OF 20 KIDS COOKIE CUTTERS', 'Quantity': 12, 'InvoiceDate': '1/12/2018 11:41', 'UnitPrice': 2.1, 'CustomerID': 14307, 'Country': 'United Kingdom'}, {'InvoiceNo': 536408, 'StockCode': '22418', 'Description': '10 COLOUR SPACEBOY PEN', 'Quantity': 24, 'InvoiceDate': '1/12/2018 11:41', 'UnitPrice': 0.85, 'CustomerID': 14307, 'Country': 'United Kingdom'}, {'InvoiceNo': 536408, 'StockCode': '22178', 'Description': 'VICTORIAN GLASS HANGING T-LIGHT', 'Quantity': 12, 'InvoiceDate': '1/12/2018 11:41', 'UnitPrice': 1.25, 'CustomerID': 14307, 'Country': 'United Kingdom'}, {'InvoiceNo': 536408, 'StockCode': '84970L', 'Description': 'SINGLE HEART ZINC T-LIGHT HOLDER', 'Quantity': 12, 'InvoiceDate': '1/12/2018 11:41', 'UnitPrice': 0.95, 'CustomerID': 14307, 'Country': 'United Kingdom'}, {'InvoiceNo': 536408, 'StockCode': '21733', 'Description': 'RED HANGING HEART T-LIGHT HOLDER', 'Quantity': 6, 'InvoiceDate': '1/12/2018 11:41', 'UnitPrice': 2.95, 'CustomerID': 14307, 'Country': 'United Kingdom'}, {'InvoiceNo': 536408, 'StockCode': '22465', 'Description': 'HANGING METAL STAR LANTERN', 'Quantity': 12, 'InvoiceDate': '1/12/2018 11:41', 'UnitPrice': 1.65, 'CustomerID': 14307, 'Country': 'United Kingdom'}, {'InvoiceNo': 536408, 'StockCode': '84949', 'Description': 'SILVER HANGING T-LIGHT HOLDER', 'Quantity': 6, 'InvoiceDate': '1/12/2018 11:41', 'UnitPrice': 1.65, 'CustomerID': 14307, 'Country': 'United Kingdom'}, {'InvoiceNo': 536408, 'StockCode': '20685', 'Description': 'DOORMAT RED RETROSPOT', 'Quantity': 2, 'InvoiceDate': '1/12/2018 11:41', 'UnitPrice': 7.95, 'CustomerID': 14307, 'Country': 'United Kingdom'}, {'InvoiceNo': 536408, 'StockCode': '48194', 'Description': 'DOORMAT HEARTS', 'Quantity': 2, 'InvoiceDate': '1/12/2018 11:41', 'UnitPrice': 7.95, 'CustomerID': 14307, 'Country': 'United Kingdom'}, {'InvoiceNo': 536408, 'StockCode': '22488', 'Description': 'NATURAL SLATE RECTANGLE CHALKBOARD', 'Quantity': 12, 'InvoiceDate': '1/12/2018 11:41', 'UnitPrice': 1.65, 'CustomerID': 14307, 'Country': 'United Kingdom'}, {'InvoiceNo': 536408, 'StockCode': '22219', 'Description': 'LOVEBIRD HANGING DECORATION WHITE ', 'Quantity': 12, 'InvoiceDate': '1/12/2018 11:41', 'UnitPrice': 0.85, 'CustomerID': 14307, 'Country': 'United Kingdom'}, {'InvoiceNo': 536408, 'StockCode': '84879', 'Description': 'ASSORTED COLOUR BIRD ORNAMENT', 'Quantity': 8, 'InvoiceDate': '1/12/2018 11:41', 'UnitPrice': 1.69, 'CustomerID': 14307, 'Country': 'United Kingdom'}, {'InvoiceNo': 536408, 'StockCode': '21754', 'Description': 'HOME BUILDING BLOCK WORD', 'Quantity': 3, 'InvoiceDate': '1/12/2018 11:41', 'UnitPrice': 5.95, 'CustomerID': 14307, 'Country': 'United Kingdom'}, {'InvoiceNo': 536408, 'StockCode': '21755', 'Description': 'LOVE BUILDING BLOCK WORD', 'Quantity': 3, 'InvoiceDate': '1/12/2018 11:41', 'UnitPrice': 5.95, 'CustomerID': 14307, 'Country': 'United Kingdom'}, {'InvoiceNo': 536408, 'StockCode': '22766', 'Description': 'PHOTO FRAME CORNICE', 'Quantity': 8, 'InvoiceDate': '1/12/2018 11:41', 'UnitPrice': 2.95, 'CustomerID': 14307, 'Country': 'United Kingdom'}, {'InvoiceNo': 536408, 'StockCode': '22610', 'Description': 'PENS ASSORTED FUNNY FACE', 'Quantity': 36, 'InvoiceDate': '1/12/2018 11:41', 'UnitPrice': 0.85, 'CustomerID': 14307, 'Country': 'United Kingdom'}, {'InvoiceNo': 536408, 'StockCode': '22716', 'Description': 'CARD CIRCUS PARADE', 'Quantity': 12, 'InvoiceDate': '1/12/2018 11:41', 'UnitPrice': 0.42, 'CustomerID': 14307, 'Country': 'United Kingdom'}, {'InvoiceNo': 536408, 'StockCode': '22706', 'Description': 'WRAP COWBOYS  ', 'Quantity': 25, 'InvoiceDate': '1/12/2018 11:41', 'UnitPrice': 0.42, 'CustomerID': 14307, 'Country': 'United Kingdom'}, {'InvoiceNo': 536408, 'StockCode': '22371', 'Description': 'AIRLINE BAG VINTAGE TOKYO 78', 'Quantity': 4, 'InvoiceDate': '1/12/2018 11:41', 'UnitPrice': 4.25, 'CustomerID': 14307, 'Country': 'United Kingdom'}, {'InvoiceNo': 536408, 'StockCode': '85014B', 'Description': 'RED RETROSPOT UMBRELLA', 'Quantity': 3, 'InvoiceDate': '1/12/2018 11:41', 'UnitPrice': 5.95, 'CustomerID': 14307, 'Country': 'United Kingdom'}, {'InvoiceNo': 536408, 'StockCode': '85014A', 'Description': 'BLACK/BLUE POLKADOT UMBRELLA', 'Quantity': 3, 'InvoiceDate': '1/12/2018 11:41', 'UnitPrice': 5.95, 'CustomerID': 14307, 'Country': 'United Kingdom'}, {'InvoiceNo': 536408, 'StockCode': '84997B', 'Description': 'RED 3 PIECE RETROSPOT CUTLERY SET', 'Quantity': 6, 'InvoiceDate': '1/12/2018 11:41', 'UnitPrice': 3.75, 'CustomerID': 14307, 'Country': 'United Kingdom'}, {'InvoiceNo': 536408, 'StockCode': '21212', 'Description': 'PACK OF 72 RETROSPOT CAKE CASES', 'Quantity': 24, 'InvoiceDate': '1/12/2018 11:41', 'UnitPrice': 0.55, 'CustomerID': 14307, 'Country': 'United Kingdom'}, {'InvoiceNo': 536408, 'StockCode': '21210', 'Description': 'SET OF 72 RETROSPOT PAPER  DOILIES', 'Quantity': 12, 'InvoiceDate': '1/12/2018 11:41', 'UnitPrice': 1.45, 'CustomerID': 14307, 'Country': 'United Kingdom'}, {'InvoiceNo': 536408, 'StockCode': '22914', 'Description': 'BLUE COAT RACK PARIS FASHION', 'Quantity': 3, 'InvoiceDate': '1/12/2018 11:41', 'UnitPrice': 4.95, 'CustomerID': 14307, 'Country': 'United Kingdom'}, {'InvoiceNo': 536408, 'StockCode': '22553', 'Description': 'PLASTERS IN TIN SKULLS', 'Quantity': 12, 'InvoiceDate': '1/12/2018 11:41', 'UnitPrice': 1.65, 'CustomerID': 14307, 'Country': 'United Kingdom'}, {'InvoiceNo': 536408, 'StockCode': '16237', 'Description': 'SLEEPING CAT ERASERS', 'Quantity': 30, 'InvoiceDate': '1/12/2018 11:41', 'UnitPrice': 0.21, 'CustomerID': 14307, 'Country': 'United Kingdom'}, {'InvoiceNo': 536408, 'StockCode': '22714', 'Description': 'CARD BIRTHDAY COWBOY', 'Quantity': 12, 'InvoiceDate': '1/12/2018 11:41', 'UnitPrice': 0.42, 'CustomerID': 14307, 'Country': 'United Kingdom'}, {'InvoiceNo': 536408, 'StockCode': '22812', 'Description': 'PACK 3 BOXES CHRISTMAS PANNETONE', 'Quantity': 12, 'InvoiceDate': '1/12/2018 11:41', 'UnitPrice': 1.95, 'CustomerID': 14307, 'Country': 'United Kingdom'}, {'InvoiceNo': 536408, 'StockCode': '84347', 'Description': 'ROTATING SILVER ANGELS T-LIGHT HLDR', 'Quantity': 6, 'InvoiceDate': '1/12/2018 11:41', 'UnitPrice': 2.55, 'CustomerID': 14307, 'Country': 'United Kingdom'}, {'InvoiceNo': 536408, 'StockCode': '21587', 'Description': 'COSY HOUR GIANT TUBE MATCHES', 'Quantity': 12, 'InvoiceDate': '1/12/2018 11:41', 'UnitPrice': 2.55, 'CustomerID': 14307, 'Country': 'United Kingdom'}, {'InvoiceNo': 536408, 'StockCode': '22736', 'Description': 'RIBBON REEL MAKING SNOWMEN ', 'Quantity': 10, 'InvoiceDate': '1/12/2018 11:41', 'UnitPrice': 1.65, 'CustomerID': 14307, 'Country': 'United Kingdom'}, {'InvoiceNo': 536408, 'StockCode': '22492', 'Description': 'MINI PAINT SET VINTAGE ', 'Quantity': 36, 'InvoiceDate': '1/12/2018 11:41', 'UnitPrice': 0.65, 'CustomerID': 14307, 'Country': 'United Kingdom'}, {'InvoiceNo': 536408, 'StockCode': '22620', 'Description': '4 TRADITIONAL SPINNING TOPS', 'Quantity': 12, 'InvoiceDate': '1/12/2018 11:41', 'UnitPrice': 1.25, 'CustomerID': 14307, 'Country': 'United Kingdom'}, {'InvoiceNo': 536408, 'StockCode': '22619', 'Description': 'SET OF 6 SOLDIER SKITTLES', 'Quantity': 4, 'InvoiceDate': '1/12/2018 11:41', 'UnitPrice': 3.75, 'CustomerID': 14307, 'Country': 'United Kingdom'}, {'InvoiceNo': 536408, 'StockCode': '21705', 'Description': 'BAG 500g SWIRLY MARBLES', 'Quantity': 12, 'InvoiceDate': '1/12/2018 11:41', 'UnitPrice': 1.65, 'CustomerID': 14307, 'Country': 'United Kingdom'}, {'InvoiceNo': 536409, 'StockCode': '90199C', 'Description': '5 STRAND GLASS NECKLACE CRYSTAL', 'Quantity': 3, 'InvoiceDate': '1/12/2018 11:45', 'UnitPrice': 6.35, 'CustomerID': 17908, 'Country': 'United Kingdom'}, {'InvoiceNo': 536409, 'StockCode': '21479', 'Description': 'WHITE SKULL HOT WATER BOTTLE ', 'Quantity': 1, 'InvoiceDate': '1/12/2018 11:45', 'UnitPrice': 3.75, 'CustomerID': 17908, 'Country': 'United Kingdom'}, {'InvoiceNo': 536409, 'StockCode': '22111', 'Description': 'SCOTTIE DOG HOT WATER BOTTLE', 'Quantity': 1, 'InvoiceDate': '1/12/2018 11:45', 'UnitPrice': 4.95, 'CustomerID': 17908, 'Country': 'United Kingdom'}, {'InvoiceNo': 536409, 'StockCode': '22785', 'Description': 'SQUARECUSHION COVER PINK UNION FLAG', 'Quantity': 1, 'InvoiceDate': '1/12/2018 11:45', 'UnitPrice': 6.75, 'CustomerID': 17908, 'Country': 'United Kingdom'}, {'InvoiceNo': 536409, 'StockCode': '22975', 'Description': 'SPACEBOY CHILDRENS EGG CUP', 'Quantity': 1, 'InvoiceDate': '1/12/2018 11:45', 'UnitPrice': 1.25, 'CustomerID': 17908, 'Country': 'United Kingdom'}, {'InvoiceNo': 536409, 'StockCode': '22972', 'Description': \"CHILDREN'S SPACEBOY MUG\", 'Quantity': 1, 'InvoiceDate': '1/12/2018 11:45', 'UnitPrice': 1.65, 'CustomerID': 17908, 'Country': 'United Kingdom'}, {'InvoiceNo': 536409, 'StockCode': '22866', 'Description': 'HAND WARMER SCOTTY DOG DESIGN', 'Quantity': 1, 'InvoiceDate': '1/12/2018 11:45', 'UnitPrice': 2.1, 'CustomerID': 17908, 'Country': 'United Kingdom'}, {'InvoiceNo': 536409, 'StockCode': '22568', 'Description': 'FELTCRAFT CUSHION OWL', 'Quantity': 1, 'InvoiceDate': '1/12/2018 11:45', 'UnitPrice': 3.75, 'CustomerID': 17908, 'Country': 'United Kingdom'}, {'InvoiceNo': 536409, 'StockCode': '85116', 'Description': 'BLACK CANDELABRA T-LIGHT HOLDER', 'Quantity': 1, 'InvoiceDate': '1/12/2018 11:45', 'UnitPrice': 2.1, 'CustomerID': 17908, 'Country': 'United Kingdom'}, {'InvoiceNo': 536409, 'StockCode': '22664', 'Description': 'TOY TIDY DOLLY GIRL DESIGN', 'Quantity': 1, 'InvoiceDate': '1/12/2018 11:45', 'UnitPrice': 2.1, 'CustomerID': 17908, 'Country': 'United Kingdom'}, {'InvoiceNo': 536409, 'StockCode': '21609', 'Description': 'SET 12 LAVENDER  BOTANICAL T-LIGHTS', 'Quantity': 1, 'InvoiceDate': '1/12/2018 11:45', 'UnitPrice': 2.95, 'CustomerID': 17908, 'Country': 'United Kingdom'}, {'InvoiceNo': 536409, 'StockCode': '21866', 'Description': 'UNION JACK FLAG LUGGAGE TAG', 'Quantity': 1, 'InvoiceDate': '1/12/2018 11:45', 'UnitPrice': 1.25, 'CustomerID': 17908, 'Country': 'United Kingdom'}, {'InvoiceNo': 536409, 'StockCode': '20669', 'Description': 'RED HEART LUGGAGE TAG', 'Quantity': 1, 'InvoiceDate': '1/12/2018 11:45', 'UnitPrice': 1.25, 'CustomerID': 17908, 'Country': 'United Kingdom'}, {'InvoiceNo': 536409, 'StockCode': '90129F', 'Description': 'RED GLASS TASSLE BAG CHARM', 'Quantity': 1, 'InvoiceDate': '1/12/2018 11:45', 'UnitPrice': 2.95, 'CustomerID': 17908, 'Country': 'United Kingdom'}, {'InvoiceNo': 536409, 'StockCode': '90210B', 'Description': 'CLEAR ACRYLIC FACETED BANGLE', 'Quantity': 1, 'InvoiceDate': '1/12/2018 11:45', 'UnitPrice': 2.95, 'CustomerID': 17908, 'Country': 'United Kingdom'}, {'InvoiceNo': 536409, 'StockCode': '90199C', 'Description': '5 STRAND GLASS NECKLACE CRYSTAL', 'Quantity': 1, 'InvoiceDate': '1/12/2018 11:45', 'UnitPrice': 6.35, 'CustomerID': 17908, 'Country': 'United Kingdom'}, {'InvoiceNo': 536409, 'StockCode': '21955', 'Description': 'DOORMAT UNION JACK GUNS AND ROSES', 'Quantity': 1, 'InvoiceDate': '1/12/2018 11:45', 'UnitPrice': 7.95, 'CustomerID': 17908, 'Country': 'United Kingdom'}, {'InvoiceNo': 536409, 'StockCode': '72802C', 'Description': 'VANILLA SCENT CANDLE JEWELLED BOX', 'Quantity': 1, 'InvoiceDate': '1/12/2018 11:45', 'UnitPrice': 4.25, 'CustomerID': 17908, 'Country': 'United Kingdom'}, {'InvoiceNo': 536409, 'StockCode': '22109', 'Description': 'FULL ENGLISH BREAKFAST PLATE', 'Quantity': 1, 'InvoiceDate': '1/12/2018 11:45', 'UnitPrice': 3.75, 'CustomerID': 17908, 'Country': 'United Kingdom'}, {'InvoiceNo': 536409, 'StockCode': '85116', 'Description': 'BLACK CANDELABRA T-LIGHT HOLDER', 'Quantity': 5, 'InvoiceDate': '1/12/2018 11:45', 'UnitPrice': 2.1, 'CustomerID': 17908, 'Country': 'United Kingdom'}, {'InvoiceNo': 536409, 'StockCode': '22531', 'Description': 'MAGIC DRAWING SLATE CIRCUS PARADE  ', 'Quantity': 1, 'InvoiceDate': '1/12/2018 11:45', 'UnitPrice': 0.42, 'CustomerID': 17908, 'Country': 'United Kingdom'}, {'InvoiceNo': 536409, 'StockCode': '21811', 'Description': 'CHRISTMAS HANGING HEART WITH BELL', 'Quantity': 1, 'InvoiceDate': '1/12/2018 11:45', 'UnitPrice': 1.25, 'CustomerID': 17908, 'Country': 'United Kingdom'}, {'InvoiceNo': 536409, 'StockCode': '22183', 'Description': 'CAKE STAND VICTORIAN FILIGREE MED', 'Quantity': 1, 'InvoiceDate': '1/12/2018 11:45', 'UnitPrice': 6.75, 'CustomerID': 17908, 'Country': 'United Kingdom'}, {'InvoiceNo': 536409, 'StockCode': '21678', 'Description': 'PAISLEY PATTERN  STICKERS', 'Quantity': 6, 'InvoiceDate': '1/12/2018 11:45', 'UnitPrice': 0.85, 'CustomerID': 17908, 'Country': 'United Kingdom'}, {'InvoiceNo': 536409, 'StockCode': '21676', 'Description': 'FLOWERS  STICKERS', 'Quantity': 6, 'InvoiceDate': '1/12/2018 11:45', 'UnitPrice': 0.85, 'CustomerID': 17908, 'Country': 'United Kingdom'}, {'InvoiceNo': 536409, 'StockCode': '84625A', 'Description': 'PINK NEW BAROQUECANDLESTICK CANDLE', 'Quantity': 1, 'InvoiceDate': '1/12/2018 11:45', 'UnitPrice': 2.95, 'CustomerID': 17908, 'Country': 'United Kingdom'}]\n"
          ]
        }
      ]
    },
    {
      "cell_type": "code",
      "metadata": {
        "id": "B-2YAb66Y7HR",
        "colab": {
          "base_uri": "https://localhost:8080/"
        },
        "outputId": "bbd2ccd9-9968-403c-d299-683f7ef39f18"
      },
      "source": [
        "print(type(result))\n",
        "print(len(result))"
      ],
      "execution_count": null,
      "outputs": [
        {
          "output_type": "stream",
          "name": "stdout",
          "text": [
            "<class 'list'>\n",
            "500\n"
          ]
        }
      ]
    },
    {
      "cell_type": "code",
      "source": [
        "result[0]"
      ],
      "metadata": {
        "colab": {
          "base_uri": "https://localhost:8080/"
        },
        "id": "Ato4qkXIE6mL",
        "outputId": "4bee268e-fa73-423d-a327-9db9c7d1df87"
      },
      "execution_count": null,
      "outputs": [
        {
          "output_type": "execute_result",
          "data": {
            "text/plain": [
              "{'InvoiceNo': 536365,\n",
              " 'StockCode': '85123A',\n",
              " 'Description': 'WHITE HANGING HEART T-LIGHT HOLDER',\n",
              " 'Quantity': 6,\n",
              " 'InvoiceDate': '1/12/2018 08:26',\n",
              " 'UnitPrice': 2.55,\n",
              " 'CustomerID': 17850,\n",
              " 'Country': 'United Kingdom'}"
            ]
          },
          "metadata": {},
          "execution_count": 169
        }
      ]
    },
    {
      "cell_type": "code",
      "metadata": {
        "id": "78oqloFtZbRA",
        "colab": {
          "base_uri": "https://localhost:8080/",
          "height": 652
        },
        "outputId": "f7e7e1d9-c112-471b-c789-c23350e72e16"
      },
      "source": [
        "retail = pd.DataFrame(result)\n",
        "retail"
      ],
      "execution_count": null,
      "outputs": [
        {
          "output_type": "execute_result",
          "data": {
            "text/plain": [
              "     InvoiceNo StockCode                          Description  Quantity  \\\n",
              "0       536365    85123A   WHITE HANGING HEART T-LIGHT HOLDER         6   \n",
              "1       536365     71053                  WHITE METAL LANTERN         6   \n",
              "2       536365    84406B       CREAM CUPID HEARTS COAT HANGER         8   \n",
              "3       536365    84029G  KNITTED UNION FLAG HOT WATER BOTTLE         6   \n",
              "4       536365    84029E       RED WOOLLY HOTTIE WHITE HEART.         6   \n",
              "..         ...       ...                                  ...       ...   \n",
              "495     536409     21811    CHRISTMAS HANGING HEART WITH BELL         1   \n",
              "496     536409     22183    CAKE STAND VICTORIAN FILIGREE MED         1   \n",
              "497     536409     21678            PAISLEY PATTERN  STICKERS         6   \n",
              "498     536409     21676                    FLOWERS  STICKERS         6   \n",
              "499     536409    84625A   PINK NEW BAROQUECANDLESTICK CANDLE         1   \n",
              "\n",
              "         InvoiceDate  UnitPrice  CustomerID         Country  \n",
              "0    1/12/2018 08:26       2.55       17850  United Kingdom  \n",
              "1    1/12/2018 08:26       3.39       17850  United Kingdom  \n",
              "2    1/12/2018 08:26       2.75       17850  United Kingdom  \n",
              "3    1/12/2018 08:26       3.39       17850  United Kingdom  \n",
              "4    1/12/2018 08:26       3.39       17850  United Kingdom  \n",
              "..               ...        ...         ...             ...  \n",
              "495  1/12/2018 11:45       1.25       17908  United Kingdom  \n",
              "496  1/12/2018 11:45       6.75       17908  United Kingdom  \n",
              "497  1/12/2018 11:45       0.85       17908  United Kingdom  \n",
              "498  1/12/2018 11:45       0.85       17908  United Kingdom  \n",
              "499  1/12/2018 11:45       2.95       17908  United Kingdom  \n",
              "\n",
              "[500 rows x 8 columns]"
            ],
            "text/html": [
              "\n",
              "  <div id=\"df-888e6aad-710e-47b1-b063-a8f9da145da9\" class=\"colab-df-container\">\n",
              "    <div>\n",
              "<style scoped>\n",
              "    .dataframe tbody tr th:only-of-type {\n",
              "        vertical-align: middle;\n",
              "    }\n",
              "\n",
              "    .dataframe tbody tr th {\n",
              "        vertical-align: top;\n",
              "    }\n",
              "\n",
              "    .dataframe thead th {\n",
              "        text-align: right;\n",
              "    }\n",
              "</style>\n",
              "<table border=\"1\" class=\"dataframe\">\n",
              "  <thead>\n",
              "    <tr style=\"text-align: right;\">\n",
              "      <th></th>\n",
              "      <th>InvoiceNo</th>\n",
              "      <th>StockCode</th>\n",
              "      <th>Description</th>\n",
              "      <th>Quantity</th>\n",
              "      <th>InvoiceDate</th>\n",
              "      <th>UnitPrice</th>\n",
              "      <th>CustomerID</th>\n",
              "      <th>Country</th>\n",
              "    </tr>\n",
              "  </thead>\n",
              "  <tbody>\n",
              "    <tr>\n",
              "      <th>0</th>\n",
              "      <td>536365</td>\n",
              "      <td>85123A</td>\n",
              "      <td>WHITE HANGING HEART T-LIGHT HOLDER</td>\n",
              "      <td>6</td>\n",
              "      <td>1/12/2018 08:26</td>\n",
              "      <td>2.55</td>\n",
              "      <td>17850</td>\n",
              "      <td>United Kingdom</td>\n",
              "    </tr>\n",
              "    <tr>\n",
              "      <th>1</th>\n",
              "      <td>536365</td>\n",
              "      <td>71053</td>\n",
              "      <td>WHITE METAL LANTERN</td>\n",
              "      <td>6</td>\n",
              "      <td>1/12/2018 08:26</td>\n",
              "      <td>3.39</td>\n",
              "      <td>17850</td>\n",
              "      <td>United Kingdom</td>\n",
              "    </tr>\n",
              "    <tr>\n",
              "      <th>2</th>\n",
              "      <td>536365</td>\n",
              "      <td>84406B</td>\n",
              "      <td>CREAM CUPID HEARTS COAT HANGER</td>\n",
              "      <td>8</td>\n",
              "      <td>1/12/2018 08:26</td>\n",
              "      <td>2.75</td>\n",
              "      <td>17850</td>\n",
              "      <td>United Kingdom</td>\n",
              "    </tr>\n",
              "    <tr>\n",
              "      <th>3</th>\n",
              "      <td>536365</td>\n",
              "      <td>84029G</td>\n",
              "      <td>KNITTED UNION FLAG HOT WATER BOTTLE</td>\n",
              "      <td>6</td>\n",
              "      <td>1/12/2018 08:26</td>\n",
              "      <td>3.39</td>\n",
              "      <td>17850</td>\n",
              "      <td>United Kingdom</td>\n",
              "    </tr>\n",
              "    <tr>\n",
              "      <th>4</th>\n",
              "      <td>536365</td>\n",
              "      <td>84029E</td>\n",
              "      <td>RED WOOLLY HOTTIE WHITE HEART.</td>\n",
              "      <td>6</td>\n",
              "      <td>1/12/2018 08:26</td>\n",
              "      <td>3.39</td>\n",
              "      <td>17850</td>\n",
              "      <td>United Kingdom</td>\n",
              "    </tr>\n",
              "    <tr>\n",
              "      <th>...</th>\n",
              "      <td>...</td>\n",
              "      <td>...</td>\n",
              "      <td>...</td>\n",
              "      <td>...</td>\n",
              "      <td>...</td>\n",
              "      <td>...</td>\n",
              "      <td>...</td>\n",
              "      <td>...</td>\n",
              "    </tr>\n",
              "    <tr>\n",
              "      <th>495</th>\n",
              "      <td>536409</td>\n",
              "      <td>21811</td>\n",
              "      <td>CHRISTMAS HANGING HEART WITH BELL</td>\n",
              "      <td>1</td>\n",
              "      <td>1/12/2018 11:45</td>\n",
              "      <td>1.25</td>\n",
              "      <td>17908</td>\n",
              "      <td>United Kingdom</td>\n",
              "    </tr>\n",
              "    <tr>\n",
              "      <th>496</th>\n",
              "      <td>536409</td>\n",
              "      <td>22183</td>\n",
              "      <td>CAKE STAND VICTORIAN FILIGREE MED</td>\n",
              "      <td>1</td>\n",
              "      <td>1/12/2018 11:45</td>\n",
              "      <td>6.75</td>\n",
              "      <td>17908</td>\n",
              "      <td>United Kingdom</td>\n",
              "    </tr>\n",
              "    <tr>\n",
              "      <th>497</th>\n",
              "      <td>536409</td>\n",
              "      <td>21678</td>\n",
              "      <td>PAISLEY PATTERN  STICKERS</td>\n",
              "      <td>6</td>\n",
              "      <td>1/12/2018 11:45</td>\n",
              "      <td>0.85</td>\n",
              "      <td>17908</td>\n",
              "      <td>United Kingdom</td>\n",
              "    </tr>\n",
              "    <tr>\n",
              "      <th>498</th>\n",
              "      <td>536409</td>\n",
              "      <td>21676</td>\n",
              "      <td>FLOWERS  STICKERS</td>\n",
              "      <td>6</td>\n",
              "      <td>1/12/2018 11:45</td>\n",
              "      <td>0.85</td>\n",
              "      <td>17908</td>\n",
              "      <td>United Kingdom</td>\n",
              "    </tr>\n",
              "    <tr>\n",
              "      <th>499</th>\n",
              "      <td>536409</td>\n",
              "      <td>84625A</td>\n",
              "      <td>PINK NEW BAROQUECANDLESTICK CANDLE</td>\n",
              "      <td>1</td>\n",
              "      <td>1/12/2018 11:45</td>\n",
              "      <td>2.95</td>\n",
              "      <td>17908</td>\n",
              "      <td>United Kingdom</td>\n",
              "    </tr>\n",
              "  </tbody>\n",
              "</table>\n",
              "<p>500 rows × 8 columns</p>\n",
              "</div>\n",
              "    <div class=\"colab-df-buttons\">\n",
              "\n",
              "  <div class=\"colab-df-container\">\n",
              "    <button class=\"colab-df-convert\" onclick=\"convertToInteractive('df-888e6aad-710e-47b1-b063-a8f9da145da9')\"\n",
              "            title=\"Convert this dataframe to an interactive table.\"\n",
              "            style=\"display:none;\">\n",
              "\n",
              "  <svg xmlns=\"http://www.w3.org/2000/svg\" height=\"24px\" viewBox=\"0 -960 960 960\">\n",
              "    <path d=\"M120-120v-720h720v720H120Zm60-500h600v-160H180v160Zm220 220h160v-160H400v160Zm0 220h160v-160H400v160ZM180-400h160v-160H180v160Zm440 0h160v-160H620v160ZM180-180h160v-160H180v160Zm440 0h160v-160H620v160Z\"/>\n",
              "  </svg>\n",
              "    </button>\n",
              "\n",
              "  <style>\n",
              "    .colab-df-container {\n",
              "      display:flex;\n",
              "      gap: 12px;\n",
              "    }\n",
              "\n",
              "    .colab-df-convert {\n",
              "      background-color: #E8F0FE;\n",
              "      border: none;\n",
              "      border-radius: 50%;\n",
              "      cursor: pointer;\n",
              "      display: none;\n",
              "      fill: #1967D2;\n",
              "      height: 32px;\n",
              "      padding: 0 0 0 0;\n",
              "      width: 32px;\n",
              "    }\n",
              "\n",
              "    .colab-df-convert:hover {\n",
              "      background-color: #E2EBFA;\n",
              "      box-shadow: 0px 1px 2px rgba(60, 64, 67, 0.3), 0px 1px 3px 1px rgba(60, 64, 67, 0.15);\n",
              "      fill: #174EA6;\n",
              "    }\n",
              "\n",
              "    .colab-df-buttons div {\n",
              "      margin-bottom: 4px;\n",
              "    }\n",
              "\n",
              "    [theme=dark] .colab-df-convert {\n",
              "      background-color: #3B4455;\n",
              "      fill: #D2E3FC;\n",
              "    }\n",
              "\n",
              "    [theme=dark] .colab-df-convert:hover {\n",
              "      background-color: #434B5C;\n",
              "      box-shadow: 0px 1px 3px 1px rgba(0, 0, 0, 0.15);\n",
              "      filter: drop-shadow(0px 1px 2px rgba(0, 0, 0, 0.3));\n",
              "      fill: #FFFFFF;\n",
              "    }\n",
              "  </style>\n",
              "\n",
              "    <script>\n",
              "      const buttonEl =\n",
              "        document.querySelector('#df-888e6aad-710e-47b1-b063-a8f9da145da9 button.colab-df-convert');\n",
              "      buttonEl.style.display =\n",
              "        google.colab.kernel.accessAllowed ? 'block' : 'none';\n",
              "\n",
              "      async function convertToInteractive(key) {\n",
              "        const element = document.querySelector('#df-888e6aad-710e-47b1-b063-a8f9da145da9');\n",
              "        const dataTable =\n",
              "          await google.colab.kernel.invokeFunction('convertToInteractive',\n",
              "                                                    [key], {});\n",
              "        if (!dataTable) return;\n",
              "\n",
              "        const docLinkHtml = 'Like what you see? Visit the ' +\n",
              "          '<a target=\"_blank\" href=https://colab.research.google.com/notebooks/data_table.ipynb>data table notebook</a>'\n",
              "          + ' to learn more about interactive tables.';\n",
              "        element.innerHTML = '';\n",
              "        dataTable['output_type'] = 'display_data';\n",
              "        await google.colab.output.renderOutput(dataTable, element);\n",
              "        const docLink = document.createElement('div');\n",
              "        docLink.innerHTML = docLinkHtml;\n",
              "        element.appendChild(docLink);\n",
              "      }\n",
              "    </script>\n",
              "  </div>\n",
              "\n",
              "\n",
              "<div id=\"df-c0ffdabf-56ca-480a-a32a-6dbd585980e9\">\n",
              "  <button class=\"colab-df-quickchart\" onclick=\"quickchart('df-c0ffdabf-56ca-480a-a32a-6dbd585980e9')\"\n",
              "            title=\"Suggest charts\"\n",
              "            style=\"display:none;\">\n",
              "\n",
              "<svg xmlns=\"http://www.w3.org/2000/svg\" height=\"24px\"viewBox=\"0 0 24 24\"\n",
              "     width=\"24px\">\n",
              "    <g>\n",
              "        <path d=\"M19 3H5c-1.1 0-2 .9-2 2v14c0 1.1.9 2 2 2h14c1.1 0 2-.9 2-2V5c0-1.1-.9-2-2-2zM9 17H7v-7h2v7zm4 0h-2V7h2v10zm4 0h-2v-4h2v4z\"/>\n",
              "    </g>\n",
              "</svg>\n",
              "  </button>\n",
              "\n",
              "<style>\n",
              "  .colab-df-quickchart {\n",
              "      --bg-color: #E8F0FE;\n",
              "      --fill-color: #1967D2;\n",
              "      --hover-bg-color: #E2EBFA;\n",
              "      --hover-fill-color: #174EA6;\n",
              "      --disabled-fill-color: #AAA;\n",
              "      --disabled-bg-color: #DDD;\n",
              "  }\n",
              "\n",
              "  [theme=dark] .colab-df-quickchart {\n",
              "      --bg-color: #3B4455;\n",
              "      --fill-color: #D2E3FC;\n",
              "      --hover-bg-color: #434B5C;\n",
              "      --hover-fill-color: #FFFFFF;\n",
              "      --disabled-bg-color: #3B4455;\n",
              "      --disabled-fill-color: #666;\n",
              "  }\n",
              "\n",
              "  .colab-df-quickchart {\n",
              "    background-color: var(--bg-color);\n",
              "    border: none;\n",
              "    border-radius: 50%;\n",
              "    cursor: pointer;\n",
              "    display: none;\n",
              "    fill: var(--fill-color);\n",
              "    height: 32px;\n",
              "    padding: 0;\n",
              "    width: 32px;\n",
              "  }\n",
              "\n",
              "  .colab-df-quickchart:hover {\n",
              "    background-color: var(--hover-bg-color);\n",
              "    box-shadow: 0 1px 2px rgba(60, 64, 67, 0.3), 0 1px 3px 1px rgba(60, 64, 67, 0.15);\n",
              "    fill: var(--button-hover-fill-color);\n",
              "  }\n",
              "\n",
              "  .colab-df-quickchart-complete:disabled,\n",
              "  .colab-df-quickchart-complete:disabled:hover {\n",
              "    background-color: var(--disabled-bg-color);\n",
              "    fill: var(--disabled-fill-color);\n",
              "    box-shadow: none;\n",
              "  }\n",
              "\n",
              "  .colab-df-spinner {\n",
              "    border: 2px solid var(--fill-color);\n",
              "    border-color: transparent;\n",
              "    border-bottom-color: var(--fill-color);\n",
              "    animation:\n",
              "      spin 1s steps(1) infinite;\n",
              "  }\n",
              "\n",
              "  @keyframes spin {\n",
              "    0% {\n",
              "      border-color: transparent;\n",
              "      border-bottom-color: var(--fill-color);\n",
              "      border-left-color: var(--fill-color);\n",
              "    }\n",
              "    20% {\n",
              "      border-color: transparent;\n",
              "      border-left-color: var(--fill-color);\n",
              "      border-top-color: var(--fill-color);\n",
              "    }\n",
              "    30% {\n",
              "      border-color: transparent;\n",
              "      border-left-color: var(--fill-color);\n",
              "      border-top-color: var(--fill-color);\n",
              "      border-right-color: var(--fill-color);\n",
              "    }\n",
              "    40% {\n",
              "      border-color: transparent;\n",
              "      border-right-color: var(--fill-color);\n",
              "      border-top-color: var(--fill-color);\n",
              "    }\n",
              "    60% {\n",
              "      border-color: transparent;\n",
              "      border-right-color: var(--fill-color);\n",
              "    }\n",
              "    80% {\n",
              "      border-color: transparent;\n",
              "      border-right-color: var(--fill-color);\n",
              "      border-bottom-color: var(--fill-color);\n",
              "    }\n",
              "    90% {\n",
              "      border-color: transparent;\n",
              "      border-bottom-color: var(--fill-color);\n",
              "    }\n",
              "  }\n",
              "</style>\n",
              "\n",
              "  <script>\n",
              "    async function quickchart(key) {\n",
              "      const quickchartButtonEl =\n",
              "        document.querySelector('#' + key + ' button');\n",
              "      quickchartButtonEl.disabled = true;  // To prevent multiple clicks.\n",
              "      quickchartButtonEl.classList.add('colab-df-spinner');\n",
              "      try {\n",
              "        const charts = await google.colab.kernel.invokeFunction(\n",
              "            'suggestCharts', [key], {});\n",
              "      } catch (error) {\n",
              "        console.error('Error during call to suggestCharts:', error);\n",
              "      }\n",
              "      quickchartButtonEl.classList.remove('colab-df-spinner');\n",
              "      quickchartButtonEl.classList.add('colab-df-quickchart-complete');\n",
              "    }\n",
              "    (() => {\n",
              "      let quickchartButtonEl =\n",
              "        document.querySelector('#df-c0ffdabf-56ca-480a-a32a-6dbd585980e9 button');\n",
              "      quickchartButtonEl.style.display =\n",
              "        google.colab.kernel.accessAllowed ? 'block' : 'none';\n",
              "    })();\n",
              "  </script>\n",
              "</div>\n",
              "    </div>\n",
              "  </div>\n"
            ],
            "application/vnd.google.colaboratory.intrinsic+json": {
              "type": "dataframe",
              "variable_name": "retail",
              "summary": "{\n  \"name\": \"retail\",\n  \"rows\": 500,\n  \"fields\": [\n    {\n      \"column\": \"InvoiceNo\",\n      \"properties\": {\n        \"dtype\": \"number\",\n        \"std\": 13,\n        \"min\": 536365,\n        \"max\": 536409,\n        \"num_unique_values\": 42,\n        \"samples\": [\n          536393,\n          536378,\n          536373\n        ],\n        \"semantic_type\": \"\",\n        \"description\": \"\"\n      }\n    },\n    {\n      \"column\": \"StockCode\",\n      \"properties\": {\n        \"dtype\": \"string\",\n        \"num_unique_values\": 341,\n        \"samples\": [\n          \"22785\",\n          \"22926\",\n          \"22379\"\n        ],\n        \"semantic_type\": \"\",\n        \"description\": \"\"\n      }\n    },\n    {\n      \"column\": \"Description\",\n      \"properties\": {\n        \"dtype\": \"string\",\n        \"num_unique_values\": 342,\n        \"samples\": [\n          \"KITCHEN METAL SIGN\",\n          \"IVORY GIANT GARDEN THERMOMETER\",\n          \"RECYCLING BAG RETROSPOT \"\n        ],\n        \"semantic_type\": \"\",\n        \"description\": \"\"\n      }\n    },\n    {\n      \"column\": \"Quantity\",\n      \"properties\": {\n        \"dtype\": \"number\",\n        \"std\": 38,\n        \"min\": 1,\n        \"max\": 432,\n        \"num_unique_values\": 32,\n        \"samples\": [\n          128,\n          120,\n          432\n        ],\n        \"semantic_type\": \"\",\n        \"description\": \"\"\n      }\n    },\n    {\n      \"column\": \"InvoiceDate\",\n      \"properties\": {\n        \"dtype\": \"object\",\n        \"num_unique_values\": 37,\n        \"samples\": [\n          \"1/12/2018 09:58\",\n          \"1/12/2018 09:45\",\n          \"1/12/2018 08:45\"\n        ],\n        \"semantic_type\": \"\",\n        \"description\": \"\"\n      }\n    },\n    {\n      \"column\": \"UnitPrice\",\n      \"properties\": {\n        \"dtype\": \"number\",\n        \"std\": 8.000259949158416,\n        \"min\": 0.1,\n        \"max\": 165.0,\n        \"num_unique_values\": 54,\n        \"samples\": [\n          0.42,\n          3.35,\n          0.29\n        ],\n        \"semantic_type\": \"\",\n        \"description\": \"\"\n      }\n    },\n    {\n      \"column\": \"CustomerID\",\n      \"properties\": {\n        \"dtype\": \"number\",\n        \"std\": 1773,\n        \"min\": 12431,\n        \"max\": 18074,\n        \"num_unique_values\": 29,\n        \"samples\": [\n          14307,\n          13705,\n          16029\n        ],\n        \"semantic_type\": \"\",\n        \"description\": \"\"\n      }\n    },\n    {\n      \"column\": \"Country\",\n      \"properties\": {\n        \"dtype\": \"category\",\n        \"num_unique_values\": 4,\n        \"samples\": [\n          \"France\",\n          \"Netherlands\",\n          \"United Kingdom\"\n        ],\n        \"semantic_type\": \"\",\n        \"description\": \"\"\n      }\n    }\n  ]\n}"
            }
          },
          "metadata": {},
          "execution_count": 170
        }
      ]
    },
    {
      "cell_type": "code",
      "metadata": {
        "id": "b3DXBUqySuSq"
      },
      "source": [],
      "execution_count": null,
      "outputs": []
    }
  ]
}
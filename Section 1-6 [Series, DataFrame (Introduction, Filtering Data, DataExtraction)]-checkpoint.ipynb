{
 "cells": [
  {
   "cell_type": "markdown",
   "id": "a7be24a4",
   "metadata": {},
   "source": [
    "# Section 1 : Intro to Jupyter Notebook\n",
    "- Below, please find my super fancy algorithm "
   ]
  },
  {
   "cell_type": "code",
   "execution_count": 1,
   "id": "1c7ebb5d",
   "metadata": {},
   "outputs": [
    {
     "data": {
      "text/plain": [
       "13"
      ]
     },
     "execution_count": 1,
     "metadata": {},
     "output_type": "execute_result"
    }
   ],
   "source": [
    "4+9"
   ]
  },
  {
   "cell_type": "code",
   "execution_count": 2,
   "id": "d37c0e6f",
   "metadata": {},
   "outputs": [
    {
     "data": {
      "text/plain": [
       "5"
      ]
     },
     "execution_count": 2,
     "metadata": {},
     "output_type": "execute_result"
    }
   ],
   "source": [
    "3+2"
   ]
  },
  {
   "cell_type": "code",
   "execution_count": 3,
   "id": "bd7dc9d3",
   "metadata": {},
   "outputs": [
    {
     "data": {
      "text/plain": [
       "9"
      ]
     },
     "execution_count": 3,
     "metadata": {},
     "output_type": "execute_result"
    }
   ],
   "source": [
    "1+1 \n",
    "2-2\n",
    "3*3"
   ]
  },
  {
   "cell_type": "code",
   "execution_count": 4,
   "id": "742fd355",
   "metadata": {},
   "outputs": [
    {
     "data": {
      "text/plain": [
       "9"
      ]
     },
     "execution_count": 4,
     "metadata": {},
     "output_type": "execute_result"
    }
   ],
   "source": [
    "1+1 \n",
    "2-2\n",
    "3*3"
   ]
  },
  {
   "cell_type": "code",
   "execution_count": 5,
   "id": "809e9d66",
   "metadata": {},
   "outputs": [
    {
     "data": {
      "text/plain": [
       "9"
      ]
     },
     "execution_count": 5,
     "metadata": {},
     "output_type": "execute_result"
    }
   ],
   "source": [
    "1+1 \n",
    "2-2\n",
    "3*3"
   ]
  },
  {
   "cell_type": "code",
   "execution_count": null,
   "id": "5715d655",
   "metadata": {},
   "outputs": [],
   "source": []
  },
  {
   "cell_type": "code",
   "execution_count": 6,
   "id": "fcbb7bcd",
   "metadata": {},
   "outputs": [
    {
     "data": {
      "text/plain": [
       "9"
      ]
     },
     "execution_count": 6,
     "metadata": {},
     "output_type": "execute_result"
    }
   ],
   "source": [
    "1+1 \n",
    "2-2\n",
    "3*3"
   ]
  },
  {
   "cell_type": "markdown",
   "id": "3b1cd32f",
   "metadata": {},
   "source": [
    "# Importing Libraries into Jupyter Notebook"
   ]
  },
  {
   "cell_type": "markdown",
   "id": "d2272d70",
   "metadata": {},
   "source": [
    "- Import pandas library\n",
    "- Import numpy library "
   ]
  },
  {
   "cell_type": "code",
   "execution_count": 7,
   "id": "acf5748f",
   "metadata": {},
   "outputs": [],
   "source": [
    "import pandas as pd"
   ]
  },
  {
   "cell_type": "code",
   "execution_count": 8,
   "id": "69807fcb",
   "metadata": {},
   "outputs": [],
   "source": [
    "import numpy as np"
   ]
  },
  {
   "cell_type": "markdown",
   "id": "44c84eab",
   "metadata": {},
   "source": [
    "- Check pandas version"
   ]
  },
  {
   "cell_type": "code",
   "execution_count": 9,
   "id": "fbdc8c49",
   "metadata": {},
   "outputs": [
    {
     "data": {
      "text/plain": [
       "'1.5.3'"
      ]
     },
     "execution_count": 9,
     "metadata": {},
     "output_type": "execute_result"
    }
   ],
   "source": [
    "pd.__version__"
   ]
  },
  {
   "cell_type": "markdown",
   "id": "25343f84",
   "metadata": {},
   "source": [
    "# Section 2 : Python Crash Course "
   ]
  },
  {
   "cell_type": "markdown",
   "id": "30825122",
   "metadata": {},
   "source": [
    "##### 2.1. การใช้ Comment "
   ]
  },
  {
   "cell_type": "code",
   "execution_count": 10,
   "id": "21725835",
   "metadata": {},
   "outputs": [
    {
     "data": {
      "text/plain": [
       "4"
      ]
     },
     "execution_count": 10,
     "metadata": {},
     "output_type": "execute_result"
    }
   ],
   "source": [
    "# Solve mathematical expression using Python\n",
    "#1+1\n",
    "2+2\n",
    "#3+3"
   ]
  },
  {
   "cell_type": "markdown",
   "id": "b71bb481",
   "metadata": {},
   "source": [
    "##### 2.2 Basic Data Types\n",
    "#Integer #Date #float #String #Boolean #None etc."
   ]
  },
  {
   "cell_type": "code",
   "execution_count": 11,
   "id": "c79c5f8b",
   "metadata": {},
   "outputs": [
    {
     "data": {
      "text/plain": [
       "0"
      ]
     },
     "execution_count": 11,
     "metadata": {},
     "output_type": "execute_result"
    }
   ],
   "source": [
    "#Integer\n",
    "2\n",
    "3\n",
    "0"
   ]
  },
  {
   "cell_type": "code",
   "execution_count": 12,
   "id": "63affc79",
   "metadata": {},
   "outputs": [
    {
     "data": {
      "text/plain": [
       "-10.11"
      ]
     },
     "execution_count": 12,
     "metadata": {},
     "output_type": "execute_result"
    }
   ],
   "source": [
    "#float\n",
    "3.14\n",
    "9.99\n",
    "-10.11"
   ]
  },
  {
   "cell_type": "code",
   "execution_count": null,
   "id": "b1d6d0fd",
   "metadata": {},
   "outputs": [],
   "source": [
    "\n"
   ]
  },
  {
   "cell_type": "code",
   "execution_count": 13,
   "id": "94a35068",
   "metadata": {},
   "outputs": [
    {
     "data": {
      "text/plain": [
       "''"
      ]
     },
     "execution_count": 13,
     "metadata": {},
     "output_type": "execute_result"
    }
   ],
   "source": [
    "#string\n",
    "\"James\"\n",
    "\"139.99\"\n",
    "\"$139.99 dollars!\"\n",
    "\"\""
   ]
  },
  {
   "cell_type": "code",
   "execution_count": 14,
   "id": "1df8712f",
   "metadata": {},
   "outputs": [
    {
     "data": {
      "text/plain": [
       "False"
      ]
     },
     "execution_count": 14,
     "metadata": {},
     "output_type": "execute_result"
    }
   ],
   "source": [
    "#Boolean\n",
    "False\n",
    "True\n",
    "\n",
    "#expression of boolean\n",
    "10>12"
   ]
  },
  {
   "cell_type": "code",
   "execution_count": null,
   "id": "c52da05f",
   "metadata": {
    "scrolled": true
   },
   "outputs": [],
   "source": []
  },
  {
   "cell_type": "code",
   "execution_count": 15,
   "id": "650e47b8",
   "metadata": {},
   "outputs": [],
   "source": [
    "#None datatype represents nothing.\n",
    "None "
   ]
  },
  {
   "cell_type": "markdown",
   "id": "7604271d",
   "metadata": {},
   "source": [
    "##### 2.3. Operators\n",
    "\n",
    "#+ - x / "
   ]
  },
  {
   "cell_type": "code",
   "execution_count": 16,
   "id": "f5e40f9d",
   "metadata": {},
   "outputs": [
    {
     "data": {
      "text/plain": [
       "8"
      ]
     },
     "execution_count": 16,
     "metadata": {},
     "output_type": "execute_result"
    }
   ],
   "source": [
    "5+3 "
   ]
  },
  {
   "cell_type": "code",
   "execution_count": 17,
   "id": "8c3d0012",
   "metadata": {},
   "outputs": [
    {
     "data": {
      "text/plain": [
       "0"
      ]
     },
     "execution_count": 17,
     "metadata": {},
     "output_type": "execute_result"
    }
   ],
   "source": [
    "10-10"
   ]
  },
  {
   "cell_type": "code",
   "execution_count": 18,
   "id": "d005a1b6",
   "metadata": {},
   "outputs": [
    {
     "data": {
      "text/plain": [
       "8991"
      ]
     },
     "execution_count": 18,
     "metadata": {},
     "output_type": "execute_result"
    }
   ],
   "source": [
    "9*999"
   ]
  },
  {
   "cell_type": "code",
   "execution_count": 19,
   "id": "ec0284bd",
   "metadata": {},
   "outputs": [
    {
     "data": {
      "text/plain": [
       "8.0"
      ]
     },
     "execution_count": 19,
     "metadata": {},
     "output_type": "execute_result"
    }
   ],
   "source": [
    "64/8\n",
    "#the answer is always float datatype"
   ]
  },
  {
   "cell_type": "code",
   "execution_count": 20,
   "id": "5f5ba381",
   "metadata": {
    "scrolled": true
   },
   "outputs": [
    {
     "data": {
      "text/plain": [
       "8"
      ]
     },
     "execution_count": 20,
     "metadata": {},
     "output_type": "execute_result"
    }
   ],
   "source": [
    "64//8"
   ]
  },
  {
   "cell_type": "code",
   "execution_count": 21,
   "id": "65a611a1",
   "metadata": {},
   "outputs": [
    {
     "data": {
      "text/plain": [
       "4.666666666666667"
      ]
     },
     "execution_count": 21,
     "metadata": {},
     "output_type": "execute_result"
    }
   ],
   "source": [
    "14/3 "
   ]
  },
  {
   "cell_type": "code",
   "execution_count": 22,
   "id": "f8ea1195",
   "metadata": {},
   "outputs": [
    {
     "data": {
      "text/plain": [
       "4"
      ]
     },
     "execution_count": 22,
     "metadata": {},
     "output_type": "execute_result"
    }
   ],
   "source": [
    "14 //3  #ตัดเศษทิ้งเลย"
   ]
  },
  {
   "cell_type": "code",
   "execution_count": 23,
   "id": "294660dd",
   "metadata": {},
   "outputs": [
    {
     "name": "stdout",
     "output_type": "stream",
     "text": [
      "1\n"
     ]
    }
   ],
   "source": [
    "x = 10\n",
    "y = 3\n",
    "remainder = x % y \n",
    "print(remainder)\n",
    "#เศษหาร  = 1"
   ]
  },
  {
   "cell_type": "code",
   "execution_count": 24,
   "id": "3f7555f2",
   "metadata": {},
   "outputs": [
    {
     "data": {
      "text/plain": [
       "'James <3 Pang'"
      ]
     },
     "execution_count": 24,
     "metadata": {},
     "output_type": "execute_result"
    }
   ],
   "source": [
    "#Concenation \n",
    "\n",
    "\"James \"+\"<3\"+\" Pang\""
   ]
  },
  {
   "cell_type": "code",
   "execution_count": 1,
   "id": "f9f0fbc0",
   "metadata": {},
   "outputs": [
    {
     "data": {
      "text/plain": [
       "'DDDDDDDDDDDD'"
      ]
     },
     "execution_count": 1,
     "metadata": {},
     "output_type": "execute_result"
    }
   ],
   "source": [
    "\"D\"+(\"D\"*10)+\"D\""
   ]
  },
  {
   "cell_type": "code",
   "execution_count": 26,
   "id": "5fdaa736",
   "metadata": {
    "scrolled": true
   },
   "outputs": [
    {
     "data": {
      "text/plain": [
       "5"
      ]
     },
     "execution_count": 26,
     "metadata": {},
     "output_type": "execute_result"
    }
   ],
   "source": [
    "10 -5 "
   ]
  },
  {
   "cell_type": "code",
   "execution_count": 27,
   "id": "5df5d766",
   "metadata": {},
   "outputs": [
    {
     "data": {
      "text/plain": [
       "23"
      ]
     },
     "execution_count": 27,
     "metadata": {},
     "output_type": "execute_result"
    }
   ],
   "source": [
    "#Parenthesis Exponents Multiplication Division Addition Subtraction\n",
    "#PEMDAS\n",
    "#วงเล็บ > ยกกำลัง > คูณ > หาร > บวก > ลบ \n",
    "\n",
    "3 + 4 * 5 \n",
    "#จะได้ 4*5 ก่อน แล้วค่อยบวก 3 ตามลำดับ "
   ]
  },
  {
   "cell_type": "code",
   "execution_count": 28,
   "id": "76239a51",
   "metadata": {},
   "outputs": [
    {
     "data": {
      "text/plain": [
       "True"
      ]
     },
     "execution_count": 28,
     "metadata": {},
     "output_type": "execute_result"
    }
   ],
   "source": [
    "1==1"
   ]
  },
  {
   "cell_type": "code",
   "execution_count": 29,
   "id": "e9d78afa",
   "metadata": {},
   "outputs": [
    {
     "data": {
      "text/plain": [
       "True"
      ]
     },
     "execution_count": 29,
     "metadata": {},
     "output_type": "execute_result"
    },
    {
     "data": {
      "text/plain": [
       "True"
      ]
     },
     "execution_count": 29,
     "metadata": {},
     "output_type": "execute_result"
    }
   ],
   "source": [
    "1 == 1.0"
   ]
  },
  {
   "cell_type": "code",
   "execution_count": 30,
   "id": "44224e5f",
   "metadata": {},
   "outputs": [
    {
     "data": {
      "text/plain": [
       "False"
      ]
     },
     "execution_count": 30,
     "metadata": {},
     "output_type": "execute_result"
    }
   ],
   "source": [
    "5 == 2"
   ]
  },
  {
   "cell_type": "code",
   "execution_count": 31,
   "id": "a4b2a492",
   "metadata": {},
   "outputs": [
    {
     "data": {
      "text/plain": [
       "False"
      ]
     },
     "execution_count": 31,
     "metadata": {},
     "output_type": "execute_result"
    }
   ],
   "source": [
    "#case sensitive\n",
    "\"Hello\" == \"hello\""
   ]
  },
  {
   "cell_type": "code",
   "execution_count": 32,
   "id": "d1322a7a",
   "metadata": {},
   "outputs": [
    {
     "data": {
      "text/plain": [
       "False"
      ]
     },
     "execution_count": 32,
     "metadata": {},
     "output_type": "execute_result"
    }
   ],
   "source": [
    "5 != 5"
   ]
  },
  {
   "cell_type": "code",
   "execution_count": 33,
   "id": "47d07d65",
   "metadata": {},
   "outputs": [
    {
     "data": {
      "text/plain": [
       "True"
      ]
     },
     "execution_count": 33,
     "metadata": {},
     "output_type": "execute_result"
    }
   ],
   "source": [
    "5 != 10 "
   ]
  },
  {
   "cell_type": "code",
   "execution_count": 34,
   "id": "8812acdc",
   "metadata": {},
   "outputs": [
    {
     "data": {
      "text/plain": [
       "True"
      ]
     },
     "execution_count": 34,
     "metadata": {},
     "output_type": "execute_result"
    }
   ],
   "source": [
    "5 <= 8 "
   ]
  },
  {
   "cell_type": "code",
   "execution_count": 35,
   "id": "86f2ed95",
   "metadata": {},
   "outputs": [
    {
     "data": {
      "text/plain": [
       "False"
      ]
     },
     "execution_count": 35,
     "metadata": {},
     "output_type": "execute_result"
    }
   ],
   "source": [
    "5 <= -2 "
   ]
  },
  {
   "cell_type": "code",
   "execution_count": 36,
   "id": "4abf6e2a",
   "metadata": {},
   "outputs": [
    {
     "data": {
      "text/plain": [
       "False"
      ]
     },
     "execution_count": 36,
     "metadata": {},
     "output_type": "execute_result"
    }
   ],
   "source": [
    "10 >= 100"
   ]
  },
  {
   "cell_type": "markdown",
   "id": "c55f0313",
   "metadata": {},
   "source": [
    "##### 2.4. Variables"
   ]
  },
  {
   "cell_type": "code",
   "execution_count": 37,
   "id": "2bce0f15",
   "metadata": {},
   "outputs": [],
   "source": [
    "age = 24 "
   ]
  },
  {
   "cell_type": "code",
   "execution_count": 38,
   "id": "00893e08",
   "metadata": {
    "scrolled": false
   },
   "outputs": [
    {
     "data": {
      "text/plain": [
       "29"
      ]
     },
     "execution_count": 38,
     "metadata": {},
     "output_type": "execute_result"
    }
   ],
   "source": [
    "age + 5 \n",
    "#24+5 "
   ]
  },
  {
   "cell_type": "code",
   "execution_count": 39,
   "id": "3903a189",
   "metadata": {},
   "outputs": [
    {
     "data": {
      "text/plain": [
       "24"
      ]
     },
     "execution_count": 39,
     "metadata": {},
     "output_type": "execute_result"
    }
   ],
   "source": [
    "age "
   ]
  },
  {
   "cell_type": "code",
   "execution_count": 40,
   "id": "142c40bf",
   "metadata": {},
   "outputs": [],
   "source": [
    "age = age+5 "
   ]
  },
  {
   "cell_type": "code",
   "execution_count": 41,
   "id": "1abc97c9",
   "metadata": {},
   "outputs": [
    {
     "data": {
      "text/plain": [
       "29"
      ]
     },
     "execution_count": 41,
     "metadata": {},
     "output_type": "execute_result"
    }
   ],
   "source": [
    "age"
   ]
  },
  {
   "cell_type": "code",
   "execution_count": 42,
   "id": "8e029e58",
   "metadata": {},
   "outputs": [],
   "source": [
    "price = 19.99\n",
    "first_name = 'Thanabodee'\n",
    "profession = 'DBA'\n",
    "is_handsome = True\n",
    "# snake_case คือ การใช้ _ ในการต่อคำ"
   ]
  },
  {
   "cell_type": "code",
   "execution_count": 43,
   "id": "d0aa8aa4",
   "metadata": {},
   "outputs": [
    {
     "data": {
      "text/plain": [
       "'Thanabodee is awesome'"
      ]
     },
     "execution_count": 43,
     "metadata": {},
     "output_type": "execute_result"
    }
   ],
   "source": [
    "first_name + \" is awesome\""
   ]
  },
  {
   "cell_type": "markdown",
   "id": "f4f40f9a",
   "metadata": {},
   "source": [
    "Note that the evaluation always takes place on the right side of the equal sign (=) first"
   ]
  },
  {
   "cell_type": "code",
   "execution_count": 44,
   "id": "2ff0dab5",
   "metadata": {},
   "outputs": [],
   "source": [
    "age = age + 5 "
   ]
  },
  {
   "cell_type": "code",
   "execution_count": 45,
   "id": "43c8020c",
   "metadata": {},
   "outputs": [],
   "source": [
    "profession = 'Oracle DBA'"
   ]
  },
  {
   "cell_type": "code",
   "execution_count": 46,
   "id": "01332222",
   "metadata": {},
   "outputs": [
    {
     "data": {
      "text/plain": [
       "'Oracle DBA'"
      ]
     },
     "execution_count": 46,
     "metadata": {},
     "output_type": "execute_result"
    }
   ],
   "source": [
    "profession"
   ]
  },
  {
   "cell_type": "code",
   "execution_count": 47,
   "id": "7f33b227",
   "metadata": {},
   "outputs": [
    {
     "data": {
      "text/plain": [
       "34"
      ]
     },
     "execution_count": 47,
     "metadata": {},
     "output_type": "execute_result"
    }
   ],
   "source": [
    "#age=29\n",
    "age "
   ]
  },
  {
   "cell_type": "markdown",
   "id": "8f5b9cf4",
   "metadata": {},
   "source": [
    "##### 2.5. Built-in Functions "
   ]
  },
  {
   "cell_type": "code",
   "execution_count": 48,
   "id": "dc01bd9e",
   "metadata": {},
   "outputs": [],
   "source": [
    "a = \"How many characters do we have here?\""
   ]
  },
  {
   "cell_type": "code",
   "execution_count": 49,
   "id": "e31531a5",
   "metadata": {},
   "outputs": [
    {
     "name": "stdout",
     "output_type": "stream",
     "text": [
      "How many characters do we have here? answer = 36\n"
     ]
    }
   ],
   "source": [
    "b=len(a)\n",
    "print(a+\" answer = \"+str(b))"
   ]
  },
  {
   "cell_type": "code",
   "execution_count": 50,
   "id": "54095d56",
   "metadata": {},
   "outputs": [
    {
     "data": {
      "text/plain": [
       "'3.14'"
      ]
     },
     "execution_count": 50,
     "metadata": {},
     "output_type": "execute_result"
    }
   ],
   "source": [
    "str(3.14)"
   ]
  },
  {
   "cell_type": "code",
   "execution_count": 51,
   "id": "cf8114a6",
   "metadata": {},
   "outputs": [
    {
     "ename": "ValueError",
     "evalue": "invalid literal for int() with base 10: '3.1'",
     "output_type": "error",
     "traceback": [
      "\u001b[1;31m---------------------------------------------------------------------------\u001b[0m",
      "\u001b[1;31mValueError\u001b[0m                                Traceback (most recent call last)",
      "Cell \u001b[1;32mIn[51], line 1\u001b[0m\n\u001b[1;32m----> 1\u001b[0m \u001b[38;5;28mint\u001b[39m(\u001b[38;5;28mstr\u001b[39m(\u001b[38;5;241m3.1\u001b[39m))\n",
      "\u001b[1;31mValueError\u001b[0m: invalid literal for int() with base 10: '3.1'"
     ]
    }
   ],
   "source": [
    "int(str(3.1))"
   ]
  },
  {
   "cell_type": "code",
   "execution_count": null,
   "id": "8163d99d",
   "metadata": {},
   "outputs": [],
   "source": [
    "int(str(3))"
   ]
  },
  {
   "cell_type": "code",
   "execution_count": null,
   "id": "bc3af8ce",
   "metadata": {},
   "outputs": [],
   "source": [
    "float(str(3.1))"
   ]
  },
  {
   "cell_type": "code",
   "execution_count": null,
   "id": "0373669c",
   "metadata": {},
   "outputs": [],
   "source": [
    "type(True)"
   ]
  },
  {
   "cell_type": "code",
   "execution_count": null,
   "id": "81264e65",
   "metadata": {},
   "outputs": [],
   "source": [
    "type(a)"
   ]
  },
  {
   "cell_type": "code",
   "execution_count": null,
   "id": "01fb0e3e",
   "metadata": {},
   "outputs": [],
   "source": [
    "type(b)"
   ]
  },
  {
   "cell_type": "code",
   "execution_count": null,
   "id": "83ab631f",
   "metadata": {},
   "outputs": [],
   "source": [
    "type(3.14)"
   ]
  },
  {
   "cell_type": "code",
   "execution_count": null,
   "id": "0ac81b2b",
   "metadata": {},
   "outputs": [],
   "source": [
    "type(10)==type(15)"
   ]
  },
  {
   "cell_type": "code",
   "execution_count": null,
   "id": "664097ef",
   "metadata": {},
   "outputs": [],
   "source": [
    "type(10)==type('15')"
   ]
  },
  {
   "cell_type": "markdown",
   "id": "10561a6e",
   "metadata": {},
   "source": [
    "##### 2.6. Custom Functions"
   ]
  },
  {
   "cell_type": "markdown",
   "id": "ad1d2819",
   "metadata": {},
   "source": [
    "- Declare a function that accepts a temparature in Celcius and returns it in fahrenheit"
   ]
  },
  {
   "cell_type": "code",
   "execution_count": null,
   "id": "59fe1bc4",
   "metadata": {},
   "outputs": [],
   "source": [
    "def convert_to_fahrenhiet(celsius_temp):\n",
    "    F = ((celsius_temp)*1.8) + 32\n",
    "    return F \n",
    "    "
   ]
  },
  {
   "cell_type": "code",
   "execution_count": null,
   "id": "eb3ae7b7",
   "metadata": {},
   "outputs": [],
   "source": [
    "convert_to_fahrenhiet(0)"
   ]
  },
  {
   "cell_type": "code",
   "execution_count": null,
   "id": "b3187d84",
   "metadata": {},
   "outputs": [],
   "source": [
    "convert_to_fahrenhiet()"
   ]
  },
  {
   "cell_type": "code",
   "execution_count": null,
   "id": "55b86584",
   "metadata": {},
   "outputs": [],
   "source": [
    "convert_to_fahrenhiet(celsius_temp=24)"
   ]
  },
  {
   "cell_type": "code",
   "execution_count": null,
   "id": "49f81310",
   "metadata": {},
   "outputs": [],
   "source": [
    "convert_to_fahrenhiet(100)"
   ]
  },
  {
   "cell_type": "code",
   "execution_count": null,
   "id": "5b93e97d",
   "metadata": {},
   "outputs": [],
   "source": [
    "#give a explicit default value ด้วยการ ใส่ celsius_temp = 0 ไว้\n",
    "def convert_celcius_to_fahrenhiet(celsius_temp = 0):\n",
    "    F = ((celsius_temp)*1.8) + 32\n",
    "    return F  "
   ]
  },
  {
   "cell_type": "code",
   "execution_count": null,
   "id": "0558e619",
   "metadata": {},
   "outputs": [],
   "source": [
    "convert_celcius_to_fahrenhiet()"
   ]
  },
  {
   "cell_type": "markdown",
   "id": "d2838dd0",
   "metadata": {},
   "source": [
    "# 2.7. String Methods"
   ]
  },
  {
   "cell_type": "code",
   "execution_count": null,
   "id": "ade1e9f5",
   "metadata": {},
   "outputs": [],
   "source": [
    "profession = 'Developer'\n",
    "profession.upper()"
   ]
  },
  {
   "cell_type": "code",
   "execution_count": null,
   "id": "80b7adcf",
   "metadata": {},
   "outputs": [],
   "source": [
    "profession.upper()"
   ]
  },
  {
   "cell_type": "code",
   "execution_count": null,
   "id": "7597970c",
   "metadata": {},
   "outputs": [],
   "source": [
    "\"Developer\".upper()"
   ]
  },
  {
   "cell_type": "code",
   "execution_count": null,
   "id": "5ad73f66",
   "metadata": {},
   "outputs": [],
   "source": [
    "profession.lower()"
   ]
  },
  {
   "cell_type": "code",
   "execution_count": null,
   "id": "18c6a619",
   "metadata": {},
   "outputs": [],
   "source": [
    "profession.swapcase()"
   ]
  },
  {
   "cell_type": "code",
   "execution_count": null,
   "id": "c2e8c850",
   "metadata": {},
   "outputs": [],
   "source": [
    "#immutable คือ incapable of change (เปลี่ยนรูปไม่ได้)\n",
    "#mutable คือ capable of change (เปลี่ยนรูปได้)\n",
    "\n",
    "#string = immutable (เปลี่ยนรูปไม่ได้)\n",
    "#profession = 'Developer' (เปลี่ยน original string ไม่ได้)\n",
    "#เวลาเปลี่ยน python จะสร้าง new string object ขึ้นมาใน memory ไม่ได้เปลี่ยนแปลง original string แต่อย่างใด ทำให้มันเรียกว่า immutable object\n",
    "\n",
    "profession\n",
    "#จะเห็นได้ว่า Original string ยังเป็น 'Developer' อยู่ ไม่ได้เปลี่ยนแปลงไปตาม  profession.swapcase() แต่อย่างใด"
   ]
  },
  {
   "cell_type": "code",
   "execution_count": null,
   "id": "7305c3a5",
   "metadata": {},
   "outputs": [],
   "source": [
    "\"once upon a time\".title()"
   ]
  },
  {
   "cell_type": "code",
   "execution_count": null,
   "id": "89be9b5d",
   "metadata": {},
   "outputs": [],
   "source": [
    "\"once upon a time\".capitalize()"
   ]
  },
  {
   "cell_type": "code",
   "execution_count": null,
   "id": "6e9e2468",
   "metadata": {},
   "outputs": [],
   "source": [
    "\"ronald mcdonald\".title()"
   ]
  },
  {
   "cell_type": "code",
   "execution_count": null,
   "id": "9081e7d7",
   "metadata": {},
   "outputs": [],
   "source": [
    "profession2= \"     Developer     \""
   ]
  },
  {
   "cell_type": "code",
   "execution_count": null,
   "id": "d1f0074b",
   "metadata": {},
   "outputs": [],
   "source": [
    "profession2.lstrip()"
   ]
  },
  {
   "cell_type": "code",
   "execution_count": null,
   "id": "e7c3d2ad",
   "metadata": {},
   "outputs": [],
   "source": [
    "profession2.rstrip()"
   ]
  },
  {
   "cell_type": "code",
   "execution_count": null,
   "id": "6c737f3f",
   "metadata": {},
   "outputs": [],
   "source": [
    "profession2.strip()"
   ]
  },
  {
   "cell_type": "code",
   "execution_count": null,
   "id": "ac34314f",
   "metadata": {},
   "outputs": [],
   "source": [
    "profession2.replace('e','*')"
   ]
  },
  {
   "cell_type": "code",
   "execution_count": null,
   "id": "ff1486e5",
   "metadata": {},
   "outputs": [],
   "source": [
    "profession2.strip().replace('e','*')"
   ]
  },
  {
   "cell_type": "code",
   "execution_count": null,
   "id": "ba49f804",
   "metadata": {},
   "outputs": [],
   "source": [
    "profession2.replace('e','*').strip()"
   ]
  },
  {
   "cell_type": "code",
   "execution_count": null,
   "id": "f414c37f",
   "metadata": {},
   "outputs": [],
   "source": [
    "animal = \"rhinoceros\""
   ]
  },
  {
   "cell_type": "code",
   "execution_count": null,
   "id": "f11fd144",
   "metadata": {},
   "outputs": [],
   "source": [
    "animal.startswith('rhino')"
   ]
  },
  {
   "cell_type": "code",
   "execution_count": null,
   "id": "8bc9ec2c",
   "metadata": {},
   "outputs": [],
   "source": [
    "animal.startswith('kiminoto')"
   ]
  },
  {
   "cell_type": "code",
   "execution_count": null,
   "id": "b2cf1047",
   "metadata": {},
   "outputs": [],
   "source": [
    "animal.startswith('r')\n",
    "animal.startswith('R')\n",
    "#case sensitive !!!!!!!!!!!!!!!!!!"
   ]
  },
  {
   "cell_type": "code",
   "execution_count": null,
   "id": "b448a9a8",
   "metadata": {},
   "outputs": [],
   "source": [
    "\"ino\" in animal "
   ]
  },
  {
   "cell_type": "code",
   "execution_count": null,
   "id": "ad62d789",
   "metadata": {},
   "outputs": [],
   "source": [
    "\"r\" in animal "
   ]
  },
  {
   "cell_type": "code",
   "execution_count": null,
   "id": "74eb8e10",
   "metadata": {},
   "outputs": [],
   "source": [
    "\"ceros\" in animal"
   ]
  },
  {
   "cell_type": "code",
   "execution_count": null,
   "id": "33eb4639",
   "metadata": {},
   "outputs": [],
   "source": [
    "\"z\" in animal "
   ]
  },
  {
   "cell_type": "code",
   "execution_count": null,
   "id": "633e2797",
   "metadata": {},
   "outputs": [],
   "source": [
    "\"z\" not in animal "
   ]
  },
  {
   "cell_type": "code",
   "execution_count": null,
   "id": "aaeea0dc",
   "metadata": {},
   "outputs": [],
   "source": [
    "check = \"z\" in animal "
   ]
  },
  {
   "cell_type": "code",
   "execution_count": null,
   "id": "86d630e6",
   "metadata": {},
   "outputs": [],
   "source": [
    "party_attendees = \"Sharon, James, Ron, Blake\"\n",
    "is_attending = \"Ron\" in party_attendees"
   ]
  },
  {
   "cell_type": "code",
   "execution_count": null,
   "id": "3b687703",
   "metadata": {},
   "outputs": [],
   "source": [
    "is_attending"
   ]
  },
  {
   "cell_type": "code",
   "execution_count": null,
   "id": "f8641d9a",
   "metadata": {},
   "outputs": [],
   "source": [
    "print(is_attending)"
   ]
  },
  {
   "cell_type": "markdown",
   "id": "857f2745",
   "metadata": {},
   "source": [
    "##### 2.8. Lists\n",
    "- Mutable data stucture (แก้ไขโครงสร้างของ data ได้) that holds an ordered collection of elements "
   ]
  },
  {
   "cell_type": "code",
   "execution_count": null,
   "id": "885842f7",
   "metadata": {},
   "outputs": [],
   "source": [
    "order = [1,'eiei',3,4,5]"
   ]
  },
  {
   "cell_type": "code",
   "execution_count": null,
   "id": "cca131b6",
   "metadata": {},
   "outputs": [],
   "source": [
    "order[0]"
   ]
  },
  {
   "cell_type": "code",
   "execution_count": null,
   "id": "fc5aac68",
   "metadata": {},
   "outputs": [],
   "source": [
    "order[1]"
   ]
  },
  {
   "cell_type": "code",
   "execution_count": null,
   "id": "dc28ce71",
   "metadata": {},
   "outputs": [],
   "source": [
    "type(order[1])"
   ]
  },
  {
   "cell_type": "code",
   "execution_count": null,
   "id": "78d34bfb",
   "metadata": {},
   "outputs": [],
   "source": [
    "[True, False, False, True]"
   ]
  },
  {
   "cell_type": "code",
   "execution_count": null,
   "id": "583c1abb",
   "metadata": {},
   "outputs": [],
   "source": [
    "party_attendees = ['Michael','Freddy', 'Jason']"
   ]
  },
  {
   "cell_type": "code",
   "execution_count": null,
   "id": "de3aca2b",
   "metadata": {},
   "outputs": [],
   "source": [
    "len(party_attendees)"
   ]
  },
  {
   "cell_type": "code",
   "execution_count": null,
   "id": "722f2b90",
   "metadata": {},
   "outputs": [],
   "source": [
    "len([])"
   ]
  },
  {
   "cell_type": "code",
   "execution_count": null,
   "id": "35b14691",
   "metadata": {},
   "outputs": [],
   "source": [
    "len(party_attendees)"
   ]
  },
  {
   "cell_type": "code",
   "execution_count": null,
   "id": "55610602",
   "metadata": {},
   "outputs": [],
   "source": [
    "type([])"
   ]
  },
  {
   "cell_type": "code",
   "execution_count": null,
   "id": "52d481d7",
   "metadata": {},
   "outputs": [],
   "source": [
    "type(party_attendees)"
   ]
  },
  {
   "cell_type": "code",
   "execution_count": null,
   "id": "5f44cb57",
   "metadata": {},
   "outputs": [],
   "source": [
    "presidents = [\"Washington\",\"Jefferson\"]"
   ]
  },
  {
   "cell_type": "code",
   "execution_count": null,
   "id": "32d88f87",
   "metadata": {},
   "outputs": [],
   "source": [
    "presidents.append(2)"
   ]
  },
  {
   "cell_type": "code",
   "execution_count": null,
   "id": "6cfe9eba",
   "metadata": {},
   "outputs": [],
   "source": [
    "presidents"
   ]
  },
  {
   "cell_type": "code",
   "execution_count": null,
   "id": "10834b9d",
   "metadata": {},
   "outputs": [],
   "source": [
    "presidents.remove(presidents[2])"
   ]
  },
  {
   "cell_type": "code",
   "execution_count": null,
   "id": "2939331d",
   "metadata": {},
   "outputs": [],
   "source": [
    "presidents"
   ]
  },
  {
   "cell_type": "code",
   "execution_count": null,
   "id": "483e8366",
   "metadata": {},
   "outputs": [],
   "source": [
    "presidents.append(\"Madison\")"
   ]
  },
  {
   "cell_type": "code",
   "execution_count": null,
   "id": "2ceec42a",
   "metadata": {},
   "outputs": [],
   "source": [
    "popcorn = [\"Salted\",\"Unsalted\",\"Caramel\"]"
   ]
  },
  {
   "cell_type": "code",
   "execution_count": null,
   "id": "6171fe2e",
   "metadata": {},
   "outputs": [],
   "source": [
    "popcorn"
   ]
  },
  {
   "cell_type": "code",
   "execution_count": null,
   "id": "ebc3f8bd",
   "metadata": {},
   "outputs": [],
   "source": [
    "popcorn.pop()\n",
    "#remove the last element"
   ]
  },
  {
   "cell_type": "code",
   "execution_count": null,
   "id": "87566d6a",
   "metadata": {},
   "outputs": [],
   "source": []
  },
  {
   "cell_type": "code",
   "execution_count": null,
   "id": "26066289",
   "metadata": {},
   "outputs": [],
   "source": [
    "popcorn.remove('Unsalted')"
   ]
  },
  {
   "cell_type": "code",
   "execution_count": null,
   "id": "82c733ba",
   "metadata": {},
   "outputs": [],
   "source": [
    "popcorn"
   ]
  },
  {
   "cell_type": "code",
   "execution_count": null,
   "id": "df065ef1",
   "metadata": {},
   "outputs": [],
   "source": [
    "\"cat\" in \"caterpillar\""
   ]
  },
  {
   "cell_type": "code",
   "execution_count": null,
   "id": "bd2fbf3b",
   "metadata": {},
   "outputs": [],
   "source": [
    "planets = [\"Mercury\",\"Venus\",\"Earth\",\"Mars\"]"
   ]
  },
  {
   "cell_type": "code",
   "execution_count": null,
   "id": "9db22755",
   "metadata": {},
   "outputs": [],
   "source": [
    "\"Earth\" in planets "
   ]
  },
  {
   "cell_type": "code",
   "execution_count": null,
   "id": "aff4f32e",
   "metadata": {},
   "outputs": [],
   "source": [
    "\"earth\" in planets\n",
    "#case-sensitive"
   ]
  },
  {
   "cell_type": "code",
   "execution_count": null,
   "id": "3d70ad9f",
   "metadata": {},
   "outputs": [],
   "source": [
    "\"Mars\" not in planets "
   ]
  },
  {
   "cell_type": "markdown",
   "id": "8fcc241b",
   "metadata": {},
   "source": [
    "##### 2.9. Index Postions and Slicing"
   ]
  },
  {
   "cell_type": "code",
   "execution_count": null,
   "id": "673c38e0",
   "metadata": {},
   "outputs": [],
   "source": [
    "spiderman = 'Spiderman'"
   ]
  },
  {
   "cell_type": "code",
   "execution_count": null,
   "id": "2c9eb009",
   "metadata": {},
   "outputs": [],
   "source": [
    "spiderman(0)"
   ]
  },
  {
   "cell_type": "code",
   "execution_count": null,
   "id": "51c352ec",
   "metadata": {},
   "outputs": [],
   "source": [
    "spiderman[0]"
   ]
  },
  {
   "cell_type": "code",
   "execution_count": null,
   "id": "cec1c9b5",
   "metadata": {},
   "outputs": [],
   "source": [
    "spiderman[1]"
   ]
  },
  {
   "cell_type": "code",
   "execution_count": null,
   "id": "6393930e",
   "metadata": {},
   "outputs": [],
   "source": [
    "spiderman[-1]"
   ]
  },
  {
   "cell_type": "code",
   "execution_count": null,
   "id": "7db358c4",
   "metadata": {},
   "outputs": [],
   "source": [
    "spiderman[-9]"
   ]
  },
  {
   "cell_type": "code",
   "execution_count": null,
   "id": "49115f31",
   "metadata": {},
   "outputs": [],
   "source": [
    "#  0  1  2  3  4  5  6  7  8 \n",
    "#  S  p  i  d  e  r  m  a  n\n",
    "# -9 -8 -7 -6 -5 -4 -3 -2 -1 "
   ]
  },
  {
   "cell_type": "code",
   "execution_count": null,
   "id": "599f0771",
   "metadata": {},
   "outputs": [],
   "source": [
    "len(spiderman)"
   ]
  },
  {
   "cell_type": "code",
   "execution_count": null,
   "id": "c3113553",
   "metadata": {},
   "outputs": [],
   "source": [
    "spiderman[0:6]"
   ]
  },
  {
   "cell_type": "code",
   "execution_count": null,
   "id": "57888a46",
   "metadata": {},
   "outputs": [],
   "source": [
    "spiderman[:]\n",
    "# ความหมายคือตั้งแต่ ตำแหน่งแรก จนถึงตำแหน่งสุดท้าย "
   ]
  },
  {
   "cell_type": "code",
   "execution_count": null,
   "id": "e1324e56",
   "metadata": {},
   "outputs": [],
   "source": [
    "spiderman[-8:]\n",
    "# ความหมายคือตั้งแต่ ตำแหน่ง -8 จนถึงตำแหน่งสุดท้าย // [-8:)"
   ]
  },
  {
   "cell_type": "code",
   "execution_count": null,
   "id": "4cca710b",
   "metadata": {},
   "outputs": [],
   "source": [
    "spiderman[2:200]\n",
    "# ความหมายคือตั้งแต่ ตำแหน่ง 2 แต่ไม่เกินตำแหน่งที่ 100 // [2:100)"
   ]
  },
  {
   "cell_type": "code",
   "execution_count": null,
   "id": "5033d07c",
   "metadata": {},
   "outputs": [],
   "source": [
    "spiderman[-9 : -7]\n",
    "# ความหมายคือตั้งแต่ ตำแหน่ง -9 แต่น้อยกว่าตำแหน่ง -7 // [-9:-7)"
   ]
  },
  {
   "cell_type": "code",
   "execution_count": null,
   "id": "b9205c41",
   "metadata": {},
   "outputs": [],
   "source": [
    "superheros = [\"Batman\",\"Superman\",\"Wolverine\",\"Ironman\",\"Arnold Schwarzenger\"]"
   ]
  },
  {
   "cell_type": "code",
   "execution_count": null,
   "id": "2b2cb32e",
   "metadata": {},
   "outputs": [],
   "source": [
    "# \"Batman\",\"Superman\",\"Wolverine\",\"Ironman\",\"Arnold Schwarzenger\"]\n",
    "#  0      , 1        , 2         , 3       , 4                   \n",
    "# -5      , -4       , -3        ,-2       , -1"
   ]
  },
  {
   "cell_type": "code",
   "execution_count": null,
   "id": "43d25e75",
   "metadata": {},
   "outputs": [],
   "source": [
    "len(superheros)"
   ]
  },
  {
   "cell_type": "code",
   "execution_count": null,
   "id": "4cb13afe",
   "metadata": {},
   "outputs": [],
   "source": [
    "superheros[0]"
   ]
  },
  {
   "cell_type": "code",
   "execution_count": null,
   "id": "43fdc707",
   "metadata": {},
   "outputs": [],
   "source": [
    "superheros[-3]"
   ]
  },
  {
   "cell_type": "code",
   "execution_count": null,
   "id": "c77d2446",
   "metadata": {},
   "outputs": [],
   "source": [
    "superheros[1:3]\n",
    "# ความหมายคือตั้งแต่ ตำแหน่ง 1 แต่น้อยกว่าตำแหน่ง 3 // [1:3)"
   ]
  },
  {
   "cell_type": "code",
   "execution_count": null,
   "id": "282a51bd",
   "metadata": {},
   "outputs": [],
   "source": [
    "superheros[-5:-4]\n",
    "# ความหมายคือตั้งแต่ ตำแหน่ง -5 แต่น้อยกว่าตำแหน่ง -4 // [-5:-4)"
   ]
  },
  {
   "cell_type": "code",
   "execution_count": null,
   "id": "c5d6038e",
   "metadata": {},
   "outputs": [],
   "source": [
    "superheros[2:100]"
   ]
  },
  {
   "cell_type": "code",
   "execution_count": null,
   "id": "4a727d32",
   "metadata": {},
   "outputs": [],
   "source": [
    "superheros[-5:100]"
   ]
  },
  {
   "cell_type": "code",
   "execution_count": null,
   "id": "72ff5aa6",
   "metadata": {},
   "outputs": [],
   "source": [
    "superheros[:-1]"
   ]
  },
  {
   "cell_type": "code",
   "execution_count": null,
   "id": "b819c604",
   "metadata": {},
   "outputs": [],
   "source": [
    "Batman = superheros[0]\n"
   ]
  },
  {
   "cell_type": "code",
   "execution_count": null,
   "id": "7c204d80",
   "metadata": {},
   "outputs": [],
   "source": [
    "Batman"
   ]
  },
  {
   "cell_type": "markdown",
   "id": "95736d6b",
   "metadata": {},
   "source": [
    "##### 2.10. Dictionaries\n",
    "- An unordered collection of key-value paires"
   ]
  },
  {
   "cell_type": "code",
   "execution_count": null,
   "id": "cf6fec1e",
   "metadata": {},
   "outputs": [],
   "source": [
    "# Filet migon = 29.99 \n",
    "menu = {\n",
    "    \"Filet migon\" : 29.99,\n",
    "    \"Big Mac\" : 3.99,\n",
    "    \"Pizza\" : 0.99,\n",
    "    \"Salmon\" : 29.99\n",
    "}"
   ]
  },
  {
   "cell_type": "code",
   "execution_count": null,
   "id": "e38f21fa",
   "metadata": {},
   "outputs": [],
   "source": [
    "len(menu)"
   ]
  },
  {
   "cell_type": "code",
   "execution_count": null,
   "id": "a69248df",
   "metadata": {},
   "outputs": [],
   "source": [
    "menu"
   ]
  },
  {
   "cell_type": "code",
   "execution_count": null,
   "id": "e9abaa34",
   "metadata": {},
   "outputs": [],
   "source": [
    "menu['Big Mac']"
   ]
  },
  {
   "cell_type": "code",
   "execution_count": null,
   "id": "3ea60eee",
   "metadata": {},
   "outputs": [],
   "source": [
    "menu[\"salmon\"]"
   ]
  },
  {
   "cell_type": "code",
   "execution_count": null,
   "id": "49be666c",
   "metadata": {},
   "outputs": [],
   "source": [
    "menu[\"Salmon\"]\n",
    "#case-sensitive"
   ]
  },
  {
   "cell_type": "code",
   "execution_count": null,
   "id": "8ee77514",
   "metadata": {},
   "outputs": [],
   "source": [
    "menu[\"Burrito\"] = 13.99"
   ]
  },
  {
   "cell_type": "code",
   "execution_count": null,
   "id": "20fec895",
   "metadata": {},
   "outputs": [],
   "source": [
    "menu"
   ]
  },
  {
   "cell_type": "code",
   "execution_count": null,
   "id": "30d81b5f",
   "metadata": {},
   "outputs": [],
   "source": [
    "menu[1]"
   ]
  },
  {
   "cell_type": "code",
   "execution_count": null,
   "id": "114051de",
   "metadata": {},
   "outputs": [],
   "source": [
    "menu['Big Mac'] = 5.99"
   ]
  },
  {
   "cell_type": "code",
   "execution_count": null,
   "id": "b7eef224",
   "metadata": {},
   "outputs": [],
   "source": [
    "menu"
   ]
  },
  {
   "cell_type": "code",
   "execution_count": null,
   "id": "aa2338fa",
   "metadata": {},
   "outputs": [],
   "source": [
    "menu.pop('Big Mac')"
   ]
  },
  {
   "cell_type": "code",
   "execution_count": null,
   "id": "371a6b95",
   "metadata": {},
   "outputs": [],
   "source": [
    "menu"
   ]
  },
  {
   "cell_type": "code",
   "execution_count": null,
   "id": "d504abed",
   "metadata": {
    "scrolled": true
   },
   "outputs": [],
   "source": [
    "\"Pizza\" in menu \n",
    "#check among the key in key-value"
   ]
  },
  {
   "cell_type": "code",
   "execution_count": null,
   "id": "d964378d",
   "metadata": {},
   "outputs": [],
   "source": [
    "\"Pizza\" not in menu \n",
    "#check among the key in key-value"
   ]
  },
  {
   "cell_type": "code",
   "execution_count": null,
   "id": "bfaa84d3",
   "metadata": {},
   "outputs": [],
   "source": [
    "29.99 in menu.values()\n",
    "#check among the value in key-value"
   ]
  },
  {
   "cell_type": "code",
   "execution_count": null,
   "id": "0ada43a2",
   "metadata": {},
   "outputs": [],
   "source": [
    "5.99 not in menu.values()\n",
    "#check among the value in key-value"
   ]
  },
  {
   "cell_type": "code",
   "execution_count": null,
   "id": "b9ff3c59",
   "metadata": {},
   "outputs": [],
   "source": [
    "8%3\n",
    "#เศษหาร"
   ]
  },
  {
   "cell_type": "markdown",
   "id": "c14014ca",
   "metadata": {},
   "source": [
    "# Section 3 : Series\n",
    "- Combine a list and dictionary concept เข้าด้วยกัน "
   ]
  },
  {
   "cell_type": "markdown",
   "id": "f9b0c178",
   "metadata": {},
   "source": [
    "##### 3.1. Create Jupyter Notebook for the Sereis Module"
   ]
  },
  {
   "cell_type": "code",
   "execution_count": null,
   "id": "8de9ee7c",
   "metadata": {},
   "outputs": [],
   "source": [
    "import pandas as pd "
   ]
  },
  {
   "cell_type": "markdown",
   "id": "b1fc6e89",
   "metadata": {},
   "source": [
    "##### 3.2. Create A series Object from a Python List "
   ]
  },
  {
   "cell_type": "code",
   "execution_count": null,
   "id": "bae84ebd",
   "metadata": {},
   "outputs": [],
   "source": [
    "ice_cream = [\"Chocolate\", \"Vanilla\", \"Strawberry\", \"Rum Raisin\"]\n",
    "pd.Series(ice_cream)\n",
    "#string =>> object"
   ]
  },
  {
   "cell_type": "code",
   "execution_count": null,
   "id": "9500dce4",
   "metadata": {},
   "outputs": [],
   "source": [
    "pd.Series(ice_cream)[1]"
   ]
  },
  {
   "cell_type": "code",
   "execution_count": null,
   "id": "e2645fce",
   "metadata": {},
   "outputs": [],
   "source": [
    "number_12345 = [1,2,3,4,5]\n",
    "pd.Series(number_12345)\n",
    "#integer =>> int64"
   ]
  },
  {
   "cell_type": "code",
   "execution_count": null,
   "id": "9cd1f30a",
   "metadata": {},
   "outputs": [],
   "source": [
    "leanboo = [True,False,True,False,True]\n",
    "pd.Series(leanboo)\n",
    "#Boolean =>> bool"
   ]
  },
  {
   "cell_type": "markdown",
   "id": "474bebd5",
   "metadata": {},
   "source": [
    "##### 3.3. Create A series Object from a Python Dictionary"
   ]
  },
  {
   "cell_type": "code",
   "execution_count": null,
   "id": "e7457f4a",
   "metadata": {},
   "outputs": [],
   "source": [
    "sushi = {\n",
    "    \"Salmon\" : \"Orange\",\n",
    "    \"Tuna\" : \"Red\",\n",
    "    \"Eel\" : \"Brown\"\n",
    "}\n",
    "\n",
    "pd.Series(sushi)"
   ]
  },
  {
   "cell_type": "code",
   "execution_count": null,
   "id": "b9153c88",
   "metadata": {},
   "outputs": [],
   "source": [
    "pd.Series(sushi)[\"Tuna\"]"
   ]
  },
  {
   "cell_type": "code",
   "execution_count": null,
   "id": "4ec8d0c9",
   "metadata": {},
   "outputs": [],
   "source": [
    "pd.Series(sushi)[1]"
   ]
  },
  {
   "cell_type": "markdown",
   "id": "8b91ea7f",
   "metadata": {},
   "source": [
    "##### 3.4. Methods + Series\n",
    "- The purpose of the Methods is to action something to the object itself.\n",
    "    ex. #.upper(), #.append(), #.sum(), #.mean()"
   ]
  },
  {
   "cell_type": "code",
   "execution_count": null,
   "id": "324d0885",
   "metadata": {},
   "outputs": [],
   "source": [
    "\"hello\".upper()"
   ]
  },
  {
   "cell_type": "code",
   "execution_count": null,
   "id": "3377d1a8",
   "metadata": {},
   "outputs": [],
   "source": [
    "values = [1,2,3]\n",
    "values.append(4)"
   ]
  },
  {
   "cell_type": "code",
   "execution_count": null,
   "id": "6dbe1347",
   "metadata": {},
   "outputs": [],
   "source": [
    "values"
   ]
  },
  {
   "cell_type": "code",
   "execution_count": null,
   "id": "59630edc",
   "metadata": {},
   "outputs": [],
   "source": [
    "prices = pd.Series([2.99,4.45,1.36])"
   ]
  },
  {
   "cell_type": "code",
   "execution_count": null,
   "id": "52bdd96e",
   "metadata": {},
   "outputs": [],
   "source": [
    "prices"
   ]
  },
  {
   "cell_type": "code",
   "execution_count": null,
   "id": "83365c0a",
   "metadata": {},
   "outputs": [],
   "source": [
    "prices.sum()"
   ]
  },
  {
   "cell_type": "code",
   "execution_count": null,
   "id": "e477875a",
   "metadata": {},
   "outputs": [],
   "source": [
    "prices.product()"
   ]
  },
  {
   "cell_type": "code",
   "execution_count": null,
   "id": "3ce28e68",
   "metadata": {},
   "outputs": [],
   "source": [
    "prices.mean()"
   ]
  },
  {
   "cell_type": "code",
   "execution_count": null,
   "id": "f881ee8b",
   "metadata": {},
   "outputs": [],
   "source": [
    "prices.sort_values()"
   ]
  },
  {
   "cell_type": "code",
   "execution_count": null,
   "id": "80118d1b",
   "metadata": {},
   "outputs": [],
   "source": [
    "prices"
   ]
  },
  {
   "cell_type": "markdown",
   "id": "76362c62",
   "metadata": {},
   "source": [
    "##### 3.5. Intro to Attributes + Series\n",
    "- The purpose of the Attributes is just to give you some piece of information of the underlying object.\n",
    "#.size\n",
    "#.is_unique\n",
    "#.index \n",
    "#.values \n",
    "- !!! Attributes is no parenthesis ต่างจาก methods ที่มี parenthesis  "
   ]
  },
  {
   "cell_type": "code",
   "execution_count": null,
   "id": "818e4d6d",
   "metadata": {},
   "outputs": [],
   "source": [
    "import pandas as pd\n",
    "adjectives = pd.Series([\"Smart\", \"Handsome\",\"Charming\", \"Brilliant\", \"Humble\"])"
   ]
  },
  {
   "cell_type": "code",
   "execution_count": null,
   "id": "5b56a5c3",
   "metadata": {},
   "outputs": [],
   "source": [
    "adjectives"
   ]
  },
  {
   "cell_type": "code",
   "execution_count": null,
   "id": "99962ac5",
   "metadata": {},
   "outputs": [],
   "source": [
    "adjectives.size"
   ]
  },
  {
   "cell_type": "code",
   "execution_count": null,
   "id": "27a43c08",
   "metadata": {},
   "outputs": [],
   "source": [
    "adjectives.is_unique"
   ]
  },
  {
   "cell_type": "code",
   "execution_count": null,
   "id": "d2f59b2b",
   "metadata": {},
   "outputs": [],
   "source": [
    "adjectives2 = pd.Series([\"Smart\", \"Handsome\",\"Charming\", \"Brilliant\", \"Humble\",\"Smart\"])"
   ]
  },
  {
   "cell_type": "code",
   "execution_count": null,
   "id": "59be7d0a",
   "metadata": {},
   "outputs": [],
   "source": [
    "adjectives2.is_unique"
   ]
  },
  {
   "cell_type": "code",
   "execution_count": null,
   "id": "0846c3b9",
   "metadata": {},
   "outputs": [],
   "source": [
    "adjectives2.values"
   ]
  },
  {
   "cell_type": "code",
   "execution_count": null,
   "id": "cee85645",
   "metadata": {},
   "outputs": [],
   "source": [
    "type(adjectives2.values)"
   ]
  },
  {
   "cell_type": "code",
   "execution_count": null,
   "id": "7d835944",
   "metadata": {},
   "outputs": [],
   "source": [
    "adjectives2.index"
   ]
  },
  {
   "cell_type": "code",
   "execution_count": null,
   "id": "dfec9498",
   "metadata": {},
   "outputs": [],
   "source": [
    "type(adjectives2.index)"
   ]
  },
  {
   "cell_type": "code",
   "execution_count": null,
   "id": "7d83eede",
   "metadata": {},
   "outputs": [],
   "source": [
    "adjectives2.dtype\n",
    "# 'O' means Object"
   ]
  },
  {
   "cell_type": "markdown",
   "id": "0cd25f26",
   "metadata": {},
   "source": [
    "##### 3.6. Parameters and Arguments "
   ]
  },
  {
   "cell_type": "code",
   "execution_count": null,
   "id": "23f488ae",
   "metadata": {},
   "outputs": [],
   "source": [
    "# Paramter - The name we give to an expected input \n",
    "# Argument - The concrete value that we provide to a parameter \n",
    "\n",
    "# Difficulty มีสาม options ให้เลือกคือ Easy, Medium, Hard \n",
    "# Difficulty จะถูกเรียกว่า Parameter \n",
    "# Easy, Medium, Hard จะถูกเรียกว่า Argument \n",
    "\n",
    "# Ex.อื่นๆ \n",
    "# Volume - 1 through 100 \n",
    "# Subtitles - True, False "
   ]
  },
  {
   "cell_type": "code",
   "execution_count": null,
   "id": "06b0a2dc",
   "metadata": {},
   "outputs": [],
   "source": [
    "fruits = ['Apple','Orange','Plum','Grape','Blueberry']\n",
    "weekdays = ['Monday','Tuesday','Wednesday','Thursday','Friday']\n",
    "\n",
    "pd.Series(fruits, weekdays)\n",
    "\n",
    "#กด Shift+tab ในวงเล็บจะมี parameter=argument ขึ้นมาเช่น data=None, index=None เป็นต้น \n",
    "#pd.Series(\n",
    "#    data=None,\n",
    "#    index=None,\n",
    "#    dtype: 'Dtype | None' = None,\n",
    "#    name=None,\n",
    "#    copy: 'bool' = False,\n",
    "#    fastpath: 'bool' = False,\n",
    "#) -> 'None\n",
    "\n",
    "\n",
    "#ดังนั้น data (parameter) =fruits (argument), index (parameter)=weekdays (argument)"
   ]
  },
  {
   "cell_type": "code",
   "execution_count": null,
   "id": "bf169db5",
   "metadata": {},
   "outputs": [],
   "source": [
    "pd.Series(weekdays, fruits)"
   ]
  },
  {
   "cell_type": "code",
   "execution_count": null,
   "id": "866db9a4",
   "metadata": {},
   "outputs": [],
   "source": [
    "pd.Series(data=fruits,index=weekdays)\n",
    "#more readable \n",
    "#กด Shift+tab ในวงเล็บจะมี parameter=argument ขึ้นมาเช่น data=None, index=None เป็นต้น \n",
    "#pd.Series(\n",
    "#    data=None,\n",
    "#    index=None,\n",
    "#    dtype: 'Dtype | None' = None,\n",
    "#    name=None,\n",
    "#    copy: 'bool' = False,\n",
    "#    fastpath: 'bool' = False,\n",
    "#) -> 'None\n",
    "\n",
    "\n",
    "#ดังนั้น data (parameter) =fruits (argument), index (parameter)=weekdays (argument)"
   ]
  },
  {
   "cell_type": "code",
   "execution_count": null,
   "id": "1fbfd2c9",
   "metadata": {},
   "outputs": [],
   "source": [
    "pd.Series(index=weekdays,data=fruits)"
   ]
  },
  {
   "cell_type": "code",
   "execution_count": null,
   "id": "325d0c05",
   "metadata": {},
   "outputs": [],
   "source": [
    "pd.Series(index=weekdays,fruits)\n",
    "#ไม่ได้เพราะ ถ้าไม่ระบุชื่อ parameter -> python จะจำเป็นลำดับ เช่น ตัวแรก คือ data ต่อมาคือ index ต่อมาคือ dtype เป็นต้น ทำให้ error \n",
    "#เพราะว่าเรามีการระบุ index = weekdays ไปแล้ว ทำให้ python ไม่รู้ว่า argument ที่ชื่อว่า fruit อยู่ใน parameter อะไร \n",
    "\n",
    "#pd.Series(\n",
    "#    data=None,\n",
    "#    index=None,\n",
    "#    dtype: 'Dtype | None' = None,\n",
    "#    name=None,\n",
    "#    copy: 'bool' = False,\n",
    "#    fastpath: 'bool' = False,\n",
    "#) -> 'None\n",
    "\n",
    "\n"
   ]
  },
  {
   "cell_type": "code",
   "execution_count": null,
   "id": "329cb1dd",
   "metadata": {},
   "outputs": [],
   "source": [
    "pd.Series(fruits,index=weekdays)\n",
    "# ทำได้เนื่องจาก python รับรู้ว่า parameter ตัวแรกเป็น data ซึ่งยังไม่ได้ถูกกำหนดโดย argument ใดใด \n",
    "# ทำให้ python แทนค่า argument = fruits ให้ parameter ตัวแรก ที่ชื่อ data"
   ]
  },
  {
   "cell_type": "markdown",
   "id": "b4dc1d2a",
   "metadata": {},
   "source": [
    "- code ควรจะทำให้คนอื่นอ่านง่าย เข้าใตง่าย ไม่ใช่ทำสั้นๆมา แต่อ่านไม่รู้เรื่อง "
   ]
  },
  {
   "cell_type": "code",
   "execution_count": null,
   "id": "6841e477",
   "metadata": {},
   "outputs": [],
   "source": [
    "pd.Series(index=weekdays)\n",
    "#data=None by default, if we are not providing the argument in it\n",
    "\n",
    "#pd.Series(\n",
    "#    data=None,\n",
    "#    index=None,\n",
    "#    dtype: 'Dtype | None' = None,\n",
    "#    name=None,\n",
    "#    copy: 'bool' = False,\n",
    "#    fastpath: 'bool' = False,\n",
    "#) -> 'None"
   ]
  },
  {
   "cell_type": "code",
   "execution_count": null,
   "id": "f186356c",
   "metadata": {},
   "outputs": [],
   "source": [
    "pd.Series(fruits)\n",
    "#index=None by default, ทำให้ถ้าเราไม่ได้ provide argument ให้ index -> python จะกำหนด index ให้เราเลย "
   ]
  },
  {
   "cell_type": "markdown",
   "id": "519382b7",
   "metadata": {},
   "source": [
    "- Init signature:\n",
    "pd.Series(\n",
    "    data=None,\n",
    "    index=None,\n",
    "    dtype: 'Dtype | None' = None,\n",
    "    name=None,\n",
    "    copy: 'bool' = False,\n",
    "    fastpath: 'bool' = False,\n",
    ") -> 'None'\n",
    "Docstring:     \n",
    "One-dimensional ndarray with axis labels (including time series).\n",
    "\n",
    "Labels need not be unique but must be a hashable type. The object\n",
    "supports both integer- and label-based indexing and provides a host of\n",
    "methods for performing operations involving the index. Statistical\n",
    "methods from ndarray have been overridden to automatically exclude\n",
    "missing data (currently represented as NaN).\n",
    "\n",
    "Operations between Series (+, -, /, \\*, \\*\\*) align values based on their\n",
    "associated index values-- they need not be the same length. The result\n",
    "index will be the sorted union of the two indexes.\n",
    "\n",
    "Parameters\n",
    "----------\n",
    "data : array-like, Iterable, dict, or scalar value\n",
    "    Contains data stored in Series. If data is a dict, argument order is\n",
    "    maintained.\n",
    "index : array-like or Index (1d)\n",
    "    Values must be hashable and have the same length as `data`.\n",
    "    Non-unique index values are allowed. Will default to\n",
    "    RangeIndex (0, 1, 2, ..., n) if not provided. If data is dict-like\n",
    "    and index is None, then the keys in the data are used as the index. If the\n",
    "    index is not None, the resulting Series is reindexed with the index values.\n",
    "dtype : str, numpy.dtype, or ExtensionDtype, optional\n",
    "    Data type for the output Series. If not specified, this will be\n",
    "    inferred from `data`.\n",
    "    See the :ref:`user guide <basics.dtypes>` for more usages.\n",
    "name : str, optional\n",
    "    The name to give to the Series.\n",
    "copy : bool, default False\n",
    "    Copy input data. Only affects Series or 1d ndarray input. See examples.\n",
    "\n",
    "Notes\n",
    "-----\n",
    "Please reference the :ref:`User Guide <basics.series>` for more information.\n",
    "\n",
    "Examples\n",
    "--------\n",
    "Constructing Series from a dictionary with an Index specified\n",
    "\n",
    ">>> d = {'a': 1, 'b': 2, 'c': 3}\n",
    ">>> ser = pd.Series(data=d, index=['a', 'b', 'c'])\n",
    ">>> ser\n",
    "a   1\n",
    "b   2\n",
    "c   3\n",
    "dtype: int64\n",
    "\n",
    "The keys of the dictionary match with the Index values, hence the Index\n",
    "values have no effect.\n",
    "\n",
    ">>> d = {'a': 1, 'b': 2, 'c': 3}\n",
    ">>> ser = pd.Series(data=d, index=['x', 'y', 'z'])\n",
    ">>> ser\n",
    "x   NaN\n",
    "y   NaN\n",
    "z   NaN\n",
    "dtype: float64\n",
    "\n",
    "Note that the Index is first build with the keys from the dictionary.\n",
    "After this the Series is reindexed with the given Index values, hence we\n",
    "get all NaN as a result.\n",
    "\n",
    "Constructing Series from a list with `copy=False`.\n",
    "\n",
    ">>> r = [1, 2]\n",
    ">>> ser = pd.Series(r, copy=False)\n",
    ">>> ser.iloc[0] = 999\n",
    ">>> r\n",
    "[1, 2]\n",
    ">>> ser\n",
    "0    999\n",
    "1      2\n",
    "dtype: int64\n",
    "\n",
    "Due to input data type the Series has a `copy` of\n",
    "the original data even though `copy=False`, so\n",
    "the data is unchanged.\n",
    "\n",
    "Constructing Series from a 1d ndarray with `copy=False`.\n",
    "\n",
    ">>> r = np.array([1, 2])\n",
    ">>> ser = pd.Series(r, copy=False)\n",
    ">>> ser.iloc[0] = 999\n",
    ">>> r\n",
    "array([999,   2])\n",
    ">>> ser\n",
    "0    999\n",
    "1      2\n",
    "dtype: int64\n",
    "\n",
    "Due to input data type the Series has a `view` on\n",
    "the original data, so\n",
    "the data is changed as well.\n",
    "File:           c:\\users\\windows11\\anaconda3\\envs\\pandas_playground\\lib\\site-packages\\pandas\\core\\series.py\n",
    "Type:           type\n",
    "Subclasses:     SubclassedSeries"
   ]
  },
  {
   "cell_type": "code",
   "execution_count": null,
   "id": "3fdd1ab9",
   "metadata": {},
   "outputs": [],
   "source": [
    "fruits2 = ['Apple','Orange','Plum','Grape','Blueberry','Watermelon']\n",
    "weekdays2 = ['Monday','Tuesday','Wednesday','Thursday','Friday','Monday']\n",
    "\n",
    "pd.Series(fruits2, weekdays2)\n",
    "#Index ของ Series มีค่าซ้ำได้"
   ]
  },
  {
   "cell_type": "markdown",
   "id": "fa529a87",
   "metadata": {},
   "source": [
    "##### 3.7. Import Series with the pd.read_csv function"
   ]
  },
  {
   "cell_type": "code",
   "execution_count": null,
   "id": "cdd1e23c",
   "metadata": {},
   "outputs": [],
   "source": [
    "import pandas as pd "
   ]
  },
  {
   "cell_type": "code",
   "execution_count": null,
   "id": "35cf1e8f",
   "metadata": {},
   "outputs": [],
   "source": [
    "pd.read_csv(\"pokemon.csv\")\n",
    "#ผลลัพธ์ข้างล่างเรียกว่า dataframe "
   ]
  },
  {
   "cell_type": "code",
   "execution_count": null,
   "id": "0afb8ed2",
   "metadata": {},
   "outputs": [],
   "source": [
    "pd.read_csv(\"pokemon.csv\", usecols=[\"Pokemon\"]).squeeze()\n",
    "#หรือ\n",
    "pd.read_csv(\"pokemon.csv\", usecols=[\"Pokemon\"]).squeeze(\"columns\") \n",
    "#อ่านง่ายกว่า \n",
    "#series - a container for one column of data \n",
    "#Dataframe - a set of columns \n",
    "#อย่างลืม [] ก่อนใส่ชื่อ column \n",
    "\n",
    "#.squeeze() methods เปลี่ยน dataframe object to series object "
   ]
  },
  {
   "cell_type": "code",
   "execution_count": null,
   "id": "4a71889b",
   "metadata": {},
   "outputs": [],
   "source": [
    "#0       Bulbasaur\n",
    "#1         Ivysaur\n",
    "#2        Venusaur\n",
    "#3      Charmander\n",
    "#4      Charmeleon\n",
    "#          ...    -> ตรงนี้ represent ว่ามี ข้อมูลมากมายอื่นๆ ตรงกลางนี้ \n",
    "#716       Yveltal\n",
    "#717       Zygarde\n",
    "#718       Diancie\n",
    "#719         Hoopa\n",
    "#720     Volcanion\n",
    "#Name: Pokemon, Length: 721, dtype: object"
   ]
  },
  {
   "cell_type": "code",
   "execution_count": null,
   "id": "74014787",
   "metadata": {},
   "outputs": [],
   "source": [
    "#จะโชว์แค่ 5 rows แรก และ 5 rows สุดท้าย เหตุผลคือ performanceดีกว่าโชว์ทั้งหมด 700 กว่า rows นี้แน่ๆ "
   ]
  },
  {
   "cell_type": "code",
   "execution_count": null,
   "id": "3bbfd47e",
   "metadata": {},
   "outputs": [],
   "source": [
    "pokemon = pd.read_csv(\"pokemon.csv\", usecols=[\"Pokemon\"]).squeeze(\"columns\")\n",
    "#more readable "
   ]
  },
  {
   "cell_type": "code",
   "execution_count": null,
   "id": "8b895cd4",
   "metadata": {},
   "outputs": [],
   "source": [
    "pokemon"
   ]
  },
  {
   "cell_type": "code",
   "execution_count": null,
   "id": "ba15f457",
   "metadata": {},
   "outputs": [],
   "source": [
    "google = pd.read_csv(\"google_stock_price.csv\",usecols=[\"Stock Price\"]).squeeze(\"columns\")\n"
   ]
  },
  {
   "cell_type": "code",
   "execution_count": null,
   "id": "741473c3",
   "metadata": {},
   "outputs": [],
   "source": [
    "google"
   ]
  },
  {
   "cell_type": "markdown",
   "id": "6c538a0e",
   "metadata": {},
   "source": [
    "##### 3.8. Use the head and tail Methods to Return Rows from Beginning and End of Dataset "
   ]
  },
  {
   "cell_type": "code",
   "execution_count": null,
   "id": "7e770769",
   "metadata": {},
   "outputs": [],
   "source": [
    "pokemon = pd.read_csv(\"pokemon.csv\", usecols = [\"Pokemon\"]).squeeze(\"columns\")\n",
    "google = pd.read_csv(\"google_stock_price.csv\", usecols = [\"Stock Price\"]).squeeze(\"columns\")"
   ]
  },
  {
   "cell_type": "code",
   "execution_count": null,
   "id": "be1f5d20",
   "metadata": {},
   "outputs": [],
   "source": [
    "pokemon.head()\n",
    "# 5 rows แรก by default\n",
    "\n",
    "# Signature: pokemon.head(n: 'int' = 5) -> 'NDFrameT'\n",
    "# Docstring:\n",
    "# Return the first `n` rows."
   ]
  },
  {
   "cell_type": "code",
   "execution_count": null,
   "id": "9e10950a",
   "metadata": {},
   "outputs": [],
   "source": [
    "pokemon.head(8)\n",
    "pokemon.head(n = 8)"
   ]
  },
  {
   "cell_type": "code",
   "execution_count": null,
   "id": "1359be12",
   "metadata": {},
   "outputs": [],
   "source": [
    "google.tail()\n",
    "# last 5 rows by default\n",
    "\n",
    "\n",
    "#Signature: google.tail(n: 'int' = 5) -> 'NDFrameT'\n",
    "#Docstring:\n",
    "#Return the last `n` rows."
   ]
  },
  {
   "cell_type": "code",
   "execution_count": null,
   "id": "1d4dbf91",
   "metadata": {},
   "outputs": [],
   "source": [
    "google.tail(n = 10)"
   ]
  },
  {
   "cell_type": "markdown",
   "id": "eab9dafd",
   "metadata": {},
   "source": [
    "##### 3.9. Passing Series to Python's Built-In Function   "
   ]
  },
  {
   "cell_type": "code",
   "execution_count": null,
   "id": "a1ddcea2",
   "metadata": {},
   "outputs": [],
   "source": [
    "import pandas as pd \n",
    "pokemon = pd.read_csv(\"pokemon.csv\", usecols = [\"Pokemon\"]).squeeze(\"columns\")\n",
    "google = pd.read_csv(\"google_stock_price.csv\", usecols = [\"Stock Price\"]).squeeze(\"columns\")"
   ]
  },
  {
   "cell_type": "code",
   "execution_count": null,
   "id": "a5ce597b",
   "metadata": {},
   "outputs": [],
   "source": [
    "pokemon"
   ]
  },
  {
   "cell_type": "code",
   "execution_count": null,
   "id": "88edca94",
   "metadata": {},
   "outputs": [],
   "source": [
    "google"
   ]
  },
  {
   "cell_type": "code",
   "execution_count": null,
   "id": "bb1f8a13",
   "metadata": {},
   "outputs": [],
   "source": [
    "len(pokemon)\n",
    "# ดูว่ามีกี่แถว (how many rows do we have?)"
   ]
  },
  {
   "cell_type": "code",
   "execution_count": null,
   "id": "b1a4e575",
   "metadata": {},
   "outputs": [],
   "source": [
    "len(google)"
   ]
  },
  {
   "cell_type": "code",
   "execution_count": null,
   "id": "795d293a",
   "metadata": {},
   "outputs": [],
   "source": [
    "type(pokemon)"
   ]
  },
  {
   "cell_type": "code",
   "execution_count": null,
   "id": "43c327e6",
   "metadata": {},
   "outputs": [],
   "source": [
    "type(google)"
   ]
  },
  {
   "cell_type": "code",
   "execution_count": null,
   "id": "7b85a2e7",
   "metadata": {},
   "outputs": [],
   "source": [
    "dir(pokemon)\n",
    "#บอกว่า series นี้มี attributes และ Methods อะไรบ้างที่ใช้ได้"
   ]
  },
  {
   "cell_type": "code",
   "execution_count": null,
   "id": "e13cb898",
   "metadata": {},
   "outputs": [],
   "source": [
    "type(dir(pokemon))\n",
    "# จาก series กลายเป็น list "
   ]
  },
  {
   "cell_type": "code",
   "execution_count": null,
   "id": "25657415",
   "metadata": {},
   "outputs": [],
   "source": [
    "pokemon._AXIS_LEN"
   ]
  },
  {
   "cell_type": "code",
   "execution_count": null,
   "id": "db07c0b1",
   "metadata": {},
   "outputs": [],
   "source": [
    "pokemon.__array__()"
   ]
  },
  {
   "cell_type": "code",
   "execution_count": null,
   "id": "71920a55",
   "metadata": {},
   "outputs": [],
   "source": [
    "sorted(pokemon)\n",
    "# sorted in ascending order \n",
    "# ตาม A to Z,\n",
    "# 1,2,3,..."
   ]
  },
  {
   "cell_type": "code",
   "execution_count": null,
   "id": "671b33bd",
   "metadata": {},
   "outputs": [],
   "source": [
    "type(sorted(pokemon))\n",
    "# จาก series กลายเป็น list "
   ]
  },
  {
   "cell_type": "code",
   "execution_count": null,
   "id": "161f987c",
   "metadata": {},
   "outputs": [],
   "source": [
    "sorted(google)"
   ]
  },
  {
   "cell_type": "code",
   "execution_count": null,
   "id": "688ce122",
   "metadata": {},
   "outputs": [],
   "source": [
    "list(pokemon)\n",
    "# convert series object to python list object"
   ]
  },
  {
   "cell_type": "code",
   "execution_count": null,
   "id": "b4834866",
   "metadata": {},
   "outputs": [],
   "source": [
    "\n",
    "dict(pokemon)\n",
    "# convert series object to python dictionary object\n",
    "# key-value (key = index position of the pandas series) (value = respected values from that series) \n",
    "\n",
    "## Note ว่า Index lables ของ series สามารถมีค่าซ้ำได้ ->> ซึ่งถ้ามีค่าซ้ำจะแปลงเป็น dictionary ไม่ได้!!!"
   ]
  },
  {
   "cell_type": "code",
   "execution_count": null,
   "id": "2b20dcea",
   "metadata": {},
   "outputs": [],
   "source": [
    "max(pokemon)\n",
    "# ได้ค่ามากสุด ถ้าเป็น Str จะได้ Alphabet ที่มีค่าสูงสุด"
   ]
  },
  {
   "cell_type": "code",
   "execution_count": null,
   "id": "cb64990a",
   "metadata": {},
   "outputs": [],
   "source": [
    "max(google)"
   ]
  },
  {
   "cell_type": "code",
   "execution_count": null,
   "id": "fff6b47e",
   "metadata": {},
   "outputs": [],
   "source": [
    "min(google)"
   ]
  },
  {
   "cell_type": "code",
   "execution_count": null,
   "id": "d09bd84b",
   "metadata": {},
   "outputs": [],
   "source": [
    "min(pokemon)"
   ]
  },
  {
   "cell_type": "markdown",
   "id": "b6a4fbb1",
   "metadata": {},
   "source": [
    "##### 3.10. The sort_values Method  "
   ]
  },
  {
   "cell_type": "code",
   "execution_count": null,
   "id": "df87643a",
   "metadata": {},
   "outputs": [],
   "source": [
    "import pandas as pd \n",
    "pokemon = pd.read_csv(\"pokemon.csv\", usecols = [\"Pokemon\"]).squeeze(\"columns\")\n",
    "google = pd.read_csv(\"google_stock_price.csv\", usecols = [\"Stock Price\"]).squeeze(\"columns\")"
   ]
  },
  {
   "cell_type": "code",
   "execution_count": null,
   "id": "4caae2c2",
   "metadata": {},
   "outputs": [],
   "source": [
    "pokemon.sort_values()\n",
    "#A to Z"
   ]
  },
  {
   "cell_type": "code",
   "execution_count": null,
   "id": "bed3dd51",
   "metadata": {},
   "outputs": [],
   "source": [
    "pokemon.sort_values().head(10)\n",
    "# method chain"
   ]
  },
  {
   "cell_type": "code",
   "execution_count": null,
   "id": "26159efc",
   "metadata": {},
   "outputs": [],
   "source": [
    "pokemon.sort_values(ascending=True)"
   ]
  },
  {
   "cell_type": "code",
   "execution_count": null,
   "id": "fd3c1f0d",
   "metadata": {},
   "outputs": [],
   "source": [
    "pokemon.sort_values(ascending=False).head().tail(2).head(1)"
   ]
  },
  {
   "cell_type": "code",
   "execution_count": null,
   "id": "95db9c78",
   "metadata": {},
   "outputs": [],
   "source": [
    "google.sort_values()\n",
    "google.sort_values(ascending=True)\n",
    "google.sort_values(ascending=False)"
   ]
  },
  {
   "cell_type": "markdown",
   "id": "349512fb",
   "metadata": {},
   "source": [
    "##### 3.11. The sort_index Method "
   ]
  },
  {
   "cell_type": "code",
   "execution_count": null,
   "id": "9bed17b6",
   "metadata": {},
   "outputs": [],
   "source": [
    "pd.read_csv(\"pokemon.csv\", index_col=\"Pokemon\")\n",
    "#เลือก column โดยใช้ index_col เพื่อมาเป็น index แทนที่ python index"
   ]
  },
  {
   "cell_type": "code",
   "execution_count": null,
   "id": "5d97f6a2",
   "metadata": {},
   "outputs": [],
   "source": [
    "pokemon = pd.read_csv(\"pokemon.csv\", index_col=\"Pokemon\").squeeze(\"columns\")\n",
    "#ใช้คำสั่ง squeeze เพื่อแปลง dataframe obj เป็น series obj"
   ]
  },
  {
   "cell_type": "code",
   "execution_count": null,
   "id": "e15dc343",
   "metadata": {},
   "outputs": [],
   "source": [
    "pokemon.head()"
   ]
  },
  {
   "cell_type": "code",
   "execution_count": null,
   "id": "941e8931",
   "metadata": {},
   "outputs": [],
   "source": [
    "pokemon.sort_index()\n",
    "pokemon.sort_index(ascending = True)\n",
    "pokemon.sort_index(ascending = False)"
   ]
  },
  {
   "cell_type": "markdown",
   "id": "a942ef46",
   "metadata": {},
   "source": [
    "##### 3.12. Check for Inclustion with Python's \"in\" Keyword "
   ]
  },
  {
   "cell_type": "code",
   "execution_count": null,
   "id": "94d94a6f",
   "metadata": {},
   "outputs": [],
   "source": [
    "import pandas as pd \n",
    "pokemon = pd.read_csv(\"pokemon.csv\", usecols = [\"Pokemon\"]).squeeze(\"columns\")\n",
    "pokemon.head()"
   ]
  },
  {
   "cell_type": "code",
   "execution_count": null,
   "id": "4322a16e",
   "metadata": {},
   "outputs": [],
   "source": [
    "\"car\" in \"racecar\""
   ]
  },
  {
   "cell_type": "code",
   "execution_count": null,
   "id": "bea529ad",
   "metadata": {},
   "outputs": [],
   "source": [
    "2 in [1,2,3]"
   ]
  },
  {
   "cell_type": "code",
   "execution_count": null,
   "id": "ed43657f",
   "metadata": {},
   "outputs": [],
   "source": [
    "# ถ้าใช้ in keyword ในการหา ใน series\n",
    "    # by default, in จะมองหา indexs ของ series นั้น ไม่ใช่ value \n",
    "\"Bulbasaur\" in pokemon\n",
    "#--> จะเห็นได้ว่า result เป็น False เพราะมันไม่เจอค่าใน index  \n",
    "#0     Bulbasaur\n",
    "#1       Ivysaur\n",
    "#2      Venusaur\n",
    "#3    Charmander\n",
    "#4    Charmeleon\n",
    "#Name: Pokemon, dtype: object\n",
    "\n",
    "\n",
    "\n",
    "# ให้ทำการเติม attribute .values ต่อท้าย เมื่อต้องการจะ looking for values ของ series "
   ]
  },
  {
   "cell_type": "code",
   "execution_count": null,
   "id": "09e3588b",
   "metadata": {},
   "outputs": [],
   "source": [
    "100 in pokemon\n",
    "100 in pokemon.index"
   ]
  },
  {
   "cell_type": "code",
   "execution_count": null,
   "id": "1d608eb6",
   "metadata": {},
   "outputs": [],
   "source": [
    "pokemon.values"
   ]
  },
  {
   "cell_type": "code",
   "execution_count": null,
   "id": "fe46d762",
   "metadata": {},
   "outputs": [],
   "source": [
    "pokemon.values\n",
    "\"Bulbasaur\" in pokemon.values \n",
    "'Lucario' in pokemon.values"
   ]
  },
  {
   "cell_type": "markdown",
   "id": "f81a1119",
   "metadata": {},
   "source": [
    "##### 3.13. Extract Series Value by index Position \n",
    "- กรณีที่ Index เป็นตัวเลข Index position "
   ]
  },
  {
   "cell_type": "code",
   "execution_count": null,
   "id": "060d0ce2",
   "metadata": {},
   "outputs": [],
   "source": [
    "import pandas as pd \n",
    "pokemon = pd.read_csv(\"pokemon.csv\", usecols = [\"Pokemon\"]).squeeze(\"columns\")\n",
    "pokemon.head()"
   ]
  },
  {
   "cell_type": "code",
   "execution_count": null,
   "id": "226bc250",
   "metadata": {},
   "outputs": [],
   "source": [
    "numbers = [1,2,3]\n",
    "numbers[1]"
   ]
  },
  {
   "cell_type": "code",
   "execution_count": null,
   "id": "b4d7d01c",
   "metadata": {},
   "outputs": [],
   "source": [
    "pokemon[0]"
   ]
  },
  {
   "cell_type": "code",
   "execution_count": null,
   "id": "22e32f21",
   "metadata": {},
   "outputs": [],
   "source": [
    "pokemon[500]"
   ]
  },
  {
   "cell_type": "markdown",
   "id": "80c1ce36",
   "metadata": {},
   "source": [
    "pokemon[1500]\n",
    "\n",
    "- ---------------------------------------------------------------------------\n",
    "ValueError                                Traceback (most recent call last)\n",
    "File ~\\anaconda3\\envs\\pandas_playground\\Lib\\site-packages\\pandas\\core\\indexes\\range.py:391, in RangeIndex.get_loc(self, key, method, tolerance)\n",
    "    390 try:\n",
    "--> 391     return self._range.index(new_key)\n",
    "    392 except ValueError as err:\n",
    "\n",
    "ValueError: 1500 is not in range\n",
    "\n",
    "The above exception was the direct cause of the following exception:\n",
    "\n",
    "KeyError                                  Traceback (most recent call last)\n",
    "Cell In[39], line 1\n",
    "----> 1 pokemon[1500]\n",
    "\n",
    "File ~\\anaconda3\\envs\\pandas_playground\\Lib\\site-packages\\pandas\\core\\series.py:981, in Series.__getitem__(self, key)\n",
    "    978     return self._values[key]\n",
    "    980 elif key_is_scalar:\n",
    "--> 981     return self._get_value(key)\n",
    "    983 if is_hashable(key):\n",
    "    984     # Otherwise index.get_value will raise InvalidIndexError\n",
    "    985     try:\n",
    "    986         # For labels that don't resolve as scalars like tuples and frozensets\n",
    "\n",
    "File ~\\anaconda3\\envs\\pandas_playground\\Lib\\site-packages\\pandas\\core\\series.py:1089, in Series._get_value(self, label, takeable)\n",
    "   1086     return self._values[label]\n",
    "   1088 # Similar to Index.get_value, but we do not fall back to positional\n",
    "-> 1089 loc = self.index.get_loc(label)\n",
    "   1090 return self.index._get_values_for_loc(self, loc, label)\n",
    "\n",
    "File ~\\anaconda3\\envs\\pandas_playground\\Lib\\site-packages\\pandas\\core\\indexes\\range.py:393, in RangeIndex.get_loc(self, key, method, tolerance)\n",
    "    391         return self._range.index(new_key)\n",
    "    392     except ValueError as err:\n",
    "--> 393         raise KeyError(key) from err\n",
    "    394 self._check_indexing_error(key)\n",
    "    395 raise KeyError(key)\n",
    "\n",
    "KeyError: 1500"
   ]
  },
  {
   "cell_type": "code",
   "execution_count": null,
   "id": "e537b180",
   "metadata": {},
   "outputs": [],
   "source": [
    "pokemon[[100,200,300]]\n",
    "#เลือก indexที่ 100, 200, และ 300 มาโชว์"
   ]
  },
  {
   "cell_type": "code",
   "execution_count": null,
   "id": "ebc71187",
   "metadata": {},
   "outputs": [],
   "source": [
    "pokemon[55:67]\n",
    "# [55:67) ตั้งแต่ 55 แต่ไม่เกิน 67 "
   ]
  },
  {
   "cell_type": "code",
   "execution_count": null,
   "id": "5ab122bb",
   "metadata": {},
   "outputs": [],
   "source": [
    "pokemon[:7]"
   ]
  },
  {
   "cell_type": "code",
   "execution_count": null,
   "id": "5884ee25",
   "metadata": {},
   "outputs": [],
   "source": [
    "pokemon[700:]"
   ]
  },
  {
   "cell_type": "code",
   "execution_count": null,
   "id": "5d8f4b36",
   "metadata": {},
   "outputs": [],
   "source": [
    "pokemon[-1]\n",
    "#ใช้ค่าลบค่าเดียว\n",
    "#ใช้ไม่ได้กับ series เหมือนที่ใช้ได้กับ list \n"
   ]
  },
  {
   "cell_type": "code",
   "execution_count": null,
   "id": "50ea2a1c",
   "metadata": {},
   "outputs": [],
   "source": [
    "pokemon[-20:-10]\n",
    "#แต่ถ้าใส่เป็นช่วง จะใส่ค่าติดลบได้ "
   ]
  },
  {
   "cell_type": "markdown",
   "id": "5b4e9d59",
   "metadata": {},
   "source": [
    "##### 3.14. Extract Series Value by Index Label\n",
    "- กรณีที่ Index เป็นคำ เป็น label ไม่ใช่เลข postion "
   ]
  },
  {
   "cell_type": "code",
   "execution_count": null,
   "id": "2b36dcab",
   "metadata": {},
   "outputs": [],
   "source": [
    "import pandas as pd \n",
    "pokemon = pd.read_csv(\"pokemon.csv\", index_col=\"Pokemon\").squeeze(\"columns\")"
   ]
  },
  {
   "cell_type": "code",
   "execution_count": null,
   "id": "29c12f05",
   "metadata": {},
   "outputs": [],
   "source": [
    "pokemon.head()"
   ]
  },
  {
   "cell_type": "code",
   "execution_count": null,
   "id": "11ad2e74",
   "metadata": {},
   "outputs": [],
   "source": [
    "pokemon[0]\n",
    "#python รับรู้ถึง index ตำแหน่ง index position ที่ 0 "
   ]
  },
  {
   "cell_type": "code",
   "execution_count": null,
   "id": "78730bcc",
   "metadata": {},
   "outputs": [],
   "source": [
    "pokemon[[100,134]]"
   ]
  },
  {
   "cell_type": "code",
   "execution_count": null,
   "id": "cb761509",
   "metadata": {},
   "outputs": [],
   "source": [
    "pokemon[\"Bulbasaur\"]\n",
    "#python รับรู้ถึง index label ว่าคือ Bulbasaur\n",
    "pokemon[\"Mewtwo\"]\n",
    "#python รับรู้ถึง index label ว่าคือ Mewtwo\n",
    "pokemon[[\"Charizard\",\"Jolteon\",\"Meowth\"]]"
   ]
  },
  {
   "cell_type": "code",
   "execution_count": null,
   "id": "61979eda",
   "metadata": {},
   "outputs": [],
   "source": [
    "pokemon[\"Digimon\"]\n",
    "pokemon[\"Pikachu\",\"Digimon\"]\n",
    "#ถ้า Index label ไม่มี \"Digimon\" จะ return error ออกมา"
   ]
  },
  {
   "cell_type": "markdown",
   "id": "0daabb87",
   "metadata": {},
   "source": [
    "##### 3.15. The \"get\" Method on a Series \n",
    "- The \"GET\" method is going to offer an additional advantage over the reglar bracket syntax [] \n",
    "- and it's going to aviod errors, and also allow you to specify a fallback value ในกรณีที่ the specified index postion or indexed label ไม่ปรากฎใน series"
   ]
  },
  {
   "cell_type": "code",
   "execution_count": null,
   "id": "66909e57",
   "metadata": {},
   "outputs": [],
   "source": [
    "import pandas as pd \n",
    "pokemon = pd.read_csv(\"pokemon.csv\", index_col=\"Pokemon\").squeeze(\"columns\")"
   ]
  },
  {
   "cell_type": "code",
   "execution_count": null,
   "id": "aaec1a11",
   "metadata": {},
   "outputs": [],
   "source": [
    "pokemon.head()"
   ]
  },
  {
   "cell_type": "code",
   "execution_count": null,
   "id": "accc8dfc",
   "metadata": {},
   "outputs": [],
   "source": [
    "pokemon.get(0)\n",
    "pokemon.get(\"Bulbasaur\")\n",
    "pokemon.get([5,10])\n",
    "pokemon.get([\"Moltres\",\"Meowth\"])\n",
    "#.get() method มันจะดีกว่า [] ธรรมดา เพราะว่า ถ้ามันไม่พบค่า มันจะไม่ return error จะ return เป็น nothing แทน เราจะได้ไมงงว่าสรุปมัน ไม่มีจริงๆ หรือทัน error ที่ส่วนอื่นๆไรงี้มั้ง \n",
    "\n",
    "#pokemon.get(\"Digimon\")\n",
    "# ไม่แสดงผลลัพธ์ (None)แสดงว่าไม่มี indexนี้อยู่ใน pokemon series "
   ]
  },
  {
   "cell_type": "code",
   "execution_count": null,
   "id": "2e346bbb",
   "metadata": {},
   "outputs": [],
   "source": [
    "type(pokemon.get(\"Digimon\"))"
   ]
  },
  {
   "cell_type": "code",
   "execution_count": null,
   "id": "3723c120",
   "metadata": {},
   "outputs": [],
   "source": [
    "print(pokemon.get(\"Digimon\"))"
   ]
  },
  {
   "cell_type": "code",
   "execution_count": null,
   "id": "2ee66e1a",
   "metadata": {},
   "outputs": [],
   "source": [
    "pokemon.get(\"Digimon\",None)\n",
    "pokemon.get(\"Digimon\",\"Nonexistent\")\n",
    "#ใช้ 2nd position argument ในที่นี้แทนค่าเป็น \"Nonexistent\" \n",
    "#เพื่อแสดงผลลัพธ์แทน ไม่มีผลลัพธ์ (None) ในกรณีที่ ไม่พบ \"Digimon\" index label ใน pokemon "
   ]
  },
  {
   "cell_type": "code",
   "execution_count": null,
   "id": "0e2fa81b",
   "metadata": {},
   "outputs": [],
   "source": [
    "pokemon.get(\"Moltres\",\"Nonexistent\")"
   ]
  },
  {
   "cell_type": "code",
   "execution_count": null,
   "id": "b377b8ec",
   "metadata": {},
   "outputs": [],
   "source": [
    "pokemon.get([0,500,1000],\"ไม่พบค่า\")\n",
    "#กรณีนี้มี Index position ที่ 0 และ 500 แต่ไม่มี 1000 ->> ผลลัพธ์ก็จะเป็น \"ไม่พบค่า\" อยู่ดี "
   ]
  },
  {
   "cell_type": "markdown",
   "id": "21815f37",
   "metadata": {},
   "source": [
    "##### 3.16. Overwrite a Series Value"
   ]
  },
  {
   "cell_type": "code",
   "execution_count": null,
   "id": "cdc4dc06",
   "metadata": {},
   "outputs": [],
   "source": [
    "import pandas as pd \n",
    "pokemon = pd.read_csv(\"pokemon.csv\", usecols = [\"Pokemon\"]).squeeze(\"columns\")\n",
    "pokemon.head()"
   ]
  },
  {
   "cell_type": "code",
   "execution_count": null,
   "id": "2857a035",
   "metadata": {},
   "outputs": [],
   "source": [
    "pokemon[0] = \"Borisaur\"\n",
    "pokemon.head()"
   ]
  },
  {
   "cell_type": "code",
   "execution_count": null,
   "id": "8d2b00d0",
   "metadata": {},
   "outputs": [],
   "source": [
    "pokemon[1500] = \"Hello\"\n",
    "#เติม Index position ที่ 1500 ด้วยค่า \"Hello\"\n",
    "#จำไว้ว่าระหว่าง Index position ที่ 721-1499 จะไม่ได้ถูก filled in ด้วย values ใดใดเลย และ \n",
    "#Length ของ pokemon series จะเพิ่มขึ้นตามจำนวนที่ทำการ add เข้าไปเพิ่ม เท่านั้น ->> ในที่นี้คือ 1 แถว แถวที่ index postion = 1500 \n",
    "#Length ของ pokemon เพิ่มขึ้นเป็น 722 (0-720,1500) จาก 721 (0-720)\n",
    "pokemon"
   ]
  },
  {
   "cell_type": "code",
   "execution_count": null,
   "id": "5db6797c",
   "metadata": {},
   "outputs": [],
   "source": [
    "pokemon[[1,2,4]]"
   ]
  },
  {
   "cell_type": "code",
   "execution_count": null,
   "id": "7e5878e8",
   "metadata": {},
   "outputs": [],
   "source": [
    "pokemon[[1,2,4]] = [\"Firemon\",\"Flamemon\",\"Blazemon\"]\n",
    "pokemon[[1,2,4]]"
   ]
  },
  {
   "cell_type": "code",
   "execution_count": null,
   "id": "c206fa0b",
   "metadata": {},
   "outputs": [],
   "source": [
    "pokemon.head()"
   ]
  },
  {
   "cell_type": "code",
   "execution_count": null,
   "id": "7574a867",
   "metadata": {},
   "outputs": [],
   "source": [
    "pokemon = pd.read_csv(\"pokemon.csv\", index_col=\"Pokemon\").squeeze(\"columns\")\n",
    "pokemon.head()"
   ]
  },
  {
   "cell_type": "code",
   "execution_count": null,
   "id": "da60cde8",
   "metadata": {},
   "outputs": [],
   "source": [
    "pokemon[\"Bulbasaur\"] = \"Awesomemon\""
   ]
  },
  {
   "cell_type": "code",
   "execution_count": null,
   "id": "aca303e6",
   "metadata": {},
   "outputs": [],
   "source": [
    "pokemon[1] = \"Grassmon\""
   ]
  },
  {
   "cell_type": "code",
   "execution_count": null,
   "id": "ccac274a",
   "metadata": {},
   "outputs": [],
   "source": [
    "pokemon.head()"
   ]
  },
  {
   "cell_type": "markdown",
   "id": "79b0633b",
   "metadata": {},
   "source": [
    "##### 3.17. The copy Method"
   ]
  },
  {
   "cell_type": "code",
   "execution_count": null,
   "id": "4b50a989",
   "metadata": {},
   "outputs": [],
   "source": [
    "pd.read_csv(\"pokemon.csv\")\n",
    "#dataframe obj"
   ]
  },
  {
   "cell_type": "code",
   "execution_count": null,
   "id": "dee5ff39",
   "metadata": {},
   "outputs": [],
   "source": [
    "#from original dataframe\n",
    "pokemon_df = pd.read_csv(\"pokemon.csv\", usecols = [\"Pokemon\"])\n",
    "#covert to series \n",
    "pokemon_series = pokemon_df.squeeze(\"columns\")"
   ]
  },
  {
   "cell_type": "code",
   "execution_count": null,
   "id": "4a96b5a2",
   "metadata": {},
   "outputs": [],
   "source": [
    "pokemon_series"
   ]
  },
  {
   "cell_type": "code",
   "execution_count": null,
   "id": "13f4a5a5",
   "metadata": {},
   "outputs": [],
   "source": [
    "pokemon_series[0]= \"Whatever\"\n",
    "pokemon_series.head(1)"
   ]
  },
  {
   "cell_type": "code",
   "execution_count": null,
   "id": "3fa46f2f",
   "metadata": {},
   "outputs": [],
   "source": [
    "pokemon_df \n",
    "#จะเห็นได้ว่าการเปลี่ยนแปลงค่าใน variable pokemon_series[0] = \"Whatever\" ส่งผลไปยัง Original Data ใน variable pokemon_df ด้วย\n",
    "#!!!!!!! ต้องระวัง เพราะว่าอาจจะเกิด side effect ได้ใน program ของเรา ถ้าเราไม่รู้ว่าการเปลี่ยนแปลงค่าใน varaible หนึ่ง ส่งผลไปยัง variable หนึ่ง\n",
    "\n",
    "#คำอธิบายให้เห็นภาพ\n",
    "# Big House (แทนเป็น DataFrame) - large object \n",
    "# Door (ส่วนหนึ่งของบ้าน) (แทนเป็น Series) - small object \n",
    "# จะเห็นได้ว่า การที่เราพิจารณาไปที่ ประตู ( โฟกัสไปที่ series) แล้วทำการซ่อมประตู (ทำการเปลี่ยนค่าใน series) \n",
    "# ->>> มันก็หมายถึงเราซ่อมบ้าน (เปลี่ยนค่าใน Dataframe ) แต่แค่โฟกัสไปที่ ประตูของบ้านเราเฉยๆ (โฟกัสไปที่ series)\n",
    "\n",
    "# Series คือหนึ่ง column ซึ่งมาจาก หลายๆ columns ของ DataFrame\n"
   ]
  },
  {
   "cell_type": "code",
   "execution_count": null,
   "id": "e5df5554",
   "metadata": {},
   "outputs": [],
   "source": [
    "# Big House (แทนเป็น DataFrame) - large object \n",
    "# Door (ส่วนหนึ่งของบ้าน) (แทนเป็น Series) - small object \n",
    "# จะเห็นได้ว่า การที่เราพิจารณาไปที่ ประตู ( โฟกัสไปที่ series) แล้วทำการซ่อมประตู (ทำการเปลี่ยนค่าใน series) \n",
    "# ->>> มันก็หมายถึงเราซ่อมบ้าน (เปลี่ยนค่าใน Dataframe ) แต่แค่โฟกัสไปที่ ประตูของบ้านเราเฉยๆ (โฟกัสไปที่ series)\n",
    "\n",
    "# Series คือหนึ่ง column ซึ่งเป็นส่วนหนึ่งจาก หลาย columns ของ DataFrame\n"
   ]
  },
  {
   "cell_type": "markdown",
   "id": "8dadde7a",
   "metadata": {},
   "source": [
    "#### เราจะใช้ .copy() method เพื่อ clone new object ที่เหมือน object เก่า แต่เป็นอิสระ independent จาก original data"
   ]
  },
  {
   "cell_type": "code",
   "execution_count": null,
   "id": "23a53345",
   "metadata": {},
   "outputs": [],
   "source": [
    "#from original dataframe\n",
    "pokemon_df = pd.read_csv(\"pokemon.csv\", usecols = [\"Pokemon\"])\n",
    "#covert to series + \"copy.() Method เพื่อ Seperate pokemon_series ออกจาก pokemon_df dataframe ที่เป็น original data\"\n",
    "pokemon_series = pokemon_df.squeeze(\"columns\").copy()\n",
    "#หลังจากนี้ เมื่อเราเปลี่ยนแปลงอะไรใน pokemon_series มันจะไม่กระทบ pokemon_df แล้ว หลังจากใส่ .copy() เข้าไป "
   ]
  },
  {
   "cell_type": "code",
   "execution_count": null,
   "id": "bf058d57",
   "metadata": {},
   "outputs": [],
   "source": [
    "pokemon_series[0] = \"Whatever\""
   ]
  },
  {
   "cell_type": "code",
   "execution_count": null,
   "id": "4c62be05",
   "metadata": {},
   "outputs": [],
   "source": [
    "pokemon_series.head(1)"
   ]
  },
  {
   "cell_type": "code",
   "execution_count": null,
   "id": "1f942ffc",
   "metadata": {},
   "outputs": [],
   "source": [
    "pokemon_df "
   ]
  },
  {
   "cell_type": "markdown",
   "id": "da3c9522",
   "metadata": {},
   "source": [
    "##### 3.18. The inplace Parameter "
   ]
  },
  {
   "cell_type": "markdown",
   "id": "d75df6ef",
   "metadata": {},
   "source": [
    "จะขอกล่าวถึงวิธีการแทนที่ variable ด้วยการใช้วิธีแบบดั้งเดิมก่อน คือ \n",
    "1. วิธีทั่วไป คือเราจะ assign ค่าใหม่ลงไปใน variable โดย \"วิธีการเขียนแทนค่าทับลงไปใน variable เดิม\"\n",
    "-  google = google.sort_values()\n",
    "2. วิธีใช้ inplace parameter ในการ assign ค่าใหม่ลงไปใน variable โดยไม่ต้องใช้วิธี \"วิธีการเขียนแทนค่าทับลงไปใน variable เดิม\"\n",
    "-  prerequisite คือ \n",
    "    - ก่อนจะใช้ inplace parameter, prerequisite ที่ต้องใช้เลยคือ .copy() method\n",
    "        - เพราะ เราต้องการแยก object ให้เป็นอิสระจาก Original data ที่เป็น DataFrame"
   ]
  },
  {
   "cell_type": "code",
   "execution_count": null,
   "id": "71e89b24",
   "metadata": {
    "scrolled": true
   },
   "outputs": [],
   "source": [
    "#1. วิธีทั่วไป คือเราจะ assign ค่าใหม่ลงไปใน variable โดย \"วิธีการเขียนแทนค่าทับลงไปใน variable เดิม\"\n",
    "import pandas as pd\n",
    "import numpy as np\n",
    "google = (\n",
    "    pd.read_csv(\"google_stock_price.csv\", usecols=[\"Stock Price\"])\n",
    "    .squeeze(\"columns\")\n",
    ")\n",
    "\n",
    "google\n"
   ]
  },
  {
   "cell_type": "code",
   "execution_count": null,
   "id": "4fb6786b",
   "metadata": {
    "scrolled": true
   },
   "outputs": [],
   "source": [
    "#1. วิธีทั่วไป คือเราจะ assign ค่าใหม่ลงไปใน variable โดย \"วิธีการเขียนแทนค่าทับลงไปใน variable เดิม\"\n",
    "google = google.sort_values()\n",
    "google.head()"
   ]
  },
  {
   "cell_type": "code",
   "execution_count": null,
   "id": "396dc87f",
   "metadata": {},
   "outputs": [],
   "source": [
    "google"
   ]
  },
  {
   "cell_type": "code",
   "execution_count": null,
   "id": "86d03ed0",
   "metadata": {},
   "outputs": [],
   "source": [
    "#2. วิธีใช้ inplace parameter ในการ assign ค่าใหม่ลงไปใน variable โดยไม่ต้องใช้วิธี \"วิธีการเขียนแทนค่าทับลงไปใน variable เดิม\"\n",
    "# prerequisite คือ\n",
    "# ก่อนจะใช้ inplace parameter, prerequisite ที่ต้องใช้เลยคือ .copy() method\n",
    "# เพราะ เราต้องการแยก object ให้เป็นอิสระจาก Original data ที่เป็น DataFrame\n",
    "# !!!! .copy()\n",
    "\n",
    "\n",
    "google = (\n",
    "    pd.read_csv(\"google_stock_price.csv\", usecols=[\"Stock Price\"])\n",
    "    .squeeze(\"columns\")\n",
    "    .copy()\n",
    ")\n",
    "\n",
    "\n",
    "google"
   ]
  },
  {
   "cell_type": "code",
   "execution_count": null,
   "id": "44b9078b",
   "metadata": {
    "scrolled": true
   },
   "outputs": [],
   "source": [
    "google.head()"
   ]
  },
  {
   "cell_type": "code",
   "execution_count": null,
   "id": "c469ed8d",
   "metadata": {},
   "outputs": [],
   "source": [
    "#shift+tab หา inplace parameter\n",
    "# by default, ค่าจะ = False ->> ถ้าเปลี่ยนเป็น True จะทำให้มัน assign ค่าลงใน google variable เลย โดยไม่ต้องเขียนทับ parameter เดิมแบบเก่า\n",
    "google.sort_values(inplace=True)\n",
    "# แต่ไม่ว่าจะวิธีแบบเก่าหรือแบบใหม่ ก็มีค่าเท่ากัน ไม่ได้มีความต่างอะไรในเรื่อง ความรวดเร็วของการประมวลผล หรือ memory efficiency "
   ]
  },
  {
   "cell_type": "code",
   "execution_count": null,
   "id": "11b387f0",
   "metadata": {},
   "outputs": [],
   "source": [
    "google"
   ]
  },
  {
   "cell_type": "code",
   "execution_count": null,
   "id": "d92e0ca9",
   "metadata": {},
   "outputs": [],
   "source": [
    "google.sort_index(inplace=True)"
   ]
  },
  {
   "cell_type": "code",
   "execution_count": null,
   "id": "5c9d281e",
   "metadata": {},
   "outputs": [],
   "source": [
    "google"
   ]
  },
  {
   "cell_type": "code",
   "execution_count": null,
   "id": "c5dd3eb1",
   "metadata": {},
   "outputs": [],
   "source": [
    "#ลองเอา .copy() ออก\n",
    "google = (\n",
    "    pd.read_csv(\"google_stock_price.csv\", usecols=[\"Stock Price\"])\n",
    "    .squeeze(\"columns\")\n",
    ")\n",
    "\n",
    "\n",
    "google"
   ]
  },
  {
   "cell_type": "code",
   "execution_count": null,
   "id": "10072f0b",
   "metadata": {},
   "outputs": [],
   "source": [
    "google.sort_values(inplace=True)\n",
    "#ผลลัพธ์ คือ error \n",
    "#ValueError: This Series is a view of some other array, to sort in-place you must create a copy ->>> ใช้ .copy() ซะ "
   ]
  },
  {
   "cell_type": "code",
   "execution_count": null,
   "id": "8fbeebff",
   "metadata": {},
   "outputs": [],
   "source": [
    "google2 = google.copy()\n",
    "google2.sort_values(inplace=True)"
   ]
  },
  {
   "cell_type": "code",
   "execution_count": null,
   "id": "b6d707a5",
   "metadata": {},
   "outputs": [],
   "source": [
    "google2"
   ]
  },
  {
   "cell_type": "markdown",
   "id": "909bdfd4",
   "metadata": {},
   "source": [
    "##### 3.19. Math Methods on Series Objects"
   ]
  },
  {
   "cell_type": "code",
   "execution_count": null,
   "id": "c4af9137",
   "metadata": {},
   "outputs": [],
   "source": [
    "import pandas as pd \n",
    "google = pd.read_csv(\"google_stock_price.csv\", usecols= [\"Stock Price\"]).squeeze(\"columns\")"
   ]
  },
  {
   "cell_type": "code",
   "execution_count": null,
   "id": "3a0d7060",
   "metadata": {},
   "outputs": [],
   "source": [
    "google.head()"
   ]
  },
  {
   "cell_type": "code",
   "execution_count": null,
   "id": "b85695df",
   "metadata": {},
   "outputs": [],
   "source": [
    "google"
   ]
  },
  {
   "cell_type": "code",
   "execution_count": null,
   "id": "8a1238d8",
   "metadata": {},
   "outputs": [],
   "source": [
    "google.count()\n",
    "#ignore those missing values "
   ]
  },
  {
   "cell_type": "code",
   "execution_count": null,
   "id": "00ce6168",
   "metadata": {},
   "outputs": [],
   "source": [
    "google.mean()\n",
    "#average value \n",
    "#ค่าเฉลี่ย"
   ]
  },
  {
   "cell_type": "code",
   "execution_count": null,
   "id": "b476e583",
   "metadata": {},
   "outputs": [],
   "source": [
    "google.sum()\n",
    "#sum all values"
   ]
  },
  {
   "cell_type": "code",
   "execution_count": null,
   "id": "56ae7933",
   "metadata": {},
   "outputs": [],
   "source": [
    "google.product()\n",
    "#คูณทุกค่าเข้าด้วยกัน "
   ]
  },
  {
   "cell_type": "code",
   "execution_count": null,
   "id": "10a1aaa5",
   "metadata": {},
   "outputs": [],
   "source": [
    "google.std()\n",
    "#standard deviation"
   ]
  },
  {
   "cell_type": "code",
   "execution_count": null,
   "id": "38760bc4",
   "metadata": {},
   "outputs": [],
   "source": [
    "google.min()"
   ]
  },
  {
   "cell_type": "code",
   "execution_count": null,
   "id": "8c1a3bfe",
   "metadata": {},
   "outputs": [],
   "source": [
    "google.max()"
   ]
  },
  {
   "cell_type": "code",
   "execution_count": null,
   "id": "0ee0abab",
   "metadata": {},
   "outputs": [],
   "source": [
    "google.median()\n",
    "#ค่ากลาง "
   ]
  },
  {
   "cell_type": "code",
   "execution_count": null,
   "id": "488d5943",
   "metadata": {},
   "outputs": [],
   "source": [
    "google.mode()\n"
   ]
  },
  {
   "cell_type": "code",
   "execution_count": null,
   "id": "43a8d7c6",
   "metadata": {},
   "outputs": [],
   "source": [
    "google.describe()"
   ]
  },
  {
   "cell_type": "markdown",
   "id": "3c765770",
   "metadata": {},
   "source": [
    "##### 3.20. Broadcasting"
   ]
  },
  {
   "cell_type": "code",
   "execution_count": null,
   "id": "9af1ac1d",
   "metadata": {},
   "outputs": [],
   "source": [
    "import pandas as pd \n",
    "google = pd.read_csv(\"google_stock_price.csv\", usecols= [\"Stock Price\"]).squeeze(\"columns\")\n",
    "google.head()"
   ]
  },
  {
   "cell_type": "code",
   "execution_count": null,
   "id": "61a7d46a",
   "metadata": {},
   "outputs": [],
   "source": [
    "google+10\n",
    "#เพิ่ม 10 เข้าไปในทุก row เลย\n"
   ]
  },
  {
   "cell_type": "code",
   "execution_count": null,
   "id": "417c7229",
   "metadata": {},
   "outputs": [],
   "source": [
    "google - 30 "
   ]
  },
  {
   "cell_type": "code",
   "execution_count": null,
   "id": "41f4f703",
   "metadata": {},
   "outputs": [],
   "source": [
    "google * 2"
   ]
  },
  {
   "cell_type": "code",
   "execution_count": null,
   "id": "ea4ee85a",
   "metadata": {},
   "outputs": [],
   "source": [
    "google.add(10)"
   ]
  },
  {
   "cell_type": "code",
   "execution_count": null,
   "id": "0eaf4205",
   "metadata": {},
   "outputs": [],
   "source": [
    "google[0] + 10"
   ]
  },
  {
   "cell_type": "markdown",
   "id": "837622e4",
   "metadata": {},
   "source": [
    "##### 3.21. The values_counts Method"
   ]
  },
  {
   "cell_type": "code",
   "execution_count": null,
   "id": "5d31fc9c",
   "metadata": {},
   "outputs": [],
   "source": [
    "pokemon = pd.read_csv(\"pokemon.csv\", index_col= \"Pokemon\").squeeze(\"columns\")"
   ]
  },
  {
   "cell_type": "code",
   "execution_count": null,
   "id": "cf71eea1",
   "metadata": {},
   "outputs": [],
   "source": [
    "pokemon.head()"
   ]
  },
  {
   "cell_type": "code",
   "execution_count": null,
   "id": "9fc44e07",
   "metadata": {
    "scrolled": true
   },
   "outputs": [],
   "source": [
    "pokemon.value_counts()\n",
    "#default in descending oder\n",
    "pokemon.value_counts(ascending=True).head()\n",
    "pokemon.value_counts(sort = True) # เปิดให้มีการ sort ข้อมูล by default, sort จะ True อยู่แล้ว และเรียงแบบ descending order\n",
    "#pokemon.value_counts(sort = False)# ปิดไม่ให้มีการ sort ข้อมูล ->> ทำให้ข้อมูลไม่ได้เรียงกัน \n",
    "#pokemon.value_counts( normalize= True)*100 #represent ในรูปของ % "
   ]
  },
  {
   "cell_type": "markdown",
   "id": "a8dd7de0",
   "metadata": {},
   "source": [
    "##### 3.22. The apply Method "
   ]
  },
  {
   "cell_type": "code",
   "execution_count": null,
   "id": "383f8e49",
   "metadata": {},
   "outputs": [],
   "source": [
    "pokemon = pd.read_csv(\"pokemon.csv\", index_col= \"Pokemon\").squeeze(\"columns\")\n",
    "pokemon"
   ]
  },
  {
   "cell_type": "code",
   "execution_count": null,
   "id": "8946eb3a",
   "metadata": {},
   "outputs": [],
   "source": [
    "len(\"Grass\")"
   ]
  },
  {
   "cell_type": "code",
   "execution_count": null,
   "id": "67871032",
   "metadata": {},
   "outputs": [],
   "source": [
    "pokemon.apply(5) #error, TypeError: 'int' object is not callable #expected ใน () ของ .apply() คือ function \n",
    "pokemon.apply(len(\"Grass\")) #error, TypeError: 'int' object is not callable #expected ใน () ของ .apply() คือ function "
   ]
  },
  {
   "cell_type": "code",
   "execution_count": null,
   "id": "e2c0db68",
   "metadata": {},
   "outputs": [],
   "source": [
    "pokemon.apply(len)"
   ]
  },
  {
   "cell_type": "code",
   "execution_count": null,
   "id": "7b97f1dd",
   "metadata": {},
   "outputs": [],
   "source": [
    "pokemon.apply() #expected ใน () ของ .apply() คือ function "
   ]
  },
  {
   "cell_type": "code",
   "execution_count": null,
   "id": "b20b08be",
   "metadata": {},
   "outputs": [],
   "source": [
    "def rank_pokemon(pokemon_type):\n",
    "    if pokemon_type in [\"Grass\",\"Fire\",\"Water\"]:\n",
    "        return \"Classic\"\n",
    "    elif pokemon_type == \"Normal\":\n",
    "        return \"Boring\"\n",
    "    else: \n",
    "        return \"TBD\"   "
   ]
  },
  {
   "cell_type": "code",
   "execution_count": null,
   "id": "1ee4e2aa",
   "metadata": {},
   "outputs": [],
   "source": [
    "pokemon.apply(rank_pokemon)"
   ]
  },
  {
   "cell_type": "markdown",
   "id": "c3c3a237",
   "metadata": {},
   "source": [
    "##### 3.23. The map Method \n",
    "- ใช้กับ associate object เช่น Dictionary "
   ]
  },
  {
   "cell_type": "code",
   "execution_count": null,
   "id": "7cc2a131",
   "metadata": {},
   "outputs": [],
   "source": [
    "pokemon = pd.read_csv(\"pokemon.csv\", index_col= \"Pokemon\").squeeze(\"columns\")\n",
    "pokemon.head()"
   ]
  },
  {
   "cell_type": "code",
   "execution_count": null,
   "id": "2b680692",
   "metadata": {},
   "outputs": [],
   "source": [
    "mapping = {\n",
    "    \"Grass\" : \"Classic\",\n",
    "    \"Fire\" : \"Classic\",\n",
    "    \"Water\": \"Classic\",\n",
    "    \"Normal\":\"Boring\"\n",
    "}\n",
    "\n",
    "mapping_series = pd.Series(mapping)\n",
    "mapping_series"
   ]
  },
  {
   "cell_type": "code",
   "execution_count": null,
   "id": "d5ec6b85",
   "metadata": {},
   "outputs": [],
   "source": [
    "pokemon.map(mapping)"
   ]
  },
  {
   "cell_type": "code",
   "execution_count": null,
   "id": "75cc0207",
   "metadata": {},
   "outputs": [],
   "source": [
    "pokemon.map(mapping_series)\n",
    "#ตัวที่ไม่ได้ map จะขึ้น NaN"
   ]
  },
  {
   "cell_type": "code",
   "execution_count": null,
   "id": "2c8349db",
   "metadata": {},
   "outputs": [],
   "source": [
    "pokemon.tail()"
   ]
  },
  {
   "cell_type": "markdown",
   "id": "76d4db60",
   "metadata": {},
   "source": [
    "# Section 4 :  DataFrame (Introduction)\n",
    "- Series = 1 dimensional data (rows + 1column) 1มิติ \n",
    "- DataFrame = 2 dimensional data (rows + columns) 2 มิติ"
   ]
  },
  {
   "cell_type": "markdown",
   "id": "b6800efa",
   "metadata": {},
   "source": [
    "##### 4.1. Intro to DataFrame"
   ]
  },
  {
   "cell_type": "code",
   "execution_count": null,
   "id": "2c9062db",
   "metadata": {},
   "outputs": [],
   "source": [
    "import pandas as pd "
   ]
  },
  {
   "cell_type": "code",
   "execution_count": null,
   "id": "95779387",
   "metadata": {},
   "outputs": [],
   "source": [
    "nba = pd.read_csv(\"nba.csv\")\n",
    "#NaN = missing values \n",
    "nba "
   ]
  },
  {
   "cell_type": "markdown",
   "id": "cf7f6d70",
   "metadata": {},
   "source": [
    "##### 4.2. Methods และ Attributes เทียบระหว่าง Series และ DataFrame "
   ]
  },
  {
   "cell_type": "code",
   "execution_count": null,
   "id": "e6a2c1d8",
   "metadata": {},
   "outputs": [],
   "source": [
    "import pandas as pd\n",
    "nba = pd.read_csv(\"nba.csv\")\n",
    "s = pd.Series([1,2,3,4,5])"
   ]
  },
  {
   "cell_type": "code",
   "execution_count": null,
   "id": "4bd42b3e",
   "metadata": {},
   "outputs": [],
   "source": [
    "#.head(), .tail() Methods\n",
    "s.head()\n",
    "nba.head()\n",
    "#ใช้ได้เหมือนกัน ดึง 5 rows แรก \n",
    "s.tail()\n",
    "nba.tail()\n",
    "#ใช้ได้เหมือนกัน ดึง 5 rows สุดท้าย\n",
    "s.head(n=1)\n",
    "nba.head(n=1)\n",
    "s.tail(n=2)\n",
    "nba.tail(n=7)\n",
    "#ใช้ได้เหมือนกัน ดึง rows ตามที่เราระบุค่า"
   ]
  },
  {
   "cell_type": "code",
   "execution_count": null,
   "id": "cad46103",
   "metadata": {},
   "outputs": [],
   "source": [
    "#.index Attribute\n",
    "s.index\n",
    "# ผลลัพธ์เป็น RangeIndex(start=0, stop=5, step=1)\n",
    "nba.index\n",
    "# RangeIndex(start=0, stop=458, step=1)"
   ]
  },
  {
   "cell_type": "code",
   "execution_count": null,
   "id": "66ae7c52",
   "metadata": {},
   "outputs": [],
   "source": [
    "#.values Attribute\n",
    "\n",
    "s.values #series \n",
    "#ผลลัพธ์ \n",
    "#array([1, 2, 3, 4, 5], dtype=int64)\n",
    "\n",
    "#array storing 1 array    \n",
    "\n",
    "\n",
    "nba.values #dataframe \n",
    "#ผลลัพธ์\n",
    "# array([['Avery Bradley', 'Boston Celtics', 0.0, ..., 180.0, 'Texas',\n",
    "#        7730337.0],\n",
    "#       ['Jae Crowder', 'Boston Celtics', 99.0, ..., 235.0, 'Marquette',\n",
    "#        6796117.0],\n",
    "#       ['John Holland', 'Boston Celtics', 30.0, ..., 205.0,\n",
    "#        'Boston University', nan],\n",
    "#       ...,\n",
    "#       ['Tibor Pleiss', 'Utah Jazz', 21.0, ..., 256.0, nan, 2900000.0],\n",
    "#       ['Jeff Withey', 'Utah Jazz', 24.0, ..., 231.0, 'Kansas', 947276.0],\n",
    "#       [nan, nan, nan, ..., nan, nan, nan]], dtype=object)\n",
    "\n",
    "#array storing many array \n",
    "#many child lists ถูกเก็บใน 1 parent list "
   ]
  },
  {
   "cell_type": "code",
   "execution_count": null,
   "id": "d9444332",
   "metadata": {},
   "outputs": [],
   "source": [
    "s.shape #Series #5 rows 1 column"
   ]
  },
  {
   "cell_type": "code",
   "execution_count": null,
   "id": "ea77d2f1",
   "metadata": {},
   "outputs": [],
   "source": [
    "s.hasnans"
   ]
  },
  {
   "cell_type": "code",
   "execution_count": null,
   "id": "fff5c355",
   "metadata": {},
   "outputs": [],
   "source": [
    "nba.shape #DataFrame #458 rows 9 columns "
   ]
  },
  {
   "cell_type": "code",
   "execution_count": null,
   "id": "c3676092",
   "metadata": {},
   "outputs": [],
   "source": [
    "s.dtype # ใช้กับ Series ได้ เพราะ Series เป็น obj ที่มี 1 column และ values ใน column นั้นจะเป็น dtype ประเภทเดียวกัน \n",
    "#s.dtypes"
   ]
  },
  {
   "cell_type": "code",
   "execution_count": null,
   "id": "8bf557ec",
   "metadata": {},
   "outputs": [],
   "source": [
    "#nba.dtype  # ใช้กับ DataFrame ไม่ได้ เพราะ DataFrame เป็น obj ที่มี หลาย columns \n",
    "#และแต่ละ columns อาจจะมี Dtype คนละอย่างงกัน \n",
    "#'DataFrame' object has no attribute 'dtype'\n",
    "\n",
    "nba.dtypes"
   ]
  },
  {
   "cell_type": "code",
   "execution_count": null,
   "id": "a8f756df",
   "metadata": {
    "scrolled": true
   },
   "outputs": [],
   "source": [
    "nba.head(2)"
   ]
  },
  {
   "cell_type": "code",
   "execution_count": null,
   "id": "c5ff5d99",
   "metadata": {},
   "outputs": [],
   "source": [
    "s.hasnans # Has NaN หรือไม่ True คือ มี, False คือ ไม่มี\n",
    "#nba.hasnans\n",
    "    # 'DataFrame' object has no attribute 'hasnans'"
   ]
  },
  {
   "cell_type": "code",
   "execution_count": null,
   "id": "869ad1b7",
   "metadata": {},
   "outputs": [],
   "source": [
    "nba.columns\n",
    "# s.columns\n",
    "    # 'Series' object has no attribute 'columns'"
   ]
  },
  {
   "cell_type": "code",
   "execution_count": null,
   "id": "40f3308d",
   "metadata": {
    "scrolled": true
   },
   "outputs": [],
   "source": [
    "s.axes # 1 dimensional\n",
    "# [RangeIndex(start=0, stop=5, step=1)]\n",
    "# series มี Index แค่สำหรับ rows\n",
    "\n",
    "nba.axes # 2 dimensional\n",
    "#Index for rows \n",
    "    # [RangeIndex(start=0, stop=458, step=1)\n",
    "    \n",
    "# Index for columns\n",
    "    # Index(['Name', 'Team', 'Number', 'Position', 'Age', 'Height', 'Weight',\n",
    "    #        'College', 'Salary'],\n",
    "    #       dtype='object')]\n"
   ]
  },
  {
   "cell_type": "code",
   "execution_count": null,
   "id": "dc7e1990",
   "metadata": {},
   "outputs": [],
   "source": [
    "s.info()"
   ]
  },
  {
   "cell_type": "code",
   "execution_count": null,
   "id": "0dd12f58",
   "metadata": {},
   "outputs": [],
   "source": [
    "nba.info()\n",
    "# EX. \n",
    "    # 7   College   373 non-null    object \n",
    "    # หมายความว่า จาก 458 rows มี 373 rows ที่เป็น non-null ที่เหลือเป็น null"
   ]
  },
  {
   "cell_type": "markdown",
   "id": "2fa9ae55",
   "metadata": {},
   "source": [
    "##### 3. Different between \"Shared methods\" "
   ]
  },
  {
   "cell_type": "code",
   "execution_count": null,
   "id": "bf5ac7bf",
   "metadata": {},
   "outputs": [],
   "source": [
    "revenue = pd.read_csv(\"revenue.csv\", index_col=\"Date\")\n",
    "revenue"
   ]
  },
  {
   "cell_type": "code",
   "execution_count": null,
   "id": "6f948532",
   "metadata": {},
   "outputs": [],
   "source": [
    "s = pd.Series([1,2,3])\n",
    "s.sum()"
   ]
  },
  {
   "cell_type": "code",
   "execution_count": null,
   "id": "d6651dd9",
   "metadata": {},
   "outputs": [],
   "source": [
    "# sum of all rows for each column\n",
    "# axis = \"rows\", by default\n",
    "# รวมผลลัพธ์ของทุกแถว ในแต่ละ column \n",
    "revenue.sum()\n",
    "#or\n",
    "revenue.sum(axis=\"rows\") \n",
    "#or\n",
    "revenue.sum(axis=0)\n",
    "#or \n",
    "revenue.sum(axis=\"index\") \n"
   ]
  },
  {
   "cell_type": "code",
   "execution_count": null,
   "id": "fa0f5af6",
   "metadata": {
    "scrolled": true
   },
   "outputs": [],
   "source": [
    "# รวมผลลัพธ์ของทุก columns ในแต่ละแถว \n",
    "revenue.sum(axis=\"columns\")\n",
    "revenue.sum(axis=1)\n",
    "  "
   ]
  },
  {
   "cell_type": "code",
   "execution_count": null,
   "id": "3857784e",
   "metadata": {},
   "outputs": [],
   "source": []
  },
  {
   "cell_type": "markdown",
   "id": "bd95e3a1",
   "metadata": {},
   "source": [
    "##### 4.4 เลือก 1 column จาก DataFrame\n",
    "- มีสองวิธีด้วยกันคือ \n",
    "1. ใช้ Attributes \n",
    "    - .(dot) ตามด้วยชื่อ column ที่จะเลือก\n",
    "    - EX .Name .Age .Salary\n",
    "2. ใช้ square bracket [] \n",
    "    - EX [\"Name\"] [\"Age\"] [\"Salary\"] \n",
    "\n",
    "Recommendation : ให้ใช้วิธีที่ 2 ดีกว่า เพราะวิธีที่ 1 เวลาเจอกับ column ที่มีการเว้นวรรคคำในชือ จะมีปัญหา  "
   ]
  },
  {
   "cell_type": "code",
   "execution_count": null,
   "id": "8c7bba87",
   "metadata": {},
   "outputs": [],
   "source": [
    "import pandas as pd\n",
    "nba = pd.read_csv(\"nba.csv\")\n",
    "nba.head()"
   ]
  },
  {
   "cell_type": "code",
   "execution_count": null,
   "id": "cef820e1",
   "metadata": {},
   "outputs": [],
   "source": [
    "nba.Name\n",
    "    # nba.name # error # case-sensitive\n",
    "nba.Salary"
   ]
  },
  {
   "cell_type": "code",
   "execution_count": null,
   "id": "f48b291f",
   "metadata": {},
   "outputs": [],
   "source": [
    "type(nba.Name)\n",
    "type(nba.Salary)\n",
    "## จะได้ object type เป็น Series "
   ]
  },
  {
   "cell_type": "code",
   "execution_count": null,
   "id": "b5be3a53",
   "metadata": {},
   "outputs": [],
   "source": [
    "#สมมติว่า มีcolumn ชื่อ First Name โดยมีเว้นวรรคระหว่างคำ \n",
    "#จะทำใช้ Attribute แบบนี้ไม่ได้ \n",
    "#ให้ใช้ square bracket [] แทน"
   ]
  },
  {
   "cell_type": "code",
   "execution_count": null,
   "id": "29ab7191",
   "metadata": {},
   "outputs": [],
   "source": [
    "nba[\"Name\"]\n",
    "#nba[\"name\"] # error # case sensitve \n",
    "nba[\"Number\"] \n",
    "#nba[\"First Name\"] จะใช้ได้ หากมี column อยู่ใน DataFrame นี้ "
   ]
  },
  {
   "cell_type": "code",
   "execution_count": null,
   "id": "7ea48f2e",
   "metadata": {},
   "outputs": [],
   "source": [
    "nba[\"Salary\"].tail()\n",
    "nba[\"Salary\"].mean()"
   ]
  },
  {
   "cell_type": "markdown",
   "id": "f24f95d5",
   "metadata": {},
   "source": [
    "##### 4.5. เลือก 2 or more columns จาก a DataFrame "
   ]
  },
  {
   "cell_type": "code",
   "execution_count": null,
   "id": "1c9b729b",
   "metadata": {},
   "outputs": [],
   "source": [
    "import pandas as pd \n",
    "nba = pd.read_csv(\"nba.csv\")\n",
    "nba.head()"
   ]
  },
  {
   "cell_type": "code",
   "execution_count": null,
   "id": "132a5d9e",
   "metadata": {},
   "outputs": [],
   "source": [
    "# For 1 column , dtype = Series\n",
    "nba[\"Name\"] \n",
    "\n",
    "# For 2 columns ขึ้นไป ต้องใส่ array ซ้อน array หรือ [] ซ้อนใน [] อีกทีนึง เป็น [[]], dtype = DataFrame\n",
    "nba[[\"Name\",\"Salary\"]]\n",
    "#1. nba[[\"Name\",\"Salary\"]] \n",
    "#2. nba[[\"Salary\",\"Name\"]]\n",
    "#1 vs 2 จะไม่เหมือนกัน อันแรก column Name จะขึ้นก่อน อันที่สอง column Salary จะขึ้นก่อน\n",
    "\n",
    "\n",
    "# เราสามารถใส่ไว้ใน variable แล้วค่อยเรียกใช้ variable นั้นก็ได้ เพื่อความสะดวกในการ coding \n",
    "columns_to_select = [\"Team\",\"Age\",\"Salary\"]\n",
    "nba[columns_to_select] "
   ]
  },
  {
   "cell_type": "code",
   "execution_count": null,
   "id": "76005c6f",
   "metadata": {
    "scrolled": true
   },
   "outputs": [],
   "source": [
    "# advance ->> ลองใช้ method กระทำ operation บน columns ที่ดึงมาจาก DataFrame\n",
    "columns_to_select = [\"Team\",\"Age\",\"Salary\"]\n",
    "nba[columns_to_select] \n",
    "nba_team_avg_age_salary = pd.DataFrame(nba[columns_to_select]\n",
    "                           .groupby([\"Team\"])\n",
    "                           .mean()\n",
    "                           .sort_values([\"Salary\"], ascending = False))\n",
    "nba_team_avg_age_salary\n",
    "#การ Group by ตาม แต่ละทีม team  ต่างๆ และ เฉลี่ยอายุ และ เงินเดือนโดยเฉลี่ยของนักกีฬาในทีมนั้นๆ \n",
    "#และเรียงลำดับทีมที่ จ้างนักกีฬาที่มีค่าตัวแพงโดยเฉลี่ยเท่าไหร่ เรียงจากมากที่สุดไปน้อยที่สุด ตามลำดับ"
   ]
  },
  {
   "cell_type": "markdown",
   "id": "f890b090",
   "metadata": {},
   "source": [
    "##### 4.6. Add New column to DataFrame\n",
    "- add แบบต่อท้าย column สุดท้าย \n",
    "    - nba[\"League\"]=\"National Basketball Association\" #โดย \"League\" column ต้องไม่มีอยู่ก่อนหน้านี้ ไม่งั้นจะเป็นการ assign ค่าทับ\n",
    "- add ตามตำแหน่งที่ต้องการโดยใช้ .insert()\n",
    "    - Ex. nba.insert(loc=3,column=\"Sport\",value=\"Basketball\")"
   ]
  },
  {
   "cell_type": "code",
   "execution_count": null,
   "id": "a89db38d",
   "metadata": {},
   "outputs": [],
   "source": [
    "nba = pd.read_csv(\"nba.csv\")\n",
    "nba.head()"
   ]
  },
  {
   "cell_type": "code",
   "execution_count": null,
   "id": "5315b503",
   "metadata": {},
   "outputs": [],
   "source": [
    "nba[\"Sport\"]=\"Basketball\"\n",
    "nba[\"League\"]=\"National Basketball Association\"\n",
    "nba.head()\n",
    "#python จะสร้าง column ใหม่ ต่อท้าย column สุดท้าย"
   ]
  },
  {
   "cell_type": "code",
   "execution_count": null,
   "id": "4ef94cc1",
   "metadata": {},
   "outputs": [],
   "source": [
    "nba = pd.read_csv(\"nba.csv\")\n",
    "nba.head()\n",
    "\n",
    "\n",
    "nba.insert(loc=3,column=\"Sport\",value=\"Basketball\")\n",
    "#loc คือ เลข (int) ที่บอก location หรือ ตำแหน่งของ column ที่เราต้องการจะ insert column ใหม่เข้าไปแทรก \n",
    "#loc 0        1        2        >3<                \n",
    "#### Name     Team     Number   >Sport<    \n",
    "\n",
    "\n",
    "#column คือ ชื่อ column ที่ต้องการตั้ง\n",
    "#value คือ ค่าที่ต้องการ assign ลง rows (*ทุก rows) ใน column นั้น\n",
    "\n",
    "nba.insert(loc=7,column=\"League\",value=\"National Basketball Association\")\n",
    "nba"
   ]
  },
  {
   "cell_type": "markdown",
   "id": "eae239ee",
   "metadata": {},
   "source": [
    "#####  4.7. Create New Column from Existing Column"
   ]
  },
  {
   "cell_type": "code",
   "execution_count": null,
   "id": "fa4e8108",
   "metadata": {},
   "outputs": [],
   "source": [
    "import pandas as pd \n",
    "nba = pd.read_csv(\"nba.csv\")\n",
    "nba.head()"
   ]
  },
  {
   "cell_type": "code",
   "execution_count": null,
   "id": "deeb5252",
   "metadata": {},
   "outputs": [],
   "source": [
    "nba[\"Age in a Decade\"] = nba[\"Age\"]+10\n",
    "nba[\"Age in a Decade\"] = nba[\"Age\"].add(10)\n",
    "nba\n",
    "# 2 บรรทัดข้างบน ให้ผลลัพธ์เหมือนกัน จุ้บๆ"
   ]
  },
  {
   "cell_type": "code",
   "execution_count": null,
   "id": "e9660cc0",
   "metadata": {},
   "outputs": [],
   "source": [
    "nba[\"Salary\"] - 5000000\n",
    "nba[\"Salary\"].sub(5000000)\n",
    "# 2 บรรทัดข้างบน ให้ผลลัพธ์เหมือนกัน จุ้บๆ\n",
    "nba[\"New Salary\"] = nba[\"Salary\"].sub(5000000)"
   ]
  },
  {
   "cell_type": "code",
   "execution_count": null,
   "id": "ea40a2bf",
   "metadata": {},
   "outputs": [],
   "source": [
    "nba[\"Weight\"] * 0.4535\n",
    "nba[\"Weight\"].mul(0.4535)\n",
    "# 2 บรรทัดข้างบน ให้ผลลัพธ์เหมือนกัน จุ้บๆ\n",
    "nba[\"Weight in Kilograms\"] = nba[\"Weight\"].mul(0.4535)"
   ]
  },
  {
   "cell_type": "code",
   "execution_count": null,
   "id": "b9871d44",
   "metadata": {},
   "outputs": [],
   "source": [
    "nba[\"Weight\"] = nba[\"Weight\"].mul(0.4535)\n",
    "# เขียนทับ column เก่า ก็สามารถทำได้"
   ]
  },
  {
   "cell_type": "code",
   "execution_count": null,
   "id": "bce038ad",
   "metadata": {},
   "outputs": [],
   "source": [
    "nba.head()"
   ]
  },
  {
   "cell_type": "markdown",
   "id": "487f8d0b",
   "metadata": {},
   "source": [
    "##### 4.8. A Review of the value_counts Method \n",
    "- การ count ค่าซ้ำ ใน column ที่เราเลือก"
   ]
  },
  {
   "cell_type": "code",
   "execution_count": null,
   "id": "cba0b6d8",
   "metadata": {},
   "outputs": [],
   "source": [
    "import pandas as pd \n",
    "nba = pd.read_csv(\"nba.csv\")\n",
    "nba.head()"
   ]
  },
  {
   "cell_type": "code",
   "execution_count": null,
   "id": "c23bf8cf",
   "metadata": {},
   "outputs": [],
   "source": [
    "nba['Position'].value_counts()\n",
    "# มีคนเล่นตำแหน่ง SG สูงสุด ด้วยจำนวน 102 คน \n",
    "#nba['Position'].value_counts(normalize=True)*100\n",
    "# ซึ่งคิดเป็น 22.319475 % ของผู้เล่นทั้งหมด "
   ]
  },
  {
   "cell_type": "code",
   "execution_count": null,
   "id": "b917e875",
   "metadata": {},
   "outputs": [],
   "source": [
    "nba[[\"Salary\",\"Position\"]].value_counts()\n",
    "#มีคนเงินเดือน 947276.0 $ จำนวนเยอะที่สุด ทั้งหมด 31 คน "
   ]
  },
  {
   "cell_type": "markdown",
   "id": "7068a94a",
   "metadata": {},
   "source": [
    "#####  4.9. Drop DataFrame Rows with Null Values (NaN) with dropna Method "
   ]
  },
  {
   "cell_type": "code",
   "execution_count": null,
   "id": "671ab1f8",
   "metadata": {},
   "outputs": [],
   "source": [
    "import pandas as pd \n",
    "nba = pd.read_csv(\"nba.csv\")\n",
    "nba.tail()"
   ]
  },
  {
   "cell_type": "code",
   "execution_count": null,
   "id": "310eaaff",
   "metadata": {},
   "outputs": [],
   "source": [
    "nba.dropna().shape\n",
    "# เหลือ (364, 9) จาก (458,9)\n",
    "#การใช้ dropna() แบบนี้ มันจะลบทุก rows ที่พบ NaN ไม่สนว่าจะมาจาก column ไหน หรือ จะมี NaN กี่ตัวใน row นั้น \n",
    "#มันจะลบทิ้งทั้ง row เลย \n",
    "nba.dropna(how = \"any\") \n",
    "#ให้ผลลัพธ์เหมือนกับ nba.dropna() เพราะ how = \"any\" เป็นค่า default\n",
    "nba.dropna(how = \"all\") \n",
    "# delete rows ที่พบว่า rows นั้นๆ มี every column value เป็น NaN หรือ Missing value\n",
    "# จะลบแค่ rows ที่มี NaN ในทุก columns ตัวอย่างก็คือ rowsที่ 458 หรือ index postion = 457"
   ]
  },
  {
   "cell_type": "code",
   "execution_count": null,
   "id": "7cb23ae3",
   "metadata": {},
   "outputs": [],
   "source": [
    "#ถ้าต้องการลบ rows ที่มี NaN โดยเราต้องการระบุ columns เอง สามารถทำได้ดังนี้\n",
    "# Ex. ต้องการลบ rows ที่มี NaN values ใน column \"College\"\n",
    "nba.dropna(subset = [\"College\"])\n",
    "#จะเห็นว่า rows ที่พบ NaN ของ column College ได้หายไปแล้ว\n",
    "\n",
    "# Ex. ต้องการลบ rows ที่มี NaN values ใน columns \"College\" หรือ column \"Salary\"\n",
    "nba.dropna(subset = [\"College\", \"Salary\"])\n",
    "#จะเห็นว่า rows ที่พบ NaN ของ column \"College\" จะถูกลบไป และ rows ที่พบ NaN ของ column \"Salary\" ได้หายไปแล้ว"
   ]
  },
  {
   "cell_type": "markdown",
   "id": "f649bf46",
   "metadata": {},
   "source": [
    "##### 4.10. Fill in Missing DataFrame Values with the fillna Method"
   ]
  },
  {
   "cell_type": "code",
   "execution_count": null,
   "id": "c4c9ac0e",
   "metadata": {},
   "outputs": [],
   "source": [
    "import pandas as pd \n",
    "nba = pd.read_csv(\"nba.csv\")\n",
    "nba.tail()"
   ]
  },
  {
   "cell_type": "code",
   "execution_count": null,
   "id": "186a8d4b",
   "metadata": {
    "scrolled": false
   },
   "outputs": [],
   "source": [
    "#nba.fillna(0) = fil nba ทั้ง dataframe ด้วยค่า 0 \n",
    "nba[\"College\"].fillna(\"Unknown\") #แทนค่า \"Unknown\" แทนที่ NaN ใน column \"College\" แต่ยังไม่ฝังลง nba \n",
    "\n",
    "#RECOMMENDED TO USE THIS METHOD ในการแทนค่าทับค่าเดิม เพราะ เข้าใจง่าย แต่ inplace ก็ใช้ได้เหมือนกัน \n",
    "nba[\"College\"] = nba[\"College\"].fillna(\"Unknown\")\n",
    "\n",
    "\n",
    "#NOT RECOMMENDED\n",
    "nba[\"College\"].fillna(\"Unknown\", inplace=True)  \n",
    "    #แทนค่า \"Unknown\" แทนที่ NaN ใน column \"College\" แบบ permanent ลงไปใน nba เลย\n",
    "    #nba # จะเห็นได้ว่า มี unknown ฝังใน column college แล้ว  \n",
    "\n",
    "\n",
    "\n",
    "\n",
    "nba"
   ]
  },
  {
   "cell_type": "code",
   "execution_count": null,
   "id": "48323907",
   "metadata": {},
   "outputs": [],
   "source": [
    "#nba[\"Salary\"].fillna(value=0, inplace=True)\n",
    "nba[\"Salary\"] = nba[\"Salary\"].fillna(value=0)\n",
    "nba.tail()"
   ]
  },
  {
   "cell_type": "code",
   "execution_count": null,
   "id": "7848f057",
   "metadata": {},
   "outputs": [],
   "source": []
  },
  {
   "cell_type": "markdown",
   "id": "300903bf",
   "metadata": {},
   "source": [
    "##### 4.11. the astype Method I "
   ]
  },
  {
   "cell_type": "code",
   "execution_count": null,
   "id": "d6fbea68",
   "metadata": {},
   "outputs": [],
   "source": [
    "import pandas as pd \n",
    "nba = pd.read_csv(\"nba.csv\").dropna(how = \"all\")\n",
    "nba.tail()\n",
    "\n",
    "# ถ้าทำการ import ข้อมูลเข้ามาผ่าน pandas โดยถ้า pandas มันเจอ NaN value เพียงตัวเดียวในไฟล์ CSV  \n",
    "# mechanism ของมันจะเปลี่ยนข้อมูล integer เป็น floating point เพื่อให้สามารถรองรับค่า NaN ได้\n",
    "\n",
    "# ยังไงก็ตาม, เราสามารถใช้ astype method ในการเปลี่ยนแปลง floating เป็น integer ได้ "
   ]
  },
  {
   "cell_type": "code",
   "execution_count": null,
   "id": "86d9d512",
   "metadata": {},
   "outputs": [],
   "source": [
    "nba[\"Age\"].hasnans # False\n",
    "#nba[\"College\"].hasnans # True\n",
    "\n",
    "#Attributes นี้มีไว้เช็คว่า series ที่เราเลือกมา มีค่า NaN ใน values หรือไม่ \n",
    "#ถ้าไม่มีขึ้น NaN จะขึ้นค่า false (expect ให้ได้ค่่านี้)\n",
    "#ถ้ามีขึ้น NaN จะขึ้นค่า True \n",
    "\n",
    "#สาเหตุที่ต้องเช็ค เพราะว่า หากมี NaN ใน column อยู่ การใช้ astype เพื่อเปลี่ยน NaN เป็น integer จะ return error \n",
    "#เพราะ astype ไม่สามารถเปลี่ยน NaN เป็น integer หรือ floating values ได้\n",
    "\n",
    "nba[\"Age\"].astype(\"int\")\n",
    "#nba[\"Age\"].astype(int) ทำได้เหมือนกัน ถ้า มี dtype นั้นมีอยู่ใน core Python programming language \n",
    "\n",
    "nba[\"Age\"] = nba[\"Age\"].astype(int)\n",
    "#nba"
   ]
  },
  {
   "cell_type": "code",
   "execution_count": null,
   "id": "a692c60b",
   "metadata": {},
   "outputs": [],
   "source": [
    "nba[\"Salary\"].hasnans #ได้ค่า True หมายถึง มี NaN values อยู่ เราต้อง fillna ก่อน\n",
    "#ไม่งั้น\n",
    "    # nba[\"Salary\"].astype(\"int\") >>> ถ้า Salary column ยังมี value ที่เป็น NaN อยู่ จะทำให้การใช้ astype จะ return error ออกมา\n",
    "    # IntCastingNaNError: Cannot convert non-finite values (NA or inf) to integer\n",
    "    # ต้องทำการ nba[\"Salary\"].fillna(0) เพื่อเติมเต็มค่า NaN ก่อน\n",
    "\n",
    "nba[\"Salary\"] = nba[\"Salary\"].fillna(0)\n",
    "nba[\"Salary\"].hasnans\n",
    "nba[\"Salary\"].astype(int).astype(str) \n",
    "#Name: Salary, Length: 457, dtype: object"
   ]
  },
  {
   "cell_type": "markdown",
   "id": "9a692134",
   "metadata": {},
   "source": [
    "#####  4.12. the astype Method II (category)"
   ]
  },
  {
   "cell_type": "code",
   "execution_count": null,
   "id": "5d608dde",
   "metadata": {},
   "outputs": [],
   "source": [
    "import pandas as pd \n",
    "nba = pd.read_csv(\"nba.csv\").dropna(how = 'all')\n",
    "nba.tail()"
   ]
  },
  {
   "cell_type": "code",
   "execution_count": null,
   "id": "1a25c70c",
   "metadata": {},
   "outputs": [],
   "source": [
    "nba.dtypes\n",
    "nba.info()"
   ]
  },
  {
   "cell_type": "code",
   "execution_count": null,
   "id": "114adfac",
   "metadata": {},
   "outputs": [],
   "source": [
    "len(nba)"
   ]
  },
  {
   "cell_type": "code",
   "execution_count": null,
   "id": "10ffc8ed",
   "metadata": {},
   "outputs": [],
   "source": [
    "nba[\"Position\"].nunique()\n",
    "#มี 5 unique values \n",
    "#เพราะมี unique values ไม่มากทำให้สามารถเลือกที่ะจัด catagory ให้ข้อมูล แยกตามแต่ละ unique value นี้ได้ "
   ]
  },
  {
   "cell_type": "code",
   "execution_count": null,
   "id": "08f87bef",
   "metadata": {},
   "outputs": [],
   "source": [
    "nba[\"Position\"].astype(\"category\")\n",
    "#Categories (5, object): ['C', 'PF', 'PG', 'SF', 'SG']\n",
    "nba[\"Position\"] = nba[\"Position\"].astype(\"category\") \n",
    "nba.info()\n",
    "# 2 บรรทัดข้างบนนี้คือการที่เรา assign ค่า nba[\"Position\"] ที่มีการจัด category แล้ว ลงใน column เดิม\n",
    "# เมื่อเราสังเกตตรงบริเวณการใช้ memory usage จะเห็นได้ว่า memory usage ลดลง \n",
    "# เนื่องจากการที่เราจัดกลุ่ม category ให้ data จะทำให้ python จะสามารถใช้งาน data ได้ง่ายและรวดเร็วมากขึ้น\n",
    "# การจัดบ้านให้เป็นระเบียบก็ทำให้เราหาของเจอง่ายขึ้น จุ้บๆ"
   ]
  },
  {
   "cell_type": "code",
   "execution_count": null,
   "id": "bbc25abe",
   "metadata": {},
   "outputs": [],
   "source": [
    "nba[\"Team\"].nunique() \n",
    "#มี ทีมทั้งหมด 30 ทีม จากข้อมูล457 แถวจะเห็นได้ว่า มีการกรอกข้อมูลซ้ำๆ เยอะมาก จะดีกว่ามั้ยถ้าเราจัด category ให้มัน \n",
    "#เราสามารถจัด category ได้โดย \n",
    "nba[\"Team\"] = nba[\"Team\"].astype(\"category\")\n",
    "#Categories (30, object): ['Atlanta Hawks', 'Boston Celtics', 'Brooklyn Nets', 'Charlotte Hornets', ..., 'San Antonio Spurs', 'Toronto Raptors', 'Utah Jazz', 'Washington Wizards']\n",
    "nba.info()\n",
    "\n",
    "#จะเห็นได้ว่าหลังจากทำการจัด category ใน column ทีมเพิ่มอีก จะทำให้การใช้งาน memory ลดลงอีก ทำให้เราสามารถเรียกใช้งานข้อมูลได้เร็วขึ้น\n",
    "#อย่างไรก็ตามข้อมูลที่เราเอามาใช้ nba.csv เป็นข้อมูลขนาดเล็ก ถ้าใหญ่กว่านี้เช่นมีเป็นล้าน rows พันๆ columns การลดการใช้งานของ memory จะทำให้เรา access เข้าถึงข้อมูลได้เร็วขึ้น อย่างเห็นได้ชัดเลยย \n"
   ]
  },
  {
   "cell_type": "markdown",
   "id": "dc6920df",
   "metadata": {},
   "source": [
    "\n",
    "##### 4.13. Sort a DataFrame with the sort_values Method, Part I \n",
    "- sort คอลัมน์เดียว"
   ]
  },
  {
   "cell_type": "code",
   "execution_count": null,
   "id": "2738378f",
   "metadata": {
    "scrolled": true
   },
   "outputs": [],
   "source": [
    "import pandas as pd \n",
    "nba = pd.read_csv(\"nba.csv\")\n",
    "nba.tail()"
   ]
  },
  {
   "cell_type": "code",
   "execution_count": null,
   "id": "268aa553",
   "metadata": {},
   "outputs": [],
   "source": [
    "#nba[\"Name\"].sort_values() # A to Z ignore NaN\n",
    "#nba[\"Salary\"].sort_values() # ค่าน้อยไปมาก ignore NaN\n",
    "\n",
    "import numpy as np\n",
    "nba.sort_values(by = \"Name\") #Sort โดยใช้ column Name ascending order (by default)\n",
    "nba.sort_values(by = \"Name\", ascending = True)\n",
    "nba.sort_values(by = \"Name\", ascending = False) #Sort โดยใช้ column Name descending order เพราะเรากำหนด\n",
    "\n",
    "nba.sort_values(\"Age\") #Sort โดยใช้ column Age ascending order (by default) \n",
    "nba.sort_values(\"Age\", ascending = False)\n",
    "\n",
    "nba.sort_values(\"Salary\", ascending = False)\n",
    "nba.sort_values(\"Salary\", na_position='last') # default = last เอา NaN ไว้ล่างสุด เรียงตาม index position \n",
    "nba.sort_values(\"Salary\", na_position='first') # เอา NaN ขึ้นบนสุด เรียงตาม index position \n",
    "nba.sort_values(\"Salary\", na_position='first',ascending = False)\n",
    "\n",
    "## Sort more than one column \n",
    "#nba.sort_values(by = [\"Position\",\"Age\"]) \n",
    "#Sort โดยใช้ column Position ก่อน แล้วตามด้วย Age | โดยเป็น ascending order (by default) ทั้งคู่\n",
    "#nba.sort_values(by = [\"Position\",\"Age\"],ascending = [True, False]) \n",
    "#Sort โดยใช้ column Position ก่อน แล้วตามด้วย Age | โดย Position เรียงตาม ascending order และ Age เรียงตาม Descending order"
   ]
  },
  {
   "cell_type": "markdown",
   "id": "bbad2004",
   "metadata": {},
   "source": [
    "##### 4.14.  Sort a DataFrame with the sort_values Method, Part II\n",
    "- sort หลายคอลัมน์"
   ]
  },
  {
   "cell_type": "code",
   "execution_count": null,
   "id": "58e1d208",
   "metadata": {},
   "outputs": [],
   "source": [
    "import pandas as pd \n",
    "nba = pd.read_csv(\"nba.csv\").dropna(how = \"all\")\n",
    "nba.tail()"
   ]
  },
  {
   "cell_type": "code",
   "execution_count": null,
   "id": "41920c46",
   "metadata": {},
   "outputs": [],
   "source": [
    "nba.sort_values(by = [\"Team\",\"Name\"], ascending = True) # same as this ->>> #nba.sort_values(by = [\"Team\",\"Name\"], ascending = [True, True]) \n",
    "nba.sort_values(by = [\"Team\",\"Name\"], ascending = False) # same as this ->>> #nba.sort_values(by = [\"Team\",\"Name\"], ascending = [False, False]) \n",
    "\n",
    "nba.sort_values(by = [\"Team\",\"Name\"], ascending = [True, False])\n",
    "nba.sort_values(by = [\"Position\",\"Salary\"], ascending = True) # same as this ->>> #nba.sort_values(by = [\"Position\",\"Salary\"], ascending = [True, True])\n",
    "nba.sort_values(by = [\"Position\",\"Salary\"], ascending = [False, True])\n",
    "\n",
    "## Sort more than one column \n",
    "#nba.sort_values(by = [\"Position\",\"Age\"]) \n",
    "#Sort โดยใช้ column Position ก่อน แล้วตามด้วย Age | โดยเป็น ascending order (by default) ทั้งคู่\n",
    "#nba.sort_values(by = [\"Position\",\"Age\"],ascending = [True, False]) \n",
    "#Sort โดยใช้ column Position ก่อน แล้วตามด้วย Age | โดย Position เรียงตาม ascending order และ Age เรียงตาม Descending order"
   ]
  },
  {
   "cell_type": "markdown",
   "id": "dbe5307e",
   "metadata": {},
   "source": [
    "##### 4.15.  Sort a DataFrame with the sort_index Method"
   ]
  },
  {
   "cell_type": "code",
   "execution_count": null,
   "id": "c8b4d159",
   "metadata": {},
   "outputs": [],
   "source": [
    "import pandas as pd \n",
    "nba = pd.read_csv(\"nba.csv\",index_col=\"Name\").dropna(how = 'all')\n",
    "nba.tail()"
   ]
  },
  {
   "cell_type": "code",
   "execution_count": null,
   "id": "1b3854d1",
   "metadata": {},
   "outputs": [],
   "source": [
    "nba = nba.sort_values(by = [\"Team\",\"Name\"], ascending = [True,True])\n",
    "nba.head()\n",
    "#สองรรทัดด้านบนจะทำให้มีการจัดเรียง order ตาม column Team *ascending order และ Name *ascending order ตามลำดับ\n",
    "#จะเห็นได้ว่าเมื่อมีการเรียงลำดับเกิดขึ้น index postion ประจำ row นั้นๆ ไม่ได้เปลี่ยนไป \n",
    "#โดยจะไม่ได้เรียงจาก 0,1,2,...,454,455,456 แล้ว จะเรียงตาม ตาม column Team *ascending order และ Name *ascending order ตามลำดับ \n",
    "\n",
    "#การที่จะทำให้เกิดการจัดเรียงตาม index position แบบเดิม (0,1,2,...,454,455,456) ทำได้โดยใช้ sort_index \n",
    "nba = nba.sort_index()\n",
    "#or \n",
    "nba = nba.sort_index( ascending = True)\n",
    "nba"
   ]
  },
  {
   "cell_type": "code",
   "execution_count": null,
   "id": "37d5f39a",
   "metadata": {},
   "outputs": [],
   "source": [
    "nba = nba.sort_index( ascending = False) #ทำการ sort index แบบ descending order \n",
    "nba "
   ]
  },
  {
   "cell_type": "markdown",
   "id": "da5a13d2",
   "metadata": {},
   "source": [
    "##### 4.16. Rank values with the rank Method \n",
    "- ใช้ .rank() เพื่อบอกค่า  1st highest value, และ 2nd highest value ใน column นั้น"
   ]
  },
  {
   "cell_type": "code",
   "execution_count": null,
   "id": "3e22daaa",
   "metadata": {},
   "outputs": [],
   "source": [
    "import pandas as pd \n",
    "nba = pd.read_csv(\"nba.csv\").dropna(how = 'all')\n",
    "nba.head()"
   ]
  },
  {
   "cell_type": "code",
   "execution_count": null,
   "id": "574d2f78",
   "metadata": {},
   "outputs": [],
   "source": [
    "nba[\"Salary\"] = nba[\"Salary\"].fillna(0).astype(\"int\")\n",
    "#เปลี่ยน NaN to 0 \n",
    "#float to int"
   ]
  },
  {
   "cell_type": "code",
   "execution_count": null,
   "id": "7c57e558",
   "metadata": {},
   "outputs": [],
   "source": [
    "#จัด rank ใน column Salary #แบบที่เงินเดือนสูงสุดจะมีตัวเลข rank จำนวนเยอะสุด หรือ เป็น rank ท้ายสุด or เงินเดือนเยอะสุดได้ rank 452\n",
    "nba[\"Salary\"].rank().astype(\"int\") \n",
    "#or nba[\"Salary\"].rank(ascending=True).astype(\"int\") \n",
    "\n",
    "\n",
    "#จัด rank ใน column Salary #แบบที่เงินเดือนสูงสุดจะมีตัวเลข rank จำนวนน้อยสุด or เงินเดือนเยอะสุดได้ rank 1 \n",
    "nba[\"Salary Rank\"] = nba[\"Salary\"].rank(ascending=False).astype(\"int\") \n",
    "nba"
   ]
  },
  {
   "cell_type": "code",
   "execution_count": null,
   "id": "f90fb054",
   "metadata": {},
   "outputs": [],
   "source": [
    "# Check ผล โดยการเรียง column \"salary\" จาก มากไปน้อย เพื่อเช็คว่า เงินเดือนเยอะสุด มี Salary Rank = 1 หรือไม่\n",
    "nba.sort_values(by = \"Salary\", ascending=False) "
   ]
  },
  {
   "cell_type": "markdown",
   "id": "505c4151",
   "metadata": {},
   "source": [
    "# Section 5 : DataFrame II (Filtering Data)"
   ]
  },
  {
   "cell_type": "markdown",
   "id": "049b1703",
   "metadata": {},
   "source": [
    "##### 5.1 This module's Dateset + Memory Optimization "
   ]
  },
  {
   "cell_type": "code",
   "execution_count": null,
   "id": "b9d0fbdf",
   "metadata": {},
   "outputs": [],
   "source": [
    "import pandas as pd \n",
    "df = pd.read_csv(\"employees.csv\")\n",
    "df.head(3)"
   ]
  },
  {
   "cell_type": "code",
   "execution_count": null,
   "id": "b9fa3e33",
   "metadata": {},
   "outputs": [],
   "source": [
    "df.info()"
   ]
  },
  {
   "cell_type": "code",
   "execution_count": null,
   "id": "df7cd24f",
   "metadata": {},
   "outputs": [],
   "source": [
    "df[\"Start Date\"] = pd.to_datetime(df[\"Start Date\"])\n",
    "#เปลี่ยน dtype ของ Start Date จาก str ที่มีformat ของ date เป็น datetime64\n",
    "df.info()"
   ]
  },
  {
   "cell_type": "code",
   "execution_count": null,
   "id": "d1caf097",
   "metadata": {},
   "outputs": [],
   "source": [
    "df.head(3)"
   ]
  },
  {
   "cell_type": "code",
   "execution_count": null,
   "id": "b4b90563",
   "metadata": {},
   "outputs": [],
   "source": [
    "pd.to_datetime(df[\"Last Login Time\"])\n",
    "# จะเห็นได้ว่า ค่า default ของการเปลี่ยนแปลงจาก str ที่มีformat ของ time ex \"12:42 PM\"เป็นดังนี้\n",
    "# Time จะเป็นตามค่าใน column \"Last Login Time\" /// แต่ date จะถูกเปลี่ยนเป็นวันที่ปัจจุบันที่เรารัน code   \n",
    "\n",
    "df[\"Last Login Time\"] = pd.to_datetime(df[\"Last Login Time\"])\n",
    "df.head(3)"
   ]
  },
  {
   "cell_type": "code",
   "execution_count": null,
   "id": "bae83c5d",
   "metadata": {},
   "outputs": [],
   "source": [
    "df[\"Senior Management\"] = df[\"Senior Management\"].astype(\"bool\")\n",
    "df.head(3)"
   ]
  },
  {
   "cell_type": "code",
   "execution_count": null,
   "id": "58736328",
   "metadata": {},
   "outputs": [],
   "source": [
    "df[\"Gender\"] = df[\"Gender\"].astype(\"category\")\n",
    "df.head(3)\n",
    "df.info()\n",
    "#ลด memory usage ลง โดยการจัดกลุ่ม category ทำให้เรียกใช้ขข้อมูลได้เร็วขึ้น"
   ]
  },
  {
   "cell_type": "code",
   "execution_count": null,
   "id": "931afef4",
   "metadata": {},
   "outputs": [],
   "source": [
    "import pandas as pd \n",
    "\n",
    "df = pd.read_csv(\"employees.csv\",parse_dates = [\"Start Date\", \"Last Login Time\"])\n",
    "#ทำให้แปลงค่า str ที่มี format datetime ใน column  [\"Start Date\", \"Last Login Time\"] นี้ เป็น datetime64 เลยตั้งแต่ read_csv file เข้ามา\n",
    "#ทำให้ไม่ต้องใช้สองบรรทัดด้านล่างนี้ เพื่อเปลี่ยน dtype : str ที่มี format datetime เป็น dtype : datetime 64\n",
    "#df[\"Start Date\"] = pd.to_datetime(df[\"Start Date\"])\n",
    "#df[\"Last Login Time\"] = pd.to_datetime(df[\"Last Login Time\"])\n",
    "df[\"Senior Management\"] = df[\"Senior Management\"].astype(\"bool\")\n",
    "df[\"Gender\"] = df[\"Gender\"].astype(\"category\")\n",
    "df.head(3)\n",
    "df.info()"
   ]
  },
  {
   "cell_type": "markdown",
   "id": "5f10768f",
   "metadata": {},
   "source": [
    "##### 5.2 Filter A DataFrame Based on A condition "
   ]
  },
  {
   "cell_type": "code",
   "execution_count": null,
   "id": "6546466a",
   "metadata": {},
   "outputs": [],
   "source": [
    "import pandas as pd\n",
    "df = pd.read_csv(\"employees.csv\",parse_dates = [\"Start Date\", \"Last Login Time\"])\n",
    "#ทำให้แปลงค่า str ที่มี format datetime ใน column  [\"Start Date\", \"Last Login Time\"] นี้ เป็น datetime64 เลยตั้งแต่ read_csv file เข้ามา\n",
    "#ทำให้ไม่ต้องใช้สองบรรทัดด้านล่างนี้ เพื่อเปลี่ยน dtype : str ที่มี format datetime เป็น dtype : datetime 64\n",
    "#df[\"Start Date\"] = pd.to_datetime(df[\"Start Date\"])\n",
    "#df[\"Last Login Time\"] = pd.to_datetime(df[\"Last Login Time\"])\n",
    "df[\"Senior Management\"] = df[\"Senior Management\"].astype(\"bool\")\n",
    "df[\"Gender\"] = df[\"Gender\"].astype(\"category\")\n",
    "df.head(3)"
   ]
  },
  {
   "cell_type": "code",
   "execution_count": null,
   "id": "ebd97488",
   "metadata": {},
   "outputs": [],
   "source": [
    "df[\"Gender\"] == \"Male\"\n",
    "# ใช้ double equal (==) ในการเปรียบเทียบ \n",
    "# ระวังการใช้ single equal (=) เพราะมันจะ assign ค่า male แบบ broadcasting ลงทุกๆ rows ใน column \"Gender\"\n",
    "\n",
    "df[df[\"Gender\"] == \"Male\"]\n",
    "#การใช้ df[df[\"xxx\"]== \"yyy\"] \n",
    "#python จะรับรู้ว่าเราต้องการที่จะดึง value จาก column \"xxx\" ***โดยมีเงื่อนไขว่า จะเอาเฉพาะ rows ที่มีค่า \"yyy\" เท่านั้น"
   ]
  },
  {
   "cell_type": "code",
   "execution_count": null,
   "id": "1776cd86",
   "metadata": {},
   "outputs": [],
   "source": [
    "mask = df[\"Team\"] == \"Finance\"\n",
    "df[mask]"
   ]
  },
  {
   "cell_type": "code",
   "execution_count": null,
   "id": "26099e13",
   "metadata": {},
   "outputs": [],
   "source": [
    "df[df[\"Senior Management\"]]\n",
    "## ถ้า column นั้น มี dtype เป็น bool (True or False) อยู่แล้ว \n",
    "## การที่เราไม่ใส่ ==, python จะดึงค่า Senior Management == True ให้เราเองโดยที่ไม่ต้องใส่ "
   ]
  },
  {
   "cell_type": "code",
   "execution_count": null,
   "id": "00c0ea13",
   "metadata": {},
   "outputs": [],
   "source": [
    "mask = df[\"Team\"] != \"Marketing\"\n",
    "df[mask]\n",
    "# filter Team ที่ไม่ใช่ \"Marketing\""
   ]
  },
  {
   "cell_type": "code",
   "execution_count": null,
   "id": "95d53eb0",
   "metadata": {},
   "outputs": [],
   "source": [
    "df[(df[\"Salary\"] > 100000)]\n",
    "\n",
    "#filter คนที่มี เงินเดือนสูงกว่า 110000 "
   ]
  },
  {
   "cell_type": "code",
   "execution_count": null,
   "id": "fc771286",
   "metadata": {},
   "outputs": [],
   "source": [
    "df[df[\"Bonus %\"] < 1.5]\n",
    "#filter คนที่มีได้ bonus น้อยกว่า 1.5 %"
   ]
  },
  {
   "cell_type": "code",
   "execution_count": null,
   "id": "c32cda27",
   "metadata": {},
   "outputs": [],
   "source": [
    "mask = df[\"Start Date\"] <= \"1985-01-01\"\n",
    "#filter คนเริ่มงานก่อนวันที่ 1985-01-01 หรือเท่ากับ วันที่ 1985-01-01\n",
    "df[mask]"
   ]
  },
  {
   "cell_type": "markdown",
   "id": "32542a8a",
   "metadata": {},
   "source": [
    "##### 5.3 Filter DataFrame with more than one condition (AND - &) \n",
    "- and คือ ทุกconditions ต้อง True ทั้งหมด ถึงจะ filter ข้อมูลนั้นมา"
   ]
  },
  {
   "cell_type": "code",
   "execution_count": null,
   "id": "307bc144",
   "metadata": {},
   "outputs": [],
   "source": [
    "import pandas as pd\n",
    "df = pd.read_csv(\"employees.csv\",parse_dates = [\"Start Date\", \"Last Login Time\"])\n",
    "#ทำให้แปลงค่า str ที่มี format datetime ใน column  [\"Start Date\", \"Last Login Time\"] นี้ เป็น datetime64 เลยตั้งแต่ read_csv file เข้ามา\n",
    "#ทำให้ไม่ต้องใช้สองบรรทัดด้านล่างนี้ เพื่อเปลี่ยน dtype : str ที่มี format datetime เป็น dtype : datetime 64\n",
    "#df[\"Start Date\"] = pd.to_datetime(df[\"Start Date\"])\n",
    "#df[\"Last Login Time\"] = pd.to_datetime(df[\"Last Login Time\"])\n",
    "df[\"Senior Management\"] = df[\"Senior Management\"].astype(\"bool\")\n",
    "df[\"Gender\"] = df[\"Gender\"].astype(\"category\")\n",
    "df.head(3)"
   ]
  },
  {
   "cell_type": "code",
   "execution_count": null,
   "id": "890af647",
   "metadata": {
    "scrolled": true
   },
   "outputs": [],
   "source": [
    "mask1 = df[\"Gender\"] == \"Male\"\n",
    "mask2 = df[\"Team\"] == \"Marketing\"\n",
    "df[mask1 & mask2]\n",
    "#ใช้คำว่า and ไม่ได้ =>> ต้องใช้ ampersand (&) "
   ]
  },
  {
   "cell_type": "markdown",
   "id": "53498ac6",
   "metadata": {},
   "source": [
    "##### 5.4 Filter DataFrame with more than one condition (OR - | ) \n",
    "- or คือ มี condition ใด condition นึง True ก็จะ filter ข้อมูลตรงนั้นมา "
   ]
  },
  {
   "cell_type": "code",
   "execution_count": null,
   "id": "fdaa5701",
   "metadata": {},
   "outputs": [],
   "source": [
    "import pandas as pd\n",
    "df = pd.read_csv(\"employees.csv\",parse_dates = [\"Start Date\", \"Last Login Time\"])\n",
    "#ทำให้แปลงค่า str ที่มี format datetime ใน column  [\"Start Date\", \"Last Login Time\"] นี้ เป็น datetime64 เลยตั้งแต่ read_csv file เข้ามา\n",
    "#ทำให้ไม่ต้องใช้สองบรรทัดด้านล่างนี้ เพื่อเปลี่ยน dtype : str ที่มี format datetime เป็น dtype : datetime 64\n",
    "#df[\"Start Date\"] = pd.to_datetime(df[\"Start Date\"])\n",
    "#df[\"Last Login Time\"] = pd.to_datetime(df[\"Last Login Time\"])\n",
    "df[\"Senior Management\"] = df[\"Senior Management\"].astype(\"bool\")\n",
    "df[\"Gender\"] = df[\"Gender\"].astype(\"category\")\n",
    "df.head(3)"
   ]
  },
  {
   "cell_type": "code",
   "execution_count": null,
   "id": "ec48ba4b",
   "metadata": {},
   "outputs": [],
   "source": [
    "mask1 = df[\"Senior Management\"] #column นี้มี dtype เป็น bool \n",
    "mask2 = df[\"Start Date\"] < \"1990-01-01\"\n",
    "df[mask1 | mask2]\n",
    "\n",
    "#จะได้พนักงานที่เข้าทำงานก่อน 1990-01-01 หรือ พนักงานที่เป็น Senior Management"
   ]
  },
  {
   "cell_type": "code",
   "execution_count": null,
   "id": "efba2217",
   "metadata": {},
   "outputs": [],
   "source": [
    "mask1 = df[\"First Name\"] == \"Robert\"\n",
    "mask2 = df[\"Team\"] == \"Client Services\"\n",
    "mask3 = df[\"Start Date\"] > \"2016-06-01\"\n",
    "\n",
    "df[mask1 & mask2 | mask3]\n",
    "#ถ้าทำแบบนี้เราจะงงว่า python จะ evaluate อะไรก่อน ระหว่าง and หรือ or \n",
    "#เราสามารถใช้ parenthesis ในการจัดลำดับความสำคัญให้ python ได้ \n",
    "df[(mask1 & mask2) | mask3]\n",
    "#จะทำ and ก่อน แล้วค่อยทำ or "
   ]
  },
  {
   "cell_type": "markdown",
   "id": "2320599e",
   "metadata": {},
   "source": [
    "##### 5.5 The .isin() Method \n",
    "- ใช้แทน or ได้"
   ]
  },
  {
   "cell_type": "code",
   "execution_count": null,
   "id": "f875d259",
   "metadata": {},
   "outputs": [],
   "source": [
    "import pandas as pd\n",
    "df = pd.read_csv(\"employees.csv\",parse_dates = [\"Start Date\", \"Last Login Time\"])\n",
    "#ทำให้แปลงค่า str ที่มี format datetime ใน column  [\"Start Date\", \"Last Login Time\"] นี้ เป็น datetime64 เลยตั้งแต่ read_csv file เข้ามา\n",
    "#ทำให้ไม่ต้องใช้สองบรรทัดด้านล่างนี้ เพื่อเปลี่ยน dtype : str ที่มี format datetime เป็น dtype : datetime 64\n",
    "#df[\"Start Date\"] = pd.to_datetime(df[\"Start Date\"])\n",
    "#df[\"Last Login Time\"] = pd.to_datetime(df[\"Last Login Time\"])\n",
    "df[\"Senior Management\"] = df[\"Senior Management\"].astype(\"bool\")\n",
    "df[\"Gender\"] = df[\"Gender\"].astype(\"category\")\n",
    "df.head(3)"
   ]
  },
  {
   "cell_type": "code",
   "execution_count": null,
   "id": "af9c3245",
   "metadata": {},
   "outputs": [],
   "source": [
    "mask1 = df[\"Team\"] == \"Legal\"\n",
    "mask2 = df[\"Team\"] == \"Sales\"\n",
    "mask3 = df[\"Team\"] == \"Product\"\n",
    "\n",
    "df[mask1 | mask2 | mask3]"
   ]
  },
  {
   "cell_type": "code",
   "execution_count": null,
   "id": "f6c58aa8",
   "metadata": {},
   "outputs": [],
   "source": [
    "mask = df[\"Team\"].isin([\"Legal\",\"Sales\",\"Product\"])\n",
    "#ใช้ .isin() method เพื่อหาว่า ใน column \"Team\" มีค่าอะไรบ้างที่ตรงกับค่าใน () ของ .isin() method\n",
    "#ตัวอย่างนี้คือ จะหาว่า ใน  team ค่าไหนที่ตรงกับ Legal หรือ Sales หรือ Product บ้าง\n",
    "#ถ้าค่าในทีมใน rows ใด ของ column \"Team\" ตรงกับ ค่าใดค่านึงใน .isin() ผลลัพธ์จะreturn boolean ค่า True ให้ rows นั้นๆ \n",
    "#เช่น row ที่ Index position = 999; ค่าใน column \"Team\" = Salse ซึ่งพบใน .isin() ก็จะได้ค่า True\n",
    "#ถ้าค่าในทีมใน rows ใด ของ column \"Team\" ไม่ตรงกับ ค่าใน .isin() เลย ผลลัพธ์จะreturn boolean ค่า False ให้ rows นั้นๆ \n",
    "#เช่น row ที่ Index position = 0; ค่าใน column \"Team\" = Finance ซึ่งไม่พบใน .isin() ก็จะได้ค่า False\n",
    "\n",
    "\n",
    "\n",
    "\n",
    "#โดยหลังที่เราทำ operation ด้านบนแล้ว เราจะได้ boolean เป็น True สำหรับ rows ที่มี values ดังนี้ \"Legal\",\"Sales\",\"Product\"\n",
    "#หลังจากนั้นเราก็จะสามารถ filter rows ที่มี values \"Legal\",\"Sales\",\"Product\" ได้ โดยการทำ filtering ด้านล่างนี้\n",
    "df[mask]\n",
    "\n",
    "\n",
    "\n",
    "\n",
    "#โดยประโยชน์ของการใช้ .isin() method จะทำให้เรา adjust ค่าใน วงเล็บ () เพื่อเลือก filter values อื่นๆได้ง่ายกว่าการทำแบบ ด้านล่างนี้\n",
    "#สมมติว่าเราต้องการ filter คนที่อยู่ Team Marketing เพิ่ม เราก็ต้องเพิ่ม code อีกหนึ่งบรรทัดเพื่อให้เข้า condition \n",
    "#รวมถึงต้องเพิ่ม mask4 ตอนสั่ง filter ด้วย  จาก df[mask1 | mask2 | mask3] ->>> df[mask1 | mask2 | mask3 | mask 4]\n",
    "    #   mask1 = df[\"Team\"] == \"Legal\"\n",
    "    #   mask2 = df[\"Team\"] == \"Sales\"\n",
    "    #   mask3 = df[\"Team\"] == \"Product\"\n",
    "    # :(  mask4 = df[\"Team\"] == \"Marketing\" #ต้อง code เพิ่มบรรทัดนี้\n",
    "    #df[mask1 | mask2 | mask3 | mask 4] #ต้อง add mask4 ใน [] เพิ่ม \n",
    "    \n",
    "#ทำแบบนี้ง่ายกว่าเพราะเราเติมแค่ \"Marketing\" ลงใน .isin() method แค่นั้น สมมติเราอยากเปลี่ยนเป็น condition อื่น เช่น Finance ก็แค่แก้ไขใน .isin() \n",
    "    # mask = df[\"Team\"].isin([\"Legal\",\"Sales\",\"Product\",\"Marketing\"])\n",
    "    # df[mask]"
   ]
  },
  {
   "cell_type": "markdown",
   "id": "3ea83c22",
   "metadata": {},
   "source": [
    "##### 5.6 The .isnull() and .notnull() Methods"
   ]
  },
  {
   "cell_type": "code",
   "execution_count": null,
   "id": "338dd3c0",
   "metadata": {},
   "outputs": [],
   "source": [
    "import pandas as pd\n",
    "df = pd.read_csv(\"employees.csv\",parse_dates = [\"Start Date\", \"Last Login Time\"])\n",
    "#ทำให้แปลงค่า str ที่มี format datetime ใน column  [\"Start Date\", \"Last Login Time\"] นี้ เป็น datetime64 เลยตั้งแต่ read_csv file เข้ามา\n",
    "#ทำให้ไม่ต้องใช้สองบรรทัดด้านล่างนี้ เพื่อเปลี่ยน dtype : str ที่มี format datetime เป็น dtype : datetime 64\n",
    "#df[\"Start Date\"] = pd.to_datetime(df[\"Start Date\"])\n",
    "#df[\"Last Login Time\"] = pd.to_datetime(df[\"Last Login Time\"])\n",
    "df[\"Senior Management\"] = df[\"Senior Management\"].astype(\"bool\")\n",
    "df[\"Gender\"] = df[\"Gender\"].astype(\"category\")\n",
    "df.head(3)"
   ]
  },
  {
   "cell_type": "code",
   "execution_count": null,
   "id": "40c4c22d",
   "metadata": {},
   "outputs": [],
   "source": [
    "mask = df[\"Team\"].isnull()\n",
    "#ถ้าเจอ rows ที่มีค่า null values (NaN) จะ return True\n",
    "#ถ้าเจอ rows ที่มีค่า ex. \"Marketing\", \"Finance\" จะ return False\n",
    "df[mask] #filter ได้ rows ที่มี column \"Team\" เป็นค่า NaN"
   ]
  },
  {
   "cell_type": "code",
   "execution_count": null,
   "id": "48c3f9fb",
   "metadata": {},
   "outputs": [],
   "source": [
    "df[\"Gender\"].notnull()\n",
    "#ถ้าเจอ rows ที่มีค่า ex. \"Marketing\", \"Finance\" (Not-null) จะ return True\n",
    "#ถ้าเจอ rows ที่มีค่า null values (NaN) จะ return False\n",
    "#df[condition] #filter ได้ rows ใน \"Gender\" column ที่ไม่มีค่า NaN มีแต่ Not-null values "
   ]
  },
  {
   "cell_type": "markdown",
   "id": "e8a852e4",
   "metadata": {},
   "source": [
    "##### 5.7 Check for inclusion within Range of Values with .between() Method"
   ]
  },
  {
   "cell_type": "code",
   "execution_count": null,
   "id": "3ca07f5e",
   "metadata": {},
   "outputs": [],
   "source": [
    "import pandas as pd\n",
    "df = pd.read_csv(\"employees.csv\",parse_dates = [\"Start Date\", \"Last Login Time\"])\n",
    "#ทำให้แปลงค่า str ที่มี format datetime ใน column  [\"Start Date\", \"Last Login Time\"] นี้ เป็น datetime64 เลยตั้งแต่ read_csv file เข้ามา\n",
    "#ทำให้ไม่ต้องใช้สองบรรทัดด้านล่างนี้ เพื่อเปลี่ยน dtype : str ที่มี format datetime เป็น dtype : datetime 64\n",
    "#df[\"Start Date\"] = pd.to_datetime(df[\"Start Date\"])\n",
    "#df[\"Last Login Time\"] = pd.to_datetime(df[\"Last Login Time\"])\n",
    "df[\"Senior Management\"] = df[\"Senior Management\"].astype(\"bool\")\n",
    "df[\"Gender\"] = df[\"Gender\"].astype(\"category\")\n",
    "df.head(3)"
   ]
  },
  {
   "cell_type": "code",
   "execution_count": null,
   "id": "7e2c83d4",
   "metadata": {},
   "outputs": [],
   "source": [
    "df[\"Salary\"].between(60000,70000) #series ของ boolean ที่แปลงค่ามาจาก column \"Salary\" โดยค่าที่อยู่ระหว่าง 60000-70000 จะ return True, else จะ return False\n",
    "mask = df[\"Salary\"].between(60000,70000)\n",
    "df[mask] #filter ได้ DataFrame ที่มี พนักงานเงินเงือนระหว่าง 60000-70000"
   ]
  },
  {
   "cell_type": "code",
   "execution_count": null,
   "id": "ba8ac266",
   "metadata": {},
   "outputs": [],
   "source": [
    "df[df[\"Bonus %\"].between(2.0,5.0)]"
   ]
  },
  {
   "cell_type": "code",
   "execution_count": null,
   "id": "92bb4a54",
   "metadata": {},
   "outputs": [],
   "source": [
    "df[df[\"Start Date\"].between(\"1991-01-01\",\"1992-01-01\")]\n",
    "#.between(lowerbound,upperbound)"
   ]
  },
  {
   "cell_type": "code",
   "execution_count": null,
   "id": "0a9b435d",
   "metadata": {},
   "outputs": [],
   "source": [
    "df[df[\"Last Login Time\"].between(\"08:30AM\",\"12:00PM\")]"
   ]
  },
  {
   "cell_type": "markdown",
   "id": "5c551a7c",
   "metadata": {},
   "source": [
    "##### 5.8 Check for Duplicate DataFrame Rows โดยใช้ .duplicated() Method"
   ]
  },
  {
   "cell_type": "code",
   "execution_count": null,
   "id": "fef4470b",
   "metadata": {},
   "outputs": [],
   "source": [
    "import pandas as pd\n",
    "df = pd.read_csv(\"employees.csv\",parse_dates = [\"Start Date\", \"Last Login Time\"])\n",
    "#ทำให้แปลงค่า str ที่มี format datetime ใน column  [\"Start Date\", \"Last Login Time\"] นี้ เป็น datetime64 เลยตั้งแต่ read_csv file เข้ามา\n",
    "df[\"Senior Management\"] = df[\"Senior Management\"].astype(\"bool\")\n",
    "df[\"Gender\"] = df[\"Gender\"].astype(\"category\")\n",
    "#############\n",
    "df = df.sort_values(by = [\"First Name\"]) #จะได้เห็นค่าซ้ำ \n",
    "#############\n",
    "df.head(5)"
   ]
  },
  {
   "cell_type": "code",
   "execution_count": null,
   "id": "27bdb65d",
   "metadata": {},
   "outputs": [],
   "source": [
    "df[\"First Name\"]"
   ]
  },
  {
   "cell_type": "code",
   "execution_count": null,
   "id": "1ac6161c",
   "metadata": {},
   "outputs": [],
   "source": [
    "df[\"First Name\"].duplicated()\n",
    "#แถวที่เป็นค่าซ้ำจะแสดงผล True\n",
    "\n",
    "#โดยถ้าเรา filter โดย \n",
    "# df[df[\"First Name\"].duplicated()] \n",
    "# เราจะได้แต่  rows ที่เป็นค่าซ้ำ \n",
    "\n",
    "df[df[\"First Name\"].duplicated()] "
   ]
  },
  {
   "cell_type": "code",
   "execution_count": null,
   "id": "c4d61583",
   "metadata": {},
   "outputs": [],
   "source": [
    "#การใช้ keep parameter with \"last\" argument ( keep = 'last') \n",
    "#จะทำให้ยึดว่าตัวซ้ำ index position มากสุด จะเป็นตัวจริง จะ return False ที่ index นั้น และ จะ return True ที่ index ค่าซ้ำที่เหลือ \n",
    "\n",
    "#การใช้ keep parameter with \"last\" argument ( keep = 'first') ## default  \n",
    "#จะทำให้ยึดว่าตัวซ้ำ index position น้อยสุด จะเป็นตัวจริง =>> จะ return False ที่ index นั้น และ จะ return True ที่ index ค่าซ้ำที่เหลือ \n",
    "df[df[\"First Name\"].duplicated(keep = 'last')]"
   ]
  },
  {
   "cell_type": "code",
   "execution_count": null,
   "id": "fe7b6aef",
   "metadata": {},
   "outputs": [],
   "source": [
    "#การใช้ keep parameter with \"False\" argument ( keep = False) \n",
    "#จะ return ค่า True ให้ค่าซ้ำทุกตัว ## หมายความว่า ทุกตัวเป็นค่าซ้ำทั้งหมด ไม่มีตัวจริง \n",
    "df[df[\"First Name\"].duplicated(keep = False)]\n",
    "\n",
    "#การใช้ keep parameter with \"True\" argument ( keep = True) !!!!!! ไม่มี argument นี้ \n",
    "#keep must be either \"first\", \"last\" or False"
   ]
  },
  {
   "cell_type": "markdown",
   "id": "fd49d435",
   "metadata": {},
   "source": [
    "##### การที่เราต้องการ convert ค่า bool ใน series ที่เราหยิบมา \n",
    "- ค่า True จะกลายเป็น False \n",
    "- ค่า False จะกลายเป็น True\n",
    "##### สามารถทำได้โดยการ เติมเครื่องหมาย TILDE (~)"
   ]
  },
  {
   "cell_type": "code",
   "execution_count": null,
   "id": "f08047a2",
   "metadata": {},
   "outputs": [],
   "source": [
    " #เนื่องจากปกติ df[\"First Name\"].duplicated(keep = False) จะให้ผลลัพธ์ True กับตัวที่มีค่าซ้ำ ถ้าเรา filter มันออกมา เราก็จะได้ แค่ rows ที่มีค่าซ้ำ\n",
    "#เราก็แค่เติม ~ ไปข้างหน้ามัน เพื่อที่จะ เราจะได้ filter rows ที่ีไม่มีค่าซ้ำออกมา \n",
    "\n",
    "mask = ~df[\"First Name\"].duplicated(keep = False)\n",
    "df[mask] #จะได้ rows ที่ไม่มีค่าซ้ำ "
   ]
  },
  {
   "cell_type": "markdown",
   "id": "6e5746dd",
   "metadata": {},
   "source": [
    "##### 5.9 Delete Duplicate DataFrame Rows with the drop_duplicates Method"
   ]
  },
  {
   "cell_type": "code",
   "execution_count": null,
   "id": "1842017e",
   "metadata": {},
   "outputs": [],
   "source": [
    "import pandas as pd\n",
    "df = pd.read_csv(\"employees.csv\",parse_dates = [\"Start Date\", \"Last Login Time\"])\n",
    "#ทำให้แปลงค่า str ที่มี format datetime ใน column  [\"Start Date\", \"Last Login Time\"] นี้ เป็น datetime64 เลยตั้งแต่ read_csv file เข้ามา\n",
    "df[\"Senior Management\"] = df[\"Senior Management\"].astype(\"bool\")\n",
    "df[\"Gender\"] = df[\"Gender\"].astype(\"category\")\n",
    "#############\n",
    "df.sort_values(by = [\"First Name\"], inplace=True) #จะได้เห็นค่าซ้ำ \n",
    "#############\n",
    "df.head(3)"
   ]
  },
  {
   "cell_type": "code",
   "execution_count": null,
   "id": "512c7f20",
   "metadata": {},
   "outputs": [],
   "source": [
    "len(df)"
   ]
  },
  {
   "cell_type": "code",
   "execution_count": null,
   "id": "68b553c4",
   "metadata": {},
   "outputs": [],
   "source": [
    "len(df.drop_duplicates())\n",
    "#ถ้าทำงี้มันหมายความว่า ใน rows ที่จะซ้ำกัน ต้องมีค่าในแต่ละ columns เหมือนกันทั้งหมด \n",
    "#การทื่ได้ผลลัพธ์ 1000 เท่าเดิม แสดงว่าไม่มีการ rows ใด มีค่าซ้ำกันในทุก columns "
   ]
  },
  {
   "cell_type": "code",
   "execution_count": null,
   "id": "6d903561",
   "metadata": {
    "scrolled": true
   },
   "outputs": [],
   "source": [
    " df.drop_duplicates(subset=[\"First Name\"], keep = \"first\")\n",
    "#drop rows ใน DataFrame ที่มีค่าซ้ำกัน (keep first หรือ index postion ที่น้อยที่สุดของค่าซ้ำ) \n",
    "#โดยมองเฉพาะ values ใน column \"First Name\"\n",
    "\n",
    " df.drop_duplicates(subset=[\"First Name\"], keep = \"last\")\n",
    "#drop rows ใน DataFrame ที่มีค่าซ้ำกัน (keep last หรือ index postion ที่มากที่สุดของค่าซ้ำ) \n",
    "#โดยมองเฉพาะ values ใน column \"First Name\"\n",
    "\n",
    " df.drop_duplicates(subset=[\"First Name\"], keep = False)\n",
    "#drop rows ใน DataFrame ที่มีค่าซ้ำกันทุกค่าทิ้ง #โดยมองเฉพาะ values ใน column \"First Name\""
   ]
  },
  {
   "cell_type": "code",
   "execution_count": null,
   "id": "0997c7b3",
   "metadata": {},
   "outputs": [],
   "source": [
    "df.drop_duplicates(subset=[\"Team\"], keep = False)\n",
    "#แต่ละทีม มีพนักงงานหลายคนที่ทำตำแหน่งเดียวกัน ทำไม values ใน column Team ไม่มี unique values อยู่เลย #ดังนั้นทำให้ค่าซ้ำจะโดนลบทั้งหมด \n",
    "#ผลลัพธ์คือ ตารางเปล่า 5555555555"
   ]
  },
  {
   "cell_type": "code",
   "execution_count": null,
   "id": "f4aeb0c9",
   "metadata": {},
   "outputs": [],
   "source": [
    "df.drop_duplicates(subset=[\"First Name\",\"Team\"])\n",
    "#การมอง duplicate โดยมอง 2 columns\n"
   ]
  },
  {
   "cell_type": "markdown",
   "id": "1c94ffc6",
   "metadata": {},
   "source": [
    "##### 5.10 Identify and Count Unique values with the unique and nunique Methods\n",
    "- The .unique() and .nunique() Methods\n",
    "- .nunique() คือ number of unique values"
   ]
  },
  {
   "cell_type": "code",
   "execution_count": null,
   "id": "90bf475b",
   "metadata": {},
   "outputs": [],
   "source": [
    "import pandas as pd\n",
    "df = pd.read_csv(\"employees.csv\",parse_dates = [\"Start Date\", \"Last Login Time\"])\n",
    "#ทำให้แปลงค่า str ที่มี format datetime ใน column  [\"Start Date\", \"Last Login Time\"] นี้ เป็น datetime64 เลยตั้งแต่ read_csv file เข้ามา\n",
    "df[\"Senior Management\"] = df[\"Senior Management\"].astype(\"bool\")\n",
    "# str to boolean\n",
    "df[\"Gender\"] = df[\"Gender\"].astype(\"category\")\n",
    "# จัด category ให้ \"Gender\" เพราะมีแค่ male and female\n",
    "df.head(3)"
   ]
  },
  {
   "cell_type": "code",
   "execution_count": null,
   "id": "6092c040",
   "metadata": {},
   "outputs": [],
   "source": [
    "df[\"Gender\"].unique()"
   ]
  },
  {
   "cell_type": "code",
   "execution_count": null,
   "id": "6423af6c",
   "metadata": {},
   "outputs": [],
   "source": [
    "df[\"Team\"].unique()"
   ]
  },
  {
   "cell_type": "code",
   "execution_count": null,
   "id": "d8b1d66b",
   "metadata": {},
   "outputs": [],
   "source": [
    "len(df[\"Team\"].unique()) \n",
    "#.unique() จะนับ null value ว่าเป็น unique value ด้วย "
   ]
  },
  {
   "cell_type": "code",
   "execution_count": null,
   "id": "e7cef60d",
   "metadata": {},
   "outputs": [],
   "source": [
    "df[\"Team\"].nunique() #or df[\"Team\"].nunique(dropna = True)\n",
    "#by default, dropna = True : หมายความว่า จะไม่นับ null value เป็น unique value จะมองข้าม NaN ไป\n",
    "\n",
    "#df[\"Team\"].nunique(dropna=False)\n",
    "#by default, dropna = False: หมายความว่า จะนับ null value (NaN) เป็น unique value ด้วย\n",
    "\n"
   ]
  },
  {
   "cell_type": "markdown",
   "id": "affd4729",
   "metadata": {},
   "source": [
    "# Section 6 : DataFrame III (Data Extraction)"
   ]
  },
  {
   "cell_type": "markdown",
   "id": "58733e82",
   "metadata": {},
   "source": [
    "##### 6.1  Intro to the DataFrame III Module + Import Dataset"
   ]
  },
  {
   "cell_type": "code",
   "execution_count": null,
   "id": "cea2fcac",
   "metadata": {},
   "outputs": [],
   "source": [
    "import pandas as pd \n",
    "bond = pd.read_csv(\"jamesbond.csv\")\n",
    "bond.head(3)"
   ]
  },
  {
   "cell_type": "markdown",
   "id": "15d4a876",
   "metadata": {},
   "source": [
    "###### 6.2 Use the set_index and reset_index methods to define a new DataFrame index"
   ]
  },
  {
   "cell_type": "code",
   "execution_count": null,
   "id": "5c62c4c0",
   "metadata": {},
   "outputs": [],
   "source": [
    "import pandas as pd \n",
    "bond = pd.read_csv(\"jamesbond.csv\") \n",
    "bond.head(3)"
   ]
  },
  {
   "cell_type": "code",
   "execution_count": null,
   "id": "c5ef0613",
   "metadata": {},
   "outputs": [],
   "source": [
    "bond.set_index(\"Film\", inplace = True)\n",
    "bond.head(3)"
   ]
  },
  {
   "cell_type": "code",
   "execution_count": null,
   "id": "4582f0ff",
   "metadata": {},
   "outputs": [],
   "source": [
    "bond.head(3)"
   ]
  },
  {
   "cell_type": "code",
   "execution_count": null,
   "id": "6b390cc6",
   "metadata": {},
   "outputs": [],
   "source": [
    "bond.reset_index() \n",
    "#same as \n",
    "#bond.reset_index(drop = False)\n",
    "#หมายความว่า เราจะ reset ให้ index กลับไปเป็น index ที่เราตั้งไว้ตั้งแต่ตอนแรกเลย \n",
    "#drop = False เป็น default value, ซึ่งหมายความว่า  เราจะไม่ลบ index label ทิ้ง \n",
    "#Ex. เรา มีการ bond.set_index(\"Film\", inplace = True) เราจะได้ index label เป็น column \"Film\" \n",
    "    #การที่เราใช้ bond.reset_index(drop = False) มันจะไม่ลบ column \"Film\" ทิ้ง\n",
    "\n",
    "#####################\n",
    "#bond.reset_index(drop = True)\n",
    "#หมายความว่า เราจะ reset ให้ index กลับไปเป็น index ที่เราตั้งไว้ตั้งแต่ตอนแรกเลย \n",
    "#drop = True หมายความว่า  เราจะลบ index label ทิ้ง \n",
    "#Ex. เรา มีการ bond.set_index(\"Film\", inplace = True) เราจะได้ index label เป็น column \"Film\" \n",
    "    #การที่เราใช้ bond.reset_index(drop = True) มันจะลบ column \"Film\" ทิ้งไปเลย\n",
    "    \n",
    "    \n",
    "bond.reset_index(drop = False, inplace = True)"
   ]
  },
  {
   "cell_type": "code",
   "execution_count": null,
   "id": "0e4d039b",
   "metadata": {},
   "outputs": [],
   "source": [
    "bond.head(3)"
   ]
  },
  {
   "cell_type": "code",
   "execution_count": null,
   "id": "3531b8a6",
   "metadata": {},
   "outputs": [],
   "source": [
    "bond.set_index(\"Film\", inplace = True)\n",
    "bond.head(3)"
   ]
  },
  {
   "cell_type": "code",
   "execution_count": null,
   "id": "3237d365",
   "metadata": {},
   "outputs": [],
   "source": [
    "##ระวังไว้ว่าการที่เรา set_index โดยจะเลือก column ใหม่เป็น \"Year\" แทน \"Film\"\n",
    "##python มันจะ remove column \"Film\" ทิ้งไปเลย ข้อมูลเราก็จะหายไป  \n",
    "bond.set_index(\"Year\")\n",
    "\n",
    "\n",
    "##แล้วจะทำอย่างไรให้ \"Film\" column ไม่หายไป ???\n",
    "##คำตอบคือ ให้เราทำการ reset_index() ก่อน แล้วค่อย set_index ใหม่ \n",
    "bond.reset_index(inplace=True)\n",
    "bond.set_index(\"Year\", inplace=True)\n",
    "bond.head(3) ##จะเห็นว่าเราได้ \"Film\" column กลับมา และ \"Year\" column กลายเป็น index label \n"
   ]
  },
  {
   "cell_type": "code",
   "execution_count": null,
   "id": "1b379d38",
   "metadata": {},
   "outputs": [],
   "source": []
  },
  {
   "cell_type": "markdown",
   "id": "e341b405",
   "metadata": {},
   "source": [
    "##### 6.3 Retrieve Rows by Index Label with Ioc Accessor"
   ]
  },
  {
   "cell_type": "code",
   "execution_count": null,
   "id": "bf2eb965",
   "metadata": {},
   "outputs": [],
   "source": [
    "import pandas as pd \n",
    "bond = pd.read_csv(\"jamesbond.csv\",index_col =\"Film\")\n",
    "bond.sort_index(inplace = True)\n",
    "bond.head(3)"
   ]
  },
  {
   "cell_type": "code",
   "execution_count": null,
   "id": "d6293cd9",
   "metadata": {},
   "outputs": [],
   "source": [
    "bond.loc[\"Goldfinger\"]\n",
    "bond.loc[\"GoldenEye\"]\n",
    "## if index label นั้น \"ไม่มี\" ค่าซ้ำ มันจะแสดงผลเป็น series"
   ]
  },
  {
   "cell_type": "code",
   "execution_count": null,
   "id": "85f4ba81",
   "metadata": {},
   "outputs": [],
   "source": [
    "bond.loc[\"Casino Royale\"]\n",
    "## if index label นั้น \"มี\" ค่าซ้ำ มันจะแสดงผลเป็น DataFrame"
   ]
  },
  {
   "cell_type": "code",
   "execution_count": null,
   "id": "3d77f830",
   "metadata": {},
   "outputs": [],
   "source": [
    "bond.loc[\"Diamond Are Forever\" : \"From Russia with Love\"]"
   ]
  },
  {
   "cell_type": "code",
   "execution_count": null,
   "id": "438eb230",
   "metadata": {},
   "outputs": [],
   "source": [
    "bond.loc[\"Diamond Are Forever\" : \"From Russia with Love\"]"
   ]
  },
  {
   "cell_type": "code",
   "execution_count": null,
   "id": "d34959c8",
   "metadata": {},
   "outputs": [],
   "source": [
    "bond.loc[\"Diamond Are Forever\" : \"From Russia with Love\":2]\n",
    "#:2 หมายความว่า มันจะกระโดดข้ามไปทีละ 2 rows \n",
    "    #จาก   Diamonds Are Forever จะไป Dr. No และ จะไป From Russia with Love\n",
    "#:3 หมายความว่า มันจะกระโดดข้ามไปทีละ 3 rows\n",
    "    #จาก    Diamonds Are Forever จะไป For Your Eyes Only และจะจบตรงนี้ \n",
    "    #เพราะเรากำหนดขอบเขตไว้ว่าถึงแค่ From Russia with Love ทำให้การขยับไปอีก 3 rows จะไม่เจอค่าอะไร\n",
    "    "
   ]
  },
  {
   "cell_type": "code",
   "execution_count": null,
   "id": "ae67ce14",
   "metadata": {},
   "outputs": [],
   "source": [
    "bond.loc[\"GoldenEye\":] #จาก \"GoldenEye\" to the end of index label  \n",
    "bond.loc[:\"GoldenEye\"] #เริ่มต้น Index label ที่ตัวแรกไปจนถึง \"GoldenEye\"\n",
    "bond.loc[\"GoldenEye\"::2] #เริ่มต้น Index label ที่ตัวแรกไปจนถึง \"GoldenEye\" โดย steps ทีละ 2 rows "
   ]
  },
  {
   "cell_type": "code",
   "execution_count": null,
   "id": "e087516b",
   "metadata": {},
   "outputs": [],
   "source": [
    "bond.loc[[\"Die Another Day\",\"Octopussy\"]]# \"Die Another Day\"ขึ้นก่อนตามด้วย \"Octopussy\"\n",
    "bond.loc[[\"Octopussy\",\"Die Another Day\"]]# \"Octopussy\"ขึ้นก่อนตามด้วย \"Die Another Day\""
   ]
  },
  {
   "cell_type": "code",
   "execution_count": null,
   "id": "b2649cc0",
   "metadata": {
    "scrolled": true
   },
   "outputs": [],
   "source": [
    "bond.loc[[\"Octopussy\",\"Die Another Day\",\"James\"]] # error เพราะไม่มี index label \"James\""
   ]
  },
  {
   "cell_type": "code",
   "execution_count": null,
   "id": "7750dc32",
   "metadata": {},
   "outputs": [],
   "source": [
    "\"James\" in bond.index # check ว่ามี Index label มั้ย"
   ]
  },
  {
   "cell_type": "markdown",
   "id": "b8f48c9c",
   "metadata": {},
   "source": [
    "##### 6.4 Retrieve Rows by Index Postion with iIoc Accessor"
   ]
  },
  {
   "cell_type": "code",
   "execution_count": null,
   "id": "21b2c197",
   "metadata": {},
   "outputs": [],
   "source": [
    "import pandas as pd \n",
    "bond = pd.read_csv(\"jamesbond.csv\")\n",
    "bond.head(3)"
   ]
  },
  {
   "cell_type": "code",
   "execution_count": null,
   "id": "189abd45",
   "metadata": {},
   "outputs": [],
   "source": [
    "bond.iloc[0] \n",
    "# extract DataFrame to get only an index 0 # dtype series เพราะ 1 dimensional  \n",
    "bond.iloc[5:15] # [5:15)\n",
    "# extract DataFrame from index:5 to index:14 # dtype DataFrame เพราะ 2 dimensional  \n",
    "bond.iloc[[15,20]] \n",
    "# extract DataFrame to get only index 15 and 20 # dtype DataFrame เพราะ 2 dimensional  "
   ]
  },
  {
   "cell_type": "code",
   "execution_count": null,
   "id": "b15b7bcd",
   "metadata": {},
   "outputs": [],
   "source": [
    "bond.iloc[20:] \n",
    "bond.iloc[:4] # [0:4) "
   ]
  },
  {
   "cell_type": "code",
   "execution_count": null,
   "id": "67105e33",
   "metadata": {},
   "outputs": [],
   "source": [
    "bond.set_index(\"Film\",inplace =True)\n",
    "bond.sort_index(inplace = True)\n",
    "bond.head(3)"
   ]
  },
  {
   "cell_type": "code",
   "execution_count": null,
   "id": "67475e32",
   "metadata": {},
   "outputs": [],
   "source": [
    "bond.loc[\"GoldenEye\"]"
   ]
  },
  {
   "cell_type": "code",
   "execution_count": null,
   "id": "cd2a12ff",
   "metadata": {},
   "outputs": [],
   "source": [
    "bond.iloc[15] #แม้ว่าจะใช้ index เป็น label แทน index position แล้ว ก็สามารถใช้ iloc ได้เช่นกัน\n",
    "bond.iloc[:20]  # [0:20)\n",
    "bond.iloc[15:]  # [15:]\n",
    "bond.iloc[[5,10,15,20]] \n"
   ]
  },
  {
   "cell_type": "code",
   "execution_count": null,
   "id": "ec40d796",
   "metadata": {},
   "outputs": [],
   "source": [
    "#bond.iloc[[5,10,15,20,10000]] #จะ error ถ้าหากว่าไม่มี index position นั้นอยู่ ซึ่งในที่นี้คือ 10000 โดยเรามีไม่ถึง 10001 rows "
   ]
  },
  {
   "cell_type": "code",
   "execution_count": null,
   "id": "36284d9d",
   "metadata": {},
   "outputs": [],
   "source": []
  },
  {
   "cell_type": "markdown",
   "id": "f91cef37",
   "metadata": {},
   "source": [
    "##### 6.5 Passing second arguments to the loc and iloc Acessor"
   ]
  },
  {
   "cell_type": "code",
   "execution_count": null,
   "id": "58235cbf",
   "metadata": {},
   "outputs": [],
   "source": [
    "import pandas as pd\n",
    "bond = pd.read_csv(\"jamesbond.csv\", index_col=\"Film\")\n",
    "bond.sort_index(inplace = True)\n",
    "bond.head(3)"
   ]
  },
  {
   "cell_type": "code",
   "execution_count": null,
   "id": "775f8749",
   "metadata": {
    "scrolled": true
   },
   "outputs": [],
   "source": [
    "# First Argument คือ Argument ที่เราระบุุ เพื่อให้ extract rows ที่มี index label ตามที่เราระบุออกมา\n",
    "# Second Argument คือ Argument ที่เราระบุว่า จะให้ extract column ใดออกมา \n",
    "\n",
    "#เลือก column แบบ specific \n",
    "#case1: 1 row, 1 column \n",
    "bond.loc[\"A View to a Kill\",\"Year\"]  \n",
    "\n",
    "#case2: 1 row, multiple columns \n",
    "bond.loc[[\"A View to a Kill\"],[\"Year\", \"Actor\"]] \n",
    "\n",
    "#case3: multiple rows, 1 colum\n",
    "bond.loc[[\"A View to a Kill\",\"Moonraker\"],[\"Director\"]] \n",
    "\n",
    "#case4: multiple rows, multiple columns\n",
    "bond.loc[[\"A View to a Kill\",\"Moonraker\",\"Casino Royale\"],[\"Actor\",\"Budget\"]] \n",
    "\n",
    "\n",
    "#เลือก column แบบ Slicing \n",
    "#Slicing แค่ columns (Second Argument) \n",
    "bond.loc[\"A View to a Kill\", \"Actor\" : ]\n",
    "bond.loc[\"Casino Royale\", \"Actor\" : \"Box Office\"]\n",
    "\n",
    "#Slicing ทั้ง rows (first argument) และ columns (Second Argument) \n",
    "bond.loc[\"A View to a Kill\" : \"Dr. No\",\"Year\" : ]\n",
    "\n",
    "\n"
   ]
  },
  {
   "cell_type": "code",
   "execution_count": null,
   "id": "7e7d37e0",
   "metadata": {},
   "outputs": [],
   "source": [
    "#iloc\n",
    "\n",
    "# First Argument คือ Argument ที่เราระบุุ เพื่อให้ extract rows ที่มี index position ตามที่เราระบุออกมา\n",
    "# Second Argument คือ Argument ที่เราระบุว่า จะให้ extract column ใดออกมา \n",
    "\n",
    "#เลือก column แบบ specific \n",
    "#case1: 1 row, 1 column \n",
    "bond.iloc[1,2]\n",
    "    \n",
    "#case2: 1 row, multiple columns \n",
    "bond.iloc[[5],[0,2,4]]\n",
    "\n",
    "#case3: multiple rows, 1 column\n",
    "bond.iloc[[5,10,15,20],[4]] \n",
    "\n",
    "#case4: multiple rows, multiple columns\n",
    "bond.iloc[[5,10,15,20],[0,1,3]] \n",
    "\n",
    "\n",
    "#เลือก column แบบ Slicing \n",
    "#Slicing แค่ columns (Second Argument) \n",
    "bond.iloc[[5,10,15,20],0:]\n",
    "bond.iloc[[5,10,15,20],3:-10]\n",
    "#Slicing ทั้ง rows (first argument) และ columns (Second Argument) \n",
    "bond.iloc[5:-10,3:10]\n",
    "\n"
   ]
  },
  {
   "cell_type": "code",
   "execution_count": null,
   "id": "55538d54",
   "metadata": {},
   "outputs": [],
   "source": []
  },
  {
   "cell_type": "markdown",
   "id": "15030aa2",
   "metadata": {},
   "source": [
    "##### 6.6 Set New Value for a Specific Cell or Cells In a Row"
   ]
  },
  {
   "cell_type": "code",
   "execution_count": null,
   "id": "c0a1751f",
   "metadata": {},
   "outputs": [],
   "source": [
    "import pandas as pd\n",
    "bond = pd.read_csv(\"jamesbond.csv\", index_col=\"Film\")\n",
    "bond.sort_index(inplace = True)\n",
    "bond.head(3)"
   ]
  },
  {
   "cell_type": "code",
   "execution_count": null,
   "id": "ca6aeb05",
   "metadata": {},
   "outputs": [],
   "source": [
    "#Assign values ลงในข้อมูลที่เราทำการ Extract มา \n",
    "\n",
    "#แบบทีละ column\n",
    "bond.loc[\"Dr. No\" , \"Actor\"] #ค่าเดิม 'Sean Connery'\n",
    "bond.loc[\"Dr. No\" , \"Actor\"] = \"Sir Sean Connery\"\n",
    "bond.loc[\"Dr. No\" , \"Actor\"] #check ค่าใหม่\n",
    "\n",
    "#แบบทีละ หลาย columns \n",
    "bond.loc[\"Dr. No\" , [\"Box Office\", \"Budget\",\"Bond Actor Salary\"]] = [448000000,7000000,600000]\n",
    "bond.loc[\"Dr. No\" , [\"Box Office\", \"Budget\",\"Bond Actor Salary\"]]"
   ]
  },
  {
   "cell_type": "code",
   "execution_count": null,
   "id": "005d98b8",
   "metadata": {
    "scrolled": true
   },
   "outputs": [],
   "source": [
    "bond"
   ]
  },
  {
   "cell_type": "code",
   "execution_count": null,
   "id": "ec7442b0",
   "metadata": {},
   "outputs": [],
   "source": []
  },
  {
   "cell_type": "markdown",
   "id": "ca0277b8",
   "metadata": {},
   "source": [
    "##### 6.7 Set Multiple Values in a DataFrame \n",
    "    - แตกต่างจาก 6.6 คือ กรณีที่เราไม่ต้องการ assign ค่าเดิม ซ้ำๆหลายๆรอบ \n",
    "    - Ex. values ใน \"Actor\" column มี values ที่เป็น Sean Connery หลาย rows มาก \n",
    "    - ถ้าเราต้องการจะเปลี่ยน Sean Connery เป็น ชื่ออื่น ทั้งหมดเลยจะทำยังไง \n",
    "    \n",
    "- Ans คือ \n",
    "1. เราต้องทำให้ column นั้น แสดงว่า Sean Connery มีค่า True ก่อน\n",
    "- bond[\"Actor\"] == \"Sean Connery\" \n",
    "\n",
    "2. assign variable ให้ bond[\"Actor\"] == \"Sean Connery\"  \n",
    "- actor_is_sean_connery = bond[\"Actor\"] == \"Sean Connery\"\n",
    "\n",
    "3. ใช้ .loc[] Accessor ในการค้นหา \"Actor\" column ผ่าน actor_is_sean_connery\n",
    "- bond.loc[actor_is_sean_connery,[\"Actor\"] ]\n",
    "\n",
    "4. assign ค่าให้ที่ต้องการจะเปลี่ยนให้ bond.loc[actor_is_sean_connery,[\"Actor\"] ]\n",
    "- bond.loc[actor_is_sean_connery,[\"Actor\"] ] = \"Sir Sean Connery\""
   ]
  },
  {
   "cell_type": "code",
   "execution_count": null,
   "id": "22e12cf8",
   "metadata": {},
   "outputs": [],
   "source": [
    "import pandas as pd\n",
    "bond = pd.read_csv(\"jamesbond.csv\", index_col=\"Film\")\n",
    "bond.sort_index(inplace = True)\n",
    "bond.head(3)"
   ]
  },
  {
   "cell_type": "code",
   "execution_count": null,
   "id": "3bdeffe2",
   "metadata": {},
   "outputs": [],
   "source": [
    "actor_is_sean_connery = bond[\"Actor\"] == \"Sean Connery\"\n",
    "actor_is_sean_connery"
   ]
  },
  {
   "cell_type": "code",
   "execution_count": null,
   "id": "cdf6d7f6",
   "metadata": {},
   "outputs": [],
   "source": [
    "bond[actor_is_sean_connery]"
   ]
  },
  {
   "cell_type": "code",
   "execution_count": null,
   "id": "51600ec6",
   "metadata": {},
   "outputs": [],
   "source": [
    "bond[actor_is_sean_connery][\"Actor\"] = \"Sir Sean Connery\"\n",
    "#ไม่ได้เพราะ bond[actor_is_sean_connery] มันคือ a copy of a slice from a DataFrame.\n",
    "#ไม่ใช่ตัวจริง "
   ]
  },
  {
   "cell_type": "code",
   "execution_count": null,
   "id": "584e75d5",
   "metadata": {},
   "outputs": [],
   "source": [
    "bond.loc[actor_is_sean_connery,[\"Actor\"] ]"
   ]
  },
  {
   "cell_type": "code",
   "execution_count": null,
   "id": "ed2b74d4",
   "metadata": {
    "scrolled": true
   },
   "outputs": [],
   "source": [
    "bond.loc[actor_is_sean_connery,[\"Actor\"] ] = \"Sir Sean Connery\"\n",
    "bond"
   ]
  },
  {
   "cell_type": "markdown",
   "id": "f2199f4f",
   "metadata": {},
   "source": [
    "##### 6.8 Rename Index Lables or Columns in a DataFrame"
   ]
  },
  {
   "cell_type": "code",
   "execution_count": null,
   "id": "b8f71080",
   "metadata": {},
   "outputs": [],
   "source": [
    "import pandas as pd\n",
    "bond = pd.read_csv(\"jamesbond.csv\", index_col=\"Film\")\n",
    "bond.sort_index(inplace = True)\n",
    "bond"
   ]
  },
  {
   "cell_type": "code",
   "execution_count": null,
   "id": "526ae8fa",
   "metadata": {},
   "outputs": [],
   "source": [
    "#เปลี่ยนชื่อ index label โดยใช้ .rename(mapper = {:})\n",
    "\n",
    "# mapper จะทำการ map ไปที่คำว่า \"GoldenEye\" (key) ใน Index label \n",
    "# โดย by defaut (axis = 0 or axis = \"rows\" or axis = \"index\"); \n",
    "# และทำการ rename ค่าเป็น \"Golden Eye\" (value) \n",
    "# ใช้ key : value pair ของ dictionary  \n",
    "bond.rename(mapper = {\"GoldenEye\" : \"Golden Eye\",\n",
    "                      \"The World Is Not Enough\": \"Best Bond Movie Ever\"})\n",
    "bond.rename(mapper = {\"GoldenEye\" : \"Golden Eye\",\n",
    "                      \"The World Is Not Enough\": \"Best Bond Movie Ever\"}, axis = 0)\n",
    "bond.rename(mapper = {\"GoldenEye\" : \"Golden Eye\",\n",
    "                      \"The World Is Not Enough\": \"Best Bond Movie Ever\"}, axis = \"rows\")\n",
    "bond.rename(mapper = {\"GoldenEye\" : \"Golden Eye\",\n",
    "                      \"The World Is Not Enough\": \"Best Bond Movie Ever\"}, axis = \"index\")\n",
    "#ทั้ง 4อันข้างบน ให้ผลลัพธ์เหมือนกัน \n",
    "\n",
    "\n",
    "##################################################\n",
    "#เปลี่ยนชื่อ index label โดยใช้ .rename(index = {:})\n",
    "\n",
    "#note ว่าเมื่อเราใส่ index parameter แล้ว, เราไม่ต้องใส่ axis = \"index\"\n",
    "bond.rename(index = {\"GoldenEye\" : \"Golden Eye\",\n",
    "                      \"The World Is Not Enough\": \"Best Bond Movie Ever\"},inplace = True)\n",
    "bond"
   ]
  },
  {
   "cell_type": "code",
   "execution_count": null,
   "id": "967cb380",
   "metadata": {},
   "outputs": [],
   "source": [
    "#เปลี่ยนชื่อ columns โดยใช้ .rename(columns = {:})\n",
    "bond.rename(columns = {\"Year\" : \"Release Date\",\n",
    "                       \"Box Office\": \"Revenue\"},inplace = True)\n",
    "bond.head(1)"
   ]
  },
  {
   "cell_type": "code",
   "execution_count": null,
   "id": "638c649b",
   "metadata": {},
   "outputs": [],
   "source": [
    "# การเปลี่ยนชื่อทั้ง column headers \n",
    "bond.columns = [\"Year of Release\", \"Actor\", \"Director\", \"Gross\", \"Cost\", \"Salary\"]\n",
    "# length list ของ columns ใหม่ที่เราการเปลี่ยน ต้อง identical หรือมีค่าเท่ากันกับ length list ของ columns เดิม\n",
    "# ex. ['Release Date', 'Actor', 'Director', 'Revenue', 'Budget','Bond Actor Salary'] มี length = 6\n",
    "# bond.columns = [a,b,c,d,e,f] /// length นี้ ต้องเป็น 6 ด้วย ห้ามเยอะกว่าหรรือน้อยกว่า ex [a,b,c] or [a,b,c,d,e,f,g,h,i]\n",
    "bond.head(1)"
   ]
  },
  {
   "cell_type": "code",
   "execution_count": null,
   "id": "826f86a9",
   "metadata": {},
   "outputs": [],
   "source": []
  },
  {
   "cell_type": "markdown",
   "id": "48bff62b",
   "metadata": {},
   "source": [
    "##### 6.9 Delete Rows or Columns from a DataFrame \n",
    "- .drop()\n",
    "    - drop rows : bond.drop(\"Casino Royale\", inplace = True)\n",
    "    - drop columns : bond.drop([\"Year\",\"Director\"],axis = \"columns\", inplace = True)\n",
    "- .pop()\n",
    "    - bond.drop(\"Casino Royale\", inplace = True)\n",
    "- del bond[\"Year\"]"
   ]
  },
  {
   "cell_type": "code",
   "execution_count": null,
   "id": "99d67afd",
   "metadata": {
    "scrolled": true
   },
   "outputs": [],
   "source": [
    "import pandas as pd\n",
    "bond = pd.read_csv(\"jamesbond.csv\", index_col=\"Film\")\n",
    "bond.sort_index(inplace = True)\n",
    "bond"
   ]
  },
  {
   "cell_type": "code",
   "execution_count": null,
   "id": "55affc4f",
   "metadata": {
    "scrolled": true
   },
   "outputs": [],
   "source": [
    "#Delete rows\n",
    "bond.drop(\"Casino Royale\", inplace = True)\n",
    "bond.head()"
   ]
  },
  {
   "cell_type": "code",
   "execution_count": null,
   "id": "6f5ded96",
   "metadata": {
    "scrolled": true
   },
   "outputs": [],
   "source": [
    "#Delete Columns\n",
    "bond.drop(labels = [\"Box Office\",\"Actor\"],axis = 1, inplace = True)\n",
    "# same as or bond.drop(\"Box Office\",axis = \"columns\")\n"
   ]
  },
  {
   "cell_type": "code",
   "execution_count": null,
   "id": "c8bcf661",
   "metadata": {
    "scrolled": true
   },
   "outputs": [],
   "source": [
    "director = bond.pop(\"Director\")\n",
    "bond.head(3) #จะเห็นได้ว่า \"Director\" column หายไปแล้ว \n",
    "#แต่เรายังสามารถดูข้อมูล column director ที่ .pop ไป ได้ผ่าน director variable "
   ]
  },
  {
   "cell_type": "code",
   "execution_count": null,
   "id": "1293c200",
   "metadata": {},
   "outputs": [],
   "source": [
    "director"
   ]
  },
  {
   "cell_type": "code",
   "execution_count": null,
   "id": "0adebe7a",
   "metadata": {},
   "outputs": [],
   "source": [
    "# เติม column Director เข้าไปใหม่ \n",
    "#bond[\"Director\"] = director\n",
    "#bond.head(3)\n",
    "bond.insert(loc=1,column=\"Director\",value=director)\n",
    "bond.head()"
   ]
  },
  {
   "cell_type": "code",
   "execution_count": null,
   "id": "62e7d2c0",
   "metadata": {},
   "outputs": [],
   "source": [
    "#ลบ Director column อีกรอบ \n",
    "del bond[\"Director\"]"
   ]
  },
  {
   "cell_type": "code",
   "execution_count": null,
   "id": "65ec3e43",
   "metadata": {},
   "outputs": [],
   "source": [
    "bond.head(3)"
   ]
  },
  {
   "cell_type": "code",
   "execution_count": null,
   "id": "28a39648",
   "metadata": {},
   "outputs": [],
   "source": [
    "#ลบ \"Year\" column อีกรอบ \n",
    "del bond[\"Year\"]\n",
    "bond.head(3)"
   ]
  },
  {
   "cell_type": "code",
   "execution_count": null,
   "id": "151e0d8b",
   "metadata": {},
   "outputs": [],
   "source": [
    "del bond[\"Budget\"]\n",
    "bond.head(3)"
   ]
  },
  {
   "cell_type": "code",
   "execution_count": null,
   "id": "23af3af5",
   "metadata": {},
   "outputs": [],
   "source": []
  },
  {
   "cell_type": "markdown",
   "id": "1f12c95c",
   "metadata": {},
   "source": [
    "##### 6.10 Create Random Sample with sample Method\n",
    "- สุุ่ม rows มา (by default = 1 row)\n",
    "    - #bond.sample() \n",
    "- สุ่ม columns ขึ้นมา โดยต้องกำหนด axis = 1 or axis = \"columns\"\n",
    "    - #bond.sample(n=3, axis = \"columns\") "
   ]
  },
  {
   "cell_type": "code",
   "execution_count": null,
   "id": "c6e2f207",
   "metadata": {},
   "outputs": [],
   "source": [
    "import pandas as pd \n",
    "bond = pd.read_csv(\"jamesbond.csv\", index_col = \"Film\")\n",
    "bond.sort_index(inplace=True)\n",
    "bond.head()"
   ]
  },
  {
   "cell_type": "code",
   "execution_count": null,
   "id": "c936da60",
   "metadata": {},
   "outputs": [],
   "source": [
    "bond.sample(n=5)\n",
    "bond.sample(frac=.25) # สุ่มมา 25% ของ rows ทั้งหมด"
   ]
  },
  {
   "cell_type": "code",
   "execution_count": null,
   "id": "0bfef158",
   "metadata": {},
   "outputs": [],
   "source": [
    "bond.sample(n=3,axis = 1) #สุ่ม columns มา 3 columns\n",
    "#bond.sample(n=3, axis = \"columns\") \n"
   ]
  },
  {
   "cell_type": "markdown",
   "id": "db52703a",
   "metadata": {},
   "source": [
    "##### 6.11 The .nsmallest() and .nlargest() methods\n",
    "- extract smallest values and largest values in a specific column\n"
   ]
  },
  {
   "cell_type": "code",
   "execution_count": null,
   "id": "883e42c7",
   "metadata": {},
   "outputs": [],
   "source": [
    "import pandas as pd \n",
    "bond = pd.read_csv(\"jamesbond.csv\", index_col = \"Film\")\n",
    "bond.sort_index(inplace=True)\n",
    "bond.head(3)"
   ]
  },
  {
   "cell_type": "code",
   "execution_count": null,
   "id": "a8d680fa",
   "metadata": {},
   "outputs": [],
   "source": [
    "bond.sort_values(\"Box Office\", ascending = False).head(3)"
   ]
  },
  {
   "cell_type": "code",
   "execution_count": null,
   "id": "55568367",
   "metadata": {},
   "outputs": [],
   "source": [
    "## columns ที่เลือกต้อง contain dtype ที่คำนวณได้ พวก str จะใช้ nlargest nsmallest ไม่ได้\n",
    "bond.nlargest(3,columns = \"Box Office\") # top 3 ที่มีค่าสูงสุด\n",
    "bond.nsmallest(n=4,columns = \"Box Office\") # top 4 ที่มีค่าต่ำสุด\n"
   ]
  },
  {
   "cell_type": "code",
   "execution_count": null,
   "id": "9e7c3b30",
   "metadata": {},
   "outputs": [],
   "source": [
    "bond[\"Budget\"].nlargest(3)\n",
    "#ไม่ต้องระบุ columns parameter ใน nlargest แล้ว เพราะเราใช้ bond[\"Budget\"] ไปแล้ว \n",
    "\n",
    "bond[\"Year\"].nsmallest(2)"
   ]
  },
  {
   "cell_type": "markdown",
   "id": "a2b0b0bb",
   "metadata": {},
   "source": [
    "##### 6.12 Filter a DataFrame with a where method"
   ]
  },
  {
   "cell_type": "code",
   "execution_count": null,
   "id": "34741ca5",
   "metadata": {},
   "outputs": [],
   "source": [
    "import pandas as pd \n",
    "bond = pd.read_csv(\"jamesbond.csv\", index_col = \"Film\")\n",
    "bond.sort_index(inplace=True)\n",
    "bond.head(3)"
   ]
  },
  {
   "cell_type": "code",
   "execution_count": null,
   "id": "9ff25ae0",
   "metadata": {},
   "outputs": [],
   "source": [
    "mask = bond[\"Actor\"] == \"Sean Connery\"\n",
    "bond[mask]"
   ]
  },
  {
   "cell_type": "code",
   "execution_count": null,
   "id": "df747fde",
   "metadata": {},
   "outputs": [],
   "source": [
    "#the other way to filter dataframe is to use where method \n",
    "mask = bond[\"Actor\"] == \"Sean Connery\"\n",
    "bond.where(mask)\n",
    "#แต่การใช้ where มันจะ return ทั้ง entire DataFrame \n",
    "#โดย rows ไหนของ \"Actor\" column ที่ไม่ได้มีค่าเป็น \"Sean Connery\"\n",
    "#จะ return NaN ออกมา"
   ]
  },
  {
   "cell_type": "code",
   "execution_count": null,
   "id": "ba52b276",
   "metadata": {},
   "outputs": [],
   "source": [
    "bond.where(bond[\"Box Office\"] > 800)"
   ]
  },
  {
   "cell_type": "code",
   "execution_count": null,
   "id": "0b0de795",
   "metadata": {},
   "outputs": [],
   "source": [
    "mask2 = bond[\"Box Office\"] > 800"
   ]
  },
  {
   "cell_type": "code",
   "execution_count": null,
   "id": "dc2ba45c",
   "metadata": {},
   "outputs": [],
   "source": [
    "bond.where(mask & mask2)"
   ]
  },
  {
   "cell_type": "markdown",
   "id": "61e4a214",
   "metadata": {},
   "source": [
    "##### 6.13 Filter A DataFrame with the query method\n",
    "- .query() method มี prerequisites สองข้อหลักๆ คือ \n",
    "    1. Argument ใน .query() ต้องเป็น string เท่านั้น \n",
    "    2. ชื่อ columns ห้ามมี space เลย "
   ]
  },
  {
   "cell_type": "code",
   "execution_count": null,
   "id": "b0115f95",
   "metadata": {},
   "outputs": [],
   "source": [
    "import pandas as pd \n",
    "bond = pd.read_csv(\"jamesbond.csv\", index_col = \"Film\")\n",
    "bond.sort_index(inplace=True)\n",
    "bond.head(3)"
   ]
  },
  {
   "cell_type": "code",
   "execution_count": null,
   "id": "6c817bef",
   "metadata": {},
   "outputs": [],
   "source": [
    "#ก่อนอื่นเราจะ check ก่อนว่าชื่อ columns ของเรามี blankspace มั้ย ถ้ามีให้แก้ไขโดยใช้ .replace() เปลี่ยน \" \" เป็น \"_\" (snake-case)\n",
    "bond.columns = [column_name.replace(\" \",\"_\") for column_name in bond.columns]\n",
    "bond.head(1)"
   ]
  },
  {
   "cell_type": "code",
   "execution_count": null,
   "id": "786ad165",
   "metadata": {},
   "outputs": [],
   "source": [
    "bond.query('Actor == \"Sean Connery\"')\n",
    "bond.query(\"Director == 'Terence Young'\")\n",
    "bond.query('Actor != \"Roger Moore\"')\n",
    "bond.query(\" Box_Office > 600 \")\n",
    "4\n",
    "bond.query(\"Actor == 'Roger Moore' and Director == 'John Glen'\")\n",
    "bond.query(\"Actor == 'Roger Moore' or Director == 'John Glen'\")\n",
    "\n",
    "bond.query(\"Actor in ['Timothy Dalton','George Lazenby']\" )\n",
    "bond.query(\"Actor in ['Sean Connery','Roger Moore']\" )"
   ]
  },
  {
   "cell_type": "markdown",
   "id": "df9cb6ac",
   "metadata": {},
   "source": [
    "##### 6.14 A Review of the .apply() Method on Single Columns "
   ]
  },
  {
   "cell_type": "code",
   "execution_count": null,
   "id": "f8472075",
   "metadata": {},
   "outputs": [],
   "source": [
    "import pandas as pd \n",
    "bond = pd.read_csv(\"jamesbond.csv\", index_col = \"Film\")\n",
    "bond.sort_index(inplace=True)\n",
    "bond.head(3)"
   ]
  },
  {
   "cell_type": "code",
   "execution_count": null,
   "id": "5f13873b",
   "metadata": {},
   "outputs": [],
   "source": [
    "def convert_to_str_and_add_Millions(number):\n",
    "    return str(number)+ \"MILLIONS!\""
   ]
  },
  {
   "cell_type": "code",
   "execution_count": null,
   "id": "07486a1d",
   "metadata": {},
   "outputs": [],
   "source": [
    "bond[\"Box Office\"] = bond[\"Box Office\"].apply(convert_to_str_and_add_Millions)\n",
    "bond[\"Budget\"] = bond[\"Budget\"].apply(convert_to_str_and_add_Millions)"
   ]
  },
  {
   "cell_type": "code",
   "execution_count": null,
   "id": "99f07aa5",
   "metadata": {},
   "outputs": [],
   "source": [
    "bond"
   ]
  },
  {
   "cell_type": "code",
   "execution_count": null,
   "id": "50435c4a",
   "metadata": {
    "scrolled": true
   },
   "outputs": [],
   "source": [
    "import pandas as pd \n",
    "bond = pd.read_csv(\"jamesbond.csv\", index_col = \"Film\")\n",
    "bond.sort_index(inplace=True)\n",
    "bond.head(3)\n",
    "\n",
    "#ใช้ for-loop \n",
    "columns = [\"Box Office\", \"Budget\", \"Bond Actor Salary\"]\n",
    "for col in columns:\n",
    "    bond[col] = bond[col].apply(convert_to_str_and_add_Millions)\n",
    "    \n",
    "bond.head(3)"
   ]
  },
  {
   "cell_type": "markdown",
   "id": "e5aed3fc",
   "metadata": {},
   "source": [
    "##### 6.15 Apply a Function to every DataFrame Row with the apply Method "
   ]
  },
  {
   "cell_type": "code",
   "execution_count": null,
   "id": "a4fb07ee",
   "metadata": {},
   "outputs": [],
   "source": [
    "import pandas as pd \n",
    "bond = pd.read_csv(\"jamesbond.csv\", index_col = \"Film\")\n",
    "bond.sort_index(inplace=True)\n",
    "bond.head(3)"
   ]
  },
  {
   "cell_type": "code",
   "execution_count": null,
   "id": "0c018ac3",
   "metadata": {},
   "outputs": [],
   "source": [
    "#สร้าง function ที่บอกว่า movie เรื่องไหนบ้าง ที่ดีสำหรับเรา\n",
    "#โดย function นี้จะ check \n",
    "def good_movie(row):\n",
    "    actor = row[1]\n",
    "    budget = row[4]\n",
    "    \n",
    "    if actor == \"Pierce Brosman\":\n",
    "        return \"The Best\"\n",
    "    elif actor == \"Roger Moore\" and budget > 40:\n",
    "        return \"Enjoyable\"\n",
    "    else : \n",
    "        return \"I have no clue\"\n",
    "\n",
    "    \n",
    "#เราต้องการใช้  good_movie function โดยใส่ค่า row ใน bond dataframe ไปทีละ row \n",
    "#แล้วให้ good movie เช็คใน row นั้น ทีละ column จนครบค่อยไป row ถัดไป \n",
    "#สามารถทำได้โดย เอา การใช้ statement ด้านล่างนี้\n",
    "bond.apply(good_movie, axis = \"columns\")\n",
    "#จะเห็นได้ว่าเรามีการใช้ axis = \"columns\" เพราะว่า เราต้องการให้ ood movie เช็คใน row นั้น ทีละ column \n",
    "\n",
    "\n",
    "\n",
    "\n",
    "## axis = \"rows\" จะมองที่ หนึ่ง column แล้วค่อยๆไล่ไปทีละ row ใน column นั้น   \n",
    "## axis = \"columns\" จะมองที่ หนึ่ง row แล้วค่อยๆไล่ไปทีละ column ใน row นั้น    "
   ]
  },
  {
   "cell_type": "markdown",
   "id": "2b8491e9",
   "metadata": {},
   "source": [
    "##### 6.16 สร้าง a Copy of a DataFrame with the copy Method"
   ]
  },
  {
   "cell_type": "code",
   "execution_count": null,
   "id": "8b4b3fdf",
   "metadata": {},
   "outputs": [],
   "source": [
    "import pandas as pd \n",
    "bond = pd.read_csv(\"jamesbond.csv\", index_col = \"Film\")\n",
    "bond.sort_index(inplace=True)\n",
    "bond.head(3)"
   ]
  },
  {
   "cell_type": "code",
   "execution_count": null,
   "id": "f1f0a929",
   "metadata": {},
   "outputs": [],
   "source": [
    "director = bond[\"Director\"] \n",
    "director.head(3)"
   ]
  },
  {
   "cell_type": "code",
   "execution_count": null,
   "id": "f9285cca",
   "metadata": {},
   "outputs": [],
   "source": [
    "# if i want to change John Glen to become Mr. John Glen\n",
    "director[\"A View to a Kill\"] = \"Mr. John Glen\"\n",
    "#จะได้ output แจ้งเตือนว่าเรากำลังเปลี่ยนแปลง a copy of a slice from a DataFrame นะ "
   ]
  },
  {
   "cell_type": "code",
   "execution_count": null,
   "id": "d1939696",
   "metadata": {},
   "outputs": [],
   "source": [
    "#้However, the value have been changed to \"Mr. John Glen\" as we expected\n",
    "#but because this Series is part of the larger DataFrame ทำให้มันกระทบไปที่ bond dataframe ด้วย \n",
    "#จำเรื่อง บ้าน ประตูบ้าน การเปลี่ยนประตู ก็คือการเปลี่ยนแปลงบ้าน\n",
    "director[\"A View to a Kill\"]\n",
    "bond.head(3)"
   ]
  },
  {
   "cell_type": "code",
   "execution_count": null,
   "id": "99233f97",
   "metadata": {},
   "outputs": [],
   "source": [
    "###########\n",
    "bond = pd.read_csv(\"jamesbond.csv\", index_col = \"Film\")\n",
    "bond.sort_index(inplace=True)\n",
    "bond.head(3)\n",
    "###########\n",
    "\n",
    "\n",
    "#แต่ถ้าเราไม่อยากการแก้ไข Series กระทบมายัง original dataframe ของเราล่ะ ? \n",
    "#เราต้องใช้ .copy() เพื่อสร้างตัว copy ขึ้นมาก่อน แล้วแก้ตัว copy นั้น\n",
    "director = bond[\"Director\"].copy() \n",
    "director.head(3)"
   ]
  },
  {
   "cell_type": "code",
   "execution_count": null,
   "id": "35d1bfea",
   "metadata": {},
   "outputs": [],
   "source": [
    "director[\"A View to a Kill\"] = \"Mister John Glen\""
   ]
  },
  {
   "cell_type": "code",
   "execution_count": null,
   "id": "6bbe9138",
   "metadata": {},
   "outputs": [],
   "source": [
    "#ผลลัพธ์ของ director series จะถูกแก้ไข แต่การแก้ไข director series จะไม่กระทบ Original dataframe \n",
    "director.head(3)"
   ]
  },
  {
   "cell_type": "code",
   "execution_count": null,
   "id": "862b08ed",
   "metadata": {},
   "outputs": [],
   "source": [
    "#ผลลัพธ์ของ director series จะถูกแก้ไข แต่การแก้ไข director series จะไม่กระทบ Original dataframe \n",
    "bond.head(3)"
   ]
  },
  {
   "cell_type": "code",
   "execution_count": null,
   "id": "c588db20",
   "metadata": {},
   "outputs": [],
   "source": []
  }
 ],
 "metadata": {
  "kernelspec": {
   "display_name": "Python 3 (ipykernel)",
   "language": "python",
   "name": "python3"
  },
  "language_info": {
   "codemirror_mode": {
    "name": "ipython",
    "version": 3
   },
   "file_extension": ".py",
   "mimetype": "text/x-python",
   "name": "python",
   "nbconvert_exporter": "python",
   "pygments_lexer": "ipython3",
   "version": "3.10.14"
  }
 },
 "nbformat": 4,
 "nbformat_minor": 5
}

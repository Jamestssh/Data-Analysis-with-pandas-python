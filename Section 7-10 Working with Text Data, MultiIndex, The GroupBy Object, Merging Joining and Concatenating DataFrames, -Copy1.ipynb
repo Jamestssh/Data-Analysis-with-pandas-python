{
 "cells": [
  {
   "cell_type": "markdown",
   "id": "63d6231e",
   "metadata": {},
   "source": [
    "# Section 7 : Working with Text Data"
   ]
  },
  {
   "cell_type": "markdown",
   "id": "6def031a",
   "metadata": {},
   "source": [
    "##### 7.1 Intro to the working with Text Data Section "
   ]
  },
  {
   "cell_type": "code",
   "execution_count": 2,
   "id": "7d35384d",
   "metadata": {},
   "outputs": [],
   "source": [
    "import pandas as pd "
   ]
  },
  {
   "cell_type": "code",
   "execution_count": 3,
   "id": "1ba7eb5a",
   "metadata": {},
   "outputs": [
    {
     "data": {
      "text/html": [
       "<div>\n",
       "<style scoped>\n",
       "    .dataframe tbody tr th:only-of-type {\n",
       "        vertical-align: middle;\n",
       "    }\n",
       "\n",
       "    .dataframe tbody tr th {\n",
       "        vertical-align: top;\n",
       "    }\n",
       "\n",
       "    .dataframe thead th {\n",
       "        text-align: right;\n",
       "    }\n",
       "</style>\n",
       "<table border=\"1\" class=\"dataframe\">\n",
       "  <thead>\n",
       "    <tr style=\"text-align: right;\">\n",
       "      <th></th>\n",
       "      <th>Name</th>\n",
       "      <th>Position Title</th>\n",
       "      <th>Department</th>\n",
       "      <th>Employee Annual Salary</th>\n",
       "    </tr>\n",
       "  </thead>\n",
       "  <tbody>\n",
       "    <tr>\n",
       "      <th>0</th>\n",
       "      <td>AARON,  ELVIA J</td>\n",
       "      <td>WATER RATE TAKER</td>\n",
       "      <td>WATER MGMNT</td>\n",
       "      <td>$90744.00</td>\n",
       "    </tr>\n",
       "    <tr>\n",
       "      <th>1</th>\n",
       "      <td>AARON,  JEFFERY M</td>\n",
       "      <td>POLICE OFFICER</td>\n",
       "      <td>POLICE</td>\n",
       "      <td>$84450.00</td>\n",
       "    </tr>\n",
       "    <tr>\n",
       "      <th>2</th>\n",
       "      <td>AARON,  KARINA</td>\n",
       "      <td>POLICE OFFICER</td>\n",
       "      <td>POLICE</td>\n",
       "      <td>$84450.00</td>\n",
       "    </tr>\n",
       "  </tbody>\n",
       "</table>\n",
       "</div>"
      ],
      "text/plain": [
       "                Name    Position Title   Department Employee Annual Salary\n",
       "0    AARON,  ELVIA J  WATER RATE TAKER  WATER MGMNT              $90744.00\n",
       "1  AARON,  JEFFERY M    POLICE OFFICER       POLICE              $84450.00\n",
       "2     AARON,  KARINA    POLICE OFFICER       POLICE              $84450.00"
      ]
     },
     "execution_count": 3,
     "metadata": {},
     "output_type": "execute_result"
    }
   ],
   "source": [
    "chicago = pd.read_csv(\"chicago.csv\")\n",
    "chicago.head(3)"
   ]
  },
  {
   "cell_type": "code",
   "execution_count": 4,
   "id": "3e6defbf",
   "metadata": {},
   "outputs": [
    {
     "name": "stdout",
     "output_type": "stream",
     "text": [
      "<class 'pandas.core.frame.DataFrame'>\n",
      "RangeIndex: 32063 entries, 0 to 32062\n",
      "Data columns (total 4 columns):\n",
      " #   Column                  Non-Null Count  Dtype \n",
      "---  ------                  --------------  ----- \n",
      " 0   Name                    32062 non-null  object\n",
      " 1   Position Title          32062 non-null  object\n",
      " 2   Department              32062 non-null  object\n",
      " 3   Employee Annual Salary  32062 non-null  object\n",
      "dtypes: object(4)\n",
      "memory usage: 1002.1+ KB\n"
     ]
    }
   ],
   "source": [
    "chicago.info()\n",
    "#1002.1+ KB สูงที่สุดที่เรียนมาในcourseนี้\n",
    "#มี null 1 row "
   ]
  },
  {
   "cell_type": "code",
   "execution_count": 5,
   "id": "53c70484",
   "metadata": {},
   "outputs": [
    {
     "data": {
      "text/plain": [
       "35"
      ]
     },
     "execution_count": 5,
     "metadata": {},
     "output_type": "execute_result"
    }
   ],
   "source": [
    "chicago[\"Department\"].nunique()\n"
   ]
  },
  {
   "cell_type": "code",
   "execution_count": 6,
   "id": "5ce70890",
   "metadata": {},
   "outputs": [
    {
     "data": {
      "text/plain": [
       "Name                      31776\n",
       "Position Title             1093\n",
       "Department                   35\n",
       "Employee Annual Salary     1156\n",
       "dtype: int64"
      ]
     },
     "execution_count": 6,
     "metadata": {},
     "output_type": "execute_result"
    }
   ],
   "source": [
    "chicago.nunique()\n",
    "#Department columns ใน chicago dataframe มี unique values น้อยที่สุด เหมาะต่อการจัด category เพื่อลด memory usage"
   ]
  },
  {
   "cell_type": "code",
   "execution_count": 7,
   "id": "c6be1977",
   "metadata": {},
   "outputs": [
    {
     "name": "stdout",
     "output_type": "stream",
     "text": [
      "<class 'pandas.core.frame.DataFrame'>\n",
      "RangeIndex: 32063 entries, 0 to 32062\n",
      "Data columns (total 4 columns):\n",
      " #   Column                  Non-Null Count  Dtype   \n",
      "---  ------                  --------------  -----   \n",
      " 0   Name                    32062 non-null  object  \n",
      " 1   Position Title          32062 non-null  object  \n",
      " 2   Department              32062 non-null  category\n",
      " 3   Employee Annual Salary  32062 non-null  object  \n",
      "dtypes: category(1), object(3)\n",
      "memory usage: 784.2+ KB\n"
     ]
    }
   ],
   "source": [
    "chicago[\"Department\"] = chicago[\"Department\"].astype(\"category\")\n",
    "chicago.info()\n",
    "#from memory usage: 1002.1+ KB to memory usage: 784.2+ KB \n",
    "#ลดลงไป"
   ]
  },
  {
   "cell_type": "code",
   "execution_count": 8,
   "id": "2d674183",
   "metadata": {},
   "outputs": [
    {
     "data": {
      "text/html": [
       "<div>\n",
       "<style scoped>\n",
       "    .dataframe tbody tr th:only-of-type {\n",
       "        vertical-align: middle;\n",
       "    }\n",
       "\n",
       "    .dataframe tbody tr th {\n",
       "        vertical-align: top;\n",
       "    }\n",
       "\n",
       "    .dataframe thead th {\n",
       "        text-align: right;\n",
       "    }\n",
       "</style>\n",
       "<table border=\"1\" class=\"dataframe\">\n",
       "  <thead>\n",
       "    <tr style=\"text-align: right;\">\n",
       "      <th></th>\n",
       "      <th>Name</th>\n",
       "      <th>Position Title</th>\n",
       "      <th>Department</th>\n",
       "      <th>Employee Annual Salary</th>\n",
       "    </tr>\n",
       "  </thead>\n",
       "  <tbody>\n",
       "    <tr>\n",
       "      <th>32060</th>\n",
       "      <td>ZYRKOWSKI,  CARLO E</td>\n",
       "      <td>POLICE OFFICER</td>\n",
       "      <td>POLICE</td>\n",
       "      <td>$87384.00</td>\n",
       "    </tr>\n",
       "    <tr>\n",
       "      <th>32061</th>\n",
       "      <td>ZYSKOWSKI,  DARIUSZ</td>\n",
       "      <td>CHIEF DATA BASE ANALYST</td>\n",
       "      <td>DoIT</td>\n",
       "      <td>$113664.00</td>\n",
       "    </tr>\n",
       "    <tr>\n",
       "      <th>32062</th>\n",
       "      <td>NaN</td>\n",
       "      <td>NaN</td>\n",
       "      <td>NaN</td>\n",
       "      <td>NaN</td>\n",
       "    </tr>\n",
       "  </tbody>\n",
       "</table>\n",
       "</div>"
      ],
      "text/plain": [
       "                      Name           Position Title Department  \\\n",
       "32060  ZYRKOWSKI,  CARLO E           POLICE OFFICER     POLICE   \n",
       "32061  ZYSKOWSKI,  DARIUSZ  CHIEF DATA BASE ANALYST       DoIT   \n",
       "32062                  NaN                      NaN        NaN   \n",
       "\n",
       "      Employee Annual Salary  \n",
       "32060              $87384.00  \n",
       "32061             $113664.00  \n",
       "32062                    NaN  "
      ]
     },
     "execution_count": 8,
     "metadata": {},
     "output_type": "execute_result"
    }
   ],
   "source": [
    "chicago.tail(3) \n",
    "#ลบบรรทัดสุดท้ายได้ "
   ]
  },
  {
   "cell_type": "code",
   "execution_count": 9,
   "id": "7428cca0",
   "metadata": {},
   "outputs": [
    {
     "data": {
      "text/html": [
       "<div>\n",
       "<style scoped>\n",
       "    .dataframe tbody tr th:only-of-type {\n",
       "        vertical-align: middle;\n",
       "    }\n",
       "\n",
       "    .dataframe tbody tr th {\n",
       "        vertical-align: top;\n",
       "    }\n",
       "\n",
       "    .dataframe thead th {\n",
       "        text-align: right;\n",
       "    }\n",
       "</style>\n",
       "<table border=\"1\" class=\"dataframe\">\n",
       "  <thead>\n",
       "    <tr style=\"text-align: right;\">\n",
       "      <th></th>\n",
       "      <th>Name</th>\n",
       "      <th>Position Title</th>\n",
       "      <th>Department</th>\n",
       "      <th>Employee Annual Salary</th>\n",
       "    </tr>\n",
       "  </thead>\n",
       "  <tbody>\n",
       "    <tr>\n",
       "      <th>32059</th>\n",
       "      <td>ZYMANTAS,  MARK E</td>\n",
       "      <td>POLICE OFFICER</td>\n",
       "      <td>POLICE</td>\n",
       "      <td>$84450.00</td>\n",
       "    </tr>\n",
       "    <tr>\n",
       "      <th>32060</th>\n",
       "      <td>ZYRKOWSKI,  CARLO E</td>\n",
       "      <td>POLICE OFFICER</td>\n",
       "      <td>POLICE</td>\n",
       "      <td>$87384.00</td>\n",
       "    </tr>\n",
       "    <tr>\n",
       "      <th>32061</th>\n",
       "      <td>ZYSKOWSKI,  DARIUSZ</td>\n",
       "      <td>CHIEF DATA BASE ANALYST</td>\n",
       "      <td>DoIT</td>\n",
       "      <td>$113664.00</td>\n",
       "    </tr>\n",
       "  </tbody>\n",
       "</table>\n",
       "</div>"
      ],
      "text/plain": [
       "                      Name           Position Title Department  \\\n",
       "32059    ZYMANTAS,  MARK E           POLICE OFFICER     POLICE   \n",
       "32060  ZYRKOWSKI,  CARLO E           POLICE OFFICER     POLICE   \n",
       "32061  ZYSKOWSKI,  DARIUSZ  CHIEF DATA BASE ANALYST       DoIT   \n",
       "\n",
       "      Employee Annual Salary  \n",
       "32059              $84450.00  \n",
       "32060              $87384.00  \n",
       "32061             $113664.00  "
      ]
     },
     "execution_count": 9,
     "metadata": {},
     "output_type": "execute_result"
    }
   ],
   "source": [
    "chicago = pd.read_csv(\"chicago.csv\").dropna(how = \"all\")\n",
    "chicago[\"Department\"] = chicago[\"Department\"].astype(\"category\")\n",
    "chicago.tail(3)"
   ]
  },
  {
   "cell_type": "markdown",
   "id": "d31be67d",
   "metadata": {},
   "source": [
    "##### 7.2 Common String Methods - .lower() .upper() .title() .len()"
   ]
  },
  {
   "cell_type": "code",
   "execution_count": 10,
   "id": "a82531fc",
   "metadata": {},
   "outputs": [
    {
     "data": {
      "text/html": [
       "<div>\n",
       "<style scoped>\n",
       "    .dataframe tbody tr th:only-of-type {\n",
       "        vertical-align: middle;\n",
       "    }\n",
       "\n",
       "    .dataframe tbody tr th {\n",
       "        vertical-align: top;\n",
       "    }\n",
       "\n",
       "    .dataframe thead th {\n",
       "        text-align: right;\n",
       "    }\n",
       "</style>\n",
       "<table border=\"1\" class=\"dataframe\">\n",
       "  <thead>\n",
       "    <tr style=\"text-align: right;\">\n",
       "      <th></th>\n",
       "      <th>Name</th>\n",
       "      <th>Position Title</th>\n",
       "      <th>Department</th>\n",
       "      <th>Employee Annual Salary</th>\n",
       "    </tr>\n",
       "  </thead>\n",
       "  <tbody>\n",
       "    <tr>\n",
       "      <th>32060</th>\n",
       "      <td>ZYRKOWSKI,  CARLO E</td>\n",
       "      <td>POLICE OFFICER</td>\n",
       "      <td>POLICE</td>\n",
       "      <td>$87384.00</td>\n",
       "    </tr>\n",
       "    <tr>\n",
       "      <th>32061</th>\n",
       "      <td>ZYSKOWSKI,  DARIUSZ</td>\n",
       "      <td>CHIEF DATA BASE ANALYST</td>\n",
       "      <td>DoIT</td>\n",
       "      <td>$113664.00</td>\n",
       "    </tr>\n",
       "    <tr>\n",
       "      <th>32062</th>\n",
       "      <td>NaN</td>\n",
       "      <td>NaN</td>\n",
       "      <td>NaN</td>\n",
       "      <td>NaN</td>\n",
       "    </tr>\n",
       "  </tbody>\n",
       "</table>\n",
       "</div>"
      ],
      "text/plain": [
       "                      Name           Position Title Department  \\\n",
       "32060  ZYRKOWSKI,  CARLO E           POLICE OFFICER     POLICE   \n",
       "32061  ZYSKOWSKI,  DARIUSZ  CHIEF DATA BASE ANALYST       DoIT   \n",
       "32062                  NaN                      NaN        NaN   \n",
       "\n",
       "      Employee Annual Salary  \n",
       "32060              $87384.00  \n",
       "32061             $113664.00  \n",
       "32062                    NaN  "
      ]
     },
     "execution_count": 10,
     "metadata": {},
     "output_type": "execute_result"
    }
   ],
   "source": [
    "chicago = pd.read_csv(\"chicago.csv\")\n",
    "chicago[\"Department\"] = chicago[\"Department\"].astype(\"category\")\n",
    "chicago.tail(3)"
   ]
  },
  {
   "cell_type": "code",
   "execution_count": 11,
   "id": "9a08099f",
   "metadata": {},
   "outputs": [
    {
     "data": {
      "text/plain": [
       "'HELLO WORLD'"
      ]
     },
     "execution_count": 11,
     "metadata": {},
     "output_type": "execute_result"
    }
   ],
   "source": [
    "\"Hello World\".lower()\n",
    "\"Hello World\".upper()"
   ]
  },
  {
   "cell_type": "code",
   "execution_count": 12,
   "id": "1807eb39",
   "metadata": {},
   "outputs": [
    {
     "ename": "AttributeError",
     "evalue": "'Series' object has no attribute 'title'",
     "output_type": "error",
     "traceback": [
      "\u001b[1;31m---------------------------------------------------------------------------\u001b[0m",
      "\u001b[1;31mAttributeError\u001b[0m                            Traceback (most recent call last)",
      "Cell \u001b[1;32mIn[12], line 1\u001b[0m\n\u001b[1;32m----> 1\u001b[0m chicago[\u001b[38;5;124m\"\u001b[39m\u001b[38;5;124mName\u001b[39m\u001b[38;5;124m\"\u001b[39m]\u001b[38;5;241m.\u001b[39mtitle()\n",
      "File \u001b[1;32m~\\anaconda3\\envs\\pandas_playground\\Lib\\site-packages\\pandas\\core\\generic.py:5902\u001b[0m, in \u001b[0;36mNDFrame.__getattr__\u001b[1;34m(self, name)\u001b[0m\n\u001b[0;32m   5895\u001b[0m \u001b[38;5;28;01mif\u001b[39;00m (\n\u001b[0;32m   5896\u001b[0m     name \u001b[38;5;129;01mnot\u001b[39;00m \u001b[38;5;129;01min\u001b[39;00m \u001b[38;5;28mself\u001b[39m\u001b[38;5;241m.\u001b[39m_internal_names_set\n\u001b[0;32m   5897\u001b[0m     \u001b[38;5;129;01mand\u001b[39;00m name \u001b[38;5;129;01mnot\u001b[39;00m \u001b[38;5;129;01min\u001b[39;00m \u001b[38;5;28mself\u001b[39m\u001b[38;5;241m.\u001b[39m_metadata\n\u001b[0;32m   5898\u001b[0m     \u001b[38;5;129;01mand\u001b[39;00m name \u001b[38;5;129;01mnot\u001b[39;00m \u001b[38;5;129;01min\u001b[39;00m \u001b[38;5;28mself\u001b[39m\u001b[38;5;241m.\u001b[39m_accessors\n\u001b[0;32m   5899\u001b[0m     \u001b[38;5;129;01mand\u001b[39;00m \u001b[38;5;28mself\u001b[39m\u001b[38;5;241m.\u001b[39m_info_axis\u001b[38;5;241m.\u001b[39m_can_hold_identifiers_and_holds_name(name)\n\u001b[0;32m   5900\u001b[0m ):\n\u001b[0;32m   5901\u001b[0m     \u001b[38;5;28;01mreturn\u001b[39;00m \u001b[38;5;28mself\u001b[39m[name]\n\u001b[1;32m-> 5902\u001b[0m \u001b[38;5;28;01mreturn\u001b[39;00m \u001b[38;5;28mobject\u001b[39m\u001b[38;5;241m.\u001b[39m\u001b[38;5;21m__getattribute__\u001b[39m(\u001b[38;5;28mself\u001b[39m, name)\n",
      "\u001b[1;31mAttributeError\u001b[0m: 'Series' object has no attribute 'title'"
     ]
    }
   ],
   "source": [
    "chicago[\"Name\"].title() #ไม่ดู้ยยย"
   ]
  },
  {
   "cell_type": "code",
   "execution_count": null,
   "id": "1b5dff74",
   "metadata": {},
   "outputs": [],
   "source": [
    "chicago[\"Name\"].str.title() #ดู้ยยย"
   ]
  },
  {
   "cell_type": "code",
   "execution_count": null,
   "id": "e70317cf",
   "metadata": {},
   "outputs": [],
   "source": [
    "chicago[\"Name\"].str.title().lower() #ไม่ดู้ยยย"
   ]
  },
  {
   "cell_type": "code",
   "execution_count": null,
   "id": "63c9145b",
   "metadata": {},
   "outputs": [],
   "source": [
    "chicago[\"Name\"].str.title().str.lower() #ดู้ยยย"
   ]
  },
  {
   "cell_type": "code",
   "execution_count": null,
   "id": "77c2bcf1",
   "metadata": {},
   "outputs": [],
   "source": [
    "chicago[\"Position Title\"] = chicago[\"Position Title\"].str.title()"
   ]
  },
  {
   "cell_type": "code",
   "execution_count": null,
   "id": "321321e5",
   "metadata": {},
   "outputs": [],
   "source": [
    "chicago"
   ]
  },
  {
   "cell_type": "code",
   "execution_count": null,
   "id": "684be48f",
   "metadata": {},
   "outputs": [],
   "source": [
    "len(chicago[\"Department\"]) #len ของ column หรือ จำนวน rows ทั้งหมดของ column"
   ]
  },
  {
   "cell_type": "code",
   "execution_count": null,
   "id": "b3971a24",
   "metadata": {},
   "outputs": [],
   "source": [
    "chicago[\"Department\"].str.len() #len ของ value ในแต่ละ column"
   ]
  },
  {
   "cell_type": "markdown",
   "id": "a59c6efd",
   "metadata": {},
   "source": [
    "##### 7.3 Use the str.replace method to replace all occurrences of character with another"
   ]
  },
  {
   "cell_type": "code",
   "execution_count": null,
   "id": "03278b25",
   "metadata": {},
   "outputs": [],
   "source": [
    "chicago = pd.read_csv(\"chicago.csv\").dropna(how = \"all\")\n",
    "chicago[\"Department\"] = chicago[\"Department\"].astype(\"category\")\n",
    "chicago.tail(3)"
   ]
  },
  {
   "cell_type": "code",
   "execution_count": null,
   "id": "de52b414",
   "metadata": {},
   "outputs": [],
   "source": [
    "\"Hello World\".replace(\"l\",\"!\") #  (เปลี่ยนอันนี้, เป็นอันนี้)"
   ]
  },
  {
   "cell_type": "code",
   "execution_count": null,
   "id": "a1560530",
   "metadata": {},
   "outputs": [],
   "source": [
    "chicago[\"Department\"] = chicago[\"Department\"].str.replace('MGMNT','MANAGEMENT') #อย่าลืม str \n",
    "chicago.head(3)"
   ]
  },
  {
   "cell_type": "code",
   "execution_count": null,
   "id": "f5678825",
   "metadata": {},
   "outputs": [],
   "source": [
    "chicago[\"Employee Annual Salary\"] = chicago[\"Employee Annual Salary\"].str.replace('$', '').astype(float)"
   ]
  },
  {
   "cell_type": "code",
   "execution_count": null,
   "id": "a3823316",
   "metadata": {},
   "outputs": [],
   "source": [
    "chicago.head(3)"
   ]
  },
  {
   "cell_type": "code",
   "execution_count": null,
   "id": "225717ce",
   "metadata": {
    "scrolled": true
   },
   "outputs": [],
   "source": [
    "chicago.info()"
   ]
  },
  {
   "cell_type": "code",
   "execution_count": null,
   "id": "570193fa",
   "metadata": {},
   "outputs": [],
   "source": [
    "chicago[\"Employee Annual Salary\"].sum()"
   ]
  },
  {
   "cell_type": "code",
   "execution_count": null,
   "id": "ec0cf88b",
   "metadata": {},
   "outputs": [],
   "source": [
    "chicago[\"Employee Annual Salary\"].std()"
   ]
  },
  {
   "cell_type": "code",
   "execution_count": null,
   "id": "836f5f57",
   "metadata": {},
   "outputs": [],
   "source": [
    "chicago[\"Employee Annual Salary\"].nlargest(10)"
   ]
  },
  {
   "cell_type": "markdown",
   "id": "348c5646",
   "metadata": {},
   "source": [
    "##### 7.4 Filter a DataFrame's Rows with String Methods (.contains() Method)"
   ]
  },
  {
   "cell_type": "code",
   "execution_count": null,
   "id": "2f4bc988",
   "metadata": {},
   "outputs": [],
   "source": [
    "chicago = pd.read_csv(\"chicago.csv\").dropna(how = \"all\")\n",
    "chicago[\"Department\"] = chicago[\"Department\"].astype(\"category\")\n",
    "chicago.tail(3)"
   ]
  },
  {
   "cell_type": "code",
   "execution_count": null,
   "id": "1bdcd314",
   "metadata": {},
   "outputs": [],
   "source": [
    "mask = chicago[\"Position Title\"].str.lower().str.contains(\"water\")\n",
    "mask"
   ]
  },
  {
   "cell_type": "code",
   "execution_count": null,
   "id": "7db2de5f",
   "metadata": {},
   "outputs": [],
   "source": [
    "chicago[mask]"
   ]
  },
  {
   "cell_type": "code",
   "execution_count": null,
   "id": "15b33e80",
   "metadata": {},
   "outputs": [],
   "source": [
    "mask2 = chicago[\"Position Title\"].str.lower().str.startswith(\"water\")\n",
    "chicago[mask2]"
   ]
  },
  {
   "cell_type": "code",
   "execution_count": null,
   "id": "41f13d89",
   "metadata": {},
   "outputs": [],
   "source": [
    "mask3 = chicago[\"Position Title\"].str.lower().str.endswith(\"ist\")\n",
    "chicago[mask3]"
   ]
  },
  {
   "cell_type": "markdown",
   "id": "6373cff3",
   "metadata": {},
   "source": [
    "##### 7.5 More DataFrame String Methods - strip, lstrip, and rstrip"
   ]
  },
  {
   "cell_type": "code",
   "execution_count": null,
   "id": "760ecd39",
   "metadata": {},
   "outputs": [],
   "source": [
    "chicago = pd.read_csv(\"chicago.csv\").dropna(how = \"all\")\n",
    "chicago[\"Department\"] = chicago[\"Department\"].astype(\"category\")\n",
    "chicago.tail(3)"
   ]
  },
  {
   "cell_type": "code",
   "execution_count": null,
   "id": "346285cf",
   "metadata": {},
   "outputs": [],
   "source": [
    "\"     hello world    \".lstrip()"
   ]
  },
  {
   "cell_type": "code",
   "execution_count": null,
   "id": "df8acdf7",
   "metadata": {
    "scrolled": true
   },
   "outputs": [],
   "source": [
    "\"     hello world    \".rstrip()"
   ]
  },
  {
   "cell_type": "code",
   "execution_count": null,
   "id": "171e22c0",
   "metadata": {},
   "outputs": [],
   "source": [
    "\"     hello world    \".strip()"
   ]
  },
  {
   "cell_type": "code",
   "execution_count": null,
   "id": "099b11d5",
   "metadata": {},
   "outputs": [],
   "source": [
    "chicago[\"Name\"] = chicago[\"Name\"].str.rstrip().str.lstrip()"
   ]
  },
  {
   "cell_type": "code",
   "execution_count": null,
   "id": "a62b429b",
   "metadata": {},
   "outputs": [],
   "source": [
    "chicago[\"Position Title\"] = chicago[\"Position Title\"].str.strip()"
   ]
  },
  {
   "cell_type": "markdown",
   "id": "9778888c",
   "metadata": {},
   "source": [
    "##### 7.6  Invoke String Methods on DataFrame Index and Columns\n",
    "- แก้ไข Index ที่เป็น str dtype"
   ]
  },
  {
   "cell_type": "code",
   "execution_count": null,
   "id": "e781887b",
   "metadata": {},
   "outputs": [],
   "source": [
    "chicago = pd.read_csv(\"chicago.csv\", index_col = \"Name\").dropna(how = \"all\")\n",
    "chicago[\"Department\"] = chicago[\"Department\"].astype(\"category\")\n",
    "chicago.tail(3)"
   ]
  },
  {
   "cell_type": "code",
   "execution_count": null,
   "id": "d96aec82",
   "metadata": {},
   "outputs": [],
   "source": [
    "chicago.index = chicago.index.str.strip().str.title()\n",
    "chicago.head(3)"
   ]
  },
  {
   "cell_type": "code",
   "execution_count": null,
   "id": "9ca0f057",
   "metadata": {},
   "outputs": [],
   "source": [
    "chicago[\"Employee Annual Salary\"] = chicago[\"Employee Annual Salary\"].str.replace(\"$\",\"\").astype(\"float\")\n",
    "chicago.head(3)"
   ]
  },
  {
   "cell_type": "code",
   "execution_count": null,
   "id": "5e0dea11",
   "metadata": {},
   "outputs": [],
   "source": [
    "chicago.columns = chicago.columns.str.upper()\n",
    "chicago.head(3)"
   ]
  },
  {
   "cell_type": "markdown",
   "id": "6f4bb430",
   "metadata": {},
   "source": [
    "##### 7.7 Split Strings by Characters with the str.split Method\n"
   ]
  },
  {
   "cell_type": "code",
   "execution_count": null,
   "id": "97fde800",
   "metadata": {},
   "outputs": [],
   "source": [
    "chicago = pd.read_csv(\"chicago.csv\").dropna(how = \"all\")\n",
    "chicago[\"Department\"] = chicago[\"Department\"].astype(\"category\")\n",
    "chicago.tail(3)"
   ]
  },
  {
   "cell_type": "code",
   "execution_count": null,
   "id": "bd253258",
   "metadata": {},
   "outputs": [],
   "source": [
    "\"Hello my name is Boris\".split(\" \") # split str โดยใช้ \" \" จะได้ list ออกมาตามด้านล่าง "
   ]
  },
  {
   "cell_type": "code",
   "execution_count": null,
   "id": "4d0548a8",
   "metadata": {},
   "outputs": [],
   "source": [
    "chicago[\"Name\"]"
   ]
  },
  {
   "cell_type": "code",
   "execution_count": null,
   "id": "82caac18",
   "metadata": {},
   "outputs": [],
   "source": [
    "chicago[\"Name\"].str.split(\",\") # split str โดยใช้ \",\" จะได้ list ออกมาตามด้านล่าง "
   ]
  },
  {
   "cell_type": "code",
   "execution_count": null,
   "id": "52bf8ec8",
   "metadata": {},
   "outputs": [],
   "source": [
    "chicago[\"Name\"].str.split(\",\").str.get(0).str.title().value_counts() \n",
    "# .str.split(\",\") str โดยใช้ \",\" จะได้ list ออกมาตามด้านล่าง \n",
    "# .str.get(0) คือเลือก index 0 ใน values ของ \"Name\" column ที่ถูก split แล้ว [AARON,   ELVIA J] หรือก็คือ AARON ซึ่งเป็น First name\n",
    "# .str.title()คือ First letter จะตัวใหญ่ \n",
    "# .str.value_counts() นับค่าใน \"Name\" column (***ที่ถูกกระทำการ split get title มาแล้ว) ว่ามีค่าอะไรเกิดขึ้นบ้าง และเกิดขึ้นกี่ครั้ง \n",
    "\n",
    "\n",
    "#มีคนชื่อ Williams 293 คน"
   ]
  },
  {
   "cell_type": "code",
   "execution_count": null,
   "id": "090def0f",
   "metadata": {},
   "outputs": [],
   "source": [
    "chicago[\"Name\"].str.split(\",\").str.get(1).str.title()"
   ]
  },
  {
   "cell_type": "code",
   "execution_count": null,
   "id": "d9e24e5c",
   "metadata": {},
   "outputs": [],
   "source": [
    "chicago[\"Position Title\"].str.split(\" \").str.get(0).value_counts()"
   ]
  },
  {
   "cell_type": "markdown",
   "id": "e6299f08",
   "metadata": {},
   "source": [
    "##### 7.8 More Practice with the str.split method on a Series"
   ]
  },
  {
   "cell_type": "code",
   "execution_count": null,
   "id": "a973ece4",
   "metadata": {},
   "outputs": [],
   "source": [
    "chicago = pd.read_csv(\"chicago.csv\").dropna(how = \"all\")\n",
    "chicago[\"Department\"] = chicago[\"Department\"].astype(\"category\")\n",
    "chicago.head(3)"
   ]
  },
  {
   "cell_type": "code",
   "execution_count": null,
   "id": "89777a6e",
   "metadata": {},
   "outputs": [],
   "source": [
    "chicago[\"Name\"].str.split(\",\").str.get(0).str.title().value_counts().head(3)\n",
    "# .str.split(\",\") str โดยใช้ \",\" จะได้ list ออกมาตามด้านล่าง \n",
    "# .str.get(0) คือเลือก index 0 ใน values ของ \"Name\" column ที่ถูก split แล้ว [AARON,   ELVIA J] หรือก็คือ AARON ซึ่งเป็น first name \n",
    "# .str.title()คือ First letter จะตัวใหญ่ \n",
    "# .str.value_counts() นับค่าใน \"Name\" column (***ที่ถูกกระทำการ split get title มาแล้ว) ว่ามีค่าอะไรเกิดขึ้นบ้าง และเกิดขึ้นกี่ครั้ง \n",
    "\n",
    "\n",
    "#มีคนชื่อ Williams 293 คน"
   ]
  },
  {
   "cell_type": "code",
   "execution_count": null,
   "id": "28b77a81",
   "metadata": {},
   "outputs": [],
   "source": [
    "chicago[\"Name\"].str.split(\",\").str.get(1).str.title().value_counts().head(3)\n",
    "\n",
    "# .str.split(\",\") str โดยใช้ \",\" จะได้ list ออกมาตามด้านล่าง \n",
    "# .str.get(1) คือเลือก index 1 ใน values ของ \"Name\" column ที่ถูก split แล้ว [AARON,   ELVIA J] หรือก็คือ ELVIA J ซึ่งเป็น last name\n",
    "# .str.title()คือ First letter จะตัวใหญ่ \n",
    "# .str.value_counts() นับค่าใน \"Name\" column (***ที่ถูกกระทำการ split get title มาแล้ว) ว่ามีค่าอะไรเกิดขึ้นบ้าง และเกิดขึ้นกี่ครั้ง \n",
    "\n",
    "\n",
    "#มีคนชื่อ Williams 293 คน"
   ]
  },
  {
   "cell_type": "code",
   "execution_count": null,
   "id": "7a0fe0bb",
   "metadata": {},
   "outputs": [],
   "source": [
    "chicago[\"Name\"].str.split(\",\").str.get(1).str.title().str.split(\" \")\n",
    "# จะเห็นได้ว่ามีการ row แรกของ Name column มี  value เป็น AARON, ELVIA J จะเห็นได้ว่าระหว่าง \",\" กับ \"ELVIA J\" จะมี space อยู่ตรงกลาง \n",
    "# ทำให้ถ้าเราอยากได้แค่ \"ELVIA\" ล่ะ ไม่เอา \"J\" มาด้วย เพราะเราอยากได้ Actual last Name \n",
    "# ให้ใช้ .str.split(\" \") อีกครั้ง เพื่อแยก Elvia กับ J ออกจากกัน \n",
    "# แต่   .str.split(\" \") มันจะทำให้เกิดการดึง values มาใส่ list แบบแปลกๆ เช่น [, , Elvia, J]\n",
    "# !!!! ดังนั้นเราควรทำการ strip ก่อนให้ไม่มีช่องว่าง ระหว่าง \",\" กับ \"ELVIA J\""
   ]
  },
  {
   "cell_type": "code",
   "execution_count": null,
   "id": "937249e5",
   "metadata": {},
   "outputs": [],
   "source": [
    "chicago[\"Name\"].str.split(\",\").str.get(1).str.title().str.strip().str.split(\" \")\n",
    "#เย่ we got what we expected แต่ยังไม่สุด "
   ]
  },
  {
   "cell_type": "code",
   "execution_count": null,
   "id": "e891c159",
   "metadata": {},
   "outputs": [],
   "source": [
    "chicago[\"Name\"].str.split(\",\").str.get(1).str.title().str.strip().str.split(\" \").str.get(0)\n",
    "#ได้ series ที่เป็น First name เพียวๆละ \n",
    "chicago[\"Name\"].str.split(\",\").str.get(1).str.title().str.strip().str.split(\" \").str.get(0).value_counts().head() \n",
    "#นับว่ามีคนชื่ออะไรเยอะที่สุด"
   ]
  },
  {
   "cell_type": "markdown",
   "id": "a6e72ef4",
   "metadata": {},
   "source": [
    "##### 7.9 Exploring the expand and n Parameters of the str.split Method"
   ]
  },
  {
   "cell_type": "code",
   "execution_count": null,
   "id": "38ba1042",
   "metadata": {},
   "outputs": [],
   "source": [
    "chicago = pd.read_csv(\"chicago.csv\").dropna(how = \"all\")\n",
    "chicago[\"Department\"] = chicago[\"Department\"].astype(\"category\")\n",
    "chicago.head(3)"
   ]
  },
  {
   "cell_type": "code",
   "execution_count": null,
   "id": "79794aa2",
   "metadata": {},
   "outputs": [],
   "source": [
    "chicago[\"Name\"].str.split(\",\")\n",
    "#chicago[\"Name\"].str.split(\",\",  expand = False)"
   ]
  },
  {
   "cell_type": "code",
   "execution_count": null,
   "id": "131b399d",
   "metadata": {},
   "outputs": [],
   "source": [
    "chicago[\"Name\"].str.split(\",\",  expand = True)\n",
    "# by default, expand = False : ได้ข้อมูลเป็น series 1 column โดยมีค่าในแต่ละ row เป็น list ของคำที่ทำการ split\n",
    "# manual, expand = True : จะทำให้ได้ข้อมูลออกมาเป็น DataFrame ที่มี multiple columns แบ่งตามคำที่ทำการ split "
   ]
  },
  {
   "cell_type": "code",
   "execution_count": null,
   "id": "3578065d",
   "metadata": {},
   "outputs": [],
   "source": [
    "chicago[[\"First name\",\"Last Name\"]] = chicago[\"Name\"].str.split(\",\",  expand = True)"
   ]
  },
  {
   "cell_type": "code",
   "execution_count": null,
   "id": "2461ae4e",
   "metadata": {},
   "outputs": [],
   "source": [
    "chicago.head(3)"
   ]
  },
  {
   "cell_type": "code",
   "execution_count": null,
   "id": "38ddea9f",
   "metadata": {},
   "outputs": [],
   "source": [
    "# พอลองทำที่ \"Position Title\" column จะทำให้ได้ ผลลัพธ์แปลกๆ \n",
    "# เนื่องจากแต่ละ rows มีการเว้นวรรค ไม่เท่ากัน บางอันมี 1 เว้นวรรค บางอันมี 2 เว้นวรรค บางอันมี 3 เป็นต้น  \n",
    "chicago[\"Position Title\"].str.split(\" \", expand = True)"
   ]
  },
  {
   "cell_type": "code",
   "execution_count": null,
   "id": "c5408c67",
   "metadata": {},
   "outputs": [],
   "source": [
    "#แก้ปัญหาด้วยการใช้ n parameter โดยมี argument เป็นค่า 1 (n=1) เพื่อให้แบ่งคำเมื่อ เจอ \" \" ตัวที่ 1 เท่านั้น  \n",
    "chicago[\"Position Title\"].str.split(\" \", expand = True, n = 1)"
   ]
  },
  {
   "cell_type": "code",
   "execution_count": null,
   "id": "64d07a1b",
   "metadata": {},
   "outputs": [],
   "source": [
    "chicago[[\"First Title Word\",\"Remaining Words\"]] = chicago[\"Position Title\"].str.split(\" \", expand = True, n = 1)"
   ]
  },
  {
   "cell_type": "code",
   "execution_count": null,
   "id": "c1300ba6",
   "metadata": {},
   "outputs": [],
   "source": [
    "chicago.head(3)"
   ]
  },
  {
   "cell_type": "markdown",
   "id": "2316f3e6",
   "metadata": {},
   "source": [
    "# Section 8 :  Multi-Index "
   ]
  },
  {
   "cell_type": "markdown",
   "id": "0749b239",
   "metadata": {},
   "source": [
    "##### 8.1 Intro to the MultiIndex Module"
   ]
  },
  {
   "cell_type": "code",
   "execution_count": null,
   "id": "b8032e52",
   "metadata": {},
   "outputs": [],
   "source": [
    "import pandas as pd "
   ]
  },
  {
   "cell_type": "code",
   "execution_count": null,
   "id": "f1eb8d6d",
   "metadata": {},
   "outputs": [],
   "source": [
    "bigmac = pd.read_csv(\"bigmac.csv\", parse_dates=[\"Date\"])\n",
    "bigmac.head(3)"
   ]
  },
  {
   "cell_type": "code",
   "execution_count": null,
   "id": "1c9db157",
   "metadata": {},
   "outputs": [],
   "source": [
    "bigmac.info()"
   ]
  },
  {
   "cell_type": "markdown",
   "id": "c3482c09",
   "metadata": {},
   "source": [
    "###### 8.2 Create a MultiIndex with the .set_index() Method "
   ]
  },
  {
   "cell_type": "code",
   "execution_count": null,
   "id": "4d9a1c76",
   "metadata": {},
   "outputs": [],
   "source": [
    "bigmac = pd.read_csv(\"bigmac.csv\", parse_dates=[\"Date\"])\n",
    "bigmac.head(3)"
   ]
  },
  {
   "cell_type": "code",
   "execution_count": null,
   "id": "41e4ca38",
   "metadata": {},
   "outputs": [],
   "source": [
    "# column with smallest number of unique values should be 1st Index layer\n",
    "bigmac.nunique() "
   ]
  },
  {
   "cell_type": "code",
   "execution_count": null,
   "id": "1227001d",
   "metadata": {
    "scrolled": true
   },
   "outputs": [],
   "source": [
    "# 2 layer of indexes # 1st layer - Date (level = 0), 2nd layer Country (level =1)\n",
    "bigmac.set_index(keys = [\"Date\",\"Country\"],inplace = True)\n",
    "\n",
    "\n",
    "\n",
    "#อยากรู้ว่าแต่ละประเทศมีค่าเงินแข็งแรงน้อยลงมากขึ้นแค่ไหนตามเวลาที่เปลี่ยนไป \n",
    "#bigmac.set_index(keys = [\"Country\",\"Date\"]).sort_index() \n",
    "# sort 1st layer in ascending order (\"Country\") then sort 2nd layer in ascending order (\"Date\") "
   ]
  },
  {
   "cell_type": "code",
   "execution_count": null,
   "id": "531edf95",
   "metadata": {},
   "outputs": [],
   "source": [
    "# sort 1st layer (level = 0) in ascending order (\"Date\") then sort 2nd layer (level = 1) in ascending order (\"Country\") \n",
    "bigmac.sort_index(inplace = True)"
   ]
  },
  {
   "cell_type": "code",
   "execution_count": null,
   "id": "8b9b63b1",
   "metadata": {},
   "outputs": [],
   "source": [
    "bigmac.head(3)"
   ]
  },
  {
   "cell_type": "code",
   "execution_count": null,
   "id": "eeafb931",
   "metadata": {},
   "outputs": [],
   "source": [
    "bigmac.index # 2-level index layers contain tuple of two values"
   ]
  },
  {
   "cell_type": "code",
   "execution_count": null,
   "id": "e8cab06d",
   "metadata": {},
   "outputs": [],
   "source": [
    "bigmac.index.names # ได้ชื่อ index layer names  "
   ]
  },
  {
   "cell_type": "code",
   "execution_count": null,
   "id": "bcee1dab",
   "metadata": {},
   "outputs": [],
   "source": [
    "type(bigmac.index)"
   ]
  },
  {
   "cell_type": "code",
   "execution_count": null,
   "id": "d69e0495",
   "metadata": {},
   "outputs": [],
   "source": [
    "bigmac.index[0]"
   ]
  },
  {
   "cell_type": "code",
   "execution_count": null,
   "id": "ff3a4d6a",
   "metadata": {},
   "outputs": [],
   "source": [
    "bigmac.index[1]"
   ]
  },
  {
   "cell_type": "code",
   "execution_count": null,
   "id": "d7651c66",
   "metadata": {},
   "outputs": [],
   "source": [
    "bigmac.index[2]"
   ]
  },
  {
   "cell_type": "code",
   "execution_count": null,
   "id": "c4136fa5",
   "metadata": {},
   "outputs": [],
   "source": [
    "bigmac.index[0][0]"
   ]
  },
  {
   "cell_type": "code",
   "execution_count": null,
   "id": "2069cc9e",
   "metadata": {},
   "outputs": [],
   "source": [
    "bigmac.index[0][1]"
   ]
  },
  {
   "cell_type": "markdown",
   "id": "79cea213",
   "metadata": {},
   "source": [
    "##### 8.3 Extract Index Level Values with the .get_level_values() Method"
   ]
  },
  {
   "cell_type": "code",
   "execution_count": null,
   "id": "a9428a33",
   "metadata": {},
   "outputs": [],
   "source": [
    "bigmac = pd.read_csv(\"bigmac.csv\", parse_dates=[\"Date\"], index_col = [\"Date\",\"Country\"]).sort_index()\n",
    "bigmac.head(3)"
   ]
  },
  {
   "cell_type": "code",
   "execution_count": null,
   "id": "62f5c8ac",
   "metadata": {},
   "outputs": [],
   "source": [
    "bigmac.index.get_level_values(\"Date\") # values ของ \"Date\" index ซึ่งเป็น 1st level index layer \n",
    "bigmac.index.get_level_values(0)# values ของ index layer[0] หรือก็คือ 1st level index layer ซึ่งก็คือ \"Date\" index "
   ]
  },
  {
   "cell_type": "code",
   "execution_count": null,
   "id": "a477e6ac",
   "metadata": {},
   "outputs": [],
   "source": [
    "bigmac.index.get_level_values(\"Country\") # values ของ \"Country\" index ซึ่งเป็น 2nd level index layer \n",
    "bigmac.index.get_level_values(1)# values ของ index layer[1] หรือก็คือ 2nd level index layer ซึ่งก็คือ \"Country\" index "
   ]
  },
  {
   "cell_type": "markdown",
   "id": "6b5610e1",
   "metadata": {},
   "source": [
    "##### 8.4 Change Index Level Name with the .set_names() Method"
   ]
  },
  {
   "cell_type": "code",
   "execution_count": null,
   "id": "5074cc24",
   "metadata": {},
   "outputs": [],
   "source": [
    "bigmac = pd.read_csv(\"bigmac.csv\", parse_dates=[\"Date\"], index_col = [\"Date\",\"Country\"]).sort_index()\n",
    "bigmac.head(3)"
   ]
  },
  {
   "cell_type": "code",
   "execution_count": null,
   "id": "86a6daf4",
   "metadata": {},
   "outputs": [],
   "source": [
    "bigmac.index.set_names(names = [\"Day\", \"Location\"], inplace = True)"
   ]
  },
  {
   "cell_type": "code",
   "execution_count": null,
   "id": "b8c442d6",
   "metadata": {},
   "outputs": [],
   "source": [
    "bigmac.head(3)"
   ]
  },
  {
   "cell_type": "code",
   "execution_count": null,
   "id": "1a2b9e54",
   "metadata": {
    "scrolled": true
   },
   "outputs": [],
   "source": [
    "bigmac.index.set_names(names = \"Date\", level = 0)\n",
    "#same as \n",
    "bigmac.index.set_names(names = \"Date\", level = \"Day\")\n",
    "#--------------------------------------------------------------------\n",
    "bigmac.index.set_names(names = \"Date\", level = \"Day\", inplace = True)"
   ]
  },
  {
   "cell_type": "code",
   "execution_count": null,
   "id": "018ed73d",
   "metadata": {},
   "outputs": [],
   "source": [
    "bigmac.head(3)"
   ]
  },
  {
   "cell_type": "markdown",
   "id": "d0ac0eb5",
   "metadata": {},
   "source": [
    "##### 8.5 The .sort_index() Method on a MultiIndex DataFrame"
   ]
  },
  {
   "cell_type": "code",
   "execution_count": null,
   "id": "0aa6a4c7",
   "metadata": {},
   "outputs": [],
   "source": [
    "bigmac = pd.read_csv(\"bigmac.csv\", parse_dates=[\"Date\"], index_col = [\"Date\",\"Country\"])\n",
    "bigmac.head(3)"
   ]
  },
  {
   "cell_type": "code",
   "execution_count": null,
   "id": "68d86015",
   "metadata": {
    "scrolled": true
   },
   "outputs": [],
   "source": [
    "# by default ascending = True \n",
    "# sort 1st layer (level = 0) in ascending order (\"Date\") then sort 2nd layer (level = 1) in ascending order (\"Country\") \n",
    "bigmac.sort_index() \n",
    "#same as \n",
    "bigmac.sort_index(ascending=True) "
   ]
  },
  {
   "cell_type": "code",
   "execution_count": null,
   "id": "34b430c4",
   "metadata": {
    "scrolled": true
   },
   "outputs": [],
   "source": [
    "bigmac.sort_index(ascending=False) "
   ]
  },
  {
   "cell_type": "code",
   "execution_count": null,
   "id": "641b1ddc",
   "metadata": {},
   "outputs": [],
   "source": [
    "# sort 1st layer (level = 0) in ascending order (\"Date\") then sort 2nd layer (level = 1) in descending order (\"Country\") \n",
    "bigmac.sort_index(ascending=[True,False])  \n",
    "# sort 1st layer (level = 0) in descending order (\"Date\") then sort 2nd layer (level = 1) in ascending order (\"Country\") \n",
    "bigmac.sort_index(ascending=[False,True],inplace = True)  "
   ]
  },
  {
   "cell_type": "code",
   "execution_count": null,
   "id": "90b88c39",
   "metadata": {},
   "outputs": [],
   "source": [
    "bigmac.head()"
   ]
  },
  {
   "cell_type": "code",
   "execution_count": null,
   "id": "c210d652",
   "metadata": {},
   "outputs": [],
   "source": [
    "bigmac = pd.read_csv(\"bigmac.csv\", parse_dates=[\"Date\"], index_col = [\"Date\",\"Country\"])\n",
    "bigmac.sort_index(level = 0)#or bigmac.sort_index(level = \"Date\") #sort ascending แค่ \"Date\" column ส่วน \"Country\" column ช่างแม่ง \n",
    "bigmac.sort_index(level = 1)#or bigmac.sort_index(level = \"Country\") #sort ascending แค่ \"Country\" column ส่วน \"Date\" column ช่างแม่ง \n",
    "#-----------------------------\n",
    "\n",
    "bigmac.sort_index(level = 1,ascending=False) #or bigmac.sort_index(level = \"Country\") #sort descending แค่ \"Country\" column ส่วน \"Date\" column ช่างแม่ง "
   ]
  },
  {
   "cell_type": "markdown",
   "id": "dc562a36",
   "metadata": {},
   "source": [
    "##### 8.5 Extract rows from a MultiIndex DataFrame"
   ]
  },
  {
   "cell_type": "code",
   "execution_count": null,
   "id": "d00da48a",
   "metadata": {},
   "outputs": [],
   "source": [
    "bigmac = pd.read_csv(\"bigmac.csv\", parse_dates=[\"Date\"], index_col = [\"Date\",\"Country\"])\n",
    "bigmac.sort_index(inplace = True)\n",
    "bigmac.head()"
   ]
  },
  {
   "cell_type": "code",
   "execution_count": null,
   "id": "cebf53af",
   "metadata": {
    "scrolled": true
   },
   "outputs": [],
   "source": [
    "bigmac.loc[\"2010-01-01\"]"
   ]
  },
  {
   "cell_type": "code",
   "execution_count": null,
   "id": "6e49a713",
   "metadata": {},
   "outputs": [],
   "source": [
    "bigmac.loc[\"2010-01-01\",\"Argentina\"]\n",
    "# ปกติ second argument ควรจะเป็น ชื่อ column ที่เราต้องการจะ Extract ออกมา \n",
    "# แต่ว่าพอเป็น multiIndex แล้วเราใช้ second argument มันจะเป็น second index layer แทน\n",
    "# ถ้าเราอยากจะ ให้ second argument เป็น ชื่อ column ที่เราต้องการจะ Extract ออกมาเหมือนเดิม \n",
    "# ให้เราใส่ tuple ครอบ index layer \n",
    "bigmac.loc[(\"2010-01-01\",\"Argentina\")]"
   ]
  },
  {
   "cell_type": "code",
   "execution_count": null,
   "id": "c037fabe",
   "metadata": {
    "scrolled": true
   },
   "outputs": [],
   "source": [
    "bigmac.loc[(\"2010-01-01\",\"Argentina\"),\"Price in US Dollars\"]\n",
    "\n",
    "## ทำให้เป็นนิสัย โดยการใช้ tuple กับ indexes และ list กับ columns"
   ]
  },
  {
   "cell_type": "code",
   "execution_count": null,
   "id": "f665236a",
   "metadata": {},
   "outputs": [],
   "source": [
    "bigmac.loc[(\"2016-01-01\",\"Argentina\"),\"Price in US Dollars\"]"
   ]
  },
  {
   "cell_type": "code",
   "execution_count": null,
   "id": "fb1acf2a",
   "metadata": {},
   "outputs": [],
   "source": [
    "bigmac.loc[(\"2010-01-01\",),\"Price in US Dollars\"]"
   ]
  },
  {
   "cell_type": "code",
   "execution_count": null,
   "id": "ad2664d6",
   "metadata": {},
   "outputs": [],
   "source": [
    "bigmac.loc[(\"2010-01-01\",\"Thailand\"):(\"2010-07-01\",\"China\"),[\"Price in US Dollars\"]]"
   ]
  },
  {
   "cell_type": "code",
   "execution_count": null,
   "id": "b6fcd868",
   "metadata": {},
   "outputs": [],
   "source": [
    "bigmac.iloc[0]"
   ]
  },
  {
   "cell_type": "code",
   "execution_count": null,
   "id": "096bf42f",
   "metadata": {},
   "outputs": [],
   "source": [
    "bigmac.iloc[10]"
   ]
  },
  {
   "cell_type": "code",
   "execution_count": null,
   "id": "be244bf2",
   "metadata": {},
   "outputs": [],
   "source": [
    "bigmac.iloc[[10,20,30]]"
   ]
  },
  {
   "cell_type": "code",
   "execution_count": null,
   "id": "e6244ebd",
   "metadata": {},
   "outputs": [],
   "source": [
    "bigmac.iloc[[10,20,30,250]]"
   ]
  },
  {
   "cell_type": "markdown",
   "id": "cc19a134",
   "metadata": {},
   "source": [
    "##### 8.6  The transpose Method on a MultiIndex DataFrame"
   ]
  },
  {
   "cell_type": "code",
   "execution_count": null,
   "id": "d1b770ca",
   "metadata": {},
   "outputs": [],
   "source": [
    "bigmac = pd.read_csv(\"bigmac.csv\", parse_dates=[\"Date\"], index_col = [\"Date\",\"Country\"])\n",
    "bigmac.sort_index(inplace = True)\n",
    "bigmac.head()"
   ]
  },
  {
   "cell_type": "code",
   "execution_count": null,
   "id": "a6cd70a4",
   "metadata": {},
   "outputs": [],
   "source": [
    "bigmac = bigmac.transpose()\n",
    "bigmac.head(3)"
   ]
  },
  {
   "cell_type": "code",
   "execution_count": null,
   "id": "f5c37eda",
   "metadata": {},
   "outputs": [],
   "source": [
    "bigmac.loc[(\"Price in US Dollars\",)]"
   ]
  },
  {
   "cell_type": "code",
   "execution_count": null,
   "id": "4b4944d2",
   "metadata": {},
   "outputs": [],
   "source": [
    "bigmac.loc[(\"Price in US Dollars\",),('2016-01-01','Thailand')]\n",
    "#สังเกตว่าเราจะใช้ tuple กับ '2016-01-01' และ 'Thailand'ด้วย เพราะว่ามันเป็น 1st layer และ 2nd ของ column multiIndex ตามลำดับ \n",
    "\n",
    "bigmac.loc[(\"Price in US Dollars\",),('2015-07-01','Thailand'):('2016-01-01',\"Argentina\")]\n",
    "#Slicing ไปเลยจ้าาาา"
   ]
  },
  {
   "cell_type": "markdown",
   "id": "2ab734d0",
   "metadata": {},
   "source": [
    "##### 8.7 The .swaplevel() Method"
   ]
  },
  {
   "cell_type": "code",
   "execution_count": null,
   "id": "f80fa556",
   "metadata": {},
   "outputs": [],
   "source": [
    "bigmac = pd.read_csv(\"bigmac.csv\", parse_dates=[\"Date\"], index_col = [\"Date\",\"Country\"])\n",
    "bigmac.sort_index(inplace = True)\n",
    "bigmac.head(3)"
   ]
  },
  {
   "cell_type": "code",
   "execution_count": null,
   "id": "9f11aec8",
   "metadata": {},
   "outputs": [],
   "source": [
    "bigmac.swaplevel().head(3)"
   ]
  },
  {
   "cell_type": "code",
   "execution_count": null,
   "id": "7bb87e17",
   "metadata": {},
   "outputs": [],
   "source": [
    "bigmac.swaplevel(\"Date\",\"Country\").head(3)\n",
    "#same as \n",
    "bigmac.swaplevel(\"Country\",\"Date\").head(3)\n",
    "#ทั้งสองอันให้ผลลัพธ์เหมือนกันเนื่องจาก order ในวงเล็บไม่มีผลอะไร\n",
    "\n",
    "\n",
    "bigmac.swaplevel(0,1).head(3)\n",
    "#same as \n",
    "bigmac.swaplevel(1,0).head(3)\n",
    "#ทั้งสองอันให้ผลลัพธ์เหมือนกันเนื่องจาก order ในวงเล็บไม่มีผลอะไร\n",
    "\n",
    "# 0 และ 1 คือ Level ของ Index layer (level 0 = 1stlayer = outest layer) (level 1 = 2ndlayer = inner layer เข้ามา)"
   ]
  },
  {
   "cell_type": "code",
   "execution_count": null,
   "id": "355229fd",
   "metadata": {},
   "outputs": [],
   "source": [
    "bigmac = bigmac.swaplevel(1,0)"
   ]
  },
  {
   "cell_type": "code",
   "execution_count": null,
   "id": "c85f63d9",
   "metadata": {},
   "outputs": [],
   "source": [
    "bigmac.head(3)"
   ]
  },
  {
   "cell_type": "markdown",
   "id": "1e35379c",
   "metadata": {},
   "source": [
    "##### 8.8 The .stack() Method"
   ]
  },
  {
   "cell_type": "code",
   "execution_count": null,
   "id": "7e39f780",
   "metadata": {},
   "outputs": [],
   "source": [
    "world = pd.read_csv(\"worldstats.csv\", index_col = [\"country\",\"year\"])\n",
    "world.head(3)"
   ]
  },
  {
   "cell_type": "code",
   "execution_count": null,
   "id": "76d2d632",
   "metadata": {},
   "outputs": [],
   "source": [
    "world.stack() \n",
    "# .stack() method มันจะเอา columns-based index ทุกตัว (ก็คือ Population และ GDP ) มาแปลงเป็น rows-based index และแสดงผลตามรูป \n",
    "# มันจะมีลักษณะเหมือน MultiIndex ที่มี 3 layers (1st = country, 2nd = year, 3rd = พวก population และ GDP )ที่มี column values เป็นค่าตัวเลขตามที่เห็น\n",
    "# อย่างไรก็ตาม, python มันจะมองผลลัพธ์นี้เป็น series เนื่องจากมันจะเป็น 1 dimensional (ที่มี 3 multiIndex with 1** column)"
   ]
  },
  {
   "cell_type": "code",
   "execution_count": null,
   "id": "97c48b48",
   "metadata": {},
   "outputs": [],
   "source": [
    "type(world.stack())"
   ]
  },
  {
   "cell_type": "code",
   "execution_count": null,
   "id": "fa9566df",
   "metadata": {},
   "outputs": [],
   "source": [
    "world.stack().to_frame()\n",
    "#ใช้ .to_frame() ในการเปลี่ยนแปลง dtype จาก series เป็น DataFrame"
   ]
  },
  {
   "cell_type": "code",
   "execution_count": null,
   "id": "4be304a1",
   "metadata": {},
   "outputs": [],
   "source": [
    "type(world.stack().to_frame())"
   ]
  },
  {
   "cell_type": "code",
   "execution_count": null,
   "id": "1639b962",
   "metadata": {},
   "outputs": [],
   "source": [
    "world = world.stack().to_frame().rename(columns = {0:'Values'})"
   ]
  },
  {
   "cell_type": "code",
   "execution_count": null,
   "id": "d45b3c48",
   "metadata": {},
   "outputs": [],
   "source": [
    "world.index.set_names(names = ['Country','Year','PPL_GDP'],inplace = True)"
   ]
  },
  {
   "cell_type": "code",
   "execution_count": null,
   "id": "2c738df7",
   "metadata": {},
   "outputs": [],
   "source": [
    "world"
   ]
  },
  {
   "cell_type": "markdown",
   "id": "d639cada",
   "metadata": {},
   "source": [
    "##### 8.9 The .unstack() Method, Part1"
   ]
  },
  {
   "cell_type": "code",
   "execution_count": null,
   "id": "196814ab",
   "metadata": {},
   "outputs": [],
   "source": [
    "world = pd.read_csv(\"worldstats.csv\", index_col = [\"country\",\"year\"])\n",
    "world.head(3)"
   ]
  },
  {
   "cell_type": "code",
   "execution_count": null,
   "id": "6ae00e12",
   "metadata": {},
   "outputs": [],
   "source": [
    "s = world.stack()\n",
    "s.head(3)"
   ]
  },
  {
   "cell_type": "code",
   "execution_count": null,
   "id": "cd9e490e",
   "metadata": {},
   "outputs": [],
   "source": [
    "#หลักการคือ เอา the innerest index (index ด้านในสุด หรือ level สูงสุด) of row-based multindex เปลี่ยนเป็น Column-based index  \n",
    "s1 = s.unstack()\n",
    "s2 = s1.unstack()\n",
    "s3 = s2.unstack()\n",
    "s4 = s3.unstack()\n",
    "s5 = s4.unstack()\n",
    "s6 = s5.unstack()\n",
    "s7 = s6.unstack()\n",
    "s8 = s7.unstack()"
   ]
  },
  {
   "cell_type": "code",
   "execution_count": null,
   "id": "e95000e7",
   "metadata": {},
   "outputs": [],
   "source": [
    "#index ด้านในสุด of row-based multindex ของ s คือ population and GDP \n",
    "#จะถูกเปลี่ยนเป็น column-based index\n",
    "s1"
   ]
  },
  {
   "cell_type": "code",
   "execution_count": null,
   "id": "752b4f97",
   "metadata": {},
   "outputs": [],
   "source": [
    "#index ด้านในสุด of row-based multindex ของ s1 คือ year \n",
    "#จะถูกเปลี่ยนเป็น column-based index\n",
    "s2"
   ]
  },
  {
   "cell_type": "code",
   "execution_count": null,
   "id": "12e39541",
   "metadata": {},
   "outputs": [],
   "source": [
    "#index ด้านในสุด of row-based multindex ของ s2 คือ country\n",
    "#จะถูกเปลี่ยนเป็น column-based index\n",
    "#!!!! เมื่อไม่มี row-based index เหลืออยู่แล้วจะทำให้ กลายเป็น series ไป   \n",
    "#!!!! โดยมันจะ มองว่า level0 column-based multiIndex (outest, ด้านนอกสุด) หรือก็คือ Population และ GDP   เป็น row-based multiIndex level 0 \n",
    "#!!!! โดยมันจะ มองว่า level1 column-based multiIndex หรือก็คือ year เป็น row-based multiIndex level 1\n",
    "#!!!! โดยมันจะ มองว่า level2 column-based multiIndex (innerest, ด้านในสุด) หรือก็คือ country เป็น row-based multiIndex level 2 \n",
    "\n",
    "s3"
   ]
  },
  {
   "cell_type": "code",
   "execution_count": null,
   "id": "bf4f7db8",
   "metadata": {},
   "outputs": [],
   "source": [
    "#index ด้านในสุด of row-based multindex ของ s3 คือ country\n",
    "#จะถูกเปลี่ยนเป็น column-based index\n",
    "s4"
   ]
  },
  {
   "cell_type": "code",
   "execution_count": null,
   "id": "9edce925",
   "metadata": {},
   "outputs": [],
   "source": [
    "#index ด้านในสุด of row-based multindex ของ s4 คือ year\n",
    "#จะถูกเปลี่ยนเป็น column-based index\n",
    "s5"
   ]
  },
  {
   "cell_type": "code",
   "execution_count": null,
   "id": "e0f4f6d5",
   "metadata": {},
   "outputs": [],
   "source": [
    "#index ด้านในสุด of row-based multindex ของ s5 คือ Population and GDP\n",
    "#จะถูกเปลี่ยนเป็น column-based index\n",
    "#!!!! เมื่อไม่มี row-based index เหลืออยู่แล้วจะทำให้ กลายเป็น series ไป   \n",
    "#!!!! โดยมันจะ มองว่า level0 column-based multiIndex (outest, ด้านนอกสุด) หรือก็คือ country เป็น row-based multiIndex level 0 \n",
    "#!!!! โดยมันจะ มองว่า level1 column-based multiIndex หรือก็คือ year เป็น row-based multiIndex level 1\n",
    "#!!!! โดยมันจะ มองว่า level2 column-based multiIndex (innerest, ด้านในสุด) หรือก็คือ population and GDP เป็น row-based multiIndex level 2 \n",
    "\n",
    "s6"
   ]
  },
  {
   "cell_type": "code",
   "execution_count": null,
   "id": "1e0915c2",
   "metadata": {},
   "outputs": [],
   "source": [
    "s7"
   ]
  },
  {
   "cell_type": "code",
   "execution_count": null,
   "id": "5c2c46a4",
   "metadata": {},
   "outputs": [],
   "source": [
    "s8"
   ]
  },
  {
   "cell_type": "markdown",
   "id": "8d21fd7f",
   "metadata": {},
   "source": [
    "##### 8.10 The .unstack() Method, Part2"
   ]
  },
  {
   "cell_type": "code",
   "execution_count": null,
   "id": "b71549db",
   "metadata": {},
   "outputs": [],
   "source": [
    "world = pd.read_csv(\"worldstats.csv\", index_col = [\"country\",\"year\"])\n",
    "world.head(3)"
   ]
  },
  {
   "cell_type": "code",
   "execution_count": null,
   "id": "556889ce",
   "metadata": {},
   "outputs": [],
   "source": [
    "#level 0 = country\n",
    "#level 1 = year\n",
    "#level 2 = population and gdp \n",
    "s= world.stack()\n",
    "s.head(3)"
   ]
  },
  {
   "cell_type": "code",
   "execution_count": null,
   "id": "ae7cff37",
   "metadata": {
    "scrolled": false
   },
   "outputs": [],
   "source": [
    "# 2 means level2 =>> จะทำให้ row-based multiIndex level ที่ 2  หรือก็คือ population and gdp จะถูกเปลี่ยนให้เป็น column-based index \n",
    "s1 = s.unstack(2) #same as \n",
    "s1 = s.unstack(-1)\n",
    "s1"
   ]
  },
  {
   "cell_type": "code",
   "execution_count": null,
   "id": "e142a3ee",
   "metadata": {},
   "outputs": [],
   "source": [
    "# 1 means level1 =>> จะทำให้ row-based multiIndex level ที่ 1  หรือก็คือ year จะถูกเปลี่ยนให้เป็น column-based index \n",
    "s2 = s.unstack(1) #same as \n",
    "s2 = s.unstack(-2)\n",
    "s2"
   ]
  },
  {
   "cell_type": "code",
   "execution_count": null,
   "id": "7d190b7c",
   "metadata": {
    "scrolled": false
   },
   "outputs": [],
   "source": [
    "# 0 means level0 =>> จะทำให้ row-based multiIndex level ที่ 0  หรือก็คือ country จะถูกเปลี่ยนให้เป็น column-based index \n",
    "s3 = s.unstack(0) #same as \n",
    "s3 = s.unstack(-3)\n",
    "s3"
   ]
  },
  {
   "cell_type": "code",
   "execution_count": null,
   "id": "73ed6bd6",
   "metadata": {},
   "outputs": [],
   "source": [
    "s4 = s.unstack(\"country\") #specify specific row-based multiIndex เองเลย \n",
    "s4"
   ]
  },
  {
   "cell_type": "markdown",
   "id": "0f2828f4",
   "metadata": {},
   "source": [
    "##### 8.11 The .unstack() Method, Part3"
   ]
  },
  {
   "cell_type": "code",
   "execution_count": null,
   "id": "3f020229",
   "metadata": {},
   "outputs": [],
   "source": [
    "world = pd.read_csv(\"worldstats.csv\", index_col = [\"country\",\"year\"])\n",
    "world.head(3)"
   ]
  },
  {
   "cell_type": "code",
   "execution_count": null,
   "id": "08d71b26",
   "metadata": {},
   "outputs": [],
   "source": [
    "s = world.stack()\n",
    "s.head(3)\n",
    "# 0 และ 1 คือ Level ของ Index layer (level 0 = 1stlayer = outest layer) (level 1 = 2ndlayer = inner layer เข้ามา)\n",
    "\n",
    "#outest #level 0 = country\n",
    "#level 1 = year\n",
    "#innerest #level 2 = Population and GDP"
   ]
  },
  {
   "cell_type": "code",
   "execution_count": null,
   "id": "53640bfd",
   "metadata": {},
   "outputs": [],
   "source": [
    "s.unstack(level = [0,1]) #จะ move level0  (\"country\") ไปเป็น column based index ตามด้วย level1 (\"year\") \n",
    "#level1 (\"year\") ที่ไปทีหลัง จะเป็น  column based index ชั้นในกว่า level0  (\"country\") ที่เข้าไปก่อน \n"
   ]
  },
  {
   "cell_type": "code",
   "execution_count": null,
   "id": "a1a54690",
   "metadata": {},
   "outputs": [],
   "source": [
    "s.unstack(level = [1,0]) #จะ move level1  (\"year\") ไปเป็น column based index ตามด้วย level0 (\"country\") \n",
    "#level0 (\"country) ที่ไปทีหลัง จะเป็น  column based index ชั้นในกว่า level1  (\"year\") ที่เข้าไปก่อน "
   ]
  },
  {
   "cell_type": "code",
   "execution_count": null,
   "id": "f9efb7ff",
   "metadata": {
    "scrolled": true
   },
   "outputs": [],
   "source": [
    "s.unstack(level = [\"year\",2])"
   ]
  },
  {
   "cell_type": "code",
   "execution_count": null,
   "id": "072f97b7",
   "metadata": {},
   "outputs": [],
   "source": [
    "s.unstack(level = [\"year\",\"country\"])"
   ]
  },
  {
   "cell_type": "code",
   "execution_count": null,
   "id": "b4fe6b38",
   "metadata": {},
   "outputs": [],
   "source": [
    "s.unstack(\"year\")"
   ]
  },
  {
   "cell_type": "code",
   "execution_count": null,
   "id": "a0227932",
   "metadata": {},
   "outputs": [],
   "source": [
    "s.unstack(\"year\",fill_value = 0) "
   ]
  },
  {
   "cell_type": "markdown",
   "id": "5e9fa06f",
   "metadata": {},
   "source": [
    "##### 8.12 The .pivot() Method"
   ]
  },
  {
   "cell_type": "code",
   "execution_count": null,
   "id": "f1be7b1b",
   "metadata": {},
   "outputs": [],
   "source": [
    "sales = pd.read_csv(\"salesmen.csv\", parse_dates=[\"Date\"])\n",
    "sales.head(3)"
   ]
  },
  {
   "cell_type": "code",
   "execution_count": null,
   "id": "31efff06",
   "metadata": {},
   "outputs": [],
   "source": [
    "sales.info()"
   ]
  },
  {
   "cell_type": "code",
   "execution_count": null,
   "id": "68e10805",
   "metadata": {},
   "outputs": [],
   "source": [
    "sales.Salesman.value_counts()\n",
    "#sames as sales[\"Salesman\"].value_counts()"
   ]
  },
  {
   "cell_type": "code",
   "execution_count": null,
   "id": "1057a0c5",
   "metadata": {},
   "outputs": [],
   "source": [
    "sales.nunique()"
   ]
  },
  {
   "cell_type": "code",
   "execution_count": null,
   "id": "441eccd0",
   "metadata": {},
   "outputs": [],
   "source": [
    "sales.Salesman = sales[\"Salesman\"].astype(\"category\")\n",
    "#ทวนความจำว่า sales.Salesman = sales[\"Salesman\"]"
   ]
  },
  {
   "cell_type": "code",
   "execution_count": null,
   "id": "1d182334",
   "metadata": {},
   "outputs": [],
   "source": [
    "sales.info()\n",
    "#memory usage ลดลงและ "
   ]
  },
  {
   "cell_type": "code",
   "execution_count": null,
   "id": "2ae354e7",
   "metadata": {},
   "outputs": [],
   "source": [
    "sales.head(5)"
   ]
  },
  {
   "cell_type": "code",
   "execution_count": null,
   "id": "e6aa9186",
   "metadata": {},
   "outputs": [],
   "source": [
    "## เนื่องจากว่า \"Salesman\" มีจำนวน unique values น้อยมากๆๆ เพียง 5 ตัว จึงสามารถ pivot 5 values นั้นเป็น columns ได้อย่างสวยงามและอ่านง่าย \n",
    "## โดยจะให้ index label เป็น \"Date\" ไป โดยเอา Revenue เป็นค่า ในของ 5 new columns ที่มาจาก \"Salesman\" \n",
    "## ถ้าอ่านแล้วงง ก็เทียบก่อนกับหลัง ใช้ .pivot() ไปจบจบ\n",
    "sales.pivot(index = \"Date\",columns=\"Salesman\", values=\"Revenue\").head(5)"
   ]
  },
  {
   "cell_type": "code",
   "execution_count": null,
   "id": "297d5d0b",
   "metadata": {},
   "outputs": [],
   "source": [
    "len(sales)"
   ]
  },
  {
   "cell_type": "code",
   "execution_count": null,
   "id": "7924639e",
   "metadata": {},
   "outputs": [],
   "source": [
    "len(sales.pivot(index = \"Date\",columns=\"Salesman\", values=\"Revenue\"))\n",
    "#เหลือ 366 แถวเอง \n",
    "#easier to analysis \n",
    "#แต่อย่างไรก็ตาม, ก็ขึ้นอยู่กับ Original data ในcsv ด้วยว่ามันมี unique values ในแถวไหน \n",
    "#เยอะน้อยแค่ไหน และถึงช้อมูลจะมี unique values นั้นจะมีน้อย แล้วมันมี impact ต่อการคิดวิเคราะห์ต่อไปหรือเปล่า\n",
    "#ไม่ใช่แค่เฉพาะ เนื้อหาส่วนนี้นะ แต่หมายถึงทุกๆเนื้อหาก่อน เราควรพยายาม scan เบื้องต้นก่อนว่าข้อมูลที่เราได้รับมา มีเนื้อหาประมาณไหน"
   ]
  },
  {
   "cell_type": "markdown",
   "id": "74b1bc8a",
   "metadata": {},
   "source": [
    "##### 8.13 Use the .pivot_table() method to create an aggregate summary of a DataFrame \n",
    "- Useful มีประโยชน์"
   ]
  },
  {
   "cell_type": "code",
   "execution_count": null,
   "id": "dbdf8ae3",
   "metadata": {},
   "outputs": [],
   "source": [
    "foods = pd.read_csv(\"foods.csv\")\n",
    "foods.head(3)"
   ]
  },
  {
   "cell_type": "code",
   "execution_count": null,
   "id": "043364d3",
   "metadata": {},
   "outputs": [],
   "source": [
    "foods.pivot_table(values= \"Spend\",index = \"Gender\")\n",
    "#SAME AS\n",
    "#foods.pivot_table(values= \"Spend\",index = \"Gender\",aggfunc='mean')"
   ]
  },
  {
   "cell_type": "code",
   "execution_count": null,
   "id": "5c1437c5",
   "metadata": {
    "scrolled": true
   },
   "outputs": [],
   "source": [
    "foods.pivot_table(values= \"Spend\",index = [\"Gender\",\"City\"])\n",
    "#sameas \n",
    "#foods.pivot_table(values= \"Spend\",index = [\"Gender\",\"City\"], aggfunc = 'mean')\n",
    "#By default, ค่าในช่อง Spend จะเป็น ค่า aggfunc = 'mean' หรือ ค่าเฉลี่ย "
   ]
  },
  {
   "cell_type": "code",
   "execution_count": null,
   "id": "6bb2924b",
   "metadata": {},
   "outputs": [],
   "source": [
    "#ต้องการ ค่า total ใช้ sum  \n",
    "#รวมค่าใช้จ่ายของผู้ชายและผู้หญิงในแต่ละเมือง\n",
    "#sum\n",
    "foods.pivot_table(values= \"Spend\",index = [\"Gender\",\"City\"],aggfunc='sum')"
   ]
  },
  {
   "cell_type": "code",
   "execution_count": null,
   "id": "fdad723c",
   "metadata": {},
   "outputs": [],
   "source": [
    "foods.pivot_table(values= \"Spend\",index = [\"Gender\",\"Item\"],aggfunc='sum')"
   ]
  },
  {
   "cell_type": "code",
   "execution_count": null,
   "id": "8e09d921",
   "metadata": {},
   "outputs": [],
   "source": [
    "foods.pivot_table(values= \"Spend\",index =[\"Gender\",\"Item\"],columns= \"City\",aggfunc='sum')"
   ]
  },
  {
   "cell_type": "code",
   "execution_count": null,
   "id": "b2a66173",
   "metadata": {},
   "outputs": [],
   "source": [
    "foods.pivot_table(values= \"Spend\",index =[\"Gender\",\"Item\"],columns= [\"Frequency\" ,\"City\"],aggfunc='sum')"
   ]
  },
  {
   "cell_type": "code",
   "execution_count": null,
   "id": "88f24a5a",
   "metadata": {},
   "outputs": [],
   "source": [
    "foods.pivot_table(values= \"Spend\",index =[\"Gender\",\"Item\"],columns= [\"City\"],aggfunc='count')"
   ]
  },
  {
   "cell_type": "code",
   "execution_count": null,
   "id": "aa4ce554",
   "metadata": {},
   "outputs": [],
   "source": [
    "foods.pivot_table(values= \"Spend\",index =[\"Gender\",\"Item\"],columns= [\"City\"],aggfunc='max')"
   ]
  },
  {
   "cell_type": "code",
   "execution_count": null,
   "id": "47ba027f",
   "metadata": {},
   "outputs": [],
   "source": [
    "foods.pivot_table(values= \"Spend\",index =[\"Gender\",\"Item\"],columns= [\"City\"],aggfunc='min')"
   ]
  },
  {
   "cell_type": "code",
   "execution_count": null,
   "id": "0f324e27",
   "metadata": {},
   "outputs": [],
   "source": [
    "pd.pivot_table(data = foods ,values= \"Spend\",index =[\"Gender\",\"Item\"],columns= [\"City\"],aggfunc='min')"
   ]
  },
  {
   "cell_type": "markdown",
   "id": "caaaed92",
   "metadata": {},
   "source": [
    "##### 8.14 The pd.melt() Method "
   ]
  },
  {
   "cell_type": "code",
   "execution_count": null,
   "id": "72f3be10",
   "metadata": {},
   "outputs": [],
   "source": [
    "sales = pd.read_csv(\"quarters.csv\")\n",
    "sales"
   ]
  },
  {
   "cell_type": "code",
   "execution_count": null,
   "id": "efd7ff8a",
   "metadata": {},
   "outputs": [],
   "source": [
    "pd.melt(sales, id_vars = \"Salesman\")"
   ]
  },
  {
   "cell_type": "markdown",
   "id": "8a20c709",
   "metadata": {},
   "source": [
    "##### 8.15 Use the pd.melt() Method to create a narrow dataset from a wide one \n",
    "- เปลี่ยน dataframe ที่ multiple columns ในแนวกว้าง ให้มีไม่กี่ columns ในแนวลึกแทน\n",
    "- อธิบายยาก ไปดูเอาละกัน"
   ]
  },
  {
   "cell_type": "code",
   "execution_count": null,
   "id": "127d720d",
   "metadata": {},
   "outputs": [],
   "source": [
    "sales = pd.read_csv(\"quarters.csv\")\n",
    "sales"
   ]
  },
  {
   "cell_type": "code",
   "execution_count": null,
   "id": "c75843ca",
   "metadata": {
    "scrolled": true
   },
   "outputs": [],
   "source": [
    "#1st parameter = variable ที่เก็บ dataframe ที่เราต้องการจะทำการ melt \n",
    "#2nd parameter (id_vars) คือ column ที่เราต้องการให้อยู่ที่เดิม หรือไม่ไปยุ่งอะไรกับมัน\n",
    "# จะเห็นได้ว่า รายการ columns ทั้งหมด ***ยกเว้น \"Salesman\" column  ที่เราไม่ต้องการที่จะยุ่งกับมัน \n",
    "# จะถูกบรรจุลง New column ที่มี ชื่อว่า variable และ values ใน old columns จะถูกบรรจุลง New column ที่มี ชื่อว่า values \n",
    "pd.melt(sales,id_vars=\"Salesman\")"
   ]
  },
  {
   "cell_type": "code",
   "execution_count": null,
   "id": "a1bc07f4",
   "metadata": {},
   "outputs": [],
   "source": [
    "#3rd parameter (var_name) คือการเปลี่ยนชื่อ New column ที่มี ชื่อว่า variable\n",
    "#4th parameter (value_name) คือการเปลี่ยนชื่อ New column ที่มี ชื่อว่า values \n",
    "pd.melt(sales,id_vars=\"Salesman\",var_name=\"Quarter\",value_name=\"Revenue\")"
   ]
  },
  {
   "cell_type": "markdown",
   "id": "609083d3",
   "metadata": {},
   "source": [
    "# Section 9: The Group By Object"
   ]
  },
  {
   "cell_type": "markdown",
   "id": "d24b6871",
   "metadata": {},
   "source": [
    "##### 9.1 Intro to the GroupBy Module"
   ]
  },
  {
   "cell_type": "code",
   "execution_count": null,
   "id": "04bdb606",
   "metadata": {},
   "outputs": [],
   "source": [
    "import pandas as pd "
   ]
  },
  {
   "cell_type": "code",
   "execution_count": null,
   "id": "a75e40df",
   "metadata": {},
   "outputs": [],
   "source": [
    "fortune = pd.read_csv(\"fortune1000.csv\", index_col=[\"Rank\"])\n",
    "fortune.head(3)"
   ]
  },
  {
   "cell_type": "code",
   "execution_count": null,
   "id": "330b8386",
   "metadata": {},
   "outputs": [],
   "source": [
    "fortune.info()"
   ]
  },
  {
   "cell_type": "code",
   "execution_count": null,
   "id": "9c5ee3e8",
   "metadata": {},
   "outputs": [],
   "source": [
    "fortune.nunique()"
   ]
  },
  {
   "cell_type": "code",
   "execution_count": null,
   "id": "44363004",
   "metadata": {},
   "outputs": [],
   "source": [
    "fortune[\"Sector\"] = fortune[\"Sector\"].astype(\"category\")\n",
    "fortune[\"Industry\"] = fortune[\"Industry\"].astype(\"category\")\n",
    "fortune.info()"
   ]
  },
  {
   "cell_type": "code",
   "execution_count": null,
   "id": "3d3c52f5",
   "metadata": {},
   "outputs": [],
   "source": [
    "fortune.groupby(\"Sector\")"
   ]
  },
  {
   "cell_type": "code",
   "execution_count": null,
   "id": "ff1a4d3d",
   "metadata": {},
   "outputs": [],
   "source": [
    "sectors = fortune.groupby(\"Sector\")"
   ]
  },
  {
   "cell_type": "code",
   "execution_count": null,
   "id": "16380bb5",
   "metadata": {},
   "outputs": [],
   "source": [
    "type(fortune)"
   ]
  },
  {
   "cell_type": "code",
   "execution_count": null,
   "id": "552fb0ff",
   "metadata": {},
   "outputs": [],
   "source": [
    "type(sectors)"
   ]
  },
  {
   "cell_type": "code",
   "execution_count": null,
   "id": "a1ab2056",
   "metadata": {},
   "outputs": [],
   "source": [
    "sectors"
   ]
  },
  {
   "cell_type": "markdown",
   "id": "ea2b4957",
   "metadata": {},
   "source": [
    "##### 9.2 The .groupby() method"
   ]
  },
  {
   "cell_type": "code",
   "execution_count": null,
   "id": "6bd7e25b",
   "metadata": {},
   "outputs": [],
   "source": [
    "fortune = pd.read_csv(\"fortune1000.csv\", index_col=[\"Rank\"])\n",
    "fortune[\"Sector\"] = fortune[\"Sector\"].astype(\"category\")\n",
    "fortune[\"Industry\"] = fortune[\"Industry\"].astype(\"category\")\n",
    "\n",
    "sectors = fortune.groupby(\"Sector\")\n",
    "fortune.head(3)"
   ]
  },
  {
   "cell_type": "code",
   "execution_count": null,
   "id": "331d897c",
   "metadata": {},
   "outputs": [],
   "source": [
    "len(fortune) # the number of rows "
   ]
  },
  {
   "cell_type": "code",
   "execution_count": null,
   "id": "d512bbf4",
   "metadata": {},
   "outputs": [],
   "source": [
    "len(sectors) # the number of groups seperated by sectors "
   ]
  },
  {
   "cell_type": "code",
   "execution_count": null,
   "id": "6fc242a8",
   "metadata": {},
   "outputs": [],
   "source": [
    "fortune.nunique() # number of unique ;Sector = 21"
   ]
  },
  {
   "cell_type": "code",
   "execution_count": null,
   "id": "90357882",
   "metadata": {},
   "outputs": [],
   "source": [
    "#exact same thing in term of values as fortune[\"Sector\"].value_counts() \n",
    "#values from fortune[\"Sector\"].value_counts() are sorted descending order \n",
    "#values from sectors.size() are sorted in ascending order by groupby name (A to Z)\n",
    "\n",
    "sectors.size() # number of rows on each groups"
   ]
  },
  {
   "cell_type": "code",
   "execution_count": null,
   "id": "2482dda0",
   "metadata": {},
   "outputs": [],
   "source": [
    "#exact same thing in term of values as sectors.size() \n",
    "#values from fortune[\"Sector\"].value_counts() are sorted descending order \n",
    "#values from sectors.size() are sorted in ascending order by groupby name \n",
    "fortune[\"Sector\"].value_counts() "
   ]
  },
  {
   "cell_type": "code",
   "execution_count": null,
   "id": "66d892e5",
   "metadata": {
    "scrolled": true
   },
   "outputs": [],
   "source": [
    "sectors.first()\n",
    "# .first() จะreturn แถวแรก ใน group group นั้นออกมา\n",
    "# first row of each groups"
   ]
  },
  {
   "cell_type": "code",
   "execution_count": null,
   "id": "c1a0190b",
   "metadata": {},
   "outputs": [],
   "source": [
    "fortune.head(3)"
   ]
  },
  {
   "cell_type": "code",
   "execution_count": null,
   "id": "b848ae32",
   "metadata": {},
   "outputs": [],
   "source": [
    "sectors.last()\n",
    "# .last() จะ return แถวสุดท้าย ใน group group นั้นออกมา\n",
    "# a last row of each groups"
   ]
  },
  {
   "cell_type": "code",
   "execution_count": null,
   "id": "b88a04cb",
   "metadata": {},
   "outputs": [],
   "source": [
    "fortune.tail(3)"
   ]
  },
  {
   "cell_type": "code",
   "execution_count": null,
   "id": "ab0873b3",
   "metadata": {
    "scrolled": true
   },
   "outputs": [],
   "source": [
    "sectors.groups\n",
    "#{key : values pair}\n",
    "#key = group name that seperated by sector \n",
    "#values = ค่าของ index label ที่เป็นสมาชิกของ group group นั้น  #Note: ไม่ใช่ index position นะ มันเป็น index label ที่เราแทนค่า index_col = \"Rank\" ไป "
   ]
  },
  {
   "cell_type": "markdown",
   "id": "5d00830d",
   "metadata": {},
   "source": [
    "##### 9.3 Retrieve a group from a GroupBy object with the .get_group() Method"
   ]
  },
  {
   "cell_type": "code",
   "execution_count": null,
   "id": "7be22c28",
   "metadata": {},
   "outputs": [],
   "source": [
    "fortune = pd.read_csv(\"fortune1000.csv\", index_col=[\"Rank\"])\n",
    "fortune[\"Sector\"] = fortune[\"Sector\"].astype(\"category\")\n",
    "fortune[\"Industry\"] = fortune[\"Industry\"].astype(\"category\")\n",
    "\n",
    "sectors = fortune.groupby(\"Sector\")\n",
    "fortune.head(3)"
   ]
  },
  {
   "cell_type": "code",
   "execution_count": null,
   "id": "50a5f98c",
   "metadata": {},
   "outputs": [],
   "source": [
    "sectors.get_group(\"Energy\").head(3)"
   ]
  },
  {
   "cell_type": "code",
   "execution_count": null,
   "id": "5900561a",
   "metadata": {},
   "outputs": [],
   "source": [
    "sectors.get_group(\"Technology\").head(3)"
   ]
  },
  {
   "cell_type": "code",
   "execution_count": null,
   "id": "42b9db51",
   "metadata": {},
   "outputs": [],
   "source": [
    "sectors.get_group(\"Apparel\").head(3)"
   ]
  },
  {
   "cell_type": "code",
   "execution_count": null,
   "id": "1c3a544c",
   "metadata": {},
   "outputs": [],
   "source": [
    "fortune[fortune[\"Sector\"] == \"Apparel\"].head(3)\n",
    "\n",
    "#จะเห็นได้ว่า ใช้ .get_group() กับ sectors ที่เป็น groupby object จะง่ายกว่า "
   ]
  },
  {
   "cell_type": "markdown",
   "id": "3e9d6195",
   "metadata": {},
   "source": [
    "##### 9.4 Methods on the Groupby Object and DataFrame Columns"
   ]
  },
  {
   "cell_type": "code",
   "execution_count": null,
   "id": "e39de119",
   "metadata": {},
   "outputs": [],
   "source": [
    "fortune = pd.read_csv(\"fortune1000.csv\", index_col=[\"Rank\"])\n",
    "fortune[\"Sector\"] = fortune[\"Sector\"].astype(\"category\")\n",
    "fortune[\"Industry\"] = fortune[\"Industry\"].astype(\"category\")\n",
    "\n",
    "sectors = fortune.groupby(\"Sector\")\n",
    "fortune.head(3)"
   ]
  },
  {
   "cell_type": "markdown",
   "id": "63fadbcd",
   "metadata": {},
   "source": [
    "##### \n",
    "- .max() \n",
    "- .min()\n",
    "- .sum() #จะกระทำต่อ numeric column ที่เป็น int, float ที่คำนวณได้เท่านั้น\n",
    "- .mean()#จะกระทำต่อ numeric column ที่เป็น int, float ที่คำนวณได้เท่านั้น"
   ]
  },
  {
   "cell_type": "code",
   "execution_count": null,
   "id": "90c03c8f",
   "metadata": {
    "scrolled": true
   },
   "outputs": [],
   "source": [
    "sectors.max().head(3)\n",
    "#จะ return rows ออกมาเป็น last alphabeticalใน \"company\" column ของแต่ละ group\n",
    "#ควรระบุเป็นชื่อ column ไปดีกว่า "
   ]
  },
  {
   "cell_type": "code",
   "execution_count": null,
   "id": "c5201059",
   "metadata": {
    "scrolled": false
   },
   "outputs": [],
   "source": [
    "sectors.min().head(3)"
   ]
  },
  {
   "cell_type": "code",
   "execution_count": null,
   "id": "cda92c63",
   "metadata": {},
   "outputs": [],
   "source": [
    "sectors.sum().head(3)"
   ]
  },
  {
   "cell_type": "code",
   "execution_count": null,
   "id": "4e343c93",
   "metadata": {},
   "outputs": [],
   "source": [
    "sectors.get_group(\"Apparel\")[\"Revenue\"].sum()"
   ]
  },
  {
   "cell_type": "code",
   "execution_count": null,
   "id": "3be10f68",
   "metadata": {},
   "outputs": [],
   "source": [
    "sectors.get_group(\"Apparel\")[\"Profits\"].sum()"
   ]
  },
  {
   "cell_type": "code",
   "execution_count": null,
   "id": "b5469cf6",
   "metadata": {},
   "outputs": [],
   "source": [
    "sectors.get_group(\"Apparel\")[\"Employees\"].sum()"
   ]
  },
  {
   "cell_type": "code",
   "execution_count": null,
   "id": "eaae4381",
   "metadata": {},
   "outputs": [],
   "source": [
    "sectors.mean().head(3)"
   ]
  },
  {
   "cell_type": "code",
   "execution_count": null,
   "id": "921cd2d3",
   "metadata": {},
   "outputs": [],
   "source": [
    "sectors.get_group(\"Apparel\")[\"Revenue\"].mean()\n",
    "sectors.get_group(\"Apparel\")[\"Profits\"].mean()\n",
    "sectors.get_group(\"Apparel\")[\"Employees\"].mean()"
   ]
  },
  {
   "cell_type": "code",
   "execution_count": null,
   "id": "9fda7b66",
   "metadata": {
    "scrolled": true
   },
   "outputs": [],
   "source": [
    "sectors[\"Revenue\"].sum()"
   ]
  },
  {
   "cell_type": "code",
   "execution_count": null,
   "id": "a5a2ee4a",
   "metadata": {
    "scrolled": true
   },
   "outputs": [],
   "source": [
    "sectors[[\"Revenue\",\"Profits\"]].sum().head(3)"
   ]
  },
  {
   "cell_type": "code",
   "execution_count": null,
   "id": "7010e66d",
   "metadata": {},
   "outputs": [],
   "source": [
    "sectors[\"Employees\"].sum()"
   ]
  },
  {
   "cell_type": "code",
   "execution_count": null,
   "id": "a2140fd4",
   "metadata": {},
   "outputs": [],
   "source": [
    "sectors[\"Profits\"].max()"
   ]
  },
  {
   "cell_type": "code",
   "execution_count": null,
   "id": "12e0a078",
   "metadata": {},
   "outputs": [],
   "source": [
    "sectors[\"Profits\"].min()"
   ]
  },
  {
   "cell_type": "code",
   "execution_count": null,
   "id": "a0dce117",
   "metadata": {},
   "outputs": [],
   "source": [
    "sectors[\"Employees\"].mean()"
   ]
  },
  {
   "cell_type": "code",
   "execution_count": null,
   "id": "c75dcc73",
   "metadata": {
    "scrolled": true
   },
   "outputs": [],
   "source": [
    "sectors[[\"Employees\",\"Profits\"]].mean().head(3)"
   ]
  },
  {
   "cell_type": "markdown",
   "id": "d5bd2ead",
   "metadata": {},
   "source": [
    "##### 9.5 Grouping by Multiple Columns"
   ]
  },
  {
   "cell_type": "code",
   "execution_count": null,
   "id": "9b1b9b17",
   "metadata": {},
   "outputs": [],
   "source": [
    "fortune = pd.read_csv(\"fortune1000.csv\", index_col=[\"Rank\"])\n",
    "fortune[\"Sector\"] = fortune[\"Sector\"].astype(\"category\")\n",
    "fortune[\"Industry\"] = fortune[\"Industry\"].astype(\"category\")\n",
    "\n",
    "sectors = fortune.groupby([\"Sector\",\"Industry\"])\n",
    "fortune.head(3)"
   ]
  },
  {
   "cell_type": "code",
   "execution_count": null,
   "id": "e98a42e4",
   "metadata": {},
   "outputs": [],
   "source": [
    "sectors.size() ## multiIndex of sectors which is groupby dataframe object.\n",
    "##จะได้ additional layers ใน group by \n",
    "##group by ซ้อน group by \n",
    "##มีประโยชน์ โดยจะช่วยทำให้เราจัดกลุ่ม หา insight ของข้อมูลได้ลึกขึ้น เข้าใจง่ายขึ้น"
   ]
  },
  {
   "cell_type": "code",
   "execution_count": null,
   "id": "70d7b0c5",
   "metadata": {
    "scrolled": true
   },
   "outputs": [],
   "source": [
    "sectors.sum()"
   ]
  },
  {
   "cell_type": "code",
   "execution_count": null,
   "id": "c4078f67",
   "metadata": {
    "scrolled": true
   },
   "outputs": [],
   "source": [
    "sectors.sum([\"Revenue\",\"Profits\",\"Employees\"])"
   ]
  },
  {
   "cell_type": "code",
   "execution_count": null,
   "id": "83983099",
   "metadata": {
    "scrolled": true
   },
   "outputs": [],
   "source": [
    "sectors.[\"Revenue\"].sum()"
   ]
  },
  {
   "cell_type": "code",
   "execution_count": null,
   "id": "effd11ca",
   "metadata": {},
   "outputs": [],
   "source": [
    "sectors[\"Employees\"].mean()"
   ]
  },
  {
   "cell_type": "code",
   "execution_count": null,
   "id": "5035d500",
   "metadata": {
    "scrolled": true
   },
   "outputs": [],
   "source": [
    "sectors.get_group((\"Business Services\",\"Education\")).sum()"
   ]
  },
  {
   "cell_type": "markdown",
   "id": "99dce5e6",
   "metadata": {},
   "source": [
    "##### 9.6 The .agg() Method"
   ]
  },
  {
   "cell_type": "code",
   "execution_count": null,
   "id": "01d62946",
   "metadata": {},
   "outputs": [],
   "source": [
    "fortune = pd.read_csv(\"fortune1000.csv\", index_col=[\"Rank\"])\n",
    "fortune[\"Sector\"] = fortune[\"Sector\"].astype(\"category\")\n",
    "fortune[\"Industry\"] = fortune[\"Industry\"].astype(\"category\")\n",
    "\n",
    "sectors = fortune.groupby([\"Sector\",\"Industry\"])\n",
    "fortune.head(3)"
   ]
  },
  {
   "cell_type": "code",
   "execution_count": null,
   "id": "a76f58eb",
   "metadata": {},
   "outputs": [],
   "source": [
    "#.agg() ช่วยให้เราสามารถคำนวณ หลายๆ columns ใน group by พร้อมๆกัน โดยaggregate สามารถแตกต่างกันได้ ในแต่ละ columns\n",
    "sectors.agg({\"Revenue\":\"sum\",\n",
    "            \"Profits\":\"max\",\n",
    "            \"Employees\":\"mean\"})"
   ]
  },
  {
   "cell_type": "code",
   "execution_count": null,
   "id": "8b87d16a",
   "metadata": {},
   "outputs": [],
   "source": [
    "sectors.agg([\"size\",\"sum\",\"mean\"])"
   ]
  },
  {
   "cell_type": "code",
   "execution_count": null,
   "id": "d99b78c6",
   "metadata": {},
   "outputs": [],
   "source": [
    "sectors.agg({\"Revenue\":[\"sum\",\"mean\"],\n",
    "            \"Profits\":[\"max\",\"min\"],\n",
    "            \"Employees\":\"mean\"})"
   ]
  },
  {
   "cell_type": "markdown",
   "id": "505a7a45",
   "metadata": {},
   "source": [
    "##### 9.7 Iterating through Groups"
   ]
  },
  {
   "cell_type": "code",
   "execution_count": null,
   "id": "4087d11d",
   "metadata": {},
   "outputs": [],
   "source": [
    "fortune = pd.read_csv(\"fortune1000.csv\", index_col=[\"Rank\"])\n",
    "fortune[\"Sector\"] = fortune[\"Sector\"].astype(\"category\")\n",
    "fortune[\"Industry\"] = fortune[\"Industry\"].astype(\"category\")\n",
    "\n",
    "sectors = fortune.groupby([\"Sector\"])\n",
    "fortune.head(3)"
   ]
  },
  {
   "cell_type": "code",
   "execution_count": null,
   "id": "411b16a9",
   "metadata": {},
   "outputs": [],
   "source": [
    "sectors[\"Profits\"].max()\n",
    "#ผลลัพธ์จะออกมาแค่ตัวเลข profit ที่มีค่าสูงสุด ของแต่ละ group \n",
    "#การที่เราอยากจะให้โชว์ column อื่นๆด้วย เราจะต้องใช้ iterating  "
   ]
  },
  {
   "cell_type": "code",
   "execution_count": null,
   "id": "b27c74d4",
   "metadata": {},
   "outputs": [],
   "source": []
  },
  {
   "cell_type": "code",
   "execution_count": null,
   "id": "56c0d07d",
   "metadata": {},
   "outputs": [],
   "source": [
    "df = pd.DataFrame(columns=fortune.columns)\n",
    "df"
   ]
  },
  {
   "cell_type": "code",
   "execution_count": null,
   "id": "b581e492",
   "metadata": {},
   "outputs": [],
   "source": [
    "#sector                ...        Data \n",
    "#Aerospace & Defense              7608\n",
    "#Apparel                          3273\n",
    "\n",
    "for sector, data in sectors :\n",
    "    highest_revenue_company_in_group = data.nlargest(1, \"Revenue\") \n",
    "    ## เมื่อใช้ nlargest ใน Grouby object มันจะหาข้อมูลที่มีค่าสูงสุดในแต่ละ group มาให้เรา\n",
    "    df = df.append(highest_revenue_company_in_group)\n",
    "    ## บันทึกข้อมูลลง df variable "
   ]
  },
  {
   "cell_type": "code",
   "execution_count": null,
   "id": "f7d40e22",
   "metadata": {
    "scrolled": true
   },
   "outputs": [],
   "source": [
    "df"
   ]
  },
  {
   "cell_type": "code",
   "execution_count": null,
   "id": "ddec80c9",
   "metadata": {},
   "outputs": [],
   "source": [
    "cities = fortune.groupby(\"Location\")\n",
    "df = pd.DataFrame(columns=fortune.columns)\n",
    "df"
   ]
  },
  {
   "cell_type": "code",
   "execution_count": null,
   "id": "28d5313c",
   "metadata": {},
   "outputs": [],
   "source": [
    "for city, data in cities:\n",
    "    highest_revenue_in_city = data.nlargest(1,\"Revenue\")\n",
    "    df = df.append(highest_revenue_in_city)"
   ]
  },
  {
   "cell_type": "code",
   "execution_count": null,
   "id": "f13a8914",
   "metadata": {
    "scrolled": true
   },
   "outputs": [],
   "source": [
    "df\n",
    "# ได้ Revenue ที่สูงที่สุด ของแต่ละ Location "
   ]
  },
  {
   "cell_type": "code",
   "execution_count": null,
   "id": "5351c52c",
   "metadata": {},
   "outputs": [],
   "source": [
    "fortune[\"Location\"].nunique()"
   ]
  },
  {
   "cell_type": "markdown",
   "id": "08f6c116",
   "metadata": {},
   "source": [
    "# Section 10 : Merging Joining and Concatenating DataFrames"
   ]
  },
  {
   "cell_type": "markdown",
   "id": "b6bf56f1",
   "metadata": {},
   "source": [
    "#####  10.1 Intro to Merging Joining and Concatenating Section"
   ]
  },
  {
   "cell_type": "code",
   "execution_count": null,
   "id": "7630570c",
   "metadata": {},
   "outputs": [],
   "source": [
    "import pandas as pd "
   ]
  },
  {
   "cell_type": "code",
   "execution_count": null,
   "id": "88bf4dd6",
   "metadata": {},
   "outputs": [],
   "source": [
    "#primary key and foreign key relation \n",
    "week1 = pd.read_csv(\"Restaurant - Week 1 Sales.csv\")\n",
    "week2 = pd.read_csv(\"Restaurant - Week 2 Sales.csv\")\n",
    "customers = pd.read_csv(\"Restaurant - Customers.csv\")\n",
    "foods = pd.read_csv(\"Restaurant - Foods.csv\")"
   ]
  },
  {
   "cell_type": "markdown",
   "id": "44f792e8",
   "metadata": {},
   "source": [
    "##### 10.2 The pd.concat Method, Part 1"
   ]
  },
  {
   "cell_type": "code",
   "execution_count": null,
   "id": "4cd4ea98",
   "metadata": {},
   "outputs": [],
   "source": [
    "#primary key and foreign key relation \n",
    "week1 = pd.read_csv(\"Restaurant - Week 1 Sales.csv\")\n",
    "week2 = pd.read_csv(\"Restaurant - Week 2 Sales.csv\")\n",
    "customers = pd.read_csv(\"Restaurant - Customers.csv\")\n",
    "foods = pd.read_csv(\"Restaurant - Foods.csv\")"
   ]
  },
  {
   "cell_type": "code",
   "execution_count": null,
   "id": "698fea52",
   "metadata": {},
   "outputs": [],
   "source": [
    "week1.head(3) #note week1 มี 250 rows"
   ]
  },
  {
   "cell_type": "code",
   "execution_count": null,
   "id": "ccf07c1d",
   "metadata": {},
   "outputs": [],
   "source": [
    "week2.head(3) #note week2 มี 250 rows"
   ]
  },
  {
   "cell_type": "code",
   "execution_count": null,
   "id": "835720f0",
   "metadata": {},
   "outputs": [],
   "source": [
    "pd.concat(objs = [week1,week2])\n",
    "# sames as \n",
    "# pd.concat(objs = [week1,week2],ignore_index=False)\n",
    "# index เป็น 0-249 จาก week1 และ ก็ 0-249 จาก week2 รวม 500 rows"
   ]
  },
  {
   "cell_type": "code",
   "execution_count": null,
   "id": "f40dd358",
   "metadata": {},
   "outputs": [],
   "source": [
    "pd.concat(objs = [week1,week2],ignore_index=True)"
   ]
  },
  {
   "cell_type": "code",
   "execution_count": null,
   "id": "85af5b42",
   "metadata": {},
   "outputs": [],
   "source": [
    "week1.append(other = week2)\n",
    "# same as \n",
    "# week1.append(other = week2, ignore_index=False)"
   ]
  },
  {
   "cell_type": "code",
   "execution_count": null,
   "id": "c05f8284",
   "metadata": {},
   "outputs": [],
   "source": [
    "week1.append(other = week2, ignore_index=True)"
   ]
  },
  {
   "cell_type": "markdown",
   "id": "1ade97ef",
   "metadata": {},
   "source": [
    "##### 10.3 The pd.concat Method, Part 2"
   ]
  },
  {
   "cell_type": "code",
   "execution_count": null,
   "id": "13988078",
   "metadata": {},
   "outputs": [],
   "source": [
    "#primary key and foreign key relation \n",
    "week1 = pd.read_csv(\"Restaurant - Week 1 Sales.csv\")\n",
    "week2 = pd.read_csv(\"Restaurant - Week 2 Sales.csv\")\n",
    "customers = pd.read_csv(\"Restaurant - Customers.csv\")\n",
    "foods = pd.read_csv(\"Restaurant - Foods.csv\")"
   ]
  },
  {
   "cell_type": "code",
   "execution_count": null,
   "id": "0b9e16e0",
   "metadata": {},
   "outputs": [],
   "source": [
    "pd.concat(objs = [week1,week2],keys=[\"Week 1\",\"Week 2\"])"
   ]
  },
  {
   "cell_type": "code",
   "execution_count": null,
   "id": "952d22c9",
   "metadata": {},
   "outputs": [],
   "source": [
    "sales = pd.concat(objs = [week1,week2],keys=[\"Week 1\",\"Week 2\"])\n",
    "sales.head(3)"
   ]
  },
  {
   "cell_type": "code",
   "execution_count": null,
   "id": "e109f5e3",
   "metadata": {},
   "outputs": [],
   "source": [
    "sales.loc[(\"Week 1\",)] # note : tuple with row-based multiIndex\n",
    "sales.loc[(\"Week 2\",)] # note : tuple with row-based multiIndex\n",
    "\n",
    "sales.loc[(\"Week 1\",240)] # note : tuple with row-based multiIndex\n",
    "sales.loc[(\"Week 2\",158)] # note : tuple with row-based multiIndex\n",
    "\n",
    "sales.loc[(\"Week 1\",240),\"Customer ID\"] # note : tuple with row-based multiIndex\n",
    "sales.loc[(\"Week 2\",158),\"Food ID\"] # note : tuple with row-based multiIndex"
   ]
  },
  {
   "cell_type": "code",
   "execution_count": null,
   "id": "ffc96432",
   "metadata": {},
   "outputs": [],
   "source": [
    "sales.loc[(\"Week 1\",)] # note : tuple with row-based multiIndex"
   ]
  },
  {
   "cell_type": "code",
   "execution_count": null,
   "id": "a538a472",
   "metadata": {},
   "outputs": [],
   "source": [
    "sales.loc[(\"Week 2\",)] # note : tuple with row-based multiIndex"
   ]
  },
  {
   "cell_type": "code",
   "execution_count": null,
   "id": "cd6e8bbf",
   "metadata": {},
   "outputs": [],
   "source": [
    "sales.loc[(\"Week 1\",240)]"
   ]
  },
  {
   "cell_type": "code",
   "execution_count": null,
   "id": "16e835ff",
   "metadata": {},
   "outputs": [],
   "source": [
    "sales.loc[(\"Week 2\",158)]"
   ]
  },
  {
   "cell_type": "code",
   "execution_count": null,
   "id": "9338c9d4",
   "metadata": {},
   "outputs": [],
   "source": [
    "sales.loc[(\"Week 1\",240),\"Customer ID\"]"
   ]
  },
  {
   "cell_type": "code",
   "execution_count": null,
   "id": "05911b95",
   "metadata": {},
   "outputs": [],
   "source": [
    "sales.loc[(\"Week 2\",158),\"Food ID\"]"
   ]
  },
  {
   "cell_type": "markdown",
   "id": "b6dcc605",
   "metadata": {},
   "source": [
    "##### 10.4 Inner Joins, Part 1"
   ]
  },
  {
   "cell_type": "code",
   "execution_count": null,
   "id": "1f61e39e",
   "metadata": {},
   "outputs": [],
   "source": [
    "#primary key and foreign key relation \n",
    "week1 = pd.read_csv(\"Restaurant - Week 1 Sales.csv\")\n",
    "week2 = pd.read_csv(\"Restaurant - Week 2 Sales.csv\")\n",
    "customers = pd.read_csv(\"Restaurant - Customers.csv\")\n",
    "foods = pd.read_csv(\"Restaurant - Foods.csv\")"
   ]
  },
  {
   "cell_type": "code",
   "execution_count": null,
   "id": "dd799971",
   "metadata": {},
   "outputs": [],
   "source": [
    "week1.head(2)"
   ]
  },
  {
   "cell_type": "code",
   "execution_count": null,
   "id": "b43f878a",
   "metadata": {},
   "outputs": [],
   "source": [
    "week2.head(2)"
   ]
  },
  {
   "cell_type": "code",
   "execution_count": null,
   "id": "3e6d6efc",
   "metadata": {},
   "outputs": [],
   "source": [
    "pd.merge(left = week1,right= week2, how = \"inner\", on = \"Customer ID\").head(4)\n",
    "#Food ID_x represent week1\n",
    "#Food ID_y represent week2 \n",
    "\n",
    "## inner joion ไม่ remove duplicate นาจา"
   ]
  },
  {
   "cell_type": "code",
   "execution_count": null,
   "id": "6932f59a",
   "metadata": {},
   "outputs": [],
   "source": [
    "week1[week1[\"Customer ID\"] == 155]"
   ]
  },
  {
   "cell_type": "code",
   "execution_count": null,
   "id": "961ff00e",
   "metadata": {},
   "outputs": [],
   "source": [
    "week2[week2[\"Customer ID\"] == 155]"
   ]
  },
  {
   "cell_type": "code",
   "execution_count": null,
   "id": "bab19f96",
   "metadata": {},
   "outputs": [],
   "source": [
    "#python ไม่รู้ว่าจะต้อง match row ที่มี customer id 155 ของ week2 นี้ ใน rows ที่มี customer id 155 ไหนของ week1\n",
    "#ทำให้มัน match ทั้งสองตัวเลยย \n",
    "#\tCustomer ID  \tFood ID_x \tFood ID_y\n",
    "#1      155           \t9        \t3\n",
    "#2      155           \t1        \t3\n"
   ]
  },
  {
   "cell_type": "code",
   "execution_count": null,
   "id": "4f1b8ff0",
   "metadata": {},
   "outputs": [],
   "source": [
    "pd.merge(left = week1,right= week2, \n",
    "         how = \"inner\", \n",
    "         on = \"Customer ID\",\n",
    "         suffixes= (\" Week 1\",\" Week 2\")).head(4)\n",
    "#from \n",
    "#\tCustomer ID  \tFood ID_x       \tFood ID_y\n",
    "#to \n",
    "#\tCustomer ID  \tFood ID Week 1  \tFood ID Week2"
   ]
  },
  {
   "cell_type": "markdown",
   "id": "59bf7b2e",
   "metadata": {},
   "source": [
    "##### 10.5 Inner Joins, Part 2"
   ]
  },
  {
   "cell_type": "code",
   "execution_count": null,
   "id": "d6abb110",
   "metadata": {},
   "outputs": [],
   "source": [
    "#primary key and foreign key relation \n",
    "week1 = pd.read_csv(\"Restaurant - Week 1 Sales.csv\")\n",
    "week2 = pd.read_csv(\"Restaurant - Week 2 Sales.csv\")\n",
    "customers = pd.read_csv(\"Restaurant - Customers.csv\")\n",
    "foods = pd.read_csv(\"Restaurant - Foods.csv\")"
   ]
  },
  {
   "cell_type": "code",
   "execution_count": null,
   "id": "6fbc9aa2",
   "metadata": {},
   "outputs": [],
   "source": [
    "week1.head(2)"
   ]
  },
  {
   "cell_type": "code",
   "execution_count": null,
   "id": "971f2852",
   "metadata": {},
   "outputs": [],
   "source": [
    "week2.head(2)"
   ]
  },
  {
   "cell_type": "code",
   "execution_count": null,
   "id": "1af63723",
   "metadata": {},
   "outputs": [],
   "source": [
    "week1.merge(week2, how = \"inner\", on = [\"Customer ID\",\"Food ID\"] )\n",
    "## inner joion ไม่ remove duplicate นาจา"
   ]
  },
  {
   "cell_type": "code",
   "execution_count": null,
   "id": "e058123e",
   "metadata": {},
   "outputs": [],
   "source": [
    "week1[week1[\"Customer ID\"] == 21]\n",
    "#ใน week ที่ 1 ลูกค้าที่มี Customer ID = 21 ทำการซื้ออาหาร ที่มี Food ID = 4 ซ้ำสองครั้ง"
   ]
  },
  {
   "cell_type": "code",
   "execution_count": null,
   "id": "f0373438",
   "metadata": {},
   "outputs": [],
   "source": [
    "week2[week2[\"Customer ID\"] == 21]"
   ]
  },
  {
   "cell_type": "code",
   "execution_count": null,
   "id": "497352ae",
   "metadata": {},
   "outputs": [],
   "source": [
    "week1[week1[\"Customer ID\"] == 578]"
   ]
  },
  {
   "cell_type": "code",
   "execution_count": null,
   "id": "3fd5c7f6",
   "metadata": {},
   "outputs": [],
   "source": [
    "week2[week2[\"Customer ID\"] == 578]\n",
    "#ใน week ที่ 2 ลูกค้าที่มี Customer ID = 578 ทำการซื้ออาหาร ที่มี Food ID = 5 ซ้ำสองครั้ง"
   ]
  },
  {
   "cell_type": "markdown",
   "id": "adf7652e",
   "metadata": {},
   "source": [
    "##### 10.6 Outer joins \n",
    "- Both + left + right"
   ]
  },
  {
   "cell_type": "code",
   "execution_count": 14,
   "id": "476d2763",
   "metadata": {},
   "outputs": [],
   "source": [
    "#primary key and foreign key relation \n",
    "week1 = pd.read_csv(\"Restaurant - Week 1 Sales.csv\")\n",
    "week2 = pd.read_csv(\"Restaurant - Week 2 Sales.csv\")\n",
    "customers = pd.read_csv(\"Restaurant - Customers.csv\")\n",
    "foods = pd.read_csv(\"Restaurant - Foods.csv\")"
   ]
  },
  {
   "cell_type": "code",
   "execution_count": 16,
   "id": "d4dd1a7d",
   "metadata": {
    "collapsed": true
   },
   "outputs": [
    {
     "data": {
      "text/html": [
       "<div>\n",
       "<style scoped>\n",
       "    .dataframe tbody tr th:only-of-type {\n",
       "        vertical-align: middle;\n",
       "    }\n",
       "\n",
       "    .dataframe tbody tr th {\n",
       "        vertical-align: top;\n",
       "    }\n",
       "\n",
       "    .dataframe thead th {\n",
       "        text-align: right;\n",
       "    }\n",
       "</style>\n",
       "<table border=\"1\" class=\"dataframe\">\n",
       "  <thead>\n",
       "    <tr style=\"text-align: right;\">\n",
       "      <th></th>\n",
       "      <th>Customer ID</th>\n",
       "      <th>Food ID</th>\n",
       "    </tr>\n",
       "  </thead>\n",
       "  <tbody>\n",
       "    <tr>\n",
       "      <th>0</th>\n",
       "      <td>537</td>\n",
       "      <td>9</td>\n",
       "    </tr>\n",
       "    <tr>\n",
       "      <th>1</th>\n",
       "      <td>97</td>\n",
       "      <td>4</td>\n",
       "    </tr>\n",
       "  </tbody>\n",
       "</table>\n",
       "</div>"
      ],
      "text/plain": [
       "   Customer ID  Food ID\n",
       "0          537        9\n",
       "1           97        4"
      ]
     },
     "execution_count": 16,
     "metadata": {},
     "output_type": "execute_result"
    }
   ],
   "source": [
    "week1.head(2)"
   ]
  },
  {
   "cell_type": "code",
   "execution_count": 17,
   "id": "508cd58a",
   "metadata": {
    "collapsed": true
   },
   "outputs": [
    {
     "data": {
      "text/html": [
       "<div>\n",
       "<style scoped>\n",
       "    .dataframe tbody tr th:only-of-type {\n",
       "        vertical-align: middle;\n",
       "    }\n",
       "\n",
       "    .dataframe tbody tr th {\n",
       "        vertical-align: top;\n",
       "    }\n",
       "\n",
       "    .dataframe thead th {\n",
       "        text-align: right;\n",
       "    }\n",
       "</style>\n",
       "<table border=\"1\" class=\"dataframe\">\n",
       "  <thead>\n",
       "    <tr style=\"text-align: right;\">\n",
       "      <th></th>\n",
       "      <th>Customer ID</th>\n",
       "      <th>Food ID</th>\n",
       "    </tr>\n",
       "  </thead>\n",
       "  <tbody>\n",
       "    <tr>\n",
       "      <th>0</th>\n",
       "      <td>688</td>\n",
       "      <td>10</td>\n",
       "    </tr>\n",
       "    <tr>\n",
       "      <th>1</th>\n",
       "      <td>813</td>\n",
       "      <td>7</td>\n",
       "    </tr>\n",
       "  </tbody>\n",
       "</table>\n",
       "</div>"
      ],
      "text/plain": [
       "   Customer ID  Food ID\n",
       "0          688       10\n",
       "1          813        7"
      ]
     },
     "execution_count": 17,
     "metadata": {},
     "output_type": "execute_result"
    }
   ],
   "source": [
    "week2.head(2)"
   ]
  },
  {
   "cell_type": "code",
   "execution_count": 18,
   "id": "f100eb05",
   "metadata": {},
   "outputs": [
    {
     "data": {
      "text/html": [
       "<div>\n",
       "<style scoped>\n",
       "    .dataframe tbody tr th:only-of-type {\n",
       "        vertical-align: middle;\n",
       "    }\n",
       "\n",
       "    .dataframe tbody tr th {\n",
       "        vertical-align: top;\n",
       "    }\n",
       "\n",
       "    .dataframe thead th {\n",
       "        text-align: right;\n",
       "    }\n",
       "</style>\n",
       "<table border=\"1\" class=\"dataframe\">\n",
       "  <thead>\n",
       "    <tr style=\"text-align: right;\">\n",
       "      <th></th>\n",
       "      <th>Customer ID</th>\n",
       "      <th>Food ID Week1</th>\n",
       "      <th>Food ID Week 2</th>\n",
       "    </tr>\n",
       "  </thead>\n",
       "  <tbody>\n",
       "    <tr>\n",
       "      <th>0</th>\n",
       "      <td>537</td>\n",
       "      <td>9.0</td>\n",
       "      <td>5.0</td>\n",
       "    </tr>\n",
       "    <tr>\n",
       "      <th>1</th>\n",
       "      <td>97</td>\n",
       "      <td>4.0</td>\n",
       "      <td>NaN</td>\n",
       "    </tr>\n",
       "    <tr>\n",
       "      <th>2</th>\n",
       "      <td>658</td>\n",
       "      <td>1.0</td>\n",
       "      <td>NaN</td>\n",
       "    </tr>\n",
       "    <tr>\n",
       "      <th>3</th>\n",
       "      <td>202</td>\n",
       "      <td>2.0</td>\n",
       "      <td>NaN</td>\n",
       "    </tr>\n",
       "    <tr>\n",
       "      <th>4</th>\n",
       "      <td>155</td>\n",
       "      <td>9.0</td>\n",
       "      <td>3.0</td>\n",
       "    </tr>\n",
       "    <tr>\n",
       "      <th>...</th>\n",
       "      <td>...</td>\n",
       "      <td>...</td>\n",
       "      <td>...</td>\n",
       "    </tr>\n",
       "    <tr>\n",
       "      <th>449</th>\n",
       "      <td>855</td>\n",
       "      <td>NaN</td>\n",
       "      <td>4.0</td>\n",
       "    </tr>\n",
       "    <tr>\n",
       "      <th>450</th>\n",
       "      <td>559</td>\n",
       "      <td>NaN</td>\n",
       "      <td>10.0</td>\n",
       "    </tr>\n",
       "    <tr>\n",
       "      <th>451</th>\n",
       "      <td>276</td>\n",
       "      <td>NaN</td>\n",
       "      <td>4.0</td>\n",
       "    </tr>\n",
       "    <tr>\n",
       "      <th>452</th>\n",
       "      <td>556</td>\n",
       "      <td>NaN</td>\n",
       "      <td>10.0</td>\n",
       "    </tr>\n",
       "    <tr>\n",
       "      <th>453</th>\n",
       "      <td>252</td>\n",
       "      <td>NaN</td>\n",
       "      <td>9.0</td>\n",
       "    </tr>\n",
       "  </tbody>\n",
       "</table>\n",
       "<p>454 rows × 3 columns</p>\n",
       "</div>"
      ],
      "text/plain": [
       "     Customer ID  Food ID Week1  Food ID Week 2\n",
       "0            537            9.0             5.0\n",
       "1             97            4.0             NaN\n",
       "2            658            1.0             NaN\n",
       "3            202            2.0             NaN\n",
       "4            155            9.0             3.0\n",
       "..           ...            ...             ...\n",
       "449          855            NaN             4.0\n",
       "450          559            NaN            10.0\n",
       "451          276            NaN             4.0\n",
       "452          556            NaN            10.0\n",
       "453          252            NaN             9.0\n",
       "\n",
       "[454 rows x 3 columns]"
      ]
     },
     "execution_count": 18,
     "metadata": {},
     "output_type": "execute_result"
    }
   ],
   "source": [
    "pd.merge(week1,week2, how = \"outer\" , on = \"Customer ID\", suffixes= (\" Week1\",\" Week 2\"))"
   ]
  },
  {
   "cell_type": "code",
   "execution_count": 32,
   "id": "6d4487c5",
   "metadata": {},
   "outputs": [
    {
     "data": {
      "text/html": [
       "<div>\n",
       "<style scoped>\n",
       "    .dataframe tbody tr th:only-of-type {\n",
       "        vertical-align: middle;\n",
       "    }\n",
       "\n",
       "    .dataframe tbody tr th {\n",
       "        vertical-align: top;\n",
       "    }\n",
       "\n",
       "    .dataframe thead th {\n",
       "        text-align: right;\n",
       "    }\n",
       "</style>\n",
       "<table border=\"1\" class=\"dataframe\">\n",
       "  <thead>\n",
       "    <tr style=\"text-align: right;\">\n",
       "      <th></th>\n",
       "      <th>Customer ID</th>\n",
       "      <th>Food ID Week1</th>\n",
       "      <th>Food ID Week 2</th>\n",
       "      <th>_merge</th>\n",
       "    </tr>\n",
       "  </thead>\n",
       "  <tbody>\n",
       "    <tr>\n",
       "      <th>0</th>\n",
       "      <td>537</td>\n",
       "      <td>9.0</td>\n",
       "      <td>5.0</td>\n",
       "      <td>both</td>\n",
       "    </tr>\n",
       "    <tr>\n",
       "      <th>1</th>\n",
       "      <td>97</td>\n",
       "      <td>4.0</td>\n",
       "      <td>NaN</td>\n",
       "      <td>left_only</td>\n",
       "    </tr>\n",
       "    <tr>\n",
       "      <th>2</th>\n",
       "      <td>658</td>\n",
       "      <td>1.0</td>\n",
       "      <td>NaN</td>\n",
       "      <td>left_only</td>\n",
       "    </tr>\n",
       "    <tr>\n",
       "      <th>3</th>\n",
       "      <td>202</td>\n",
       "      <td>2.0</td>\n",
       "      <td>NaN</td>\n",
       "      <td>left_only</td>\n",
       "    </tr>\n",
       "    <tr>\n",
       "      <th>4</th>\n",
       "      <td>155</td>\n",
       "      <td>9.0</td>\n",
       "      <td>3.0</td>\n",
       "      <td>both</td>\n",
       "    </tr>\n",
       "    <tr>\n",
       "      <th>...</th>\n",
       "      <td>...</td>\n",
       "      <td>...</td>\n",
       "      <td>...</td>\n",
       "      <td>...</td>\n",
       "    </tr>\n",
       "    <tr>\n",
       "      <th>449</th>\n",
       "      <td>855</td>\n",
       "      <td>NaN</td>\n",
       "      <td>4.0</td>\n",
       "      <td>right_only</td>\n",
       "    </tr>\n",
       "    <tr>\n",
       "      <th>450</th>\n",
       "      <td>559</td>\n",
       "      <td>NaN</td>\n",
       "      <td>10.0</td>\n",
       "      <td>right_only</td>\n",
       "    </tr>\n",
       "    <tr>\n",
       "      <th>451</th>\n",
       "      <td>276</td>\n",
       "      <td>NaN</td>\n",
       "      <td>4.0</td>\n",
       "      <td>right_only</td>\n",
       "    </tr>\n",
       "    <tr>\n",
       "      <th>452</th>\n",
       "      <td>556</td>\n",
       "      <td>NaN</td>\n",
       "      <td>10.0</td>\n",
       "      <td>right_only</td>\n",
       "    </tr>\n",
       "    <tr>\n",
       "      <th>453</th>\n",
       "      <td>252</td>\n",
       "      <td>NaN</td>\n",
       "      <td>9.0</td>\n",
       "      <td>right_only</td>\n",
       "    </tr>\n",
       "  </tbody>\n",
       "</table>\n",
       "<p>454 rows × 4 columns</p>\n",
       "</div>"
      ],
      "text/plain": [
       "     Customer ID  Food ID Week1  Food ID Week 2      _merge\n",
       "0            537            9.0             5.0        both\n",
       "1             97            4.0             NaN   left_only\n",
       "2            658            1.0             NaN   left_only\n",
       "3            202            2.0             NaN   left_only\n",
       "4            155            9.0             3.0        both\n",
       "..           ...            ...             ...         ...\n",
       "449          855            NaN             4.0  right_only\n",
       "450          559            NaN            10.0  right_only\n",
       "451          276            NaN             4.0  right_only\n",
       "452          556            NaN            10.0  right_only\n",
       "453          252            NaN             9.0  right_only\n",
       "\n",
       "[454 rows x 4 columns]"
      ]
     },
     "execution_count": 32,
     "metadata": {},
     "output_type": "execute_result"
    }
   ],
   "source": [
    "pd.merge(week1,week2, how = \"outer\" , on = \"Customer ID\", suffixes= (\" Week1\",\" Week 2\"), indicator = True)"
   ]
  },
  {
   "cell_type": "code",
   "execution_count": 33,
   "id": "88583b22",
   "metadata": {},
   "outputs": [
    {
     "data": {
      "text/plain": [
       "right_only    197\n",
       "left_only     195\n",
       "both           62\n",
       "Name: _merge, dtype: int64"
      ]
     },
     "execution_count": 33,
     "metadata": {},
     "output_type": "execute_result"
    }
   ],
   "source": [
    "merged = pd.merge(week1,week2, how = \"outer\" , on = \"Customer ID\", suffixes= (\" Week1\",\" Week 2\"), indicator = True)\n",
    "merged[\"_merge\"].value_counts()"
   ]
  },
  {
   "cell_type": "code",
   "execution_count": 34,
   "id": "89dc4ac3",
   "metadata": {},
   "outputs": [
    {
     "data": {
      "text/html": [
       "<div>\n",
       "<style scoped>\n",
       "    .dataframe tbody tr th:only-of-type {\n",
       "        vertical-align: middle;\n",
       "    }\n",
       "\n",
       "    .dataframe tbody tr th {\n",
       "        vertical-align: top;\n",
       "    }\n",
       "\n",
       "    .dataframe thead th {\n",
       "        text-align: right;\n",
       "    }\n",
       "</style>\n",
       "<table border=\"1\" class=\"dataframe\">\n",
       "  <thead>\n",
       "    <tr style=\"text-align: right;\">\n",
       "      <th></th>\n",
       "      <th>Customer ID</th>\n",
       "      <th>Food ID Week1</th>\n",
       "      <th>Food ID Week 2</th>\n",
       "      <th>_merge</th>\n",
       "    </tr>\n",
       "  </thead>\n",
       "  <tbody>\n",
       "    <tr>\n",
       "      <th>1</th>\n",
       "      <td>97</td>\n",
       "      <td>4.0</td>\n",
       "      <td>NaN</td>\n",
       "      <td>left_only</td>\n",
       "    </tr>\n",
       "    <tr>\n",
       "      <th>2</th>\n",
       "      <td>658</td>\n",
       "      <td>1.0</td>\n",
       "      <td>NaN</td>\n",
       "      <td>left_only</td>\n",
       "    </tr>\n",
       "    <tr>\n",
       "      <th>3</th>\n",
       "      <td>202</td>\n",
       "      <td>2.0</td>\n",
       "      <td>NaN</td>\n",
       "      <td>left_only</td>\n",
       "    </tr>\n",
       "    <tr>\n",
       "      <th>6</th>\n",
       "      <td>213</td>\n",
       "      <td>8.0</td>\n",
       "      <td>NaN</td>\n",
       "      <td>left_only</td>\n",
       "    </tr>\n",
       "    <tr>\n",
       "      <th>7</th>\n",
       "      <td>600</td>\n",
       "      <td>1.0</td>\n",
       "      <td>NaN</td>\n",
       "      <td>left_only</td>\n",
       "    </tr>\n",
       "    <tr>\n",
       "      <th>...</th>\n",
       "      <td>...</td>\n",
       "      <td>...</td>\n",
       "      <td>...</td>\n",
       "      <td>...</td>\n",
       "    </tr>\n",
       "    <tr>\n",
       "      <th>449</th>\n",
       "      <td>855</td>\n",
       "      <td>NaN</td>\n",
       "      <td>4.0</td>\n",
       "      <td>right_only</td>\n",
       "    </tr>\n",
       "    <tr>\n",
       "      <th>450</th>\n",
       "      <td>559</td>\n",
       "      <td>NaN</td>\n",
       "      <td>10.0</td>\n",
       "      <td>right_only</td>\n",
       "    </tr>\n",
       "    <tr>\n",
       "      <th>451</th>\n",
       "      <td>276</td>\n",
       "      <td>NaN</td>\n",
       "      <td>4.0</td>\n",
       "      <td>right_only</td>\n",
       "    </tr>\n",
       "    <tr>\n",
       "      <th>452</th>\n",
       "      <td>556</td>\n",
       "      <td>NaN</td>\n",
       "      <td>10.0</td>\n",
       "      <td>right_only</td>\n",
       "    </tr>\n",
       "    <tr>\n",
       "      <th>453</th>\n",
       "      <td>252</td>\n",
       "      <td>NaN</td>\n",
       "      <td>9.0</td>\n",
       "      <td>right_only</td>\n",
       "    </tr>\n",
       "  </tbody>\n",
       "</table>\n",
       "<p>392 rows × 4 columns</p>\n",
       "</div>"
      ],
      "text/plain": [
       "     Customer ID  Food ID Week1  Food ID Week 2      _merge\n",
       "1             97            4.0             NaN   left_only\n",
       "2            658            1.0             NaN   left_only\n",
       "3            202            2.0             NaN   left_only\n",
       "6            213            8.0             NaN   left_only\n",
       "7            600            1.0             NaN   left_only\n",
       "..           ...            ...             ...         ...\n",
       "449          855            NaN             4.0  right_only\n",
       "450          559            NaN            10.0  right_only\n",
       "451          276            NaN             4.0  right_only\n",
       "452          556            NaN            10.0  right_only\n",
       "453          252            NaN             9.0  right_only\n",
       "\n",
       "[392 rows x 4 columns]"
      ]
     },
     "execution_count": 34,
     "metadata": {},
     "output_type": "execute_result"
    }
   ],
   "source": [
    "#ได้ลูกค้าที่มาซื้อแค่สัปดาห์แรก หรือ มาซื้อแค่สัปดาห์ที่สองแน้ววว \n",
    "merged[merged[\"_merge\"] != \"both\"]\n",
    "#or \n",
    "mask = merged[\"_merge\"].isin([\"left_only\",\"right_only\"])\n",
    "merged[mask]"
   ]
  },
  {
   "cell_type": "markdown",
   "id": "f7d0a65e",
   "metadata": {},
   "source": [
    "##### 10.7 Left Joins\n",
    "Both + left"
   ]
  },
  {
   "cell_type": "code",
   "execution_count": 35,
   "id": "3134d02a",
   "metadata": {},
   "outputs": [],
   "source": [
    "#primary key and foreign key relation \n",
    "week1 = pd.read_csv(\"Restaurant - Week 1 Sales.csv\")\n",
    "week2 = pd.read_csv(\"Restaurant - Week 2 Sales.csv\")\n",
    "customers = pd.read_csv(\"Restaurant - Customers.csv\")\n",
    "foods = pd.read_csv(\"Restaurant - Foods.csv\")"
   ]
  },
  {
   "cell_type": "code",
   "execution_count": 42,
   "id": "31a21636",
   "metadata": {},
   "outputs": [
    {
     "data": {
      "text/html": [
       "<div>\n",
       "<style scoped>\n",
       "    .dataframe tbody tr th:only-of-type {\n",
       "        vertical-align: middle;\n",
       "    }\n",
       "\n",
       "    .dataframe tbody tr th {\n",
       "        vertical-align: top;\n",
       "    }\n",
       "\n",
       "    .dataframe thead th {\n",
       "        text-align: right;\n",
       "    }\n",
       "</style>\n",
       "<table border=\"1\" class=\"dataframe\">\n",
       "  <thead>\n",
       "    <tr style=\"text-align: right;\">\n",
       "      <th></th>\n",
       "      <th>Customer ID</th>\n",
       "      <th>Food ID</th>\n",
       "    </tr>\n",
       "  </thead>\n",
       "  <tbody>\n",
       "    <tr>\n",
       "      <th>0</th>\n",
       "      <td>537</td>\n",
       "      <td>9</td>\n",
       "    </tr>\n",
       "    <tr>\n",
       "      <th>1</th>\n",
       "      <td>97</td>\n",
       "      <td>4</td>\n",
       "    </tr>\n",
       "    <tr>\n",
       "      <th>2</th>\n",
       "      <td>658</td>\n",
       "      <td>1</td>\n",
       "    </tr>\n",
       "  </tbody>\n",
       "</table>\n",
       "</div>"
      ],
      "text/plain": [
       "   Customer ID  Food ID\n",
       "0          537        9\n",
       "1           97        4\n",
       "2          658        1"
      ]
     },
     "execution_count": 42,
     "metadata": {},
     "output_type": "execute_result"
    }
   ],
   "source": [
    "week1.head(3)"
   ]
  },
  {
   "cell_type": "code",
   "execution_count": 61,
   "id": "e7f4c0fd",
   "metadata": {},
   "outputs": [
    {
     "data": {
      "text/html": [
       "<div>\n",
       "<style scoped>\n",
       "    .dataframe tbody tr th:only-of-type {\n",
       "        vertical-align: middle;\n",
       "    }\n",
       "\n",
       "    .dataframe tbody tr th {\n",
       "        vertical-align: top;\n",
       "    }\n",
       "\n",
       "    .dataframe thead th {\n",
       "        text-align: right;\n",
       "    }\n",
       "</style>\n",
       "<table border=\"1\" class=\"dataframe\">\n",
       "  <thead>\n",
       "    <tr style=\"text-align: right;\">\n",
       "      <th></th>\n",
       "      <th>Food ID</th>\n",
       "      <th>Food Item</th>\n",
       "      <th>Price</th>\n",
       "    </tr>\n",
       "  </thead>\n",
       "  <tbody>\n",
       "    <tr>\n",
       "      <th>0</th>\n",
       "      <td>1</td>\n",
       "      <td>Sushi</td>\n",
       "      <td>3.99</td>\n",
       "    </tr>\n",
       "    <tr>\n",
       "      <th>1</th>\n",
       "      <td>2</td>\n",
       "      <td>Burrito</td>\n",
       "      <td>9.99</td>\n",
       "    </tr>\n",
       "    <tr>\n",
       "      <th>2</th>\n",
       "      <td>3</td>\n",
       "      <td>Taco</td>\n",
       "      <td>2.99</td>\n",
       "    </tr>\n",
       "    <tr>\n",
       "      <th>3</th>\n",
       "      <td>4</td>\n",
       "      <td>Quesadilla</td>\n",
       "      <td>4.25</td>\n",
       "    </tr>\n",
       "    <tr>\n",
       "      <th>4</th>\n",
       "      <td>5</td>\n",
       "      <td>Pizza</td>\n",
       "      <td>2.49</td>\n",
       "    </tr>\n",
       "    <tr>\n",
       "      <th>5</th>\n",
       "      <td>6</td>\n",
       "      <td>Pasta</td>\n",
       "      <td>13.99</td>\n",
       "    </tr>\n",
       "    <tr>\n",
       "      <th>6</th>\n",
       "      <td>7</td>\n",
       "      <td>Steak</td>\n",
       "      <td>24.99</td>\n",
       "    </tr>\n",
       "    <tr>\n",
       "      <th>7</th>\n",
       "      <td>8</td>\n",
       "      <td>Salad</td>\n",
       "      <td>11.25</td>\n",
       "    </tr>\n",
       "    <tr>\n",
       "      <th>8</th>\n",
       "      <td>9</td>\n",
       "      <td>Donut</td>\n",
       "      <td>0.99</td>\n",
       "    </tr>\n",
       "    <tr>\n",
       "      <th>9</th>\n",
       "      <td>10</td>\n",
       "      <td>Drink</td>\n",
       "      <td>1.75</td>\n",
       "    </tr>\n",
       "  </tbody>\n",
       "</table>\n",
       "</div>"
      ],
      "text/plain": [
       "   Food ID   Food Item  Price\n",
       "0        1       Sushi   3.99\n",
       "1        2     Burrito   9.99\n",
       "2        3        Taco   2.99\n",
       "3        4  Quesadilla   4.25\n",
       "4        5       Pizza   2.49\n",
       "5        6       Pasta  13.99\n",
       "6        7       Steak  24.99\n",
       "7        8       Salad  11.25\n",
       "8        9       Donut   0.99\n",
       "9       10       Drink   1.75"
      ]
     },
     "execution_count": 61,
     "metadata": {},
     "output_type": "execute_result"
    }
   ],
   "source": [
    "foods"
   ]
  },
  {
   "cell_type": "code",
   "execution_count": 54,
   "id": "9853c223",
   "metadata": {},
   "outputs": [
    {
     "data": {
      "text/html": [
       "<div>\n",
       "<style scoped>\n",
       "    .dataframe tbody tr th:only-of-type {\n",
       "        vertical-align: middle;\n",
       "    }\n",
       "\n",
       "    .dataframe tbody tr th {\n",
       "        vertical-align: top;\n",
       "    }\n",
       "\n",
       "    .dataframe thead th {\n",
       "        text-align: right;\n",
       "    }\n",
       "</style>\n",
       "<table border=\"1\" class=\"dataframe\">\n",
       "  <thead>\n",
       "    <tr style=\"text-align: right;\">\n",
       "      <th></th>\n",
       "      <th>Customer ID</th>\n",
       "      <th>Food ID</th>\n",
       "      <th>Food Item</th>\n",
       "      <th>Price</th>\n",
       "      <th>_merge</th>\n",
       "    </tr>\n",
       "  </thead>\n",
       "  <tbody>\n",
       "    <tr>\n",
       "      <th>0</th>\n",
       "      <td>537</td>\n",
       "      <td>9</td>\n",
       "      <td>Donut</td>\n",
       "      <td>0.99</td>\n",
       "      <td>both</td>\n",
       "    </tr>\n",
       "    <tr>\n",
       "      <th>1</th>\n",
       "      <td>97</td>\n",
       "      <td>4</td>\n",
       "      <td>Quesadilla</td>\n",
       "      <td>4.25</td>\n",
       "      <td>both</td>\n",
       "    </tr>\n",
       "    <tr>\n",
       "      <th>2</th>\n",
       "      <td>658</td>\n",
       "      <td>1</td>\n",
       "      <td>Sushi</td>\n",
       "      <td>3.99</td>\n",
       "      <td>both</td>\n",
       "    </tr>\n",
       "  </tbody>\n",
       "</table>\n",
       "</div>"
      ],
      "text/plain": [
       "   Customer ID  Food ID   Food Item  Price _merge\n",
       "0          537        9       Donut   0.99   both\n",
       "1           97        4  Quesadilla   4.25   both\n",
       "2          658        1       Sushi   3.99   both"
      ]
     },
     "execution_count": 54,
     "metadata": {},
     "output_type": "execute_result"
    }
   ],
   "source": [
    "merged_week1_foods = pd.merge(week1,foods, how = \"left\" , on = \"Food ID\", indicator = True)\n",
    "merged_week1_foods.head(3)"
   ]
  },
  {
   "cell_type": "code",
   "execution_count": 63,
   "id": "a7dc4510",
   "metadata": {},
   "outputs": [
    {
     "data": {
      "text/html": [
       "<div>\n",
       "<style scoped>\n",
       "    .dataframe tbody tr th:only-of-type {\n",
       "        vertical-align: middle;\n",
       "    }\n",
       "\n",
       "    .dataframe tbody tr th {\n",
       "        vertical-align: top;\n",
       "    }\n",
       "\n",
       "    .dataframe thead th {\n",
       "        text-align: right;\n",
       "    }\n",
       "</style>\n",
       "<table border=\"1\" class=\"dataframe\">\n",
       "  <thead>\n",
       "    <tr style=\"text-align: right;\">\n",
       "      <th></th>\n",
       "      <th>Customer ID</th>\n",
       "      <th>Food ID</th>\n",
       "      <th>Food Item</th>\n",
       "      <th>Price</th>\n",
       "      <th>_merge</th>\n",
       "    </tr>\n",
       "  </thead>\n",
       "  <tbody>\n",
       "    <tr>\n",
       "      <th>0</th>\n",
       "      <td>658</td>\n",
       "      <td>1</td>\n",
       "      <td>Sushi</td>\n",
       "      <td>3.99</td>\n",
       "      <td>both</td>\n",
       "    </tr>\n",
       "    <tr>\n",
       "      <th>1</th>\n",
       "      <td>600</td>\n",
       "      <td>1</td>\n",
       "      <td>Sushi</td>\n",
       "      <td>3.99</td>\n",
       "      <td>both</td>\n",
       "    </tr>\n",
       "    <tr>\n",
       "      <th>2</th>\n",
       "      <td>155</td>\n",
       "      <td>1</td>\n",
       "      <td>Sushi</td>\n",
       "      <td>3.99</td>\n",
       "      <td>both</td>\n",
       "    </tr>\n",
       "    <tr>\n",
       "      <th>3</th>\n",
       "      <td>341</td>\n",
       "      <td>1</td>\n",
       "      <td>Sushi</td>\n",
       "      <td>3.99</td>\n",
       "      <td>both</td>\n",
       "    </tr>\n",
       "    <tr>\n",
       "      <th>4</th>\n",
       "      <td>20</td>\n",
       "      <td>1</td>\n",
       "      <td>Sushi</td>\n",
       "      <td>3.99</td>\n",
       "      <td>both</td>\n",
       "    </tr>\n",
       "    <tr>\n",
       "      <th>...</th>\n",
       "      <td>...</td>\n",
       "      <td>...</td>\n",
       "      <td>...</td>\n",
       "      <td>...</td>\n",
       "      <td>...</td>\n",
       "    </tr>\n",
       "    <tr>\n",
       "      <th>245</th>\n",
       "      <td>809</td>\n",
       "      <td>10</td>\n",
       "      <td>Drink</td>\n",
       "      <td>1.75</td>\n",
       "      <td>both</td>\n",
       "    </tr>\n",
       "    <tr>\n",
       "      <th>246</th>\n",
       "      <td>584</td>\n",
       "      <td>10</td>\n",
       "      <td>Drink</td>\n",
       "      <td>1.75</td>\n",
       "      <td>both</td>\n",
       "    </tr>\n",
       "    <tr>\n",
       "      <th>247</th>\n",
       "      <td>274</td>\n",
       "      <td>10</td>\n",
       "      <td>Drink</td>\n",
       "      <td>1.75</td>\n",
       "      <td>both</td>\n",
       "    </tr>\n",
       "    <tr>\n",
       "      <th>248</th>\n",
       "      <td>151</td>\n",
       "      <td>10</td>\n",
       "      <td>Drink</td>\n",
       "      <td>1.75</td>\n",
       "      <td>both</td>\n",
       "    </tr>\n",
       "    <tr>\n",
       "      <th>249</th>\n",
       "      <td>535</td>\n",
       "      <td>10</td>\n",
       "      <td>Drink</td>\n",
       "      <td>1.75</td>\n",
       "      <td>both</td>\n",
       "    </tr>\n",
       "  </tbody>\n",
       "</table>\n",
       "<p>250 rows × 5 columns</p>\n",
       "</div>"
      ],
      "text/plain": [
       "     Customer ID  Food ID Food Item  Price _merge\n",
       "0            658        1     Sushi   3.99   both\n",
       "1            600        1     Sushi   3.99   both\n",
       "2            155        1     Sushi   3.99   both\n",
       "3            341        1     Sushi   3.99   both\n",
       "4             20        1     Sushi   3.99   both\n",
       "..           ...      ...       ...    ...    ...\n",
       "245          809       10     Drink   1.75   both\n",
       "246          584       10     Drink   1.75   both\n",
       "247          274       10     Drink   1.75   both\n",
       "248          151       10     Drink   1.75   both\n",
       "249          535       10     Drink   1.75   both\n",
       "\n",
       "[250 rows x 5 columns]"
      ]
     },
     "execution_count": 63,
     "metadata": {},
     "output_type": "execute_result"
    }
   ],
   "source": [
    "merged_week1_foods = pd.merge(week1,foods, how = \"left\" , on = \"Food ID\", indicator = True,sort = True)\n",
    "## sort = True ; means sort the matching column \"Food ID\" in ascending order \n",
    "merged_week1_foods"
   ]
  },
  {
   "cell_type": "markdown",
   "id": "0898773d",
   "metadata": {},
   "source": [
    "##### 10.7 The left_on and right_on Parameters\n",
    "- เมื่อ ชื่อ column ของ 2 dataframes มีชื่อไม่เหมือน  จะใช้ on ไม่ได้ \n",
    "- จะต้องระบุว่าจะ join ที่ \n",
    "    - column ไหน ของ left dataframe และ \n",
    "    - column ไหน ของ right dataframe"
   ]
  },
  {
   "cell_type": "code",
   "execution_count": 64,
   "id": "3d6430b1",
   "metadata": {},
   "outputs": [],
   "source": [
    "#primary key and foreign key relation \n",
    "week1 = pd.read_csv(\"Restaurant - Week 1 Sales.csv\")\n",
    "week2 = pd.read_csv(\"Restaurant - Week 2 Sales.csv\")\n",
    "customers = pd.read_csv(\"Restaurant - Customers.csv\")\n",
    "foods = pd.read_csv(\"Restaurant - Foods.csv\")"
   ]
  },
  {
   "cell_type": "code",
   "execution_count": 65,
   "id": "5bae0418",
   "metadata": {},
   "outputs": [
    {
     "data": {
      "text/html": [
       "<div>\n",
       "<style scoped>\n",
       "    .dataframe tbody tr th:only-of-type {\n",
       "        vertical-align: middle;\n",
       "    }\n",
       "\n",
       "    .dataframe tbody tr th {\n",
       "        vertical-align: top;\n",
       "    }\n",
       "\n",
       "    .dataframe thead th {\n",
       "        text-align: right;\n",
       "    }\n",
       "</style>\n",
       "<table border=\"1\" class=\"dataframe\">\n",
       "  <thead>\n",
       "    <tr style=\"text-align: right;\">\n",
       "      <th></th>\n",
       "      <th>Customer ID</th>\n",
       "      <th>Food ID</th>\n",
       "    </tr>\n",
       "  </thead>\n",
       "  <tbody>\n",
       "    <tr>\n",
       "      <th>0</th>\n",
       "      <td>688</td>\n",
       "      <td>10</td>\n",
       "    </tr>\n",
       "    <tr>\n",
       "      <th>1</th>\n",
       "      <td>813</td>\n",
       "      <td>7</td>\n",
       "    </tr>\n",
       "    <tr>\n",
       "      <th>2</th>\n",
       "      <td>495</td>\n",
       "      <td>10</td>\n",
       "    </tr>\n",
       "  </tbody>\n",
       "</table>\n",
       "</div>"
      ],
      "text/plain": [
       "   Customer ID  Food ID\n",
       "0          688       10\n",
       "1          813        7\n",
       "2          495       10"
      ]
     },
     "execution_count": 65,
     "metadata": {},
     "output_type": "execute_result"
    }
   ],
   "source": [
    "week2.head(3)"
   ]
  },
  {
   "cell_type": "code",
   "execution_count": 66,
   "id": "4b253bbf",
   "metadata": {},
   "outputs": [
    {
     "data": {
      "text/html": [
       "<div>\n",
       "<style scoped>\n",
       "    .dataframe tbody tr th:only-of-type {\n",
       "        vertical-align: middle;\n",
       "    }\n",
       "\n",
       "    .dataframe tbody tr th {\n",
       "        vertical-align: top;\n",
       "    }\n",
       "\n",
       "    .dataframe thead th {\n",
       "        text-align: right;\n",
       "    }\n",
       "</style>\n",
       "<table border=\"1\" class=\"dataframe\">\n",
       "  <thead>\n",
       "    <tr style=\"text-align: right;\">\n",
       "      <th></th>\n",
       "      <th>ID</th>\n",
       "      <th>First Name</th>\n",
       "      <th>Last Name</th>\n",
       "      <th>Gender</th>\n",
       "      <th>Company</th>\n",
       "      <th>Occupation</th>\n",
       "    </tr>\n",
       "  </thead>\n",
       "  <tbody>\n",
       "    <tr>\n",
       "      <th>0</th>\n",
       "      <td>1</td>\n",
       "      <td>Joseph</td>\n",
       "      <td>Perkins</td>\n",
       "      <td>Male</td>\n",
       "      <td>Dynazzy</td>\n",
       "      <td>Community Outreach Specialist</td>\n",
       "    </tr>\n",
       "    <tr>\n",
       "      <th>1</th>\n",
       "      <td>2</td>\n",
       "      <td>Jennifer</td>\n",
       "      <td>Alvarez</td>\n",
       "      <td>Female</td>\n",
       "      <td>DabZ</td>\n",
       "      <td>Senior Quality Engineer</td>\n",
       "    </tr>\n",
       "    <tr>\n",
       "      <th>2</th>\n",
       "      <td>3</td>\n",
       "      <td>Roger</td>\n",
       "      <td>Black</td>\n",
       "      <td>Male</td>\n",
       "      <td>Tagfeed</td>\n",
       "      <td>Account Executive</td>\n",
       "    </tr>\n",
       "  </tbody>\n",
       "</table>\n",
       "</div>"
      ],
      "text/plain": [
       "   ID First Name Last Name  Gender  Company                     Occupation\n",
       "0   1     Joseph   Perkins    Male  Dynazzy  Community Outreach Specialist\n",
       "1   2   Jennifer   Alvarez  Female     DabZ        Senior Quality Engineer\n",
       "2   3      Roger     Black    Male  Tagfeed              Account Executive"
      ]
     },
     "execution_count": 66,
     "metadata": {},
     "output_type": "execute_result"
    }
   ],
   "source": [
    "customers.head(3)"
   ]
  },
  {
   "cell_type": "code",
   "execution_count": 75,
   "id": "9d11c44d",
   "metadata": {},
   "outputs": [
    {
     "data": {
      "text/html": [
       "<div>\n",
       "<style scoped>\n",
       "    .dataframe tbody tr th:only-of-type {\n",
       "        vertical-align: middle;\n",
       "    }\n",
       "\n",
       "    .dataframe tbody tr th {\n",
       "        vertical-align: top;\n",
       "    }\n",
       "\n",
       "    .dataframe thead th {\n",
       "        text-align: right;\n",
       "    }\n",
       "</style>\n",
       "<table border=\"1\" class=\"dataframe\">\n",
       "  <thead>\n",
       "    <tr style=\"text-align: right;\">\n",
       "      <th></th>\n",
       "      <th>Customer ID</th>\n",
       "      <th>Food ID</th>\n",
       "      <th>ID</th>\n",
       "      <th>First Name</th>\n",
       "      <th>Last Name</th>\n",
       "      <th>Gender</th>\n",
       "      <th>Company</th>\n",
       "      <th>Occupation</th>\n",
       "    </tr>\n",
       "  </thead>\n",
       "  <tbody>\n",
       "    <tr>\n",
       "      <th>0</th>\n",
       "      <td>8</td>\n",
       "      <td>6</td>\n",
       "      <td>8</td>\n",
       "      <td>Frances</td>\n",
       "      <td>Adams</td>\n",
       "      <td>Female</td>\n",
       "      <td>Dabshots</td>\n",
       "      <td>Developer III</td>\n",
       "    </tr>\n",
       "    <tr>\n",
       "      <th>1</th>\n",
       "      <td>13</td>\n",
       "      <td>2</td>\n",
       "      <td>13</td>\n",
       "      <td>Ruth</td>\n",
       "      <td>Alvarez</td>\n",
       "      <td>Female</td>\n",
       "      <td>Twitterlist</td>\n",
       "      <td>Mechanical Systems Engineer</td>\n",
       "    </tr>\n",
       "    <tr>\n",
       "      <th>2</th>\n",
       "      <td>21</td>\n",
       "      <td>4</td>\n",
       "      <td>21</td>\n",
       "      <td>Albert</td>\n",
       "      <td>Burns</td>\n",
       "      <td>Male</td>\n",
       "      <td>Rhynoodle</td>\n",
       "      <td>Junior Executive</td>\n",
       "    </tr>\n",
       "    <tr>\n",
       "      <th>3</th>\n",
       "      <td>24</td>\n",
       "      <td>8</td>\n",
       "      <td>24</td>\n",
       "      <td>Donna</td>\n",
       "      <td>Thomas</td>\n",
       "      <td>Female</td>\n",
       "      <td>Jaxbean</td>\n",
       "      <td>Chief Design Engineer</td>\n",
       "    </tr>\n",
       "    <tr>\n",
       "      <th>4</th>\n",
       "      <td>27</td>\n",
       "      <td>4</td>\n",
       "      <td>27</td>\n",
       "      <td>Jessica</td>\n",
       "      <td>Bennett</td>\n",
       "      <td>Female</td>\n",
       "      <td>Twitternation</td>\n",
       "      <td>Account Executive</td>\n",
       "    </tr>\n",
       "    <tr>\n",
       "      <th>...</th>\n",
       "      <td>...</td>\n",
       "      <td>...</td>\n",
       "      <td>...</td>\n",
       "      <td>...</td>\n",
       "      <td>...</td>\n",
       "      <td>...</td>\n",
       "      <td>...</td>\n",
       "      <td>...</td>\n",
       "    </tr>\n",
       "    <tr>\n",
       "      <th>245</th>\n",
       "      <td>968</td>\n",
       "      <td>4</td>\n",
       "      <td>968</td>\n",
       "      <td>Teresa</td>\n",
       "      <td>Reynolds</td>\n",
       "      <td>Female</td>\n",
       "      <td>Flashdog</td>\n",
       "      <td>Budget/Accounting Analyst IV</td>\n",
       "    </tr>\n",
       "    <tr>\n",
       "      <th>246</th>\n",
       "      <td>969</td>\n",
       "      <td>3</td>\n",
       "      <td>969</td>\n",
       "      <td>Marie</td>\n",
       "      <td>Ortiz</td>\n",
       "      <td>Female</td>\n",
       "      <td>Meejo</td>\n",
       "      <td>Research Associate</td>\n",
       "    </tr>\n",
       "    <tr>\n",
       "      <th>247</th>\n",
       "      <td>977</td>\n",
       "      <td>7</td>\n",
       "      <td>977</td>\n",
       "      <td>Cynthia</td>\n",
       "      <td>Dixon</td>\n",
       "      <td>Female</td>\n",
       "      <td>Skalith</td>\n",
       "      <td>Automation Specialist II</td>\n",
       "    </tr>\n",
       "    <tr>\n",
       "      <th>248</th>\n",
       "      <td>994</td>\n",
       "      <td>2</td>\n",
       "      <td>994</td>\n",
       "      <td>Clarence</td>\n",
       "      <td>Morgan</td>\n",
       "      <td>Male</td>\n",
       "      <td>Edgewire</td>\n",
       "      <td>Geologist II</td>\n",
       "    </tr>\n",
       "    <tr>\n",
       "      <th>249</th>\n",
       "      <td>996</td>\n",
       "      <td>10</td>\n",
       "      <td>996</td>\n",
       "      <td>Debra</td>\n",
       "      <td>Garcia</td>\n",
       "      <td>Female</td>\n",
       "      <td>Dazzlesphere</td>\n",
       "      <td>Structural Engineer</td>\n",
       "    </tr>\n",
       "  </tbody>\n",
       "</table>\n",
       "<p>250 rows × 8 columns</p>\n",
       "</div>"
      ],
      "text/plain": [
       "     Customer ID  Food ID   ID First Name Last Name  Gender        Company  \\\n",
       "0              8        6    8    Frances     Adams  Female       Dabshots   \n",
       "1             13        2   13       Ruth   Alvarez  Female    Twitterlist   \n",
       "2             21        4   21     Albert     Burns    Male      Rhynoodle   \n",
       "3             24        8   24      Donna    Thomas  Female        Jaxbean   \n",
       "4             27        4   27    Jessica   Bennett  Female  Twitternation   \n",
       "..           ...      ...  ...        ...       ...     ...            ...   \n",
       "245          968        4  968     Teresa  Reynolds  Female       Flashdog   \n",
       "246          969        3  969      Marie     Ortiz  Female          Meejo   \n",
       "247          977        7  977    Cynthia     Dixon  Female        Skalith   \n",
       "248          994        2  994   Clarence    Morgan    Male       Edgewire   \n",
       "249          996       10  996      Debra    Garcia  Female   Dazzlesphere   \n",
       "\n",
       "                       Occupation  \n",
       "0                   Developer III  \n",
       "1     Mechanical Systems Engineer  \n",
       "2                Junior Executive  \n",
       "3           Chief Design Engineer  \n",
       "4               Account Executive  \n",
       "..                            ...  \n",
       "245  Budget/Accounting Analyst IV  \n",
       "246            Research Associate  \n",
       "247      Automation Specialist II  \n",
       "248                  Geologist II  \n",
       "249           Structural Engineer  \n",
       "\n",
       "[250 rows x 8 columns]"
      ]
     },
     "execution_count": 75,
     "metadata": {},
     "output_type": "execute_result"
    }
   ],
   "source": [
    "merged_week2_customers = pd.merge(week2,customers, \n",
    "                                  how = \"left\",\n",
    "                                  left_on = \"Customer ID\",\n",
    "                                  right_on = \"ID\",\n",
    "                                  sort = True)\n",
    "\n",
    "## matching columns เกิดขึ้น คือ \n",
    "    ## ทั้ง \"Customer ID\" จาก week2 \n",
    "    ## และ \"ID\"         จาก customers\n",
    "merged_week2_customers"
   ]
  },
  {
   "cell_type": "code",
   "execution_count": 74,
   "id": "dbf9d807",
   "metadata": {},
   "outputs": [
    {
     "data": {
      "text/html": [
       "<div>\n",
       "<style scoped>\n",
       "    .dataframe tbody tr th:only-of-type {\n",
       "        vertical-align: middle;\n",
       "    }\n",
       "\n",
       "    .dataframe tbody tr th {\n",
       "        vertical-align: top;\n",
       "    }\n",
       "\n",
       "    .dataframe thead th {\n",
       "        text-align: right;\n",
       "    }\n",
       "</style>\n",
       "<table border=\"1\" class=\"dataframe\">\n",
       "  <thead>\n",
       "    <tr style=\"text-align: right;\">\n",
       "      <th></th>\n",
       "      <th>Customer ID</th>\n",
       "      <th>Food ID</th>\n",
       "      <th>First Name</th>\n",
       "      <th>Last Name</th>\n",
       "      <th>Gender</th>\n",
       "      <th>Company</th>\n",
       "      <th>Occupation</th>\n",
       "    </tr>\n",
       "  </thead>\n",
       "  <tbody>\n",
       "    <tr>\n",
       "      <th>0</th>\n",
       "      <td>8</td>\n",
       "      <td>6</td>\n",
       "      <td>Frances</td>\n",
       "      <td>Adams</td>\n",
       "      <td>Female</td>\n",
       "      <td>Dabshots</td>\n",
       "      <td>Developer III</td>\n",
       "    </tr>\n",
       "    <tr>\n",
       "      <th>1</th>\n",
       "      <td>13</td>\n",
       "      <td>2</td>\n",
       "      <td>Ruth</td>\n",
       "      <td>Alvarez</td>\n",
       "      <td>Female</td>\n",
       "      <td>Twitterlist</td>\n",
       "      <td>Mechanical Systems Engineer</td>\n",
       "    </tr>\n",
       "    <tr>\n",
       "      <th>2</th>\n",
       "      <td>21</td>\n",
       "      <td>4</td>\n",
       "      <td>Albert</td>\n",
       "      <td>Burns</td>\n",
       "      <td>Male</td>\n",
       "      <td>Rhynoodle</td>\n",
       "      <td>Junior Executive</td>\n",
       "    </tr>\n",
       "    <tr>\n",
       "      <th>3</th>\n",
       "      <td>24</td>\n",
       "      <td>8</td>\n",
       "      <td>Donna</td>\n",
       "      <td>Thomas</td>\n",
       "      <td>Female</td>\n",
       "      <td>Jaxbean</td>\n",
       "      <td>Chief Design Engineer</td>\n",
       "    </tr>\n",
       "    <tr>\n",
       "      <th>4</th>\n",
       "      <td>27</td>\n",
       "      <td>4</td>\n",
       "      <td>Jessica</td>\n",
       "      <td>Bennett</td>\n",
       "      <td>Female</td>\n",
       "      <td>Twitternation</td>\n",
       "      <td>Account Executive</td>\n",
       "    </tr>\n",
       "    <tr>\n",
       "      <th>...</th>\n",
       "      <td>...</td>\n",
       "      <td>...</td>\n",
       "      <td>...</td>\n",
       "      <td>...</td>\n",
       "      <td>...</td>\n",
       "      <td>...</td>\n",
       "      <td>...</td>\n",
       "    </tr>\n",
       "    <tr>\n",
       "      <th>245</th>\n",
       "      <td>968</td>\n",
       "      <td>4</td>\n",
       "      <td>Teresa</td>\n",
       "      <td>Reynolds</td>\n",
       "      <td>Female</td>\n",
       "      <td>Flashdog</td>\n",
       "      <td>Budget/Accounting Analyst IV</td>\n",
       "    </tr>\n",
       "    <tr>\n",
       "      <th>246</th>\n",
       "      <td>969</td>\n",
       "      <td>3</td>\n",
       "      <td>Marie</td>\n",
       "      <td>Ortiz</td>\n",
       "      <td>Female</td>\n",
       "      <td>Meejo</td>\n",
       "      <td>Research Associate</td>\n",
       "    </tr>\n",
       "    <tr>\n",
       "      <th>247</th>\n",
       "      <td>977</td>\n",
       "      <td>7</td>\n",
       "      <td>Cynthia</td>\n",
       "      <td>Dixon</td>\n",
       "      <td>Female</td>\n",
       "      <td>Skalith</td>\n",
       "      <td>Automation Specialist II</td>\n",
       "    </tr>\n",
       "    <tr>\n",
       "      <th>248</th>\n",
       "      <td>994</td>\n",
       "      <td>2</td>\n",
       "      <td>Clarence</td>\n",
       "      <td>Morgan</td>\n",
       "      <td>Male</td>\n",
       "      <td>Edgewire</td>\n",
       "      <td>Geologist II</td>\n",
       "    </tr>\n",
       "    <tr>\n",
       "      <th>249</th>\n",
       "      <td>996</td>\n",
       "      <td>10</td>\n",
       "      <td>Debra</td>\n",
       "      <td>Garcia</td>\n",
       "      <td>Female</td>\n",
       "      <td>Dazzlesphere</td>\n",
       "      <td>Structural Engineer</td>\n",
       "    </tr>\n",
       "  </tbody>\n",
       "</table>\n",
       "<p>250 rows × 7 columns</p>\n",
       "</div>"
      ],
      "text/plain": [
       "     Customer ID  Food ID First Name Last Name  Gender        Company  \\\n",
       "0              8        6    Frances     Adams  Female       Dabshots   \n",
       "1             13        2       Ruth   Alvarez  Female    Twitterlist   \n",
       "2             21        4     Albert     Burns    Male      Rhynoodle   \n",
       "3             24        8      Donna    Thomas  Female        Jaxbean   \n",
       "4             27        4    Jessica   Bennett  Female  Twitternation   \n",
       "..           ...      ...        ...       ...     ...            ...   \n",
       "245          968        4     Teresa  Reynolds  Female       Flashdog   \n",
       "246          969        3      Marie     Ortiz  Female          Meejo   \n",
       "247          977        7    Cynthia     Dixon  Female        Skalith   \n",
       "248          994        2   Clarence    Morgan    Male       Edgewire   \n",
       "249          996       10      Debra    Garcia  Female   Dazzlesphere   \n",
       "\n",
       "                       Occupation  \n",
       "0                   Developer III  \n",
       "1     Mechanical Systems Engineer  \n",
       "2                Junior Executive  \n",
       "3           Chief Design Engineer  \n",
       "4               Account Executive  \n",
       "..                            ...  \n",
       "245  Budget/Accounting Analyst IV  \n",
       "246            Research Associate  \n",
       "247      Automation Specialist II  \n",
       "248                  Geologist II  \n",
       "249           Structural Engineer  \n",
       "\n",
       "[250 rows x 7 columns]"
      ]
     },
     "execution_count": 74,
     "metadata": {},
     "output_type": "execute_result"
    }
   ],
   "source": [
    "merged_week2_customers = pd.merge(week2,customers, \n",
    "                                  how = \"left\",\n",
    "                                  left_on = \"Customer ID\",\n",
    "                                  right_on = \"ID\",\n",
    "                                  sort = True).drop(\"ID\", axis = \"columns\")\n",
    "merged_week2_customers"
   ]
  },
  {
   "cell_type": "markdown",
   "id": "b2d04a40",
   "metadata": {},
   "source": [
    "##### 10.8 Merging by Indexes with the left_index and right_index Parameters"
   ]
  },
  {
   "cell_type": "code",
   "execution_count": 86,
   "id": "bead28e8",
   "metadata": {},
   "outputs": [],
   "source": [
    "#primary key and foreign key relation \n",
    "week1 = pd.read_csv(\"Restaurant - Week 1 Sales.csv\")\n",
    "week2 = pd.read_csv(\"Restaurant - Week 2 Sales.csv\")\n",
    "customers = pd.read_csv(\"Restaurant - Customers.csv\")\n",
    "foods = pd.read_csv(\"Restaurant - Foods.csv\")"
   ]
  },
  {
   "cell_type": "code",
   "execution_count": 87,
   "id": "d10f93e4",
   "metadata": {},
   "outputs": [
    {
     "data": {
      "text/html": [
       "<div>\n",
       "<style scoped>\n",
       "    .dataframe tbody tr th:only-of-type {\n",
       "        vertical-align: middle;\n",
       "    }\n",
       "\n",
       "    .dataframe tbody tr th {\n",
       "        vertical-align: top;\n",
       "    }\n",
       "\n",
       "    .dataframe thead th {\n",
       "        text-align: right;\n",
       "    }\n",
       "</style>\n",
       "<table border=\"1\" class=\"dataframe\">\n",
       "  <thead>\n",
       "    <tr style=\"text-align: right;\">\n",
       "      <th></th>\n",
       "      <th>ID</th>\n",
       "      <th>First Name</th>\n",
       "      <th>Last Name</th>\n",
       "      <th>Gender</th>\n",
       "      <th>Company</th>\n",
       "      <th>Occupation</th>\n",
       "    </tr>\n",
       "  </thead>\n",
       "  <tbody>\n",
       "    <tr>\n",
       "      <th>0</th>\n",
       "      <td>1</td>\n",
       "      <td>Joseph</td>\n",
       "      <td>Perkins</td>\n",
       "      <td>Male</td>\n",
       "      <td>Dynazzy</td>\n",
       "      <td>Community Outreach Specialist</td>\n",
       "    </tr>\n",
       "    <tr>\n",
       "      <th>1</th>\n",
       "      <td>2</td>\n",
       "      <td>Jennifer</td>\n",
       "      <td>Alvarez</td>\n",
       "      <td>Female</td>\n",
       "      <td>DabZ</td>\n",
       "      <td>Senior Quality Engineer</td>\n",
       "    </tr>\n",
       "    <tr>\n",
       "      <th>2</th>\n",
       "      <td>3</td>\n",
       "      <td>Roger</td>\n",
       "      <td>Black</td>\n",
       "      <td>Male</td>\n",
       "      <td>Tagfeed</td>\n",
       "      <td>Account Executive</td>\n",
       "    </tr>\n",
       "    <tr>\n",
       "      <th>3</th>\n",
       "      <td>4</td>\n",
       "      <td>Steven</td>\n",
       "      <td>Evans</td>\n",
       "      <td>Male</td>\n",
       "      <td>Fatz</td>\n",
       "      <td>Registered Nurse</td>\n",
       "    </tr>\n",
       "    <tr>\n",
       "      <th>4</th>\n",
       "      <td>5</td>\n",
       "      <td>Judy</td>\n",
       "      <td>Morrison</td>\n",
       "      <td>Female</td>\n",
       "      <td>Demivee</td>\n",
       "      <td>Legal Assistant</td>\n",
       "    </tr>\n",
       "  </tbody>\n",
       "</table>\n",
       "</div>"
      ],
      "text/plain": [
       "   ID First Name Last Name  Gender  Company                     Occupation\n",
       "0   1     Joseph   Perkins    Male  Dynazzy  Community Outreach Specialist\n",
       "1   2   Jennifer   Alvarez  Female     DabZ        Senior Quality Engineer\n",
       "2   3      Roger     Black    Male  Tagfeed              Account Executive\n",
       "3   4     Steven     Evans    Male     Fatz               Registered Nurse\n",
       "4   5       Judy  Morrison  Female  Demivee                Legal Assistant"
      ]
     },
     "execution_count": 87,
     "metadata": {},
     "output_type": "execute_result"
    }
   ],
   "source": [
    "customers.head()"
   ]
  },
  {
   "cell_type": "code",
   "execution_count": 88,
   "id": "1929054d",
   "metadata": {},
   "outputs": [
    {
     "data": {
      "text/html": [
       "<div>\n",
       "<style scoped>\n",
       "    .dataframe tbody tr th:only-of-type {\n",
       "        vertical-align: middle;\n",
       "    }\n",
       "\n",
       "    .dataframe tbody tr th {\n",
       "        vertical-align: top;\n",
       "    }\n",
       "\n",
       "    .dataframe thead th {\n",
       "        text-align: right;\n",
       "    }\n",
       "</style>\n",
       "<table border=\"1\" class=\"dataframe\">\n",
       "  <thead>\n",
       "    <tr style=\"text-align: right;\">\n",
       "      <th></th>\n",
       "      <th>First Name</th>\n",
       "      <th>Last Name</th>\n",
       "      <th>Gender</th>\n",
       "      <th>Company</th>\n",
       "      <th>Occupation</th>\n",
       "    </tr>\n",
       "    <tr>\n",
       "      <th>ID</th>\n",
       "      <th></th>\n",
       "      <th></th>\n",
       "      <th></th>\n",
       "      <th></th>\n",
       "      <th></th>\n",
       "    </tr>\n",
       "  </thead>\n",
       "  <tbody>\n",
       "    <tr>\n",
       "      <th>1</th>\n",
       "      <td>Joseph</td>\n",
       "      <td>Perkins</td>\n",
       "      <td>Male</td>\n",
       "      <td>Dynazzy</td>\n",
       "      <td>Community Outreach Specialist</td>\n",
       "    </tr>\n",
       "    <tr>\n",
       "      <th>2</th>\n",
       "      <td>Jennifer</td>\n",
       "      <td>Alvarez</td>\n",
       "      <td>Female</td>\n",
       "      <td>DabZ</td>\n",
       "      <td>Senior Quality Engineer</td>\n",
       "    </tr>\n",
       "    <tr>\n",
       "      <th>3</th>\n",
       "      <td>Roger</td>\n",
       "      <td>Black</td>\n",
       "      <td>Male</td>\n",
       "      <td>Tagfeed</td>\n",
       "      <td>Account Executive</td>\n",
       "    </tr>\n",
       "  </tbody>\n",
       "</table>\n",
       "</div>"
      ],
      "text/plain": [
       "   First Name Last Name  Gender  Company                     Occupation\n",
       "ID                                                                     \n",
       "1      Joseph   Perkins    Male  Dynazzy  Community Outreach Specialist\n",
       "2    Jennifer   Alvarez  Female     DabZ        Senior Quality Engineer\n",
       "3       Roger     Black    Male  Tagfeed              Account Executive"
      ]
     },
     "execution_count": 88,
     "metadata": {},
     "output_type": "execute_result"
    }
   ],
   "source": [
    "customers = pd.read_csv(\"Restaurant - Customers.csv\", index_col = \"ID\")\n",
    "customers.head(3)"
   ]
  },
  {
   "cell_type": "code",
   "execution_count": 105,
   "id": "d4808a11",
   "metadata": {},
   "outputs": [
    {
     "data": {
      "text/html": [
       "<div>\n",
       "<style scoped>\n",
       "    .dataframe tbody tr th:only-of-type {\n",
       "        vertical-align: middle;\n",
       "    }\n",
       "\n",
       "    .dataframe tbody tr th {\n",
       "        vertical-align: top;\n",
       "    }\n",
       "\n",
       "    .dataframe thead th {\n",
       "        text-align: right;\n",
       "    }\n",
       "</style>\n",
       "<table border=\"1\" class=\"dataframe\">\n",
       "  <thead>\n",
       "    <tr style=\"text-align: right;\">\n",
       "      <th></th>\n",
       "      <th>Food Item</th>\n",
       "      <th>Price</th>\n",
       "    </tr>\n",
       "    <tr>\n",
       "      <th>Food ID</th>\n",
       "      <th></th>\n",
       "      <th></th>\n",
       "    </tr>\n",
       "  </thead>\n",
       "  <tbody>\n",
       "    <tr>\n",
       "      <th>1</th>\n",
       "      <td>Sushi</td>\n",
       "      <td>3.99</td>\n",
       "    </tr>\n",
       "    <tr>\n",
       "      <th>2</th>\n",
       "      <td>Burrito</td>\n",
       "      <td>9.99</td>\n",
       "    </tr>\n",
       "  </tbody>\n",
       "</table>\n",
       "</div>"
      ],
      "text/plain": [
       "        Food Item  Price\n",
       "Food ID                 \n",
       "1           Sushi   3.99\n",
       "2         Burrito   9.99"
      ]
     },
     "execution_count": 105,
     "metadata": {},
     "output_type": "execute_result"
    }
   ],
   "source": [
    "foods = pd.read_csv(\"Restaurant - Foods.csv\", index_col = \"Food ID\")\n",
    "foods.head(2)"
   ]
  },
  {
   "cell_type": "code",
   "execution_count": 106,
   "id": "37c08dc7",
   "metadata": {},
   "outputs": [
    {
     "data": {
      "text/html": [
       "<div>\n",
       "<style scoped>\n",
       "    .dataframe tbody tr th:only-of-type {\n",
       "        vertical-align: middle;\n",
       "    }\n",
       "\n",
       "    .dataframe tbody tr th {\n",
       "        vertical-align: top;\n",
       "    }\n",
       "\n",
       "    .dataframe thead th {\n",
       "        text-align: right;\n",
       "    }\n",
       "</style>\n",
       "<table border=\"1\" class=\"dataframe\">\n",
       "  <thead>\n",
       "    <tr style=\"text-align: right;\">\n",
       "      <th></th>\n",
       "      <th>Customer ID</th>\n",
       "      <th>Food ID</th>\n",
       "    </tr>\n",
       "  </thead>\n",
       "  <tbody>\n",
       "    <tr>\n",
       "      <th>0</th>\n",
       "      <td>537</td>\n",
       "      <td>9</td>\n",
       "    </tr>\n",
       "    <tr>\n",
       "      <th>1</th>\n",
       "      <td>97</td>\n",
       "      <td>4</td>\n",
       "    </tr>\n",
       "  </tbody>\n",
       "</table>\n",
       "</div>"
      ],
      "text/plain": [
       "   Customer ID  Food ID\n",
       "0          537        9\n",
       "1           97        4"
      ]
     },
     "execution_count": 106,
     "metadata": {},
     "output_type": "execute_result"
    }
   ],
   "source": [
    "week1.head(2)"
   ]
  },
  {
   "cell_type": "code",
   "execution_count": 143,
   "id": "2b113b1a",
   "metadata": {},
   "outputs": [
    {
     "data": {
      "text/html": [
       "<div>\n",
       "<style scoped>\n",
       "    .dataframe tbody tr th:only-of-type {\n",
       "        vertical-align: middle;\n",
       "    }\n",
       "\n",
       "    .dataframe tbody tr th {\n",
       "        vertical-align: top;\n",
       "    }\n",
       "\n",
       "    .dataframe thead th {\n",
       "        text-align: right;\n",
       "    }\n",
       "</style>\n",
       "<table border=\"1\" class=\"dataframe\">\n",
       "  <thead>\n",
       "    <tr style=\"text-align: right;\">\n",
       "      <th></th>\n",
       "      <th>Customer ID</th>\n",
       "      <th>Food ID</th>\n",
       "      <th>ID</th>\n",
       "      <th>First Name</th>\n",
       "      <th>Last Name</th>\n",
       "      <th>Gender</th>\n",
       "      <th>Company</th>\n",
       "      <th>Occupation</th>\n",
       "    </tr>\n",
       "  </thead>\n",
       "  <tbody>\n",
       "    <tr>\n",
       "      <th>96</th>\n",
       "      <td>3</td>\n",
       "      <td>2</td>\n",
       "      <td>4.0</td>\n",
       "      <td>Steven</td>\n",
       "      <td>Evans</td>\n",
       "      <td>Male</td>\n",
       "      <td>Fatz</td>\n",
       "      <td>Registered Nurse</td>\n",
       "    </tr>\n",
       "    <tr>\n",
       "      <th>143</th>\n",
       "      <td>10</td>\n",
       "      <td>2</td>\n",
       "      <td>11.0</td>\n",
       "      <td>Michael</td>\n",
       "      <td>Reynolds</td>\n",
       "      <td>Male</td>\n",
       "      <td>Meevee</td>\n",
       "      <td>Dental Hygienist</td>\n",
       "    </tr>\n",
       "    <tr>\n",
       "      <th>31</th>\n",
       "      <td>20</td>\n",
       "      <td>1</td>\n",
       "      <td>21.0</td>\n",
       "      <td>Albert</td>\n",
       "      <td>Burns</td>\n",
       "      <td>Male</td>\n",
       "      <td>Rhynoodle</td>\n",
       "      <td>Junior Executive</td>\n",
       "    </tr>\n",
       "  </tbody>\n",
       "</table>\n",
       "</div>"
      ],
      "text/plain": [
       "     Customer ID  Food ID    ID First Name Last Name Gender    Company  \\\n",
       "96             3        2   4.0     Steven     Evans   Male       Fatz   \n",
       "143           10        2  11.0    Michael  Reynolds   Male     Meevee   \n",
       "31            20        1  21.0     Albert     Burns   Male  Rhynoodle   \n",
       "\n",
       "           Occupation  \n",
       "96   Registered Nurse  \n",
       "143  Dental Hygienist  \n",
       "31   Junior Executive  "
      ]
     },
     "execution_count": 143,
     "metadata": {},
     "output_type": "execute_result"
    }
   ],
   "source": [
    "#ต้องการจะ join; week1 ที่มี \"Customer ID\" column กับ \"ID\" index เข้าด้วยกัน โดย left join\n",
    "# left_on = \"Customer ID\",\n",
    "# right_index = True\n",
    "\n",
    "## one advantage ในการใช้ index ในการ merge คือ มันจะ remove column ที่มาจาก Index ให้เรา  \n",
    "## ซึ่ง ปกติต้องใช้ .drop() ลบเอง ->> ดูข้อ 10.7\n",
    "sales_on_week1 = week1.merge(customers, how= \"left\", left_on=\"Customer ID\", right_index= True, sort = True)\n",
    "# or \n",
    "# sales_on_week1 = pd.merge(week1, customers, how= \"left\", left_on=\"Customer ID\", right_index= True, sort = True)\n",
    "# เหมือนกัน \n",
    "sales_on_week1.head(3)"
   ]
  },
  {
   "cell_type": "code",
   "execution_count": 142,
   "id": "e89d6d18",
   "metadata": {},
   "outputs": [
    {
     "data": {
      "text/html": [
       "<div>\n",
       "<style scoped>\n",
       "    .dataframe tbody tr th:only-of-type {\n",
       "        vertical-align: middle;\n",
       "    }\n",
       "\n",
       "    .dataframe tbody tr th {\n",
       "        vertical-align: top;\n",
       "    }\n",
       "\n",
       "    .dataframe thead th {\n",
       "        text-align: right;\n",
       "    }\n",
       "</style>\n",
       "<table border=\"1\" class=\"dataframe\">\n",
       "  <thead>\n",
       "    <tr style=\"text-align: right;\">\n",
       "      <th></th>\n",
       "      <th>Customer ID</th>\n",
       "      <th>Food ID_x</th>\n",
       "      <th>ID</th>\n",
       "      <th>First Name</th>\n",
       "      <th>Last Name</th>\n",
       "      <th>Gender</th>\n",
       "      <th>Company</th>\n",
       "      <th>Occupation</th>\n",
       "      <th>Food ID_y</th>\n",
       "      <th>Food Item</th>\n",
       "      <th>Price</th>\n",
       "    </tr>\n",
       "  </thead>\n",
       "  <tbody>\n",
       "    <tr>\n",
       "      <th>96</th>\n",
       "      <td>3</td>\n",
       "      <td>2</td>\n",
       "      <td>4.0</td>\n",
       "      <td>Steven</td>\n",
       "      <td>Evans</td>\n",
       "      <td>Male</td>\n",
       "      <td>Fatz</td>\n",
       "      <td>Registered Nurse</td>\n",
       "      <td>3.0</td>\n",
       "      <td>Taco</td>\n",
       "      <td>2.99</td>\n",
       "    </tr>\n",
       "    <tr>\n",
       "      <th>143</th>\n",
       "      <td>10</td>\n",
       "      <td>2</td>\n",
       "      <td>11.0</td>\n",
       "      <td>Michael</td>\n",
       "      <td>Reynolds</td>\n",
       "      <td>Male</td>\n",
       "      <td>Meevee</td>\n",
       "      <td>Dental Hygienist</td>\n",
       "      <td>3.0</td>\n",
       "      <td>Taco</td>\n",
       "      <td>2.99</td>\n",
       "    </tr>\n",
       "    <tr>\n",
       "      <th>31</th>\n",
       "      <td>20</td>\n",
       "      <td>1</td>\n",
       "      <td>21.0</td>\n",
       "      <td>Albert</td>\n",
       "      <td>Burns</td>\n",
       "      <td>Male</td>\n",
       "      <td>Rhynoodle</td>\n",
       "      <td>Junior Executive</td>\n",
       "      <td>2.0</td>\n",
       "      <td>Burrito</td>\n",
       "      <td>9.99</td>\n",
       "    </tr>\n",
       "  </tbody>\n",
       "</table>\n",
       "</div>"
      ],
      "text/plain": [
       "     Customer ID  Food ID_x    ID First Name Last Name Gender    Company  \\\n",
       "96             3          2   4.0     Steven     Evans   Male       Fatz   \n",
       "143           10          2  11.0    Michael  Reynolds   Male     Meevee   \n",
       "31            20          1  21.0     Albert     Burns   Male  Rhynoodle   \n",
       "\n",
       "           Occupation  Food ID_y Food Item  Price  \n",
       "96   Registered Nurse        3.0      Taco   2.99  \n",
       "143  Dental Hygienist        3.0      Taco   2.99  \n",
       "31   Junior Executive        2.0   Burrito   9.99  "
      ]
     },
     "execution_count": 142,
     "metadata": {},
     "output_type": "execute_result"
    }
   ],
   "source": [
    "sales_on_week1_with_foods_info = sales_on_week1.merge(foods, how = \"left\" , left_on = \"Food ID\", right_index = True)\n",
    "sales_on_week1_with_foods_info.head(3)"
   ]
  },
  {
   "cell_type": "code",
   "execution_count": 114,
   "id": "ad5f6ccd",
   "metadata": {},
   "outputs": [
    {
     "data": {
      "text/html": [
       "<div>\n",
       "<style scoped>\n",
       "    .dataframe tbody tr th:only-of-type {\n",
       "        vertical-align: middle;\n",
       "    }\n",
       "\n",
       "    .dataframe tbody tr th {\n",
       "        vertical-align: top;\n",
       "    }\n",
       "\n",
       "    .dataframe thead th {\n",
       "        text-align: right;\n",
       "    }\n",
       "</style>\n",
       "<table border=\"1\" class=\"dataframe\">\n",
       "  <thead>\n",
       "    <tr style=\"text-align: right;\">\n",
       "      <th></th>\n",
       "      <th>Customer ID</th>\n",
       "      <th>Food ID</th>\n",
       "    </tr>\n",
       "  </thead>\n",
       "  <tbody>\n",
       "    <tr>\n",
       "      <th>0</th>\n",
       "      <td>537</td>\n",
       "      <td>9</td>\n",
       "    </tr>\n",
       "    <tr>\n",
       "      <th>1</th>\n",
       "      <td>97</td>\n",
       "      <td>4</td>\n",
       "    </tr>\n",
       "    <tr>\n",
       "      <th>2</th>\n",
       "      <td>658</td>\n",
       "      <td>1</td>\n",
       "    </tr>\n",
       "  </tbody>\n",
       "</table>\n",
       "</div>"
      ],
      "text/plain": [
       "   Customer ID  Food ID\n",
       "0          537        9\n",
       "1           97        4\n",
       "2          658        1"
      ]
     },
     "execution_count": 114,
     "metadata": {},
     "output_type": "execute_result"
    }
   ],
   "source": [
    "week1.head(3)"
   ]
  },
  {
   "cell_type": "code",
   "execution_count": 115,
   "id": "3ec5c1d2",
   "metadata": {},
   "outputs": [
    {
     "data": {
      "text/html": [
       "<div>\n",
       "<style scoped>\n",
       "    .dataframe tbody tr th:only-of-type {\n",
       "        vertical-align: middle;\n",
       "    }\n",
       "\n",
       "    .dataframe tbody tr th {\n",
       "        vertical-align: top;\n",
       "    }\n",
       "\n",
       "    .dataframe thead th {\n",
       "        text-align: right;\n",
       "    }\n",
       "</style>\n",
       "<table border=\"1\" class=\"dataframe\">\n",
       "  <thead>\n",
       "    <tr style=\"text-align: right;\">\n",
       "      <th></th>\n",
       "      <th>Customer ID</th>\n",
       "      <th>Food ID</th>\n",
       "    </tr>\n",
       "  </thead>\n",
       "  <tbody>\n",
       "    <tr>\n",
       "      <th>0</th>\n",
       "      <td>688</td>\n",
       "      <td>10</td>\n",
       "    </tr>\n",
       "    <tr>\n",
       "      <th>1</th>\n",
       "      <td>813</td>\n",
       "      <td>7</td>\n",
       "    </tr>\n",
       "    <tr>\n",
       "      <th>2</th>\n",
       "      <td>495</td>\n",
       "      <td>10</td>\n",
       "    </tr>\n",
       "  </tbody>\n",
       "</table>\n",
       "</div>"
      ],
      "text/plain": [
       "   Customer ID  Food ID\n",
       "0          688       10\n",
       "1          813        7\n",
       "2          495       10"
      ]
     },
     "execution_count": 115,
     "metadata": {},
     "output_type": "execute_result"
    }
   ],
   "source": [
    "week2.head(3)"
   ]
  },
  {
   "cell_type": "code",
   "execution_count": 122,
   "id": "bc75643e",
   "metadata": {},
   "outputs": [
    {
     "data": {
      "text/html": [
       "<div>\n",
       "<style scoped>\n",
       "    .dataframe tbody tr th:only-of-type {\n",
       "        vertical-align: middle;\n",
       "    }\n",
       "\n",
       "    .dataframe tbody tr th {\n",
       "        vertical-align: top;\n",
       "    }\n",
       "\n",
       "    .dataframe thead th {\n",
       "        text-align: right;\n",
       "    }\n",
       "</style>\n",
       "<table border=\"1\" class=\"dataframe\">\n",
       "  <thead>\n",
       "    <tr style=\"text-align: right;\">\n",
       "      <th></th>\n",
       "      <th>Customer ID Week1</th>\n",
       "      <th>Food ID Week1</th>\n",
       "      <th>Customer ID Week2</th>\n",
       "      <th>Food ID Week2</th>\n",
       "    </tr>\n",
       "  </thead>\n",
       "  <tbody>\n",
       "    <tr>\n",
       "      <th>0</th>\n",
       "      <td>537</td>\n",
       "      <td>9</td>\n",
       "      <td>688</td>\n",
       "      <td>10</td>\n",
       "    </tr>\n",
       "    <tr>\n",
       "      <th>1</th>\n",
       "      <td>97</td>\n",
       "      <td>4</td>\n",
       "      <td>813</td>\n",
       "      <td>7</td>\n",
       "    </tr>\n",
       "    <tr>\n",
       "      <th>2</th>\n",
       "      <td>658</td>\n",
       "      <td>1</td>\n",
       "      <td>495</td>\n",
       "      <td>10</td>\n",
       "    </tr>\n",
       "    <tr>\n",
       "      <th>3</th>\n",
       "      <td>202</td>\n",
       "      <td>2</td>\n",
       "      <td>189</td>\n",
       "      <td>5</td>\n",
       "    </tr>\n",
       "    <tr>\n",
       "      <th>4</th>\n",
       "      <td>155</td>\n",
       "      <td>9</td>\n",
       "      <td>267</td>\n",
       "      <td>3</td>\n",
       "    </tr>\n",
       "    <tr>\n",
       "      <th>...</th>\n",
       "      <td>...</td>\n",
       "      <td>...</td>\n",
       "      <td>...</td>\n",
       "      <td>...</td>\n",
       "    </tr>\n",
       "    <tr>\n",
       "      <th>245</th>\n",
       "      <td>413</td>\n",
       "      <td>9</td>\n",
       "      <td>783</td>\n",
       "      <td>10</td>\n",
       "    </tr>\n",
       "    <tr>\n",
       "      <th>246</th>\n",
       "      <td>926</td>\n",
       "      <td>6</td>\n",
       "      <td>556</td>\n",
       "      <td>10</td>\n",
       "    </tr>\n",
       "    <tr>\n",
       "      <th>247</th>\n",
       "      <td>134</td>\n",
       "      <td>3</td>\n",
       "      <td>547</td>\n",
       "      <td>9</td>\n",
       "    </tr>\n",
       "    <tr>\n",
       "      <th>248</th>\n",
       "      <td>396</td>\n",
       "      <td>6</td>\n",
       "      <td>252</td>\n",
       "      <td>9</td>\n",
       "    </tr>\n",
       "    <tr>\n",
       "      <th>249</th>\n",
       "      <td>535</td>\n",
       "      <td>10</td>\n",
       "      <td>249</td>\n",
       "      <td>6</td>\n",
       "    </tr>\n",
       "  </tbody>\n",
       "</table>\n",
       "<p>250 rows × 4 columns</p>\n",
       "</div>"
      ],
      "text/plain": [
       "     Customer ID Week1  Food ID Week1  Customer ID Week2  Food ID Week2\n",
       "0                  537              9                688             10\n",
       "1                   97              4                813              7\n",
       "2                  658              1                495             10\n",
       "3                  202              2                189              5\n",
       "4                  155              9                267              3\n",
       "..                 ...            ...                ...            ...\n",
       "245                413              9                783             10\n",
       "246                926              6                556             10\n",
       "247                134              3                547              9\n",
       "248                396              6                252              9\n",
       "249                535             10                249              6\n",
       "\n",
       "[250 rows x 4 columns]"
      ]
     },
     "execution_count": 122,
     "metadata": {},
     "output_type": "execute_result"
    }
   ],
   "source": [
    "pd.merge(week1,week2, how = \"left\", left_index=True, right_index=True,suffixes=[\" Week1\",\" Week2\"])"
   ]
  },
  {
   "cell_type": "markdown",
   "id": "9864d10b",
   "metadata": {},
   "source": [
    "##### 10.9 The .join() Method"
   ]
  },
  {
   "cell_type": "code",
   "execution_count": 125,
   "id": "b9cd2199",
   "metadata": {},
   "outputs": [],
   "source": [
    "#primary key and foreign key relation \n",
    "week1 = pd.read_csv(\"Restaurant - Week 1 Sales.csv\")\n",
    "week2 = pd.read_csv(\"Restaurant - Week 2 Sales.csv\")\n",
    "customers = pd.read_csv(\"Restaurant - Customers.csv\")\n",
    "foods = pd.read_csv(\"Restaurant - Foods.csv\")\n",
    "\n",
    "week1_satisfaction = pd.read_csv(\"Restaurant - Week 1 Satisfaction.csv\")"
   ]
  },
  {
   "cell_type": "code",
   "execution_count": 126,
   "id": "4abafc06",
   "metadata": {},
   "outputs": [
    {
     "data": {
      "text/html": [
       "<div>\n",
       "<style scoped>\n",
       "    .dataframe tbody tr th:only-of-type {\n",
       "        vertical-align: middle;\n",
       "    }\n",
       "\n",
       "    .dataframe tbody tr th {\n",
       "        vertical-align: top;\n",
       "    }\n",
       "\n",
       "    .dataframe thead th {\n",
       "        text-align: right;\n",
       "    }\n",
       "</style>\n",
       "<table border=\"1\" class=\"dataframe\">\n",
       "  <thead>\n",
       "    <tr style=\"text-align: right;\">\n",
       "      <th></th>\n",
       "      <th>Customer ID</th>\n",
       "      <th>Food ID</th>\n",
       "    </tr>\n",
       "  </thead>\n",
       "  <tbody>\n",
       "    <tr>\n",
       "      <th>0</th>\n",
       "      <td>537</td>\n",
       "      <td>9</td>\n",
       "    </tr>\n",
       "    <tr>\n",
       "      <th>1</th>\n",
       "      <td>97</td>\n",
       "      <td>4</td>\n",
       "    </tr>\n",
       "    <tr>\n",
       "      <th>2</th>\n",
       "      <td>658</td>\n",
       "      <td>1</td>\n",
       "    </tr>\n",
       "  </tbody>\n",
       "</table>\n",
       "</div>"
      ],
      "text/plain": [
       "   Customer ID  Food ID\n",
       "0          537        9\n",
       "1           97        4\n",
       "2          658        1"
      ]
     },
     "execution_count": 126,
     "metadata": {},
     "output_type": "execute_result"
    }
   ],
   "source": [
    "week1.head(3)"
   ]
  },
  {
   "cell_type": "code",
   "execution_count": 127,
   "id": "39ed19df",
   "metadata": {},
   "outputs": [
    {
     "data": {
      "text/html": [
       "<div>\n",
       "<style scoped>\n",
       "    .dataframe tbody tr th:only-of-type {\n",
       "        vertical-align: middle;\n",
       "    }\n",
       "\n",
       "    .dataframe tbody tr th {\n",
       "        vertical-align: top;\n",
       "    }\n",
       "\n",
       "    .dataframe thead th {\n",
       "        text-align: right;\n",
       "    }\n",
       "</style>\n",
       "<table border=\"1\" class=\"dataframe\">\n",
       "  <thead>\n",
       "    <tr style=\"text-align: right;\">\n",
       "      <th></th>\n",
       "      <th>Satisfaction Rating</th>\n",
       "    </tr>\n",
       "  </thead>\n",
       "  <tbody>\n",
       "    <tr>\n",
       "      <th>0</th>\n",
       "      <td>2</td>\n",
       "    </tr>\n",
       "    <tr>\n",
       "      <th>1</th>\n",
       "      <td>7</td>\n",
       "    </tr>\n",
       "    <tr>\n",
       "      <th>2</th>\n",
       "      <td>3</td>\n",
       "    </tr>\n",
       "  </tbody>\n",
       "</table>\n",
       "</div>"
      ],
      "text/plain": [
       "   Satisfaction Rating\n",
       "0                    2\n",
       "1                    7\n",
       "2                    3"
      ]
     },
     "execution_count": 127,
     "metadata": {},
     "output_type": "execute_result"
    }
   ],
   "source": [
    "week1_satisfaction.head(3)"
   ]
  },
  {
   "cell_type": "code",
   "execution_count": 130,
   "id": "93aee82f",
   "metadata": {},
   "outputs": [
    {
     "data": {
      "text/html": [
       "<div>\n",
       "<style scoped>\n",
       "    .dataframe tbody tr th:only-of-type {\n",
       "        vertical-align: middle;\n",
       "    }\n",
       "\n",
       "    .dataframe tbody tr th {\n",
       "        vertical-align: top;\n",
       "    }\n",
       "\n",
       "    .dataframe thead th {\n",
       "        text-align: right;\n",
       "    }\n",
       "</style>\n",
       "<table border=\"1\" class=\"dataframe\">\n",
       "  <thead>\n",
       "    <tr style=\"text-align: right;\">\n",
       "      <th></th>\n",
       "      <th>Customer ID</th>\n",
       "      <th>Food ID</th>\n",
       "      <th>Satisfaction Rating</th>\n",
       "    </tr>\n",
       "  </thead>\n",
       "  <tbody>\n",
       "    <tr>\n",
       "      <th>0</th>\n",
       "      <td>537</td>\n",
       "      <td>9</td>\n",
       "      <td>2</td>\n",
       "    </tr>\n",
       "    <tr>\n",
       "      <th>1</th>\n",
       "      <td>97</td>\n",
       "      <td>4</td>\n",
       "      <td>7</td>\n",
       "    </tr>\n",
       "    <tr>\n",
       "      <th>2</th>\n",
       "      <td>658</td>\n",
       "      <td>1</td>\n",
       "      <td>3</td>\n",
       "    </tr>\n",
       "    <tr>\n",
       "      <th>3</th>\n",
       "      <td>202</td>\n",
       "      <td>2</td>\n",
       "      <td>7</td>\n",
       "    </tr>\n",
       "    <tr>\n",
       "      <th>4</th>\n",
       "      <td>155</td>\n",
       "      <td>9</td>\n",
       "      <td>10</td>\n",
       "    </tr>\n",
       "  </tbody>\n",
       "</table>\n",
       "</div>"
      ],
      "text/plain": [
       "   Customer ID  Food ID  Satisfaction Rating\n",
       "0          537        9                    2\n",
       "1           97        4                    7\n",
       "2          658        1                    3\n",
       "3          202        2                    7\n",
       "4          155        9                   10"
      ]
     },
     "execution_count": 130,
     "metadata": {},
     "output_type": "execute_result"
    }
   ],
   "source": [
    "week1.merge(week1_satisfaction, how = \"left\", left_index = True, right_index = True).head()"
   ]
  },
  {
   "cell_type": "code",
   "execution_count": 133,
   "id": "4ad4ecef",
   "metadata": {},
   "outputs": [
    {
     "data": {
      "text/html": [
       "<div>\n",
       "<style scoped>\n",
       "    .dataframe tbody tr th:only-of-type {\n",
       "        vertical-align: middle;\n",
       "    }\n",
       "\n",
       "    .dataframe tbody tr th {\n",
       "        vertical-align: top;\n",
       "    }\n",
       "\n",
       "    .dataframe thead th {\n",
       "        text-align: right;\n",
       "    }\n",
       "</style>\n",
       "<table border=\"1\" class=\"dataframe\">\n",
       "  <thead>\n",
       "    <tr style=\"text-align: right;\">\n",
       "      <th></th>\n",
       "      <th>Customer ID</th>\n",
       "      <th>Food ID</th>\n",
       "      <th>Satisfaction Rating</th>\n",
       "    </tr>\n",
       "  </thead>\n",
       "  <tbody>\n",
       "    <tr>\n",
       "      <th>0</th>\n",
       "      <td>537</td>\n",
       "      <td>9</td>\n",
       "      <td>2</td>\n",
       "    </tr>\n",
       "    <tr>\n",
       "      <th>1</th>\n",
       "      <td>97</td>\n",
       "      <td>4</td>\n",
       "      <td>7</td>\n",
       "    </tr>\n",
       "    <tr>\n",
       "      <th>2</th>\n",
       "      <td>658</td>\n",
       "      <td>1</td>\n",
       "      <td>3</td>\n",
       "    </tr>\n",
       "    <tr>\n",
       "      <th>3</th>\n",
       "      <td>202</td>\n",
       "      <td>2</td>\n",
       "      <td>7</td>\n",
       "    </tr>\n",
       "    <tr>\n",
       "      <th>4</th>\n",
       "      <td>155</td>\n",
       "      <td>9</td>\n",
       "      <td>10</td>\n",
       "    </tr>\n",
       "  </tbody>\n",
       "</table>\n",
       "</div>"
      ],
      "text/plain": [
       "   Customer ID  Food ID  Satisfaction Rating\n",
       "0          537        9                    2\n",
       "1           97        4                    7\n",
       "2          658        1                    3\n",
       "3          202        2                    7\n",
       "4          155        9                   10"
      ]
     },
     "execution_count": 133,
     "metadata": {},
     "output_type": "execute_result"
    }
   ],
   "source": [
    "week1.join(week1_satisfaction).head()\n",
    "#join index between 2 dataframes by defaulabst"
   ]
  },
  {
   "cell_type": "markdown",
   "id": "949f2a09",
   "metadata": {},
   "source": [
    "##### 10.10 The pd.merge() Method"
   ]
  },
  {
   "cell_type": "code",
   "execution_count": 134,
   "id": "666797ec",
   "metadata": {},
   "outputs": [],
   "source": [
    "#primary key and foreign key relation \n",
    "week1 = pd.read_csv(\"Restaurant - Week 1 Sales.csv\")\n",
    "week2 = pd.read_csv(\"Restaurant - Week 2 Sales.csv\")\n",
    "customers = pd.read_csv(\"Restaurant - Customers.csv\")\n",
    "foods = pd.read_csv(\"Restaurant - Foods.csv\")\n",
    "week1_satisfaction = pd.read_csv(\"Restaurant - Week 1 Satisfaction.csv\")"
   ]
  },
  {
   "cell_type": "code",
   "execution_count": 135,
   "id": "0d838398",
   "metadata": {},
   "outputs": [
    {
     "data": {
      "text/html": [
       "<div>\n",
       "<style scoped>\n",
       "    .dataframe tbody tr th:only-of-type {\n",
       "        vertical-align: middle;\n",
       "    }\n",
       "\n",
       "    .dataframe tbody tr th {\n",
       "        vertical-align: top;\n",
       "    }\n",
       "\n",
       "    .dataframe thead th {\n",
       "        text-align: right;\n",
       "    }\n",
       "</style>\n",
       "<table border=\"1\" class=\"dataframe\">\n",
       "  <thead>\n",
       "    <tr style=\"text-align: right;\">\n",
       "      <th></th>\n",
       "      <th>Customer ID</th>\n",
       "      <th>Food ID</th>\n",
       "    </tr>\n",
       "  </thead>\n",
       "  <tbody>\n",
       "    <tr>\n",
       "      <th>0</th>\n",
       "      <td>537</td>\n",
       "      <td>9</td>\n",
       "    </tr>\n",
       "    <tr>\n",
       "      <th>1</th>\n",
       "      <td>97</td>\n",
       "      <td>4</td>\n",
       "    </tr>\n",
       "    <tr>\n",
       "      <th>2</th>\n",
       "      <td>658</td>\n",
       "      <td>1</td>\n",
       "    </tr>\n",
       "  </tbody>\n",
       "</table>\n",
       "</div>"
      ],
      "text/plain": [
       "   Customer ID  Food ID\n",
       "0          537        9\n",
       "1           97        4\n",
       "2          658        1"
      ]
     },
     "execution_count": 135,
     "metadata": {},
     "output_type": "execute_result"
    }
   ],
   "source": [
    "week1.head(3)"
   ]
  },
  {
   "cell_type": "code",
   "execution_count": 136,
   "id": "faf639f1",
   "metadata": {},
   "outputs": [
    {
     "data": {
      "text/html": [
       "<div>\n",
       "<style scoped>\n",
       "    .dataframe tbody tr th:only-of-type {\n",
       "        vertical-align: middle;\n",
       "    }\n",
       "\n",
       "    .dataframe tbody tr th {\n",
       "        vertical-align: top;\n",
       "    }\n",
       "\n",
       "    .dataframe thead th {\n",
       "        text-align: right;\n",
       "    }\n",
       "</style>\n",
       "<table border=\"1\" class=\"dataframe\">\n",
       "  <thead>\n",
       "    <tr style=\"text-align: right;\">\n",
       "      <th></th>\n",
       "      <th>ID</th>\n",
       "      <th>First Name</th>\n",
       "      <th>Last Name</th>\n",
       "      <th>Gender</th>\n",
       "      <th>Company</th>\n",
       "      <th>Occupation</th>\n",
       "    </tr>\n",
       "  </thead>\n",
       "  <tbody>\n",
       "    <tr>\n",
       "      <th>0</th>\n",
       "      <td>1</td>\n",
       "      <td>Joseph</td>\n",
       "      <td>Perkins</td>\n",
       "      <td>Male</td>\n",
       "      <td>Dynazzy</td>\n",
       "      <td>Community Outreach Specialist</td>\n",
       "    </tr>\n",
       "    <tr>\n",
       "      <th>1</th>\n",
       "      <td>2</td>\n",
       "      <td>Jennifer</td>\n",
       "      <td>Alvarez</td>\n",
       "      <td>Female</td>\n",
       "      <td>DabZ</td>\n",
       "      <td>Senior Quality Engineer</td>\n",
       "    </tr>\n",
       "    <tr>\n",
       "      <th>2</th>\n",
       "      <td>3</td>\n",
       "      <td>Roger</td>\n",
       "      <td>Black</td>\n",
       "      <td>Male</td>\n",
       "      <td>Tagfeed</td>\n",
       "      <td>Account Executive</td>\n",
       "    </tr>\n",
       "  </tbody>\n",
       "</table>\n",
       "</div>"
      ],
      "text/plain": [
       "   ID First Name Last Name  Gender  Company                     Occupation\n",
       "0   1     Joseph   Perkins    Male  Dynazzy  Community Outreach Specialist\n",
       "1   2   Jennifer   Alvarez  Female     DabZ        Senior Quality Engineer\n",
       "2   3      Roger     Black    Male  Tagfeed              Account Executive"
      ]
     },
     "execution_count": 136,
     "metadata": {},
     "output_type": "execute_result"
    }
   ],
   "source": [
    "customers.head(3)"
   ]
  },
  {
   "cell_type": "code",
   "execution_count": 138,
   "id": "eba294e7",
   "metadata": {},
   "outputs": [
    {
     "data": {
      "text/html": [
       "<div>\n",
       "<style scoped>\n",
       "    .dataframe tbody tr th:only-of-type {\n",
       "        vertical-align: middle;\n",
       "    }\n",
       "\n",
       "    .dataframe tbody tr th {\n",
       "        vertical-align: top;\n",
       "    }\n",
       "\n",
       "    .dataframe thead th {\n",
       "        text-align: right;\n",
       "    }\n",
       "</style>\n",
       "<table border=\"1\" class=\"dataframe\">\n",
       "  <thead>\n",
       "    <tr style=\"text-align: right;\">\n",
       "      <th></th>\n",
       "      <th>Customer ID</th>\n",
       "      <th>Food ID</th>\n",
       "      <th>ID</th>\n",
       "      <th>First Name</th>\n",
       "      <th>Last Name</th>\n",
       "      <th>Gender</th>\n",
       "      <th>Company</th>\n",
       "      <th>Occupation</th>\n",
       "    </tr>\n",
       "  </thead>\n",
       "  <tbody>\n",
       "    <tr>\n",
       "      <th>0</th>\n",
       "      <td>537</td>\n",
       "      <td>9</td>\n",
       "      <td>537</td>\n",
       "      <td>Cheryl</td>\n",
       "      <td>Carroll</td>\n",
       "      <td>Female</td>\n",
       "      <td>Zoombeat</td>\n",
       "      <td>Registered Nurse</td>\n",
       "    </tr>\n",
       "    <tr>\n",
       "      <th>1</th>\n",
       "      <td>97</td>\n",
       "      <td>4</td>\n",
       "      <td>97</td>\n",
       "      <td>Amanda</td>\n",
       "      <td>Watkins</td>\n",
       "      <td>Female</td>\n",
       "      <td>Ozu</td>\n",
       "      <td>Account Coordinator</td>\n",
       "    </tr>\n",
       "    <tr>\n",
       "      <th>2</th>\n",
       "      <td>658</td>\n",
       "      <td>1</td>\n",
       "      <td>658</td>\n",
       "      <td>Patrick</td>\n",
       "      <td>Webb</td>\n",
       "      <td>Male</td>\n",
       "      <td>Browsebug</td>\n",
       "      <td>Community Outreach Specialist</td>\n",
       "    </tr>\n",
       "    <tr>\n",
       "      <th>3</th>\n",
       "      <td>202</td>\n",
       "      <td>2</td>\n",
       "      <td>202</td>\n",
       "      <td>Louis</td>\n",
       "      <td>Campbell</td>\n",
       "      <td>Male</td>\n",
       "      <td>Rhynoodle</td>\n",
       "      <td>Account Representative III</td>\n",
       "    </tr>\n",
       "    <tr>\n",
       "      <th>4</th>\n",
       "      <td>155</td>\n",
       "      <td>9</td>\n",
       "      <td>155</td>\n",
       "      <td>Carolyn</td>\n",
       "      <td>Diaz</td>\n",
       "      <td>Female</td>\n",
       "      <td>Gigazoom</td>\n",
       "      <td>Database Administrator III</td>\n",
       "    </tr>\n",
       "    <tr>\n",
       "      <th>...</th>\n",
       "      <td>...</td>\n",
       "      <td>...</td>\n",
       "      <td>...</td>\n",
       "      <td>...</td>\n",
       "      <td>...</td>\n",
       "      <td>...</td>\n",
       "      <td>...</td>\n",
       "      <td>...</td>\n",
       "    </tr>\n",
       "    <tr>\n",
       "      <th>245</th>\n",
       "      <td>413</td>\n",
       "      <td>9</td>\n",
       "      <td>413</td>\n",
       "      <td>Diane</td>\n",
       "      <td>Bailey</td>\n",
       "      <td>Female</td>\n",
       "      <td>Wikibox</td>\n",
       "      <td>Technical Writer</td>\n",
       "    </tr>\n",
       "    <tr>\n",
       "      <th>246</th>\n",
       "      <td>926</td>\n",
       "      <td>6</td>\n",
       "      <td>926</td>\n",
       "      <td>Anne</td>\n",
       "      <td>Wagner</td>\n",
       "      <td>Female</td>\n",
       "      <td>Skyba</td>\n",
       "      <td>Legal Assistant</td>\n",
       "    </tr>\n",
       "    <tr>\n",
       "      <th>247</th>\n",
       "      <td>134</td>\n",
       "      <td>3</td>\n",
       "      <td>134</td>\n",
       "      <td>Diana</td>\n",
       "      <td>Hall</td>\n",
       "      <td>Female</td>\n",
       "      <td>Quinu</td>\n",
       "      <td>Financial Advisor</td>\n",
       "    </tr>\n",
       "    <tr>\n",
       "      <th>248</th>\n",
       "      <td>396</td>\n",
       "      <td>6</td>\n",
       "      <td>396</td>\n",
       "      <td>Juan</td>\n",
       "      <td>Romero</td>\n",
       "      <td>Male</td>\n",
       "      <td>Zoonder</td>\n",
       "      <td>Analyst Programmer</td>\n",
       "    </tr>\n",
       "    <tr>\n",
       "      <th>249</th>\n",
       "      <td>535</td>\n",
       "      <td>10</td>\n",
       "      <td>535</td>\n",
       "      <td>Nancy</td>\n",
       "      <td>Cox</td>\n",
       "      <td>Female</td>\n",
       "      <td>Trudeo</td>\n",
       "      <td>Research Associate</td>\n",
       "    </tr>\n",
       "  </tbody>\n",
       "</table>\n",
       "<p>250 rows × 8 columns</p>\n",
       "</div>"
      ],
      "text/plain": [
       "     Customer ID  Food ID   ID First Name Last Name  Gender    Company  \\\n",
       "0            537        9  537     Cheryl   Carroll  Female   Zoombeat   \n",
       "1             97        4   97     Amanda   Watkins  Female        Ozu   \n",
       "2            658        1  658    Patrick      Webb    Male  Browsebug   \n",
       "3            202        2  202      Louis  Campbell    Male  Rhynoodle   \n",
       "4            155        9  155    Carolyn      Diaz  Female   Gigazoom   \n",
       "..           ...      ...  ...        ...       ...     ...        ...   \n",
       "245          413        9  413      Diane    Bailey  Female    Wikibox   \n",
       "246          926        6  926       Anne    Wagner  Female      Skyba   \n",
       "247          134        3  134      Diana      Hall  Female      Quinu   \n",
       "248          396        6  396       Juan    Romero    Male    Zoonder   \n",
       "249          535       10  535      Nancy       Cox  Female     Trudeo   \n",
       "\n",
       "                        Occupation  \n",
       "0                 Registered Nurse  \n",
       "1              Account Coordinator  \n",
       "2    Community Outreach Specialist  \n",
       "3       Account Representative III  \n",
       "4       Database Administrator III  \n",
       "..                             ...  \n",
       "245               Technical Writer  \n",
       "246                Legal Assistant  \n",
       "247              Financial Advisor  \n",
       "248             Analyst Programmer  \n",
       "249             Research Associate  \n",
       "\n",
       "[250 rows x 8 columns]"
      ]
     },
     "execution_count": 138,
     "metadata": {},
     "output_type": "execute_result"
    }
   ],
   "source": [
    "pd.merge(week1,customers,how = \"left\", left_on = \"Customer ID\", right_on= \"ID\")"
   ]
  },
  {
   "cell_type": "code",
   "execution_count": null,
   "id": "fe131724",
   "metadata": {},
   "outputs": [],
   "source": []
  }
 ],
 "metadata": {
  "kernelspec": {
   "display_name": "Python 3 (ipykernel)",
   "language": "python",
   "name": "python3"
  },
  "language_info": {
   "codemirror_mode": {
    "name": "ipython",
    "version": 3
   },
   "file_extension": ".py",
   "mimetype": "text/x-python",
   "name": "python",
   "nbconvert_exporter": "python",
   "pygments_lexer": "ipython3",
   "version": "3.11.4"
  }
 },
 "nbformat": 4,
 "nbformat_minor": 5
}
